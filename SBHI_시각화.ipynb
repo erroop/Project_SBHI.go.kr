{
 "cells": [
  {
   "cell_type": "code",
   "execution_count": 2,
   "id": "d14ae86f",
   "metadata": {},
   "outputs": [],
   "source": [
    "import pandas as pd\n",
    "import plotly.express as px"
   ]
  },
  {
   "cell_type": "code",
   "execution_count": 4,
   "id": "e6b3f9df",
   "metadata": {
    "scrolled": true
   },
   "outputs": [],
   "source": [
    "df_1 = pd.read_csv('./SBHI전처리데이터/경기전반_sbhi.csv' , encoding = 'cp949')"
   ]
  },
  {
   "cell_type": "code",
   "execution_count": 7,
   "id": "55631783",
   "metadata": {},
   "outputs": [
    {
     "data": {
      "application/vnd.plotly.v1+json": {
       "config": {
        "plotlyServerURL": "https://plot.ly"
       },
       "data": [
        {
         "hovertemplate": "시기=%{x}<br>섬유제품;의복제외=%{y}<extra></extra>",
         "legendgroup": "",
         "line": {
          "color": "#636efa",
          "dash": "solid"
         },
         "marker": {
          "symbol": "circle"
         },
         "mode": "lines+markers",
         "name": "",
         "orientation": "v",
         "showlegend": false,
         "type": "scatter",
         "x": [
          "2015.02 월",
          "2015.03 월",
          "2015.04 월",
          "2015.05 월",
          "2015.06 월",
          "2015.07 월",
          "2015.08 월",
          "2015.09 월",
          "2015.10 월",
          "2015.11 월",
          "2015.12 월",
          "2016.01 월",
          "2016.02 월",
          "2016.03 월",
          "2016.04 월",
          "2016.05 월",
          "2016.06 월",
          "2016.07 월",
          "2016.08 월",
          "2016.09 월",
          "2016.10 월",
          "2016.11 월",
          "2016.12 월",
          "2017.01 월",
          "2017.02 월",
          "2017.03 월",
          "2017.04 월",
          "2017.05 월",
          "2017.06 월",
          "2017.07 월",
          "2017.08 월",
          "2017.09 월",
          "2017.10 월",
          "2017.11 월",
          "2017.12 월",
          "2018.01 월",
          "2018.02 월",
          "2018.03 월",
          "2018.04 월",
          "2018.05 월",
          "2018.06 월",
          "2018.07 월",
          "2018.08 월",
          "2018.09 월",
          "2018.10 월",
          "2018.11 월",
          "2018.12 월",
          "2019.01 월",
          "2019.02 월",
          "2019.03 월",
          "2019.04 월",
          "2019.05 월",
          "2019.06 월",
          "2019.07 월",
          "2019.08 월",
          "2019.09 월",
          "2019.10 월",
          "2019.11 월",
          "2019.12 월",
          "2020.01 월",
          "2020.02 월",
          "2020.03 월",
          "2020.04 월",
          "2020.05 월",
          "2020.06 월",
          "2020.07 월",
          "2020.08 월",
          "2020.09 월",
          "2020.10 월",
          "2020.11 월",
          "2020.12 월",
          "2021.01 월",
          "2021.02 월",
          "2021.03 월",
          "2021.04 월",
          "2021.05 월",
          "2021.06 월",
          "2021.07 월",
          "2021.08 월",
          "2021.09 월",
          "2021.10 월",
          "2021.11 월",
          "2021.12 월",
          "2022.01 월",
          "2022.02 월",
          "2022.03 월",
          "2022.04 월",
          "2022.05 월",
          "2022.06 월",
          "2022.07 월",
          "2022.08 월",
          "2022.09 월",
          "2022.10 월",
          "2022.11 월",
          "2022.12 월",
          "2023.01 월"
         ],
         "xaxis": "x",
         "y": [
          67,
          86.1,
          89.6,
          88.4,
          82.9,
          78.9,
          78.1,
          87.7,
          88.9,
          86.9,
          76.9,
          76.2,
          66.3,
          85.4,
          90.9,
          91,
          84.4,
          83,
          81.6,
          95.8,
          94.7,
          85.5,
          82.3,
          67.1,
          68.6,
          84.5,
          89,
          84.5,
          87.4,
          84.1,
          74.5,
          89.7,
          83.5,
          95.6,
          84.4,
          73.6,
          78.1,
          87.1,
          86.8,
          90.2,
          83.3,
          75.8,
          69.8,
          80.3,
          80.3,
          85.3,
          76.3,
          75.7,
          62.7,
          85.5,
          81.5,
          80.7,
          74.9,
          79.1,
          64.2,
          69.5,
          78.1,
          74.2,
          67.7,
          66.1,
          73.8,
          70,
          46.9,
          40.9,
          42.8,
          55.5,
          57,
          59.5,
          68.8,
          69.3,
          64.3,
          55.3,
          61.3,
          77.3,
          82.1,
          85.6,
          78.9,
          79.7,
          73.8,
          76.6,
          80.5,
          83.9,
          80.5,
          73.3,
          75.3,
          81,
          74.8,
          78.3,
          79.4,
          70,
          73,
          70.9,
          81,
          72.5,
          73.4,
          70.4
         ],
         "yaxis": "y"
        }
       ],
       "layout": {
        "legend": {
         "tracegroupgap": 0
        },
        "margin": {
         "t": 60
        },
        "template": {
         "data": {
          "bar": [
           {
            "error_x": {
             "color": "#2a3f5f"
            },
            "error_y": {
             "color": "#2a3f5f"
            },
            "marker": {
             "line": {
              "color": "#E5ECF6",
              "width": 0.5
             },
             "pattern": {
              "fillmode": "overlay",
              "size": 10,
              "solidity": 0.2
             }
            },
            "type": "bar"
           }
          ],
          "barpolar": [
           {
            "marker": {
             "line": {
              "color": "#E5ECF6",
              "width": 0.5
             },
             "pattern": {
              "fillmode": "overlay",
              "size": 10,
              "solidity": 0.2
             }
            },
            "type": "barpolar"
           }
          ],
          "carpet": [
           {
            "aaxis": {
             "endlinecolor": "#2a3f5f",
             "gridcolor": "white",
             "linecolor": "white",
             "minorgridcolor": "white",
             "startlinecolor": "#2a3f5f"
            },
            "baxis": {
             "endlinecolor": "#2a3f5f",
             "gridcolor": "white",
             "linecolor": "white",
             "minorgridcolor": "white",
             "startlinecolor": "#2a3f5f"
            },
            "type": "carpet"
           }
          ],
          "choropleth": [
           {
            "colorbar": {
             "outlinewidth": 0,
             "ticks": ""
            },
            "type": "choropleth"
           }
          ],
          "contour": [
           {
            "colorbar": {
             "outlinewidth": 0,
             "ticks": ""
            },
            "colorscale": [
             [
              0,
              "#0d0887"
             ],
             [
              0.1111111111111111,
              "#46039f"
             ],
             [
              0.2222222222222222,
              "#7201a8"
             ],
             [
              0.3333333333333333,
              "#9c179e"
             ],
             [
              0.4444444444444444,
              "#bd3786"
             ],
             [
              0.5555555555555556,
              "#d8576b"
             ],
             [
              0.6666666666666666,
              "#ed7953"
             ],
             [
              0.7777777777777778,
              "#fb9f3a"
             ],
             [
              0.8888888888888888,
              "#fdca26"
             ],
             [
              1,
              "#f0f921"
             ]
            ],
            "type": "contour"
           }
          ],
          "contourcarpet": [
           {
            "colorbar": {
             "outlinewidth": 0,
             "ticks": ""
            },
            "type": "contourcarpet"
           }
          ],
          "heatmap": [
           {
            "colorbar": {
             "outlinewidth": 0,
             "ticks": ""
            },
            "colorscale": [
             [
              0,
              "#0d0887"
             ],
             [
              0.1111111111111111,
              "#46039f"
             ],
             [
              0.2222222222222222,
              "#7201a8"
             ],
             [
              0.3333333333333333,
              "#9c179e"
             ],
             [
              0.4444444444444444,
              "#bd3786"
             ],
             [
              0.5555555555555556,
              "#d8576b"
             ],
             [
              0.6666666666666666,
              "#ed7953"
             ],
             [
              0.7777777777777778,
              "#fb9f3a"
             ],
             [
              0.8888888888888888,
              "#fdca26"
             ],
             [
              1,
              "#f0f921"
             ]
            ],
            "type": "heatmap"
           }
          ],
          "heatmapgl": [
           {
            "colorbar": {
             "outlinewidth": 0,
             "ticks": ""
            },
            "colorscale": [
             [
              0,
              "#0d0887"
             ],
             [
              0.1111111111111111,
              "#46039f"
             ],
             [
              0.2222222222222222,
              "#7201a8"
             ],
             [
              0.3333333333333333,
              "#9c179e"
             ],
             [
              0.4444444444444444,
              "#bd3786"
             ],
             [
              0.5555555555555556,
              "#d8576b"
             ],
             [
              0.6666666666666666,
              "#ed7953"
             ],
             [
              0.7777777777777778,
              "#fb9f3a"
             ],
             [
              0.8888888888888888,
              "#fdca26"
             ],
             [
              1,
              "#f0f921"
             ]
            ],
            "type": "heatmapgl"
           }
          ],
          "histogram": [
           {
            "marker": {
             "pattern": {
              "fillmode": "overlay",
              "size": 10,
              "solidity": 0.2
             }
            },
            "type": "histogram"
           }
          ],
          "histogram2d": [
           {
            "colorbar": {
             "outlinewidth": 0,
             "ticks": ""
            },
            "colorscale": [
             [
              0,
              "#0d0887"
             ],
             [
              0.1111111111111111,
              "#46039f"
             ],
             [
              0.2222222222222222,
              "#7201a8"
             ],
             [
              0.3333333333333333,
              "#9c179e"
             ],
             [
              0.4444444444444444,
              "#bd3786"
             ],
             [
              0.5555555555555556,
              "#d8576b"
             ],
             [
              0.6666666666666666,
              "#ed7953"
             ],
             [
              0.7777777777777778,
              "#fb9f3a"
             ],
             [
              0.8888888888888888,
              "#fdca26"
             ],
             [
              1,
              "#f0f921"
             ]
            ],
            "type": "histogram2d"
           }
          ],
          "histogram2dcontour": [
           {
            "colorbar": {
             "outlinewidth": 0,
             "ticks": ""
            },
            "colorscale": [
             [
              0,
              "#0d0887"
             ],
             [
              0.1111111111111111,
              "#46039f"
             ],
             [
              0.2222222222222222,
              "#7201a8"
             ],
             [
              0.3333333333333333,
              "#9c179e"
             ],
             [
              0.4444444444444444,
              "#bd3786"
             ],
             [
              0.5555555555555556,
              "#d8576b"
             ],
             [
              0.6666666666666666,
              "#ed7953"
             ],
             [
              0.7777777777777778,
              "#fb9f3a"
             ],
             [
              0.8888888888888888,
              "#fdca26"
             ],
             [
              1,
              "#f0f921"
             ]
            ],
            "type": "histogram2dcontour"
           }
          ],
          "mesh3d": [
           {
            "colorbar": {
             "outlinewidth": 0,
             "ticks": ""
            },
            "type": "mesh3d"
           }
          ],
          "parcoords": [
           {
            "line": {
             "colorbar": {
              "outlinewidth": 0,
              "ticks": ""
             }
            },
            "type": "parcoords"
           }
          ],
          "pie": [
           {
            "automargin": true,
            "type": "pie"
           }
          ],
          "scatter": [
           {
            "marker": {
             "colorbar": {
              "outlinewidth": 0,
              "ticks": ""
             }
            },
            "type": "scatter"
           }
          ],
          "scatter3d": [
           {
            "line": {
             "colorbar": {
              "outlinewidth": 0,
              "ticks": ""
             }
            },
            "marker": {
             "colorbar": {
              "outlinewidth": 0,
              "ticks": ""
             }
            },
            "type": "scatter3d"
           }
          ],
          "scattercarpet": [
           {
            "marker": {
             "colorbar": {
              "outlinewidth": 0,
              "ticks": ""
             }
            },
            "type": "scattercarpet"
           }
          ],
          "scattergeo": [
           {
            "marker": {
             "colorbar": {
              "outlinewidth": 0,
              "ticks": ""
             }
            },
            "type": "scattergeo"
           }
          ],
          "scattergl": [
           {
            "marker": {
             "colorbar": {
              "outlinewidth": 0,
              "ticks": ""
             }
            },
            "type": "scattergl"
           }
          ],
          "scattermapbox": [
           {
            "marker": {
             "colorbar": {
              "outlinewidth": 0,
              "ticks": ""
             }
            },
            "type": "scattermapbox"
           }
          ],
          "scatterpolar": [
           {
            "marker": {
             "colorbar": {
              "outlinewidth": 0,
              "ticks": ""
             }
            },
            "type": "scatterpolar"
           }
          ],
          "scatterpolargl": [
           {
            "marker": {
             "colorbar": {
              "outlinewidth": 0,
              "ticks": ""
             }
            },
            "type": "scatterpolargl"
           }
          ],
          "scatterternary": [
           {
            "marker": {
             "colorbar": {
              "outlinewidth": 0,
              "ticks": ""
             }
            },
            "type": "scatterternary"
           }
          ],
          "surface": [
           {
            "colorbar": {
             "outlinewidth": 0,
             "ticks": ""
            },
            "colorscale": [
             [
              0,
              "#0d0887"
             ],
             [
              0.1111111111111111,
              "#46039f"
             ],
             [
              0.2222222222222222,
              "#7201a8"
             ],
             [
              0.3333333333333333,
              "#9c179e"
             ],
             [
              0.4444444444444444,
              "#bd3786"
             ],
             [
              0.5555555555555556,
              "#d8576b"
             ],
             [
              0.6666666666666666,
              "#ed7953"
             ],
             [
              0.7777777777777778,
              "#fb9f3a"
             ],
             [
              0.8888888888888888,
              "#fdca26"
             ],
             [
              1,
              "#f0f921"
             ]
            ],
            "type": "surface"
           }
          ],
          "table": [
           {
            "cells": {
             "fill": {
              "color": "#EBF0F8"
             },
             "line": {
              "color": "white"
             }
            },
            "header": {
             "fill": {
              "color": "#C8D4E3"
             },
             "line": {
              "color": "white"
             }
            },
            "type": "table"
           }
          ]
         },
         "layout": {
          "annotationdefaults": {
           "arrowcolor": "#2a3f5f",
           "arrowhead": 0,
           "arrowwidth": 1
          },
          "autotypenumbers": "strict",
          "coloraxis": {
           "colorbar": {
            "outlinewidth": 0,
            "ticks": ""
           }
          },
          "colorscale": {
           "diverging": [
            [
             0,
             "#8e0152"
            ],
            [
             0.1,
             "#c51b7d"
            ],
            [
             0.2,
             "#de77ae"
            ],
            [
             0.3,
             "#f1b6da"
            ],
            [
             0.4,
             "#fde0ef"
            ],
            [
             0.5,
             "#f7f7f7"
            ],
            [
             0.6,
             "#e6f5d0"
            ],
            [
             0.7,
             "#b8e186"
            ],
            [
             0.8,
             "#7fbc41"
            ],
            [
             0.9,
             "#4d9221"
            ],
            [
             1,
             "#276419"
            ]
           ],
           "sequential": [
            [
             0,
             "#0d0887"
            ],
            [
             0.1111111111111111,
             "#46039f"
            ],
            [
             0.2222222222222222,
             "#7201a8"
            ],
            [
             0.3333333333333333,
             "#9c179e"
            ],
            [
             0.4444444444444444,
             "#bd3786"
            ],
            [
             0.5555555555555556,
             "#d8576b"
            ],
            [
             0.6666666666666666,
             "#ed7953"
            ],
            [
             0.7777777777777778,
             "#fb9f3a"
            ],
            [
             0.8888888888888888,
             "#fdca26"
            ],
            [
             1,
             "#f0f921"
            ]
           ],
           "sequentialminus": [
            [
             0,
             "#0d0887"
            ],
            [
             0.1111111111111111,
             "#46039f"
            ],
            [
             0.2222222222222222,
             "#7201a8"
            ],
            [
             0.3333333333333333,
             "#9c179e"
            ],
            [
             0.4444444444444444,
             "#bd3786"
            ],
            [
             0.5555555555555556,
             "#d8576b"
            ],
            [
             0.6666666666666666,
             "#ed7953"
            ],
            [
             0.7777777777777778,
             "#fb9f3a"
            ],
            [
             0.8888888888888888,
             "#fdca26"
            ],
            [
             1,
             "#f0f921"
            ]
           ]
          },
          "colorway": [
           "#636efa",
           "#EF553B",
           "#00cc96",
           "#ab63fa",
           "#FFA15A",
           "#19d3f3",
           "#FF6692",
           "#B6E880",
           "#FF97FF",
           "#FECB52"
          ],
          "font": {
           "color": "#2a3f5f"
          },
          "geo": {
           "bgcolor": "white",
           "lakecolor": "white",
           "landcolor": "#E5ECF6",
           "showlakes": true,
           "showland": true,
           "subunitcolor": "white"
          },
          "hoverlabel": {
           "align": "left"
          },
          "hovermode": "closest",
          "mapbox": {
           "style": "light"
          },
          "paper_bgcolor": "white",
          "plot_bgcolor": "#E5ECF6",
          "polar": {
           "angularaxis": {
            "gridcolor": "white",
            "linecolor": "white",
            "ticks": ""
           },
           "bgcolor": "#E5ECF6",
           "radialaxis": {
            "gridcolor": "white",
            "linecolor": "white",
            "ticks": ""
           }
          },
          "scene": {
           "xaxis": {
            "backgroundcolor": "#E5ECF6",
            "gridcolor": "white",
            "gridwidth": 2,
            "linecolor": "white",
            "showbackground": true,
            "ticks": "",
            "zerolinecolor": "white"
           },
           "yaxis": {
            "backgroundcolor": "#E5ECF6",
            "gridcolor": "white",
            "gridwidth": 2,
            "linecolor": "white",
            "showbackground": true,
            "ticks": "",
            "zerolinecolor": "white"
           },
           "zaxis": {
            "backgroundcolor": "#E5ECF6",
            "gridcolor": "white",
            "gridwidth": 2,
            "linecolor": "white",
            "showbackground": true,
            "ticks": "",
            "zerolinecolor": "white"
           }
          },
          "shapedefaults": {
           "line": {
            "color": "#2a3f5f"
           }
          },
          "ternary": {
           "aaxis": {
            "gridcolor": "white",
            "linecolor": "white",
            "ticks": ""
           },
           "baxis": {
            "gridcolor": "white",
            "linecolor": "white",
            "ticks": ""
           },
           "bgcolor": "#E5ECF6",
           "caxis": {
            "gridcolor": "white",
            "linecolor": "white",
            "ticks": ""
           }
          },
          "title": {
           "x": 0.05
          },
          "xaxis": {
           "automargin": true,
           "gridcolor": "white",
           "linecolor": "white",
           "ticks": "",
           "title": {
            "standoff": 15
           },
           "zerolinecolor": "white",
           "zerolinewidth": 2
          },
          "yaxis": {
           "automargin": true,
           "gridcolor": "white",
           "linecolor": "white",
           "ticks": "",
           "title": {
            "standoff": 15
           },
           "zerolinecolor": "white",
           "zerolinewidth": 2
          }
         }
        },
        "xaxis": {
         "anchor": "y",
         "domain": [
          0,
          1
         ],
         "title": {
          "text": "시기"
         }
        },
        "yaxis": {
         "anchor": "x",
         "domain": [
          0,
          1
         ],
         "title": {
          "text": "섬유제품;의복제외"
         }
        }
       }
      },
      "text/html": [
       "<div>                            <div id=\"377c5a20-1a62-4b72-b8fe-fd65bf5404bc\" class=\"plotly-graph-div\" style=\"height:525px; width:100%;\"></div>            <script type=\"text/javascript\">                require([\"plotly\"], function(Plotly) {                    window.PLOTLYENV=window.PLOTLYENV || {};                                    if (document.getElementById(\"377c5a20-1a62-4b72-b8fe-fd65bf5404bc\")) {                    Plotly.newPlot(                        \"377c5a20-1a62-4b72-b8fe-fd65bf5404bc\",                        [{\"hovertemplate\":\"\\uc2dc\\uae30=%{x}<br>\\uc12c\\uc720\\uc81c\\ud488;\\uc758\\ubcf5\\uc81c\\uc678=%{y}<extra></extra>\",\"legendgroup\":\"\",\"line\":{\"color\":\"#636efa\",\"dash\":\"solid\"},\"marker\":{\"symbol\":\"circle\"},\"mode\":\"lines+markers\",\"name\":\"\",\"orientation\":\"v\",\"showlegend\":false,\"x\":[\"2015.02 \\uc6d4\",\"2015.03 \\uc6d4\",\"2015.04 \\uc6d4\",\"2015.05 \\uc6d4\",\"2015.06 \\uc6d4\",\"2015.07 \\uc6d4\",\"2015.08 \\uc6d4\",\"2015.09 \\uc6d4\",\"2015.10 \\uc6d4\",\"2015.11 \\uc6d4\",\"2015.12 \\uc6d4\",\"2016.01 \\uc6d4\",\"2016.02 \\uc6d4\",\"2016.03 \\uc6d4\",\"2016.04 \\uc6d4\",\"2016.05 \\uc6d4\",\"2016.06 \\uc6d4\",\"2016.07 \\uc6d4\",\"2016.08 \\uc6d4\",\"2016.09 \\uc6d4\",\"2016.10 \\uc6d4\",\"2016.11 \\uc6d4\",\"2016.12 \\uc6d4\",\"2017.01 \\uc6d4\",\"2017.02 \\uc6d4\",\"2017.03 \\uc6d4\",\"2017.04 \\uc6d4\",\"2017.05 \\uc6d4\",\"2017.06 \\uc6d4\",\"2017.07 \\uc6d4\",\"2017.08 \\uc6d4\",\"2017.09 \\uc6d4\",\"2017.10 \\uc6d4\",\"2017.11 \\uc6d4\",\"2017.12 \\uc6d4\",\"2018.01 \\uc6d4\",\"2018.02 \\uc6d4\",\"2018.03 \\uc6d4\",\"2018.04 \\uc6d4\",\"2018.05 \\uc6d4\",\"2018.06 \\uc6d4\",\"2018.07 \\uc6d4\",\"2018.08 \\uc6d4\",\"2018.09 \\uc6d4\",\"2018.10 \\uc6d4\",\"2018.11 \\uc6d4\",\"2018.12 \\uc6d4\",\"2019.01 \\uc6d4\",\"2019.02 \\uc6d4\",\"2019.03 \\uc6d4\",\"2019.04 \\uc6d4\",\"2019.05 \\uc6d4\",\"2019.06 \\uc6d4\",\"2019.07 \\uc6d4\",\"2019.08 \\uc6d4\",\"2019.09 \\uc6d4\",\"2019.10 \\uc6d4\",\"2019.11 \\uc6d4\",\"2019.12 \\uc6d4\",\"2020.01 \\uc6d4\",\"2020.02 \\uc6d4\",\"2020.03 \\uc6d4\",\"2020.04 \\uc6d4\",\"2020.05 \\uc6d4\",\"2020.06 \\uc6d4\",\"2020.07 \\uc6d4\",\"2020.08 \\uc6d4\",\"2020.09 \\uc6d4\",\"2020.10 \\uc6d4\",\"2020.11 \\uc6d4\",\"2020.12 \\uc6d4\",\"2021.01 \\uc6d4\",\"2021.02 \\uc6d4\",\"2021.03 \\uc6d4\",\"2021.04 \\uc6d4\",\"2021.05 \\uc6d4\",\"2021.06 \\uc6d4\",\"2021.07 \\uc6d4\",\"2021.08 \\uc6d4\",\"2021.09 \\uc6d4\",\"2021.10 \\uc6d4\",\"2021.11 \\uc6d4\",\"2021.12 \\uc6d4\",\"2022.01 \\uc6d4\",\"2022.02 \\uc6d4\",\"2022.03 \\uc6d4\",\"2022.04 \\uc6d4\",\"2022.05 \\uc6d4\",\"2022.06 \\uc6d4\",\"2022.07 \\uc6d4\",\"2022.08 \\uc6d4\",\"2022.09 \\uc6d4\",\"2022.10 \\uc6d4\",\"2022.11 \\uc6d4\",\"2022.12 \\uc6d4\",\"2023.01 \\uc6d4\"],\"xaxis\":\"x\",\"y\":[67.0,86.1,89.6,88.4,82.9,78.9,78.1,87.7,88.9,86.9,76.9,76.2,66.3,85.4,90.9,91.0,84.4,83.0,81.6,95.8,94.7,85.5,82.3,67.1,68.6,84.5,89.0,84.5,87.4,84.1,74.5,89.7,83.5,95.6,84.4,73.6,78.1,87.1,86.8,90.2,83.3,75.8,69.8,80.3,80.3,85.3,76.3,75.7,62.7,85.5,81.5,80.7,74.9,79.1,64.2,69.5,78.1,74.2,67.7,66.1,73.8,70.0,46.9,40.9,42.8,55.5,57.0,59.5,68.8,69.3,64.3,55.3,61.3,77.3,82.1,85.6,78.9,79.7,73.8,76.6,80.5,83.9,80.5,73.3,75.3,81.0,74.8,78.3,79.4,70.0,73.0,70.9,81.0,72.5,73.4,70.4],\"yaxis\":\"y\",\"type\":\"scatter\"}],                        {\"template\":{\"data\":{\"bar\":[{\"error_x\":{\"color\":\"#2a3f5f\"},\"error_y\":{\"color\":\"#2a3f5f\"},\"marker\":{\"line\":{\"color\":\"#E5ECF6\",\"width\":0.5},\"pattern\":{\"fillmode\":\"overlay\",\"size\":10,\"solidity\":0.2}},\"type\":\"bar\"}],\"barpolar\":[{\"marker\":{\"line\":{\"color\":\"#E5ECF6\",\"width\":0.5},\"pattern\":{\"fillmode\":\"overlay\",\"size\":10,\"solidity\":0.2}},\"type\":\"barpolar\"}],\"carpet\":[{\"aaxis\":{\"endlinecolor\":\"#2a3f5f\",\"gridcolor\":\"white\",\"linecolor\":\"white\",\"minorgridcolor\":\"white\",\"startlinecolor\":\"#2a3f5f\"},\"baxis\":{\"endlinecolor\":\"#2a3f5f\",\"gridcolor\":\"white\",\"linecolor\":\"white\",\"minorgridcolor\":\"white\",\"startlinecolor\":\"#2a3f5f\"},\"type\":\"carpet\"}],\"choropleth\":[{\"colorbar\":{\"outlinewidth\":0,\"ticks\":\"\"},\"type\":\"choropleth\"}],\"contour\":[{\"colorbar\":{\"outlinewidth\":0,\"ticks\":\"\"},\"colorscale\":[[0.0,\"#0d0887\"],[0.1111111111111111,\"#46039f\"],[0.2222222222222222,\"#7201a8\"],[0.3333333333333333,\"#9c179e\"],[0.4444444444444444,\"#bd3786\"],[0.5555555555555556,\"#d8576b\"],[0.6666666666666666,\"#ed7953\"],[0.7777777777777778,\"#fb9f3a\"],[0.8888888888888888,\"#fdca26\"],[1.0,\"#f0f921\"]],\"type\":\"contour\"}],\"contourcarpet\":[{\"colorbar\":{\"outlinewidth\":0,\"ticks\":\"\"},\"type\":\"contourcarpet\"}],\"heatmap\":[{\"colorbar\":{\"outlinewidth\":0,\"ticks\":\"\"},\"colorscale\":[[0.0,\"#0d0887\"],[0.1111111111111111,\"#46039f\"],[0.2222222222222222,\"#7201a8\"],[0.3333333333333333,\"#9c179e\"],[0.4444444444444444,\"#bd3786\"],[0.5555555555555556,\"#d8576b\"],[0.6666666666666666,\"#ed7953\"],[0.7777777777777778,\"#fb9f3a\"],[0.8888888888888888,\"#fdca26\"],[1.0,\"#f0f921\"]],\"type\":\"heatmap\"}],\"heatmapgl\":[{\"colorbar\":{\"outlinewidth\":0,\"ticks\":\"\"},\"colorscale\":[[0.0,\"#0d0887\"],[0.1111111111111111,\"#46039f\"],[0.2222222222222222,\"#7201a8\"],[0.3333333333333333,\"#9c179e\"],[0.4444444444444444,\"#bd3786\"],[0.5555555555555556,\"#d8576b\"],[0.6666666666666666,\"#ed7953\"],[0.7777777777777778,\"#fb9f3a\"],[0.8888888888888888,\"#fdca26\"],[1.0,\"#f0f921\"]],\"type\":\"heatmapgl\"}],\"histogram\":[{\"marker\":{\"pattern\":{\"fillmode\":\"overlay\",\"size\":10,\"solidity\":0.2}},\"type\":\"histogram\"}],\"histogram2d\":[{\"colorbar\":{\"outlinewidth\":0,\"ticks\":\"\"},\"colorscale\":[[0.0,\"#0d0887\"],[0.1111111111111111,\"#46039f\"],[0.2222222222222222,\"#7201a8\"],[0.3333333333333333,\"#9c179e\"],[0.4444444444444444,\"#bd3786\"],[0.5555555555555556,\"#d8576b\"],[0.6666666666666666,\"#ed7953\"],[0.7777777777777778,\"#fb9f3a\"],[0.8888888888888888,\"#fdca26\"],[1.0,\"#f0f921\"]],\"type\":\"histogram2d\"}],\"histogram2dcontour\":[{\"colorbar\":{\"outlinewidth\":0,\"ticks\":\"\"},\"colorscale\":[[0.0,\"#0d0887\"],[0.1111111111111111,\"#46039f\"],[0.2222222222222222,\"#7201a8\"],[0.3333333333333333,\"#9c179e\"],[0.4444444444444444,\"#bd3786\"],[0.5555555555555556,\"#d8576b\"],[0.6666666666666666,\"#ed7953\"],[0.7777777777777778,\"#fb9f3a\"],[0.8888888888888888,\"#fdca26\"],[1.0,\"#f0f921\"]],\"type\":\"histogram2dcontour\"}],\"mesh3d\":[{\"colorbar\":{\"outlinewidth\":0,\"ticks\":\"\"},\"type\":\"mesh3d\"}],\"parcoords\":[{\"line\":{\"colorbar\":{\"outlinewidth\":0,\"ticks\":\"\"}},\"type\":\"parcoords\"}],\"pie\":[{\"automargin\":true,\"type\":\"pie\"}],\"scatter\":[{\"marker\":{\"colorbar\":{\"outlinewidth\":0,\"ticks\":\"\"}},\"type\":\"scatter\"}],\"scatter3d\":[{\"line\":{\"colorbar\":{\"outlinewidth\":0,\"ticks\":\"\"}},\"marker\":{\"colorbar\":{\"outlinewidth\":0,\"ticks\":\"\"}},\"type\":\"scatter3d\"}],\"scattercarpet\":[{\"marker\":{\"colorbar\":{\"outlinewidth\":0,\"ticks\":\"\"}},\"type\":\"scattercarpet\"}],\"scattergeo\":[{\"marker\":{\"colorbar\":{\"outlinewidth\":0,\"ticks\":\"\"}},\"type\":\"scattergeo\"}],\"scattergl\":[{\"marker\":{\"colorbar\":{\"outlinewidth\":0,\"ticks\":\"\"}},\"type\":\"scattergl\"}],\"scattermapbox\":[{\"marker\":{\"colorbar\":{\"outlinewidth\":0,\"ticks\":\"\"}},\"type\":\"scattermapbox\"}],\"scatterpolar\":[{\"marker\":{\"colorbar\":{\"outlinewidth\":0,\"ticks\":\"\"}},\"type\":\"scatterpolar\"}],\"scatterpolargl\":[{\"marker\":{\"colorbar\":{\"outlinewidth\":0,\"ticks\":\"\"}},\"type\":\"scatterpolargl\"}],\"scatterternary\":[{\"marker\":{\"colorbar\":{\"outlinewidth\":0,\"ticks\":\"\"}},\"type\":\"scatterternary\"}],\"surface\":[{\"colorbar\":{\"outlinewidth\":0,\"ticks\":\"\"},\"colorscale\":[[0.0,\"#0d0887\"],[0.1111111111111111,\"#46039f\"],[0.2222222222222222,\"#7201a8\"],[0.3333333333333333,\"#9c179e\"],[0.4444444444444444,\"#bd3786\"],[0.5555555555555556,\"#d8576b\"],[0.6666666666666666,\"#ed7953\"],[0.7777777777777778,\"#fb9f3a\"],[0.8888888888888888,\"#fdca26\"],[1.0,\"#f0f921\"]],\"type\":\"surface\"}],\"table\":[{\"cells\":{\"fill\":{\"color\":\"#EBF0F8\"},\"line\":{\"color\":\"white\"}},\"header\":{\"fill\":{\"color\":\"#C8D4E3\"},\"line\":{\"color\":\"white\"}},\"type\":\"table\"}]},\"layout\":{\"annotationdefaults\":{\"arrowcolor\":\"#2a3f5f\",\"arrowhead\":0,\"arrowwidth\":1},\"autotypenumbers\":\"strict\",\"coloraxis\":{\"colorbar\":{\"outlinewidth\":0,\"ticks\":\"\"}},\"colorscale\":{\"diverging\":[[0,\"#8e0152\"],[0.1,\"#c51b7d\"],[0.2,\"#de77ae\"],[0.3,\"#f1b6da\"],[0.4,\"#fde0ef\"],[0.5,\"#f7f7f7\"],[0.6,\"#e6f5d0\"],[0.7,\"#b8e186\"],[0.8,\"#7fbc41\"],[0.9,\"#4d9221\"],[1,\"#276419\"]],\"sequential\":[[0.0,\"#0d0887\"],[0.1111111111111111,\"#46039f\"],[0.2222222222222222,\"#7201a8\"],[0.3333333333333333,\"#9c179e\"],[0.4444444444444444,\"#bd3786\"],[0.5555555555555556,\"#d8576b\"],[0.6666666666666666,\"#ed7953\"],[0.7777777777777778,\"#fb9f3a\"],[0.8888888888888888,\"#fdca26\"],[1.0,\"#f0f921\"]],\"sequentialminus\":[[0.0,\"#0d0887\"],[0.1111111111111111,\"#46039f\"],[0.2222222222222222,\"#7201a8\"],[0.3333333333333333,\"#9c179e\"],[0.4444444444444444,\"#bd3786\"],[0.5555555555555556,\"#d8576b\"],[0.6666666666666666,\"#ed7953\"],[0.7777777777777778,\"#fb9f3a\"],[0.8888888888888888,\"#fdca26\"],[1.0,\"#f0f921\"]]},\"colorway\":[\"#636efa\",\"#EF553B\",\"#00cc96\",\"#ab63fa\",\"#FFA15A\",\"#19d3f3\",\"#FF6692\",\"#B6E880\",\"#FF97FF\",\"#FECB52\"],\"font\":{\"color\":\"#2a3f5f\"},\"geo\":{\"bgcolor\":\"white\",\"lakecolor\":\"white\",\"landcolor\":\"#E5ECF6\",\"showlakes\":true,\"showland\":true,\"subunitcolor\":\"white\"},\"hoverlabel\":{\"align\":\"left\"},\"hovermode\":\"closest\",\"mapbox\":{\"style\":\"light\"},\"paper_bgcolor\":\"white\",\"plot_bgcolor\":\"#E5ECF6\",\"polar\":{\"angularaxis\":{\"gridcolor\":\"white\",\"linecolor\":\"white\",\"ticks\":\"\"},\"bgcolor\":\"#E5ECF6\",\"radialaxis\":{\"gridcolor\":\"white\",\"linecolor\":\"white\",\"ticks\":\"\"}},\"scene\":{\"xaxis\":{\"backgroundcolor\":\"#E5ECF6\",\"gridcolor\":\"white\",\"gridwidth\":2,\"linecolor\":\"white\",\"showbackground\":true,\"ticks\":\"\",\"zerolinecolor\":\"white\"},\"yaxis\":{\"backgroundcolor\":\"#E5ECF6\",\"gridcolor\":\"white\",\"gridwidth\":2,\"linecolor\":\"white\",\"showbackground\":true,\"ticks\":\"\",\"zerolinecolor\":\"white\"},\"zaxis\":{\"backgroundcolor\":\"#E5ECF6\",\"gridcolor\":\"white\",\"gridwidth\":2,\"linecolor\":\"white\",\"showbackground\":true,\"ticks\":\"\",\"zerolinecolor\":\"white\"}},\"shapedefaults\":{\"line\":{\"color\":\"#2a3f5f\"}},\"ternary\":{\"aaxis\":{\"gridcolor\":\"white\",\"linecolor\":\"white\",\"ticks\":\"\"},\"baxis\":{\"gridcolor\":\"white\",\"linecolor\":\"white\",\"ticks\":\"\"},\"bgcolor\":\"#E5ECF6\",\"caxis\":{\"gridcolor\":\"white\",\"linecolor\":\"white\",\"ticks\":\"\"}},\"title\":{\"x\":0.05},\"xaxis\":{\"automargin\":true,\"gridcolor\":\"white\",\"linecolor\":\"white\",\"ticks\":\"\",\"title\":{\"standoff\":15},\"zerolinecolor\":\"white\",\"zerolinewidth\":2},\"yaxis\":{\"automargin\":true,\"gridcolor\":\"white\",\"linecolor\":\"white\",\"ticks\":\"\",\"title\":{\"standoff\":15},\"zerolinecolor\":\"white\",\"zerolinewidth\":2}}},\"xaxis\":{\"anchor\":\"y\",\"domain\":[0.0,1.0],\"title\":{\"text\":\"\\uc2dc\\uae30\"}},\"yaxis\":{\"anchor\":\"x\",\"domain\":[0.0,1.0],\"title\":{\"text\":\"\\uc12c\\uc720\\uc81c\\ud488;\\uc758\\ubcf5\\uc81c\\uc678\"}},\"legend\":{\"tracegroupgap\":0},\"margin\":{\"t\":60}},                        {\"responsive\": true}                    ).then(function(){\n",
       "                            \n",
       "var gd = document.getElementById('377c5a20-1a62-4b72-b8fe-fd65bf5404bc');\n",
       "var x = new MutationObserver(function (mutations, observer) {{\n",
       "        var display = window.getComputedStyle(gd).display;\n",
       "        if (!display || display === 'none') {{\n",
       "            console.log([gd, 'removed!']);\n",
       "            Plotly.purge(gd);\n",
       "            observer.disconnect();\n",
       "        }}\n",
       "}});\n",
       "\n",
       "// Listen for the removal of the full notebook cells\n",
       "var notebookContainer = gd.closest('#notebook-container');\n",
       "if (notebookContainer) {{\n",
       "    x.observe(notebookContainer, {childList: true});\n",
       "}}\n",
       "\n",
       "// Listen for the clearing of the current output cell\n",
       "var outputEl = gd.closest('.output');\n",
       "if (outputEl) {{\n",
       "    x.observe(outputEl, {childList: true});\n",
       "}}\n",
       "\n",
       "                        })                };                });            </script>        </div>"
      ]
     },
     "metadata": {},
     "output_type": "display_data"
    }
   ],
   "source": [
    "px.line(df_1, x='시기', y='섬유제품;의복제외', markers = True)"
   ]
  },
  {
   "cell_type": "code",
   "execution_count": null,
   "id": "c6dfcace",
   "metadata": {},
   "outputs": [],
   "source": []
  },
  {
   "cell_type": "code",
   "execution_count": 8,
   "id": "59e0076f",
   "metadata": {},
   "outputs": [],
   "source": [
    "df_2 = pd.read_csv('./SBHI전처리데이터/내수판매_sbhi.csv' , encoding = 'cp949')"
   ]
  },
  {
   "cell_type": "code",
   "execution_count": 9,
   "id": "c946b1be",
   "metadata": {},
   "outputs": [
    {
     "data": {
      "application/vnd.plotly.v1+json": {
       "config": {
        "plotlyServerURL": "https://plot.ly"
       },
       "data": [
        {
         "hovertemplate": "시기=%{x}<br>섬유제품;의복제외=%{y}<extra></extra>",
         "legendgroup": "",
         "line": {
          "color": "#636efa",
          "dash": "solid"
         },
         "marker": {
          "symbol": "circle"
         },
         "mode": "lines+markers",
         "name": "",
         "orientation": "v",
         "showlegend": false,
         "type": "scatter",
         "x": [
          "2015.02 월",
          "2015.03 월",
          "2015.04 월",
          "2015.05 월",
          "2015.06 월",
          "2015.07 월",
          "2015.08 월",
          "2015.09 월",
          "2015.10 월",
          "2015.11 월",
          "2015.12 월",
          "2016.01 월",
          "2016.02 월",
          "2016.03 월",
          "2016.04 월",
          "2016.05 월",
          "2016.06 월",
          "2016.07 월",
          "2016.08 월",
          "2016.09 월",
          "2016.10 월",
          "2016.11 월",
          "2016.12 월",
          "2017.01 월",
          "2017.02 월",
          "2017.03 월",
          "2017.04 월",
          "2017.05 월",
          "2017.06 월",
          "2017.07 월",
          "2017.08 월",
          "2017.09 월",
          "2017.10 월",
          "2017.11 월",
          "2017.12 월",
          "2018.01 월",
          "2018.02 월",
          "2018.03 월",
          "2018.04 월",
          "2018.05 월",
          "2018.06 월",
          "2018.07 월",
          "2018.08 월",
          "2018.09 월",
          "2018.10 월",
          "2018.11 월",
          "2018.12 월",
          "2019.01 월",
          "2019.02 월",
          "2019.03 월",
          "2019.04 월",
          "2019.05 월",
          "2019.06 월",
          "2019.07 월",
          "2019.08 월",
          "2019.09 월",
          "2019.10 월",
          "2019.11 월",
          "2019.12 월",
          "2020.01 월",
          "2020.02 월",
          "2020.03 월",
          "2020.04 월",
          "2020.05 월",
          "2020.06 월",
          "2020.07 월",
          "2020.08 월",
          "2020.09 월",
          "2020.10 월",
          "2020.11 월",
          "2020.12 월",
          "2021.01 월",
          "2021.02 월",
          "2021.03 월",
          "2021.04 월",
          "2021.05 월",
          "2021.06 월",
          "2021.07 월",
          "2021.08 월",
          "2021.09 월",
          "2021.10 월",
          "2021.11 월",
          "2021.12 월",
          "2022.01 월",
          "2022.02 월",
          "2022.03 월",
          "2022.04 월",
          "2022.05 월",
          "2022.06 월",
          "2022.07 월",
          "2022.08 월",
          "2022.09 월",
          "2022.10 월",
          "2022.11 월",
          "2022.12 월",
          "2023.01 월"
         ],
         "xaxis": "x",
         "y": [
          64.4,
          81.6,
          91,
          80.9,
          82.2,
          72,
          71.5,
          83.2,
          87.5,
          87.4,
          73.7,
          74.9,
          70.4,
          86.1,
          93,
          94.9,
          88.1,
          84.3,
          79.9,
          96.9,
          92.8,
          87.2,
          82.3,
          64.3,
          71.7,
          84.9,
          84.8,
          82.1,
          81.7,
          81.1,
          73.1,
          88.1,
          81.8,
          95.7,
          82.1,
          76.7,
          71,
          83.7,
          85,
          92.7,
          84.1,
          75.6,
          76.3,
          79.5,
          80.3,
          85.5,
          73.7,
          71.8,
          62.4,
          81.8,
          83.2,
          82.2,
          75.7,
          81.2,
          62.5,
          72.6,
          81.1,
          77.4,
          65.3,
          71,
          75.5,
          69.2,
          49.2,
          40.9,
          41.2,
          57.8,
          55.5,
          55.6,
          67.2,
          70.2,
          61.9,
          55.3,
          60.6,
          77.3,
          81.4,
          83.9,
          73.5,
          74.6,
          73.8,
          75.7,
          82.2,
          83.7,
          83,
          78.5,
          72.4,
          83,
          74.8,
          82.8,
          79.2,
          71.9,
          70.7,
          73.4,
          83.8,
          77.6,
          74.1,
          68.4
         ],
         "yaxis": "y"
        }
       ],
       "layout": {
        "legend": {
         "tracegroupgap": 0
        },
        "margin": {
         "t": 60
        },
        "template": {
         "data": {
          "bar": [
           {
            "error_x": {
             "color": "#2a3f5f"
            },
            "error_y": {
             "color": "#2a3f5f"
            },
            "marker": {
             "line": {
              "color": "#E5ECF6",
              "width": 0.5
             },
             "pattern": {
              "fillmode": "overlay",
              "size": 10,
              "solidity": 0.2
             }
            },
            "type": "bar"
           }
          ],
          "barpolar": [
           {
            "marker": {
             "line": {
              "color": "#E5ECF6",
              "width": 0.5
             },
             "pattern": {
              "fillmode": "overlay",
              "size": 10,
              "solidity": 0.2
             }
            },
            "type": "barpolar"
           }
          ],
          "carpet": [
           {
            "aaxis": {
             "endlinecolor": "#2a3f5f",
             "gridcolor": "white",
             "linecolor": "white",
             "minorgridcolor": "white",
             "startlinecolor": "#2a3f5f"
            },
            "baxis": {
             "endlinecolor": "#2a3f5f",
             "gridcolor": "white",
             "linecolor": "white",
             "minorgridcolor": "white",
             "startlinecolor": "#2a3f5f"
            },
            "type": "carpet"
           }
          ],
          "choropleth": [
           {
            "colorbar": {
             "outlinewidth": 0,
             "ticks": ""
            },
            "type": "choropleth"
           }
          ],
          "contour": [
           {
            "colorbar": {
             "outlinewidth": 0,
             "ticks": ""
            },
            "colorscale": [
             [
              0,
              "#0d0887"
             ],
             [
              0.1111111111111111,
              "#46039f"
             ],
             [
              0.2222222222222222,
              "#7201a8"
             ],
             [
              0.3333333333333333,
              "#9c179e"
             ],
             [
              0.4444444444444444,
              "#bd3786"
             ],
             [
              0.5555555555555556,
              "#d8576b"
             ],
             [
              0.6666666666666666,
              "#ed7953"
             ],
             [
              0.7777777777777778,
              "#fb9f3a"
             ],
             [
              0.8888888888888888,
              "#fdca26"
             ],
             [
              1,
              "#f0f921"
             ]
            ],
            "type": "contour"
           }
          ],
          "contourcarpet": [
           {
            "colorbar": {
             "outlinewidth": 0,
             "ticks": ""
            },
            "type": "contourcarpet"
           }
          ],
          "heatmap": [
           {
            "colorbar": {
             "outlinewidth": 0,
             "ticks": ""
            },
            "colorscale": [
             [
              0,
              "#0d0887"
             ],
             [
              0.1111111111111111,
              "#46039f"
             ],
             [
              0.2222222222222222,
              "#7201a8"
             ],
             [
              0.3333333333333333,
              "#9c179e"
             ],
             [
              0.4444444444444444,
              "#bd3786"
             ],
             [
              0.5555555555555556,
              "#d8576b"
             ],
             [
              0.6666666666666666,
              "#ed7953"
             ],
             [
              0.7777777777777778,
              "#fb9f3a"
             ],
             [
              0.8888888888888888,
              "#fdca26"
             ],
             [
              1,
              "#f0f921"
             ]
            ],
            "type": "heatmap"
           }
          ],
          "heatmapgl": [
           {
            "colorbar": {
             "outlinewidth": 0,
             "ticks": ""
            },
            "colorscale": [
             [
              0,
              "#0d0887"
             ],
             [
              0.1111111111111111,
              "#46039f"
             ],
             [
              0.2222222222222222,
              "#7201a8"
             ],
             [
              0.3333333333333333,
              "#9c179e"
             ],
             [
              0.4444444444444444,
              "#bd3786"
             ],
             [
              0.5555555555555556,
              "#d8576b"
             ],
             [
              0.6666666666666666,
              "#ed7953"
             ],
             [
              0.7777777777777778,
              "#fb9f3a"
             ],
             [
              0.8888888888888888,
              "#fdca26"
             ],
             [
              1,
              "#f0f921"
             ]
            ],
            "type": "heatmapgl"
           }
          ],
          "histogram": [
           {
            "marker": {
             "pattern": {
              "fillmode": "overlay",
              "size": 10,
              "solidity": 0.2
             }
            },
            "type": "histogram"
           }
          ],
          "histogram2d": [
           {
            "colorbar": {
             "outlinewidth": 0,
             "ticks": ""
            },
            "colorscale": [
             [
              0,
              "#0d0887"
             ],
             [
              0.1111111111111111,
              "#46039f"
             ],
             [
              0.2222222222222222,
              "#7201a8"
             ],
             [
              0.3333333333333333,
              "#9c179e"
             ],
             [
              0.4444444444444444,
              "#bd3786"
             ],
             [
              0.5555555555555556,
              "#d8576b"
             ],
             [
              0.6666666666666666,
              "#ed7953"
             ],
             [
              0.7777777777777778,
              "#fb9f3a"
             ],
             [
              0.8888888888888888,
              "#fdca26"
             ],
             [
              1,
              "#f0f921"
             ]
            ],
            "type": "histogram2d"
           }
          ],
          "histogram2dcontour": [
           {
            "colorbar": {
             "outlinewidth": 0,
             "ticks": ""
            },
            "colorscale": [
             [
              0,
              "#0d0887"
             ],
             [
              0.1111111111111111,
              "#46039f"
             ],
             [
              0.2222222222222222,
              "#7201a8"
             ],
             [
              0.3333333333333333,
              "#9c179e"
             ],
             [
              0.4444444444444444,
              "#bd3786"
             ],
             [
              0.5555555555555556,
              "#d8576b"
             ],
             [
              0.6666666666666666,
              "#ed7953"
             ],
             [
              0.7777777777777778,
              "#fb9f3a"
             ],
             [
              0.8888888888888888,
              "#fdca26"
             ],
             [
              1,
              "#f0f921"
             ]
            ],
            "type": "histogram2dcontour"
           }
          ],
          "mesh3d": [
           {
            "colorbar": {
             "outlinewidth": 0,
             "ticks": ""
            },
            "type": "mesh3d"
           }
          ],
          "parcoords": [
           {
            "line": {
             "colorbar": {
              "outlinewidth": 0,
              "ticks": ""
             }
            },
            "type": "parcoords"
           }
          ],
          "pie": [
           {
            "automargin": true,
            "type": "pie"
           }
          ],
          "scatter": [
           {
            "marker": {
             "colorbar": {
              "outlinewidth": 0,
              "ticks": ""
             }
            },
            "type": "scatter"
           }
          ],
          "scatter3d": [
           {
            "line": {
             "colorbar": {
              "outlinewidth": 0,
              "ticks": ""
             }
            },
            "marker": {
             "colorbar": {
              "outlinewidth": 0,
              "ticks": ""
             }
            },
            "type": "scatter3d"
           }
          ],
          "scattercarpet": [
           {
            "marker": {
             "colorbar": {
              "outlinewidth": 0,
              "ticks": ""
             }
            },
            "type": "scattercarpet"
           }
          ],
          "scattergeo": [
           {
            "marker": {
             "colorbar": {
              "outlinewidth": 0,
              "ticks": ""
             }
            },
            "type": "scattergeo"
           }
          ],
          "scattergl": [
           {
            "marker": {
             "colorbar": {
              "outlinewidth": 0,
              "ticks": ""
             }
            },
            "type": "scattergl"
           }
          ],
          "scattermapbox": [
           {
            "marker": {
             "colorbar": {
              "outlinewidth": 0,
              "ticks": ""
             }
            },
            "type": "scattermapbox"
           }
          ],
          "scatterpolar": [
           {
            "marker": {
             "colorbar": {
              "outlinewidth": 0,
              "ticks": ""
             }
            },
            "type": "scatterpolar"
           }
          ],
          "scatterpolargl": [
           {
            "marker": {
             "colorbar": {
              "outlinewidth": 0,
              "ticks": ""
             }
            },
            "type": "scatterpolargl"
           }
          ],
          "scatterternary": [
           {
            "marker": {
             "colorbar": {
              "outlinewidth": 0,
              "ticks": ""
             }
            },
            "type": "scatterternary"
           }
          ],
          "surface": [
           {
            "colorbar": {
             "outlinewidth": 0,
             "ticks": ""
            },
            "colorscale": [
             [
              0,
              "#0d0887"
             ],
             [
              0.1111111111111111,
              "#46039f"
             ],
             [
              0.2222222222222222,
              "#7201a8"
             ],
             [
              0.3333333333333333,
              "#9c179e"
             ],
             [
              0.4444444444444444,
              "#bd3786"
             ],
             [
              0.5555555555555556,
              "#d8576b"
             ],
             [
              0.6666666666666666,
              "#ed7953"
             ],
             [
              0.7777777777777778,
              "#fb9f3a"
             ],
             [
              0.8888888888888888,
              "#fdca26"
             ],
             [
              1,
              "#f0f921"
             ]
            ],
            "type": "surface"
           }
          ],
          "table": [
           {
            "cells": {
             "fill": {
              "color": "#EBF0F8"
             },
             "line": {
              "color": "white"
             }
            },
            "header": {
             "fill": {
              "color": "#C8D4E3"
             },
             "line": {
              "color": "white"
             }
            },
            "type": "table"
           }
          ]
         },
         "layout": {
          "annotationdefaults": {
           "arrowcolor": "#2a3f5f",
           "arrowhead": 0,
           "arrowwidth": 1
          },
          "autotypenumbers": "strict",
          "coloraxis": {
           "colorbar": {
            "outlinewidth": 0,
            "ticks": ""
           }
          },
          "colorscale": {
           "diverging": [
            [
             0,
             "#8e0152"
            ],
            [
             0.1,
             "#c51b7d"
            ],
            [
             0.2,
             "#de77ae"
            ],
            [
             0.3,
             "#f1b6da"
            ],
            [
             0.4,
             "#fde0ef"
            ],
            [
             0.5,
             "#f7f7f7"
            ],
            [
             0.6,
             "#e6f5d0"
            ],
            [
             0.7,
             "#b8e186"
            ],
            [
             0.8,
             "#7fbc41"
            ],
            [
             0.9,
             "#4d9221"
            ],
            [
             1,
             "#276419"
            ]
           ],
           "sequential": [
            [
             0,
             "#0d0887"
            ],
            [
             0.1111111111111111,
             "#46039f"
            ],
            [
             0.2222222222222222,
             "#7201a8"
            ],
            [
             0.3333333333333333,
             "#9c179e"
            ],
            [
             0.4444444444444444,
             "#bd3786"
            ],
            [
             0.5555555555555556,
             "#d8576b"
            ],
            [
             0.6666666666666666,
             "#ed7953"
            ],
            [
             0.7777777777777778,
             "#fb9f3a"
            ],
            [
             0.8888888888888888,
             "#fdca26"
            ],
            [
             1,
             "#f0f921"
            ]
           ],
           "sequentialminus": [
            [
             0,
             "#0d0887"
            ],
            [
             0.1111111111111111,
             "#46039f"
            ],
            [
             0.2222222222222222,
             "#7201a8"
            ],
            [
             0.3333333333333333,
             "#9c179e"
            ],
            [
             0.4444444444444444,
             "#bd3786"
            ],
            [
             0.5555555555555556,
             "#d8576b"
            ],
            [
             0.6666666666666666,
             "#ed7953"
            ],
            [
             0.7777777777777778,
             "#fb9f3a"
            ],
            [
             0.8888888888888888,
             "#fdca26"
            ],
            [
             1,
             "#f0f921"
            ]
           ]
          },
          "colorway": [
           "#636efa",
           "#EF553B",
           "#00cc96",
           "#ab63fa",
           "#FFA15A",
           "#19d3f3",
           "#FF6692",
           "#B6E880",
           "#FF97FF",
           "#FECB52"
          ],
          "font": {
           "color": "#2a3f5f"
          },
          "geo": {
           "bgcolor": "white",
           "lakecolor": "white",
           "landcolor": "#E5ECF6",
           "showlakes": true,
           "showland": true,
           "subunitcolor": "white"
          },
          "hoverlabel": {
           "align": "left"
          },
          "hovermode": "closest",
          "mapbox": {
           "style": "light"
          },
          "paper_bgcolor": "white",
          "plot_bgcolor": "#E5ECF6",
          "polar": {
           "angularaxis": {
            "gridcolor": "white",
            "linecolor": "white",
            "ticks": ""
           },
           "bgcolor": "#E5ECF6",
           "radialaxis": {
            "gridcolor": "white",
            "linecolor": "white",
            "ticks": ""
           }
          },
          "scene": {
           "xaxis": {
            "backgroundcolor": "#E5ECF6",
            "gridcolor": "white",
            "gridwidth": 2,
            "linecolor": "white",
            "showbackground": true,
            "ticks": "",
            "zerolinecolor": "white"
           },
           "yaxis": {
            "backgroundcolor": "#E5ECF6",
            "gridcolor": "white",
            "gridwidth": 2,
            "linecolor": "white",
            "showbackground": true,
            "ticks": "",
            "zerolinecolor": "white"
           },
           "zaxis": {
            "backgroundcolor": "#E5ECF6",
            "gridcolor": "white",
            "gridwidth": 2,
            "linecolor": "white",
            "showbackground": true,
            "ticks": "",
            "zerolinecolor": "white"
           }
          },
          "shapedefaults": {
           "line": {
            "color": "#2a3f5f"
           }
          },
          "ternary": {
           "aaxis": {
            "gridcolor": "white",
            "linecolor": "white",
            "ticks": ""
           },
           "baxis": {
            "gridcolor": "white",
            "linecolor": "white",
            "ticks": ""
           },
           "bgcolor": "#E5ECF6",
           "caxis": {
            "gridcolor": "white",
            "linecolor": "white",
            "ticks": ""
           }
          },
          "title": {
           "x": 0.05
          },
          "xaxis": {
           "automargin": true,
           "gridcolor": "white",
           "linecolor": "white",
           "ticks": "",
           "title": {
            "standoff": 15
           },
           "zerolinecolor": "white",
           "zerolinewidth": 2
          },
          "yaxis": {
           "automargin": true,
           "gridcolor": "white",
           "linecolor": "white",
           "ticks": "",
           "title": {
            "standoff": 15
           },
           "zerolinecolor": "white",
           "zerolinewidth": 2
          }
         }
        },
        "xaxis": {
         "anchor": "y",
         "domain": [
          0,
          1
         ],
         "title": {
          "text": "시기"
         }
        },
        "yaxis": {
         "anchor": "x",
         "domain": [
          0,
          1
         ],
         "title": {
          "text": "섬유제품;의복제외"
         }
        }
       }
      },
      "text/html": [
       "<div>                            <div id=\"04ffdc59-7a9d-40e4-900c-f33376d136c3\" class=\"plotly-graph-div\" style=\"height:525px; width:100%;\"></div>            <script type=\"text/javascript\">                require([\"plotly\"], function(Plotly) {                    window.PLOTLYENV=window.PLOTLYENV || {};                                    if (document.getElementById(\"04ffdc59-7a9d-40e4-900c-f33376d136c3\")) {                    Plotly.newPlot(                        \"04ffdc59-7a9d-40e4-900c-f33376d136c3\",                        [{\"hovertemplate\":\"\\uc2dc\\uae30=%{x}<br>\\uc12c\\uc720\\uc81c\\ud488;\\uc758\\ubcf5\\uc81c\\uc678=%{y}<extra></extra>\",\"legendgroup\":\"\",\"line\":{\"color\":\"#636efa\",\"dash\":\"solid\"},\"marker\":{\"symbol\":\"circle\"},\"mode\":\"lines+markers\",\"name\":\"\",\"orientation\":\"v\",\"showlegend\":false,\"x\":[\"2015.02 \\uc6d4\",\"2015.03 \\uc6d4\",\"2015.04 \\uc6d4\",\"2015.05 \\uc6d4\",\"2015.06 \\uc6d4\",\"2015.07 \\uc6d4\",\"2015.08 \\uc6d4\",\"2015.09 \\uc6d4\",\"2015.10 \\uc6d4\",\"2015.11 \\uc6d4\",\"2015.12 \\uc6d4\",\"2016.01 \\uc6d4\",\"2016.02 \\uc6d4\",\"2016.03 \\uc6d4\",\"2016.04 \\uc6d4\",\"2016.05 \\uc6d4\",\"2016.06 \\uc6d4\",\"2016.07 \\uc6d4\",\"2016.08 \\uc6d4\",\"2016.09 \\uc6d4\",\"2016.10 \\uc6d4\",\"2016.11 \\uc6d4\",\"2016.12 \\uc6d4\",\"2017.01 \\uc6d4\",\"2017.02 \\uc6d4\",\"2017.03 \\uc6d4\",\"2017.04 \\uc6d4\",\"2017.05 \\uc6d4\",\"2017.06 \\uc6d4\",\"2017.07 \\uc6d4\",\"2017.08 \\uc6d4\",\"2017.09 \\uc6d4\",\"2017.10 \\uc6d4\",\"2017.11 \\uc6d4\",\"2017.12 \\uc6d4\",\"2018.01 \\uc6d4\",\"2018.02 \\uc6d4\",\"2018.03 \\uc6d4\",\"2018.04 \\uc6d4\",\"2018.05 \\uc6d4\",\"2018.06 \\uc6d4\",\"2018.07 \\uc6d4\",\"2018.08 \\uc6d4\",\"2018.09 \\uc6d4\",\"2018.10 \\uc6d4\",\"2018.11 \\uc6d4\",\"2018.12 \\uc6d4\",\"2019.01 \\uc6d4\",\"2019.02 \\uc6d4\",\"2019.03 \\uc6d4\",\"2019.04 \\uc6d4\",\"2019.05 \\uc6d4\",\"2019.06 \\uc6d4\",\"2019.07 \\uc6d4\",\"2019.08 \\uc6d4\",\"2019.09 \\uc6d4\",\"2019.10 \\uc6d4\",\"2019.11 \\uc6d4\",\"2019.12 \\uc6d4\",\"2020.01 \\uc6d4\",\"2020.02 \\uc6d4\",\"2020.03 \\uc6d4\",\"2020.04 \\uc6d4\",\"2020.05 \\uc6d4\",\"2020.06 \\uc6d4\",\"2020.07 \\uc6d4\",\"2020.08 \\uc6d4\",\"2020.09 \\uc6d4\",\"2020.10 \\uc6d4\",\"2020.11 \\uc6d4\",\"2020.12 \\uc6d4\",\"2021.01 \\uc6d4\",\"2021.02 \\uc6d4\",\"2021.03 \\uc6d4\",\"2021.04 \\uc6d4\",\"2021.05 \\uc6d4\",\"2021.06 \\uc6d4\",\"2021.07 \\uc6d4\",\"2021.08 \\uc6d4\",\"2021.09 \\uc6d4\",\"2021.10 \\uc6d4\",\"2021.11 \\uc6d4\",\"2021.12 \\uc6d4\",\"2022.01 \\uc6d4\",\"2022.02 \\uc6d4\",\"2022.03 \\uc6d4\",\"2022.04 \\uc6d4\",\"2022.05 \\uc6d4\",\"2022.06 \\uc6d4\",\"2022.07 \\uc6d4\",\"2022.08 \\uc6d4\",\"2022.09 \\uc6d4\",\"2022.10 \\uc6d4\",\"2022.11 \\uc6d4\",\"2022.12 \\uc6d4\",\"2023.01 \\uc6d4\"],\"xaxis\":\"x\",\"y\":[64.4,81.6,91.0,80.9,82.2,72.0,71.5,83.2,87.5,87.4,73.7,74.9,70.4,86.1,93.0,94.9,88.1,84.3,79.9,96.9,92.8,87.2,82.3,64.3,71.7,84.9,84.8,82.1,81.7,81.1,73.1,88.1,81.8,95.7,82.1,76.7,71.0,83.7,85.0,92.7,84.1,75.6,76.3,79.5,80.3,85.5,73.7,71.8,62.4,81.8,83.2,82.2,75.7,81.2,62.5,72.6,81.1,77.4,65.3,71.0,75.5,69.2,49.2,40.9,41.2,57.8,55.5,55.6,67.2,70.2,61.9,55.3,60.6,77.3,81.4,83.9,73.5,74.6,73.8,75.7,82.2,83.7,83.0,78.5,72.4,83.0,74.8,82.8,79.2,71.9,70.7,73.4,83.8,77.6,74.1,68.4],\"yaxis\":\"y\",\"type\":\"scatter\"}],                        {\"template\":{\"data\":{\"bar\":[{\"error_x\":{\"color\":\"#2a3f5f\"},\"error_y\":{\"color\":\"#2a3f5f\"},\"marker\":{\"line\":{\"color\":\"#E5ECF6\",\"width\":0.5},\"pattern\":{\"fillmode\":\"overlay\",\"size\":10,\"solidity\":0.2}},\"type\":\"bar\"}],\"barpolar\":[{\"marker\":{\"line\":{\"color\":\"#E5ECF6\",\"width\":0.5},\"pattern\":{\"fillmode\":\"overlay\",\"size\":10,\"solidity\":0.2}},\"type\":\"barpolar\"}],\"carpet\":[{\"aaxis\":{\"endlinecolor\":\"#2a3f5f\",\"gridcolor\":\"white\",\"linecolor\":\"white\",\"minorgridcolor\":\"white\",\"startlinecolor\":\"#2a3f5f\"},\"baxis\":{\"endlinecolor\":\"#2a3f5f\",\"gridcolor\":\"white\",\"linecolor\":\"white\",\"minorgridcolor\":\"white\",\"startlinecolor\":\"#2a3f5f\"},\"type\":\"carpet\"}],\"choropleth\":[{\"colorbar\":{\"outlinewidth\":0,\"ticks\":\"\"},\"type\":\"choropleth\"}],\"contour\":[{\"colorbar\":{\"outlinewidth\":0,\"ticks\":\"\"},\"colorscale\":[[0.0,\"#0d0887\"],[0.1111111111111111,\"#46039f\"],[0.2222222222222222,\"#7201a8\"],[0.3333333333333333,\"#9c179e\"],[0.4444444444444444,\"#bd3786\"],[0.5555555555555556,\"#d8576b\"],[0.6666666666666666,\"#ed7953\"],[0.7777777777777778,\"#fb9f3a\"],[0.8888888888888888,\"#fdca26\"],[1.0,\"#f0f921\"]],\"type\":\"contour\"}],\"contourcarpet\":[{\"colorbar\":{\"outlinewidth\":0,\"ticks\":\"\"},\"type\":\"contourcarpet\"}],\"heatmap\":[{\"colorbar\":{\"outlinewidth\":0,\"ticks\":\"\"},\"colorscale\":[[0.0,\"#0d0887\"],[0.1111111111111111,\"#46039f\"],[0.2222222222222222,\"#7201a8\"],[0.3333333333333333,\"#9c179e\"],[0.4444444444444444,\"#bd3786\"],[0.5555555555555556,\"#d8576b\"],[0.6666666666666666,\"#ed7953\"],[0.7777777777777778,\"#fb9f3a\"],[0.8888888888888888,\"#fdca26\"],[1.0,\"#f0f921\"]],\"type\":\"heatmap\"}],\"heatmapgl\":[{\"colorbar\":{\"outlinewidth\":0,\"ticks\":\"\"},\"colorscale\":[[0.0,\"#0d0887\"],[0.1111111111111111,\"#46039f\"],[0.2222222222222222,\"#7201a8\"],[0.3333333333333333,\"#9c179e\"],[0.4444444444444444,\"#bd3786\"],[0.5555555555555556,\"#d8576b\"],[0.6666666666666666,\"#ed7953\"],[0.7777777777777778,\"#fb9f3a\"],[0.8888888888888888,\"#fdca26\"],[1.0,\"#f0f921\"]],\"type\":\"heatmapgl\"}],\"histogram\":[{\"marker\":{\"pattern\":{\"fillmode\":\"overlay\",\"size\":10,\"solidity\":0.2}},\"type\":\"histogram\"}],\"histogram2d\":[{\"colorbar\":{\"outlinewidth\":0,\"ticks\":\"\"},\"colorscale\":[[0.0,\"#0d0887\"],[0.1111111111111111,\"#46039f\"],[0.2222222222222222,\"#7201a8\"],[0.3333333333333333,\"#9c179e\"],[0.4444444444444444,\"#bd3786\"],[0.5555555555555556,\"#d8576b\"],[0.6666666666666666,\"#ed7953\"],[0.7777777777777778,\"#fb9f3a\"],[0.8888888888888888,\"#fdca26\"],[1.0,\"#f0f921\"]],\"type\":\"histogram2d\"}],\"histogram2dcontour\":[{\"colorbar\":{\"outlinewidth\":0,\"ticks\":\"\"},\"colorscale\":[[0.0,\"#0d0887\"],[0.1111111111111111,\"#46039f\"],[0.2222222222222222,\"#7201a8\"],[0.3333333333333333,\"#9c179e\"],[0.4444444444444444,\"#bd3786\"],[0.5555555555555556,\"#d8576b\"],[0.6666666666666666,\"#ed7953\"],[0.7777777777777778,\"#fb9f3a\"],[0.8888888888888888,\"#fdca26\"],[1.0,\"#f0f921\"]],\"type\":\"histogram2dcontour\"}],\"mesh3d\":[{\"colorbar\":{\"outlinewidth\":0,\"ticks\":\"\"},\"type\":\"mesh3d\"}],\"parcoords\":[{\"line\":{\"colorbar\":{\"outlinewidth\":0,\"ticks\":\"\"}},\"type\":\"parcoords\"}],\"pie\":[{\"automargin\":true,\"type\":\"pie\"}],\"scatter\":[{\"marker\":{\"colorbar\":{\"outlinewidth\":0,\"ticks\":\"\"}},\"type\":\"scatter\"}],\"scatter3d\":[{\"line\":{\"colorbar\":{\"outlinewidth\":0,\"ticks\":\"\"}},\"marker\":{\"colorbar\":{\"outlinewidth\":0,\"ticks\":\"\"}},\"type\":\"scatter3d\"}],\"scattercarpet\":[{\"marker\":{\"colorbar\":{\"outlinewidth\":0,\"ticks\":\"\"}},\"type\":\"scattercarpet\"}],\"scattergeo\":[{\"marker\":{\"colorbar\":{\"outlinewidth\":0,\"ticks\":\"\"}},\"type\":\"scattergeo\"}],\"scattergl\":[{\"marker\":{\"colorbar\":{\"outlinewidth\":0,\"ticks\":\"\"}},\"type\":\"scattergl\"}],\"scattermapbox\":[{\"marker\":{\"colorbar\":{\"outlinewidth\":0,\"ticks\":\"\"}},\"type\":\"scattermapbox\"}],\"scatterpolar\":[{\"marker\":{\"colorbar\":{\"outlinewidth\":0,\"ticks\":\"\"}},\"type\":\"scatterpolar\"}],\"scatterpolargl\":[{\"marker\":{\"colorbar\":{\"outlinewidth\":0,\"ticks\":\"\"}},\"type\":\"scatterpolargl\"}],\"scatterternary\":[{\"marker\":{\"colorbar\":{\"outlinewidth\":0,\"ticks\":\"\"}},\"type\":\"scatterternary\"}],\"surface\":[{\"colorbar\":{\"outlinewidth\":0,\"ticks\":\"\"},\"colorscale\":[[0.0,\"#0d0887\"],[0.1111111111111111,\"#46039f\"],[0.2222222222222222,\"#7201a8\"],[0.3333333333333333,\"#9c179e\"],[0.4444444444444444,\"#bd3786\"],[0.5555555555555556,\"#d8576b\"],[0.6666666666666666,\"#ed7953\"],[0.7777777777777778,\"#fb9f3a\"],[0.8888888888888888,\"#fdca26\"],[1.0,\"#f0f921\"]],\"type\":\"surface\"}],\"table\":[{\"cells\":{\"fill\":{\"color\":\"#EBF0F8\"},\"line\":{\"color\":\"white\"}},\"header\":{\"fill\":{\"color\":\"#C8D4E3\"},\"line\":{\"color\":\"white\"}},\"type\":\"table\"}]},\"layout\":{\"annotationdefaults\":{\"arrowcolor\":\"#2a3f5f\",\"arrowhead\":0,\"arrowwidth\":1},\"autotypenumbers\":\"strict\",\"coloraxis\":{\"colorbar\":{\"outlinewidth\":0,\"ticks\":\"\"}},\"colorscale\":{\"diverging\":[[0,\"#8e0152\"],[0.1,\"#c51b7d\"],[0.2,\"#de77ae\"],[0.3,\"#f1b6da\"],[0.4,\"#fde0ef\"],[0.5,\"#f7f7f7\"],[0.6,\"#e6f5d0\"],[0.7,\"#b8e186\"],[0.8,\"#7fbc41\"],[0.9,\"#4d9221\"],[1,\"#276419\"]],\"sequential\":[[0.0,\"#0d0887\"],[0.1111111111111111,\"#46039f\"],[0.2222222222222222,\"#7201a8\"],[0.3333333333333333,\"#9c179e\"],[0.4444444444444444,\"#bd3786\"],[0.5555555555555556,\"#d8576b\"],[0.6666666666666666,\"#ed7953\"],[0.7777777777777778,\"#fb9f3a\"],[0.8888888888888888,\"#fdca26\"],[1.0,\"#f0f921\"]],\"sequentialminus\":[[0.0,\"#0d0887\"],[0.1111111111111111,\"#46039f\"],[0.2222222222222222,\"#7201a8\"],[0.3333333333333333,\"#9c179e\"],[0.4444444444444444,\"#bd3786\"],[0.5555555555555556,\"#d8576b\"],[0.6666666666666666,\"#ed7953\"],[0.7777777777777778,\"#fb9f3a\"],[0.8888888888888888,\"#fdca26\"],[1.0,\"#f0f921\"]]},\"colorway\":[\"#636efa\",\"#EF553B\",\"#00cc96\",\"#ab63fa\",\"#FFA15A\",\"#19d3f3\",\"#FF6692\",\"#B6E880\",\"#FF97FF\",\"#FECB52\"],\"font\":{\"color\":\"#2a3f5f\"},\"geo\":{\"bgcolor\":\"white\",\"lakecolor\":\"white\",\"landcolor\":\"#E5ECF6\",\"showlakes\":true,\"showland\":true,\"subunitcolor\":\"white\"},\"hoverlabel\":{\"align\":\"left\"},\"hovermode\":\"closest\",\"mapbox\":{\"style\":\"light\"},\"paper_bgcolor\":\"white\",\"plot_bgcolor\":\"#E5ECF6\",\"polar\":{\"angularaxis\":{\"gridcolor\":\"white\",\"linecolor\":\"white\",\"ticks\":\"\"},\"bgcolor\":\"#E5ECF6\",\"radialaxis\":{\"gridcolor\":\"white\",\"linecolor\":\"white\",\"ticks\":\"\"}},\"scene\":{\"xaxis\":{\"backgroundcolor\":\"#E5ECF6\",\"gridcolor\":\"white\",\"gridwidth\":2,\"linecolor\":\"white\",\"showbackground\":true,\"ticks\":\"\",\"zerolinecolor\":\"white\"},\"yaxis\":{\"backgroundcolor\":\"#E5ECF6\",\"gridcolor\":\"white\",\"gridwidth\":2,\"linecolor\":\"white\",\"showbackground\":true,\"ticks\":\"\",\"zerolinecolor\":\"white\"},\"zaxis\":{\"backgroundcolor\":\"#E5ECF6\",\"gridcolor\":\"white\",\"gridwidth\":2,\"linecolor\":\"white\",\"showbackground\":true,\"ticks\":\"\",\"zerolinecolor\":\"white\"}},\"shapedefaults\":{\"line\":{\"color\":\"#2a3f5f\"}},\"ternary\":{\"aaxis\":{\"gridcolor\":\"white\",\"linecolor\":\"white\",\"ticks\":\"\"},\"baxis\":{\"gridcolor\":\"white\",\"linecolor\":\"white\",\"ticks\":\"\"},\"bgcolor\":\"#E5ECF6\",\"caxis\":{\"gridcolor\":\"white\",\"linecolor\":\"white\",\"ticks\":\"\"}},\"title\":{\"x\":0.05},\"xaxis\":{\"automargin\":true,\"gridcolor\":\"white\",\"linecolor\":\"white\",\"ticks\":\"\",\"title\":{\"standoff\":15},\"zerolinecolor\":\"white\",\"zerolinewidth\":2},\"yaxis\":{\"automargin\":true,\"gridcolor\":\"white\",\"linecolor\":\"white\",\"ticks\":\"\",\"title\":{\"standoff\":15},\"zerolinecolor\":\"white\",\"zerolinewidth\":2}}},\"xaxis\":{\"anchor\":\"y\",\"domain\":[0.0,1.0],\"title\":{\"text\":\"\\uc2dc\\uae30\"}},\"yaxis\":{\"anchor\":\"x\",\"domain\":[0.0,1.0],\"title\":{\"text\":\"\\uc12c\\uc720\\uc81c\\ud488;\\uc758\\ubcf5\\uc81c\\uc678\"}},\"legend\":{\"tracegroupgap\":0},\"margin\":{\"t\":60}},                        {\"responsive\": true}                    ).then(function(){\n",
       "                            \n",
       "var gd = document.getElementById('04ffdc59-7a9d-40e4-900c-f33376d136c3');\n",
       "var x = new MutationObserver(function (mutations, observer) {{\n",
       "        var display = window.getComputedStyle(gd).display;\n",
       "        if (!display || display === 'none') {{\n",
       "            console.log([gd, 'removed!']);\n",
       "            Plotly.purge(gd);\n",
       "            observer.disconnect();\n",
       "        }}\n",
       "}});\n",
       "\n",
       "// Listen for the removal of the full notebook cells\n",
       "var notebookContainer = gd.closest('#notebook-container');\n",
       "if (notebookContainer) {{\n",
       "    x.observe(notebookContainer, {childList: true});\n",
       "}}\n",
       "\n",
       "// Listen for the clearing of the current output cell\n",
       "var outputEl = gd.closest('.output');\n",
       "if (outputEl) {{\n",
       "    x.observe(outputEl, {childList: true});\n",
       "}}\n",
       "\n",
       "                        })                };                });            </script>        </div>"
      ]
     },
     "metadata": {},
     "output_type": "display_data"
    }
   ],
   "source": [
    "px.line(df_2, x='시기', y='섬유제품;의복제외', markers = True)"
   ]
  },
  {
   "cell_type": "code",
   "execution_count": null,
   "id": "fb8b8039",
   "metadata": {},
   "outputs": [],
   "source": []
  },
  {
   "cell_type": "code",
   "execution_count": 10,
   "id": "f675b7f1",
   "metadata": {},
   "outputs": [],
   "source": [
    "df_3 = pd.read_csv('./SBHI전처리데이터/생산설비수준전망_sbhi.csv' , encoding = 'cp949')"
   ]
  },
  {
   "cell_type": "code",
   "execution_count": 11,
   "id": "c7bedb10",
   "metadata": {},
   "outputs": [
    {
     "data": {
      "application/vnd.plotly.v1+json": {
       "config": {
        "plotlyServerURL": "https://plot.ly"
       },
       "data": [
        {
         "hovertemplate": "시기=%{x}<br>섬유제품;의복제외=%{y}<extra></extra>",
         "legendgroup": "",
         "line": {
          "color": "#636efa",
          "dash": "solid"
         },
         "marker": {
          "symbol": "circle"
         },
         "mode": "lines+markers",
         "name": "",
         "orientation": "v",
         "showlegend": false,
         "type": "scatter",
         "x": [
          "2015.02",
          "2015.02.1",
          "2015.02.2",
          "2015.02.3",
          "2015.02.4",
          "2015.02.5",
          "2015.03",
          "2015.03.1",
          "2015.03.2",
          "2015.03.3",
          "2015.03.4",
          "2015.03.5",
          "2015.04",
          "2015.04.1",
          "2015.04.2",
          "2015.04.3",
          "2015.04.4",
          "2015.04.5",
          "2015.05",
          "2015.05.1",
          "2015.05.2",
          "2015.05.3",
          "2015.05.4",
          "2015.05.5",
          "2015.06",
          "2015.06.1",
          "2015.06.2",
          "2015.06.3",
          "2015.06.4",
          "2015.06.5",
          "2015.07",
          "2015.07.1",
          "2015.07.2",
          "2015.07.3",
          "2015.07.4",
          "2015.07.5",
          "2015.08",
          "2015.08.1",
          "2015.08.2",
          "2015.08.3",
          "2015.08.4",
          "2015.08.5",
          "2015.09",
          "2015.09.1",
          "2015.09.2",
          "2015.09.3",
          "2015.09.4",
          "2015.09.5",
          "2015.10",
          "2015.10.1",
          "2015.10.2",
          "2015.10.3",
          "2015.10.4",
          "2015.10.5",
          "2015.11",
          "2015.11.1",
          "2015.11.2",
          "2015.11.3",
          "2015.11.4",
          "2015.11.5",
          "2015.12",
          "2015.12.1",
          "2015.12.2",
          "2015.12.3",
          "2015.12.4",
          "2015.12.5",
          "2016.01",
          "2016.01.1",
          "2016.01.2",
          "2016.01.3",
          "2016.01.4",
          "2016.01.5",
          "2016.02",
          "2016.02.1",
          "2016.02.2",
          "2016.02.3",
          "2016.02.4",
          "2016.02.5",
          "2016.03",
          "2016.03.1",
          "2016.03.2",
          "2016.03.3",
          "2016.03.4",
          "2016.03.5",
          "2016.04",
          "2016.04.1",
          "2016.04.2",
          "2016.04.3",
          "2016.04.4",
          "2016.04.5",
          "2016.05",
          "2016.05.1",
          "2016.05.2",
          "2016.05.3",
          "2016.05.4",
          "2016.05.5",
          "2016.06",
          "2016.06.1",
          "2016.06.2",
          "2016.06.3",
          "2016.06.4",
          "2016.06.5",
          "2016.07",
          "2016.07.1",
          "2016.07.2",
          "2016.07.3",
          "2016.07.4",
          "2016.07.5",
          "2016.08",
          "2016.08.1",
          "2016.08.2",
          "2016.08.3",
          "2016.08.4",
          "2016.08.5",
          "2016.09",
          "2016.09.1",
          "2016.09.2",
          "2016.09.3",
          "2016.09.4",
          "2016.09.5",
          "2016.10",
          "2016.10.1",
          "2016.10.2",
          "2016.10.3",
          "2016.10.4",
          "2016.10.5",
          "2016.11",
          "2016.11.1",
          "2016.11.2",
          "2016.11.3",
          "2016.11.4",
          "2016.11.5",
          "2016.12",
          "2016.12.1",
          "2016.12.2",
          "2016.12.3",
          "2016.12.4",
          "2016.12.5",
          "2017.01",
          "2017.01.1",
          "2017.01.2",
          "2017.01.3",
          "2017.01.4",
          "2017.01.5",
          "2017.02",
          "2017.02.1",
          "2017.02.2",
          "2017.02.3",
          "2017.02.4",
          "2017.02.5",
          "2017.03",
          "2017.03.1",
          "2017.03.2",
          "2017.03.3",
          "2017.03.4",
          "2017.03.5",
          "2017.04",
          "2017.04.1",
          "2017.04.2",
          "2017.04.3",
          "2017.04.4",
          "2017.04.5",
          "2017.05",
          "2017.05.1",
          "2017.05.2",
          "2017.05.3",
          "2017.05.4",
          "2017.05.5",
          "2017.06",
          "2017.06.1",
          "2017.06.2",
          "2017.06.3",
          "2017.06.4",
          "2017.06.5",
          "2017.07",
          "2017.07.1",
          "2017.07.2",
          "2017.07.3",
          "2017.07.4",
          "2017.07.5",
          "2017.08",
          "2017.08.1",
          "2017.08.2",
          "2017.08.3",
          "2017.08.4",
          "2017.08.5",
          "2017.09",
          "2017.09.1",
          "2017.09.2",
          "2017.09.3",
          "2017.09.4",
          "2017.09.5",
          "2017.10",
          "2017.10.1",
          "2017.10.2",
          "2017.10.3",
          "2017.10.4",
          "2017.10.5",
          "2017.11",
          "2017.11.1",
          "2017.11.2",
          "2017.11.3",
          "2017.11.4",
          "2017.11.5",
          "2017.12",
          "2017.12.1",
          "2017.12.2",
          "2017.12.3",
          "2017.12.4",
          "2017.12.5",
          "2018.01",
          "2018.01.1",
          "2018.01.2",
          "2018.01.3",
          "2018.01.4",
          "2018.01.5",
          "2018.02",
          "2018.02.1",
          "2018.02.2",
          "2018.02.3",
          "2018.02.4",
          "2018.02.5",
          "2018.03",
          "2018.03.1",
          "2018.03.2",
          "2018.03.3",
          "2018.03.4",
          "2018.03.5",
          "2018.04",
          "2018.04.1",
          "2018.04.2",
          "2018.04.3",
          "2018.04.4",
          "2018.04.5",
          "2018.05",
          "2018.05.1",
          "2018.05.2",
          "2018.05.3",
          "2018.05.4",
          "2018.05.5",
          "2018.06",
          "2018.06.1",
          "2018.06.2",
          "2018.06.3",
          "2018.06.4",
          "2018.06.5",
          "2018.07",
          "2018.07.1",
          "2018.07.2",
          "2018.07.3",
          "2018.07.4",
          "2018.07.5",
          "2018.08",
          "2018.08.1",
          "2018.08.2",
          "2018.08.3",
          "2018.08.4",
          "2018.08.5",
          "2018.09",
          "2018.09.1",
          "2018.09.2",
          "2018.09.3",
          "2018.09.4",
          "2018.09.5",
          "2018.10",
          "2018.10.1",
          "2018.10.2",
          "2018.10.3",
          "2018.10.4",
          "2018.10.5",
          "2018.11",
          "2018.11.1",
          "2018.11.2",
          "2018.11.3",
          "2018.11.4",
          "2018.11.5",
          "2018.12",
          "2018.12.1",
          "2018.12.2",
          "2018.12.3",
          "2018.12.4",
          "2018.12.5",
          "2019.01",
          "2019.01.1",
          "2019.01.2",
          "2019.01.3",
          "2019.01.4",
          "2019.01.5",
          "2019.02",
          "2019.02.1",
          "2019.02.2",
          "2019.02.3",
          "2019.02.4",
          "2019.02.5",
          "2019.03",
          "2019.03.1",
          "2019.03.2",
          "2019.03.3",
          "2019.03.4",
          "2019.03.5",
          "2019.04",
          "2019.04.1",
          "2019.04.2",
          "2019.04.3",
          "2019.04.4",
          "2019.04.5",
          "2019.05",
          "2019.05.1",
          "2019.05.2",
          "2019.05.3",
          "2019.05.4",
          "2019.05.5",
          "2019.06",
          "2019.06.1",
          "2019.06.2",
          "2019.06.3",
          "2019.06.4",
          "2019.06.5",
          "2019.07",
          "2019.07.1",
          "2019.07.2",
          "2019.07.3",
          "2019.07.4",
          "2019.07.5",
          "2019.08",
          "2019.08.1",
          "2019.08.2",
          "2019.08.3",
          "2019.08.4",
          "2019.08.5",
          "2019.09",
          "2019.09.1",
          "2019.09.2",
          "2019.09.3",
          "2019.09.4",
          "2019.09.5",
          "2019.10",
          "2019.10.1",
          "2019.10.2",
          "2019.10.3",
          "2019.10.4",
          "2019.10.5",
          "2019.11",
          "2019.11.1",
          "2019.11.2",
          "2019.11.3",
          "2019.11.4",
          "2019.11.5",
          "2019.12",
          "2019.12.1",
          "2019.12.2",
          "2019.12.3",
          "2019.12.4",
          "2019.12.5",
          "2020.01",
          "2020.01.1",
          "2020.01.2",
          "2020.01.3",
          "2020.01.4",
          "2020.01.5",
          "2020.02",
          "2020.02.1",
          "2020.02.2",
          "2020.02.3",
          "2020.02.4",
          "2020.02.5",
          "2020.03",
          "2020.03.1",
          "2020.03.2",
          "2020.03.3",
          "2020.03.4",
          "2020.03.5",
          "2020.04",
          "2020.04.1",
          "2020.04.2",
          "2020.04.3",
          "2020.04.4",
          "2020.04.5",
          "2020.05",
          "2020.05.1",
          "2020.05.2",
          "2020.05.3",
          "2020.05.4",
          "2020.05.5",
          "2020.06",
          "2020.06.1",
          "2020.06.2",
          "2020.06.3",
          "2020.06.4",
          "2020.06.5",
          "2020.07",
          "2020.07.1",
          "2020.07.2",
          "2020.07.3",
          "2020.07.4",
          "2020.07.5",
          "2020.08",
          "2020.08.1",
          "2020.08.2",
          "2020.08.3",
          "2020.08.4",
          "2020.08.5",
          "2020.09",
          "2020.09.1",
          "2020.09.2",
          "2020.09.3",
          "2020.09.4",
          "2020.09.5",
          "2020.10",
          "2020.10.1",
          "2020.10.2",
          "2020.10.3",
          "2020.10.4",
          "2020.10.5",
          "2020.11",
          "2020.11.1",
          "2020.11.2",
          "2020.11.3",
          "2020.11.4",
          "2020.11.5",
          "2020.12",
          "2020.12.1",
          "2020.12.2",
          "2020.12.3",
          "2020.12.4",
          "2020.12.5",
          "2021.01",
          "2021.01.1",
          "2021.01.2",
          "2021.01.3",
          "2021.01.4",
          "2021.01.5",
          "2021.02",
          "2021.02.1",
          "2021.02.2",
          "2021.02.3",
          "2021.02.4",
          "2021.02.5",
          "2021.03",
          "2021.03.1",
          "2021.03.2",
          "2021.03.3",
          "2021.03.4",
          "2021.03.5",
          "2021.04",
          "2021.04.1",
          "2021.04.2",
          "2021.04.3",
          "2021.04.4",
          "2021.04.5",
          "2021.05",
          "2021.05.1",
          "2021.05.2",
          "2021.05.3",
          "2021.05.4",
          "2021.05.5",
          "2021.06",
          "2021.06.1",
          "2021.06.2",
          "2021.06.3",
          "2021.06.4",
          "2021.06.5",
          "2021.07",
          "2021.07.1",
          "2021.07.2",
          "2021.07.3",
          "2021.07.4",
          "2021.07.5",
          "2021.08",
          "2021.08.1",
          "2021.08.2",
          "2021.08.3",
          "2021.08.4",
          "2021.08.5",
          "2021.09",
          "2021.09.1",
          "2021.09.2",
          "2021.09.3",
          "2021.09.4",
          "2021.09.5",
          "2021.10",
          "2021.10.1",
          "2021.10.2",
          "2021.10.3",
          "2021.10.4",
          "2021.10.5",
          "2021.11",
          "2021.11.1",
          "2021.11.2",
          "2021.11.3",
          "2021.11.4",
          "2021.11.5",
          "2021.12",
          "2021.12.1",
          "2021.12.2",
          "2021.12.3",
          "2021.12.4",
          "2021.12.5",
          "2022.01",
          "2022.01.1",
          "2022.01.2",
          "2022.01.3",
          "2022.01.4",
          "2022.01.5",
          "2022.02",
          "2022.02.1",
          "2022.02.2",
          "2022.02.3",
          "2022.02.4",
          "2022.02.5",
          "2022.03",
          "2022.03.1",
          "2022.03.2",
          "2022.03.3",
          "2022.03.4",
          "2022.03.5",
          "2022.04",
          "2022.04.1",
          "2022.04.2",
          "2022.04.3",
          "2022.04.4",
          "2022.04.5",
          "2022.05",
          "2022.05.1",
          "2022.05.2",
          "2022.05.3",
          "2022.05.4",
          "2022.05.5",
          "2022.06",
          "2022.06.1",
          "2022.06.2",
          "2022.06.3",
          "2022.06.4",
          "2022.06.5",
          "2022.07",
          "2022.07.1",
          "2022.07.2",
          "2022.07.3",
          "2022.07.4",
          "2022.07.5",
          "2022.08",
          "2022.08.1",
          "2022.08.2",
          "2022.08.3",
          "2022.08.4",
          "2022.08.5",
          "2022.09",
          "2022.09.1",
          "2022.09.2",
          "2022.09.3",
          "2022.09.4",
          "2022.09.5",
          "2022.10",
          "2022.10.1",
          "2022.10.2",
          "2022.10.3",
          "2022.10.4",
          "2022.10.5",
          "2022.11",
          "2022.11.1",
          "2022.11.2",
          "2022.11.3",
          "2022.11.4",
          "2022.11.5",
          "2022.12",
          "2022.12.1",
          "2022.12.2",
          "2022.12.3",
          "2022.12.4",
          "2022.12.5",
          "2023.01",
          "2023.01.1",
          "2023.01.2",
          "2023.01.3",
          "2023.01.4",
          "2023.01.5"
         ],
         "xaxis": "x",
         "y": [
          0,
          5.8,
          75.4,
          17,
          1.8,
          107.4,
          0,
          7.4,
          74.3,
          18.3,
          0,
          105.5,
          0,
          6.1,
          82.7,
          8.1,
          3.1,
          104.1,
          0,
          4.2,
          75.9,
          16.7,
          3.1,
          109.3,
          0,
          7.3,
          71.9,
          14.4,
          6.4,
          109.9,
          1.8,
          7.6,
          78.2,
          8,
          4.5,
          103,
          0.9,
          11.9,
          63.7,
          19,
          4.5,
          107.1,
          0,
          6.2,
          79.8,
          7.6,
          6.3,
          107,
          0,
          7.2,
          83.1,
          7.9,
          1.8,
          102.1,
          0,
          8.5,
          76.1,
          12.2,
          3.2,
          105,
          2.8,
          3.7,
          83.1,
          9.5,
          0.9,
          101,
          0,
          4.5,
          77.4,
          12.2,
          5.9,
          109.7,
          0,
          5.3,
          77.1,
          14.8,
          2.7,
          107.4,
          0,
          5,
          80.4,
          11.4,
          3.2,
          106.4,
          0,
          8.5,
          81.3,
          10.2,
          0,
          100.9,
          0,
          7.2,
          82.5,
          9.3,
          0.9,
          102,
          0,
          5.8,
          85.5,
          5.5,
          3.2,
          103,
          0,
          6.5,
          84.4,
          5.8,
          3.4,
          103,
          0,
          7.8,
          82.1,
          6.6,
          3.6,
          103,
          1,
          9.4,
          79.3,
          7.8,
          2.4,
          100.7,
          0,
          6.3,
          83.3,
          8.4,
          1.9,
          103,
          0,
          10.1,
          78,
          11.9,
          0,
          100.9,
          0,
          9.6,
          84,
          4.8,
          1.6,
          99.2,
          3.1,
          8.1,
          74.5,
          12.9,
          1.4,
          100.7,
          0,
          9.4,
          77.7,
          11.4,
          1.4,
          102.5,
          0,
          11.2,
          75.6,
          13.1,
          0,
          101,
          0,
          6.5,
          80.3,
          11.5,
          1.7,
          104.2,
          1.7,
          4.8,
          72.8,
          19.1,
          1.7,
          107.2,
          0,
          12.7,
          72,
          13.7,
          1.6,
          102.1,
          0,
          11,
          71.4,
          15.9,
          1.6,
          104.1,
          0,
          8,
          73.3,
          15.7,
          3.1,
          106.9,
          0,
          8,
          76.5,
          12.2,
          3.3,
          105.4,
          0,
          6.5,
          74.7,
          10.8,
          8,
          110.1,
          1.7,
          8.1,
          75.9,
          11.2,
          3.1,
          103,
          1.7,
          8.4,
          78.6,
          9.9,
          1.5,
          100.6,
          1.6,
          14.8,
          72.5,
          11,
          0,
          96.4,
          0,
          6.6,
          75.8,
          14.5,
          3.1,
          107.1,
          0,
          11.5,
          74,
          13,
          1.5,
          102.2,
          0,
          11.5,
          73.9,
          13.2,
          1.4,
          102.2,
          0,
          10.8,
          70.4,
          18.8,
          0,
          104,
          1.7,
          9.6,
          77.2,
          11.5,
          0,
          99.3,
          0,
          9.3,
          69.4,
          21.4,
          0,
          106,
          0,
          9.6,
          75.8,
          14.6,
          0,
          102.5,
          0,
          9.8,
          75.6,
          14.6,
          0,
          102.4,
          0,
          7.7,
          66.6,
          24,
          1.6,
          109.8,
          0,
          6.6,
          77.4,
          14.3,
          1.6,
          105.5,
          0,
          6.6,
          77.4,
          14.3,
          1.6,
          105.5,
          0,
          8,
          72.7,
          16,
          3.3,
          107.3,
          0,
          5.1,
          71.1,
          19.3,
          4.6,
          111.7,
          1.5,
          7.7,
          67.7,
          19.7,
          3.4,
          107.8,
          0,
          4.9,
          71,
          19.3,
          4.9,
          112.1,
          0,
          3.1,
          79.9,
          15.5,
          1.6,
          107.8,
          0,
          4.6,
          70.3,
          20.3,
          4.7,
          112.6,
          0,
          6.2,
          65.9,
          22.9,
          5,
          113.3,
          1.7,
          3.2,
          61.8,
          26.9,
          6.5,
          116.7,
          1.6,
          3.1,
          63.8,
          26.7,
          4.8,
          115,
          0,
          6.4,
          68.2,
          22.1,
          3.2,
          111.1,
          0,
          1.6,
          61.3,
          35.5,
          1.6,
          118.5,
          0,
          3.2,
          62.9,
          32.2,
          1.6,
          116.1,
          0,
          4.8,
          66.2,
          24.2,
          4.8,
          114.5,
          0,
          3.2,
          73.8,
          19.7,
          3.2,
          111.5,
          0,
          10,
          71.7,
          16.7,
          1.7,
          105,
          0,
          6.4,
          63.4,
          27,
          3.2,
          113.5,
          0,
          3.1,
          58.1,
          27.4,
          11.4,
          123.5,
          1.6,
          4.7,
          49.3,
          23.7,
          20.8,
          128.7,
          1.7,
          4.8,
          58,
          24.1,
          11.4,
          119.4,
          0,
          3.1,
          54.7,
          29.7,
          12.5,
          125.8,
          0,
          6.2,
          57.1,
          23.9,
          12.7,
          121.5,
          0,
          9.4,
          50,
          31.2,
          9.4,
          120.3,
          0,
          6.4,
          59.7,
          25.8,
          8.1,
          117.7,
          0,
          4.7,
          63.7,
          22.2,
          9.5,
          118.2,
          0,
          4.4,
          66.1,
          20.2,
          9.3,
          117.2,
          0,
          8.6,
          65.2,
          19.9,
          6.2,
          111.9,
          1.7,
          6.6,
          73,
          13.6,
          5.1,
          107,
          0,
          7.7,
          74.3,
          15.1,
          2.9,
          106.6,
          0,
          7.6,
          75.1,
          10.1,
          7.3,
          108.5,
          0,
          7.7,
          71.7,
          14.6,
          6,
          109.5,
          0,
          2.7,
          81.1,
          11.7,
          4.5,
          109,
          0,
          7.2,
          70.4,
          22.4,
          0,
          107.6,
          1.4,
          2.8,
          74.8,
          16.4,
          4.5,
          110,
          0,
          1.4,
          78.7,
          15.3,
          4.6,
          111.5,
          0,
          5.9,
          79.4,
          11.9,
          2.8,
          105.8,
          1.7,
          7.7,
          80,
          9.1,
          1.5,
          100.5,
          0,
          5.8,
          79.3,
          13.6,
          1.4,
          105.3,
          0,
          4.3,
          77.3,
          13.7,
          4.7,
          109.4,
          0,
          3.1,
          78.6,
          15.1,
          3.1,
          109.1,
          0,
          7.8,
          73.9,
          13.9,
          4.3,
          107.4,
          0,
          5.5,
          82.1,
          12.4,
          0,
          103.5,
          0,
          5.8,
          82.1,
          12.1,
          0,
          103.1,
          0,
          9.1,
          71.9,
          17,
          2,
          105.9,
          0,
          5.8,
          80.7,
          11.6,
          2,
          104.9,
          0,
          4.4,
          82.9,
          7.6,
          5.1,
          106.6,
          0,
          2.5,
          80.6,
          13.8,
          3.1,
          108.7,
          1.3,
          5.9,
          75.3,
          17.4,
          0,
          104.4,
          1.9,
          3.2,
          75.3,
          16.3,
          3.2,
          107.9,
          1.8,
          6.2,
          71.2,
          20.8,
          0,
          105.5
         ],
         "yaxis": "y"
        }
       ],
       "layout": {
        "legend": {
         "tracegroupgap": 0
        },
        "margin": {
         "t": 60
        },
        "template": {
         "data": {
          "bar": [
           {
            "error_x": {
             "color": "#2a3f5f"
            },
            "error_y": {
             "color": "#2a3f5f"
            },
            "marker": {
             "line": {
              "color": "#E5ECF6",
              "width": 0.5
             },
             "pattern": {
              "fillmode": "overlay",
              "size": 10,
              "solidity": 0.2
             }
            },
            "type": "bar"
           }
          ],
          "barpolar": [
           {
            "marker": {
             "line": {
              "color": "#E5ECF6",
              "width": 0.5
             },
             "pattern": {
              "fillmode": "overlay",
              "size": 10,
              "solidity": 0.2
             }
            },
            "type": "barpolar"
           }
          ],
          "carpet": [
           {
            "aaxis": {
             "endlinecolor": "#2a3f5f",
             "gridcolor": "white",
             "linecolor": "white",
             "minorgridcolor": "white",
             "startlinecolor": "#2a3f5f"
            },
            "baxis": {
             "endlinecolor": "#2a3f5f",
             "gridcolor": "white",
             "linecolor": "white",
             "minorgridcolor": "white",
             "startlinecolor": "#2a3f5f"
            },
            "type": "carpet"
           }
          ],
          "choropleth": [
           {
            "colorbar": {
             "outlinewidth": 0,
             "ticks": ""
            },
            "type": "choropleth"
           }
          ],
          "contour": [
           {
            "colorbar": {
             "outlinewidth": 0,
             "ticks": ""
            },
            "colorscale": [
             [
              0,
              "#0d0887"
             ],
             [
              0.1111111111111111,
              "#46039f"
             ],
             [
              0.2222222222222222,
              "#7201a8"
             ],
             [
              0.3333333333333333,
              "#9c179e"
             ],
             [
              0.4444444444444444,
              "#bd3786"
             ],
             [
              0.5555555555555556,
              "#d8576b"
             ],
             [
              0.6666666666666666,
              "#ed7953"
             ],
             [
              0.7777777777777778,
              "#fb9f3a"
             ],
             [
              0.8888888888888888,
              "#fdca26"
             ],
             [
              1,
              "#f0f921"
             ]
            ],
            "type": "contour"
           }
          ],
          "contourcarpet": [
           {
            "colorbar": {
             "outlinewidth": 0,
             "ticks": ""
            },
            "type": "contourcarpet"
           }
          ],
          "heatmap": [
           {
            "colorbar": {
             "outlinewidth": 0,
             "ticks": ""
            },
            "colorscale": [
             [
              0,
              "#0d0887"
             ],
             [
              0.1111111111111111,
              "#46039f"
             ],
             [
              0.2222222222222222,
              "#7201a8"
             ],
             [
              0.3333333333333333,
              "#9c179e"
             ],
             [
              0.4444444444444444,
              "#bd3786"
             ],
             [
              0.5555555555555556,
              "#d8576b"
             ],
             [
              0.6666666666666666,
              "#ed7953"
             ],
             [
              0.7777777777777778,
              "#fb9f3a"
             ],
             [
              0.8888888888888888,
              "#fdca26"
             ],
             [
              1,
              "#f0f921"
             ]
            ],
            "type": "heatmap"
           }
          ],
          "heatmapgl": [
           {
            "colorbar": {
             "outlinewidth": 0,
             "ticks": ""
            },
            "colorscale": [
             [
              0,
              "#0d0887"
             ],
             [
              0.1111111111111111,
              "#46039f"
             ],
             [
              0.2222222222222222,
              "#7201a8"
             ],
             [
              0.3333333333333333,
              "#9c179e"
             ],
             [
              0.4444444444444444,
              "#bd3786"
             ],
             [
              0.5555555555555556,
              "#d8576b"
             ],
             [
              0.6666666666666666,
              "#ed7953"
             ],
             [
              0.7777777777777778,
              "#fb9f3a"
             ],
             [
              0.8888888888888888,
              "#fdca26"
             ],
             [
              1,
              "#f0f921"
             ]
            ],
            "type": "heatmapgl"
           }
          ],
          "histogram": [
           {
            "marker": {
             "pattern": {
              "fillmode": "overlay",
              "size": 10,
              "solidity": 0.2
             }
            },
            "type": "histogram"
           }
          ],
          "histogram2d": [
           {
            "colorbar": {
             "outlinewidth": 0,
             "ticks": ""
            },
            "colorscale": [
             [
              0,
              "#0d0887"
             ],
             [
              0.1111111111111111,
              "#46039f"
             ],
             [
              0.2222222222222222,
              "#7201a8"
             ],
             [
              0.3333333333333333,
              "#9c179e"
             ],
             [
              0.4444444444444444,
              "#bd3786"
             ],
             [
              0.5555555555555556,
              "#d8576b"
             ],
             [
              0.6666666666666666,
              "#ed7953"
             ],
             [
              0.7777777777777778,
              "#fb9f3a"
             ],
             [
              0.8888888888888888,
              "#fdca26"
             ],
             [
              1,
              "#f0f921"
             ]
            ],
            "type": "histogram2d"
           }
          ],
          "histogram2dcontour": [
           {
            "colorbar": {
             "outlinewidth": 0,
             "ticks": ""
            },
            "colorscale": [
             [
              0,
              "#0d0887"
             ],
             [
              0.1111111111111111,
              "#46039f"
             ],
             [
              0.2222222222222222,
              "#7201a8"
             ],
             [
              0.3333333333333333,
              "#9c179e"
             ],
             [
              0.4444444444444444,
              "#bd3786"
             ],
             [
              0.5555555555555556,
              "#d8576b"
             ],
             [
              0.6666666666666666,
              "#ed7953"
             ],
             [
              0.7777777777777778,
              "#fb9f3a"
             ],
             [
              0.8888888888888888,
              "#fdca26"
             ],
             [
              1,
              "#f0f921"
             ]
            ],
            "type": "histogram2dcontour"
           }
          ],
          "mesh3d": [
           {
            "colorbar": {
             "outlinewidth": 0,
             "ticks": ""
            },
            "type": "mesh3d"
           }
          ],
          "parcoords": [
           {
            "line": {
             "colorbar": {
              "outlinewidth": 0,
              "ticks": ""
             }
            },
            "type": "parcoords"
           }
          ],
          "pie": [
           {
            "automargin": true,
            "type": "pie"
           }
          ],
          "scatter": [
           {
            "marker": {
             "colorbar": {
              "outlinewidth": 0,
              "ticks": ""
             }
            },
            "type": "scatter"
           }
          ],
          "scatter3d": [
           {
            "line": {
             "colorbar": {
              "outlinewidth": 0,
              "ticks": ""
             }
            },
            "marker": {
             "colorbar": {
              "outlinewidth": 0,
              "ticks": ""
             }
            },
            "type": "scatter3d"
           }
          ],
          "scattercarpet": [
           {
            "marker": {
             "colorbar": {
              "outlinewidth": 0,
              "ticks": ""
             }
            },
            "type": "scattercarpet"
           }
          ],
          "scattergeo": [
           {
            "marker": {
             "colorbar": {
              "outlinewidth": 0,
              "ticks": ""
             }
            },
            "type": "scattergeo"
           }
          ],
          "scattergl": [
           {
            "marker": {
             "colorbar": {
              "outlinewidth": 0,
              "ticks": ""
             }
            },
            "type": "scattergl"
           }
          ],
          "scattermapbox": [
           {
            "marker": {
             "colorbar": {
              "outlinewidth": 0,
              "ticks": ""
             }
            },
            "type": "scattermapbox"
           }
          ],
          "scatterpolar": [
           {
            "marker": {
             "colorbar": {
              "outlinewidth": 0,
              "ticks": ""
             }
            },
            "type": "scatterpolar"
           }
          ],
          "scatterpolargl": [
           {
            "marker": {
             "colorbar": {
              "outlinewidth": 0,
              "ticks": ""
             }
            },
            "type": "scatterpolargl"
           }
          ],
          "scatterternary": [
           {
            "marker": {
             "colorbar": {
              "outlinewidth": 0,
              "ticks": ""
             }
            },
            "type": "scatterternary"
           }
          ],
          "surface": [
           {
            "colorbar": {
             "outlinewidth": 0,
             "ticks": ""
            },
            "colorscale": [
             [
              0,
              "#0d0887"
             ],
             [
              0.1111111111111111,
              "#46039f"
             ],
             [
              0.2222222222222222,
              "#7201a8"
             ],
             [
              0.3333333333333333,
              "#9c179e"
             ],
             [
              0.4444444444444444,
              "#bd3786"
             ],
             [
              0.5555555555555556,
              "#d8576b"
             ],
             [
              0.6666666666666666,
              "#ed7953"
             ],
             [
              0.7777777777777778,
              "#fb9f3a"
             ],
             [
              0.8888888888888888,
              "#fdca26"
             ],
             [
              1,
              "#f0f921"
             ]
            ],
            "type": "surface"
           }
          ],
          "table": [
           {
            "cells": {
             "fill": {
              "color": "#EBF0F8"
             },
             "line": {
              "color": "white"
             }
            },
            "header": {
             "fill": {
              "color": "#C8D4E3"
             },
             "line": {
              "color": "white"
             }
            },
            "type": "table"
           }
          ]
         },
         "layout": {
          "annotationdefaults": {
           "arrowcolor": "#2a3f5f",
           "arrowhead": 0,
           "arrowwidth": 1
          },
          "autotypenumbers": "strict",
          "coloraxis": {
           "colorbar": {
            "outlinewidth": 0,
            "ticks": ""
           }
          },
          "colorscale": {
           "diverging": [
            [
             0,
             "#8e0152"
            ],
            [
             0.1,
             "#c51b7d"
            ],
            [
             0.2,
             "#de77ae"
            ],
            [
             0.3,
             "#f1b6da"
            ],
            [
             0.4,
             "#fde0ef"
            ],
            [
             0.5,
             "#f7f7f7"
            ],
            [
             0.6,
             "#e6f5d0"
            ],
            [
             0.7,
             "#b8e186"
            ],
            [
             0.8,
             "#7fbc41"
            ],
            [
             0.9,
             "#4d9221"
            ],
            [
             1,
             "#276419"
            ]
           ],
           "sequential": [
            [
             0,
             "#0d0887"
            ],
            [
             0.1111111111111111,
             "#46039f"
            ],
            [
             0.2222222222222222,
             "#7201a8"
            ],
            [
             0.3333333333333333,
             "#9c179e"
            ],
            [
             0.4444444444444444,
             "#bd3786"
            ],
            [
             0.5555555555555556,
             "#d8576b"
            ],
            [
             0.6666666666666666,
             "#ed7953"
            ],
            [
             0.7777777777777778,
             "#fb9f3a"
            ],
            [
             0.8888888888888888,
             "#fdca26"
            ],
            [
             1,
             "#f0f921"
            ]
           ],
           "sequentialminus": [
            [
             0,
             "#0d0887"
            ],
            [
             0.1111111111111111,
             "#46039f"
            ],
            [
             0.2222222222222222,
             "#7201a8"
            ],
            [
             0.3333333333333333,
             "#9c179e"
            ],
            [
             0.4444444444444444,
             "#bd3786"
            ],
            [
             0.5555555555555556,
             "#d8576b"
            ],
            [
             0.6666666666666666,
             "#ed7953"
            ],
            [
             0.7777777777777778,
             "#fb9f3a"
            ],
            [
             0.8888888888888888,
             "#fdca26"
            ],
            [
             1,
             "#f0f921"
            ]
           ]
          },
          "colorway": [
           "#636efa",
           "#EF553B",
           "#00cc96",
           "#ab63fa",
           "#FFA15A",
           "#19d3f3",
           "#FF6692",
           "#B6E880",
           "#FF97FF",
           "#FECB52"
          ],
          "font": {
           "color": "#2a3f5f"
          },
          "geo": {
           "bgcolor": "white",
           "lakecolor": "white",
           "landcolor": "#E5ECF6",
           "showlakes": true,
           "showland": true,
           "subunitcolor": "white"
          },
          "hoverlabel": {
           "align": "left"
          },
          "hovermode": "closest",
          "mapbox": {
           "style": "light"
          },
          "paper_bgcolor": "white",
          "plot_bgcolor": "#E5ECF6",
          "polar": {
           "angularaxis": {
            "gridcolor": "white",
            "linecolor": "white",
            "ticks": ""
           },
           "bgcolor": "#E5ECF6",
           "radialaxis": {
            "gridcolor": "white",
            "linecolor": "white",
            "ticks": ""
           }
          },
          "scene": {
           "xaxis": {
            "backgroundcolor": "#E5ECF6",
            "gridcolor": "white",
            "gridwidth": 2,
            "linecolor": "white",
            "showbackground": true,
            "ticks": "",
            "zerolinecolor": "white"
           },
           "yaxis": {
            "backgroundcolor": "#E5ECF6",
            "gridcolor": "white",
            "gridwidth": 2,
            "linecolor": "white",
            "showbackground": true,
            "ticks": "",
            "zerolinecolor": "white"
           },
           "zaxis": {
            "backgroundcolor": "#E5ECF6",
            "gridcolor": "white",
            "gridwidth": 2,
            "linecolor": "white",
            "showbackground": true,
            "ticks": "",
            "zerolinecolor": "white"
           }
          },
          "shapedefaults": {
           "line": {
            "color": "#2a3f5f"
           }
          },
          "ternary": {
           "aaxis": {
            "gridcolor": "white",
            "linecolor": "white",
            "ticks": ""
           },
           "baxis": {
            "gridcolor": "white",
            "linecolor": "white",
            "ticks": ""
           },
           "bgcolor": "#E5ECF6",
           "caxis": {
            "gridcolor": "white",
            "linecolor": "white",
            "ticks": ""
           }
          },
          "title": {
           "x": 0.05
          },
          "xaxis": {
           "automargin": true,
           "gridcolor": "white",
           "linecolor": "white",
           "ticks": "",
           "title": {
            "standoff": 15
           },
           "zerolinecolor": "white",
           "zerolinewidth": 2
          },
          "yaxis": {
           "automargin": true,
           "gridcolor": "white",
           "linecolor": "white",
           "ticks": "",
           "title": {
            "standoff": 15
           },
           "zerolinecolor": "white",
           "zerolinewidth": 2
          }
         }
        },
        "xaxis": {
         "anchor": "y",
         "domain": [
          0,
          1
         ],
         "title": {
          "text": "시기"
         }
        },
        "yaxis": {
         "anchor": "x",
         "domain": [
          0,
          1
         ],
         "title": {
          "text": "섬유제품;의복제외"
         }
        }
       }
      },
      "text/html": [
       "<div>                            <div id=\"7a3367bb-f82b-4e7f-a5c6-ddf5cccae593\" class=\"plotly-graph-div\" style=\"height:525px; width:100%;\"></div>            <script type=\"text/javascript\">                require([\"plotly\"], function(Plotly) {                    window.PLOTLYENV=window.PLOTLYENV || {};                                    if (document.getElementById(\"7a3367bb-f82b-4e7f-a5c6-ddf5cccae593\")) {                    Plotly.newPlot(                        \"7a3367bb-f82b-4e7f-a5c6-ddf5cccae593\",                        [{\"hovertemplate\":\"\\uc2dc\\uae30=%{x}<br>\\uc12c\\uc720\\uc81c\\ud488;\\uc758\\ubcf5\\uc81c\\uc678=%{y}<extra></extra>\",\"legendgroup\":\"\",\"line\":{\"color\":\"#636efa\",\"dash\":\"solid\"},\"marker\":{\"symbol\":\"circle\"},\"mode\":\"lines+markers\",\"name\":\"\",\"orientation\":\"v\",\"showlegend\":false,\"x\":[\"2015.02\",\"2015.02.1\",\"2015.02.2\",\"2015.02.3\",\"2015.02.4\",\"2015.02.5\",\"2015.03\",\"2015.03.1\",\"2015.03.2\",\"2015.03.3\",\"2015.03.4\",\"2015.03.5\",\"2015.04\",\"2015.04.1\",\"2015.04.2\",\"2015.04.3\",\"2015.04.4\",\"2015.04.5\",\"2015.05\",\"2015.05.1\",\"2015.05.2\",\"2015.05.3\",\"2015.05.4\",\"2015.05.5\",\"2015.06\",\"2015.06.1\",\"2015.06.2\",\"2015.06.3\",\"2015.06.4\",\"2015.06.5\",\"2015.07\",\"2015.07.1\",\"2015.07.2\",\"2015.07.3\",\"2015.07.4\",\"2015.07.5\",\"2015.08\",\"2015.08.1\",\"2015.08.2\",\"2015.08.3\",\"2015.08.4\",\"2015.08.5\",\"2015.09\",\"2015.09.1\",\"2015.09.2\",\"2015.09.3\",\"2015.09.4\",\"2015.09.5\",\"2015.10\",\"2015.10.1\",\"2015.10.2\",\"2015.10.3\",\"2015.10.4\",\"2015.10.5\",\"2015.11\",\"2015.11.1\",\"2015.11.2\",\"2015.11.3\",\"2015.11.4\",\"2015.11.5\",\"2015.12\",\"2015.12.1\",\"2015.12.2\",\"2015.12.3\",\"2015.12.4\",\"2015.12.5\",\"2016.01\",\"2016.01.1\",\"2016.01.2\",\"2016.01.3\",\"2016.01.4\",\"2016.01.5\",\"2016.02\",\"2016.02.1\",\"2016.02.2\",\"2016.02.3\",\"2016.02.4\",\"2016.02.5\",\"2016.03\",\"2016.03.1\",\"2016.03.2\",\"2016.03.3\",\"2016.03.4\",\"2016.03.5\",\"2016.04\",\"2016.04.1\",\"2016.04.2\",\"2016.04.3\",\"2016.04.4\",\"2016.04.5\",\"2016.05\",\"2016.05.1\",\"2016.05.2\",\"2016.05.3\",\"2016.05.4\",\"2016.05.5\",\"2016.06\",\"2016.06.1\",\"2016.06.2\",\"2016.06.3\",\"2016.06.4\",\"2016.06.5\",\"2016.07\",\"2016.07.1\",\"2016.07.2\",\"2016.07.3\",\"2016.07.4\",\"2016.07.5\",\"2016.08\",\"2016.08.1\",\"2016.08.2\",\"2016.08.3\",\"2016.08.4\",\"2016.08.5\",\"2016.09\",\"2016.09.1\",\"2016.09.2\",\"2016.09.3\",\"2016.09.4\",\"2016.09.5\",\"2016.10\",\"2016.10.1\",\"2016.10.2\",\"2016.10.3\",\"2016.10.4\",\"2016.10.5\",\"2016.11\",\"2016.11.1\",\"2016.11.2\",\"2016.11.3\",\"2016.11.4\",\"2016.11.5\",\"2016.12\",\"2016.12.1\",\"2016.12.2\",\"2016.12.3\",\"2016.12.4\",\"2016.12.5\",\"2017.01\",\"2017.01.1\",\"2017.01.2\",\"2017.01.3\",\"2017.01.4\",\"2017.01.5\",\"2017.02\",\"2017.02.1\",\"2017.02.2\",\"2017.02.3\",\"2017.02.4\",\"2017.02.5\",\"2017.03\",\"2017.03.1\",\"2017.03.2\",\"2017.03.3\",\"2017.03.4\",\"2017.03.5\",\"2017.04\",\"2017.04.1\",\"2017.04.2\",\"2017.04.3\",\"2017.04.4\",\"2017.04.5\",\"2017.05\",\"2017.05.1\",\"2017.05.2\",\"2017.05.3\",\"2017.05.4\",\"2017.05.5\",\"2017.06\",\"2017.06.1\",\"2017.06.2\",\"2017.06.3\",\"2017.06.4\",\"2017.06.5\",\"2017.07\",\"2017.07.1\",\"2017.07.2\",\"2017.07.3\",\"2017.07.4\",\"2017.07.5\",\"2017.08\",\"2017.08.1\",\"2017.08.2\",\"2017.08.3\",\"2017.08.4\",\"2017.08.5\",\"2017.09\",\"2017.09.1\",\"2017.09.2\",\"2017.09.3\",\"2017.09.4\",\"2017.09.5\",\"2017.10\",\"2017.10.1\",\"2017.10.2\",\"2017.10.3\",\"2017.10.4\",\"2017.10.5\",\"2017.11\",\"2017.11.1\",\"2017.11.2\",\"2017.11.3\",\"2017.11.4\",\"2017.11.5\",\"2017.12\",\"2017.12.1\",\"2017.12.2\",\"2017.12.3\",\"2017.12.4\",\"2017.12.5\",\"2018.01\",\"2018.01.1\",\"2018.01.2\",\"2018.01.3\",\"2018.01.4\",\"2018.01.5\",\"2018.02\",\"2018.02.1\",\"2018.02.2\",\"2018.02.3\",\"2018.02.4\",\"2018.02.5\",\"2018.03\",\"2018.03.1\",\"2018.03.2\",\"2018.03.3\",\"2018.03.4\",\"2018.03.5\",\"2018.04\",\"2018.04.1\",\"2018.04.2\",\"2018.04.3\",\"2018.04.4\",\"2018.04.5\",\"2018.05\",\"2018.05.1\",\"2018.05.2\",\"2018.05.3\",\"2018.05.4\",\"2018.05.5\",\"2018.06\",\"2018.06.1\",\"2018.06.2\",\"2018.06.3\",\"2018.06.4\",\"2018.06.5\",\"2018.07\",\"2018.07.1\",\"2018.07.2\",\"2018.07.3\",\"2018.07.4\",\"2018.07.5\",\"2018.08\",\"2018.08.1\",\"2018.08.2\",\"2018.08.3\",\"2018.08.4\",\"2018.08.5\",\"2018.09\",\"2018.09.1\",\"2018.09.2\",\"2018.09.3\",\"2018.09.4\",\"2018.09.5\",\"2018.10\",\"2018.10.1\",\"2018.10.2\",\"2018.10.3\",\"2018.10.4\",\"2018.10.5\",\"2018.11\",\"2018.11.1\",\"2018.11.2\",\"2018.11.3\",\"2018.11.4\",\"2018.11.5\",\"2018.12\",\"2018.12.1\",\"2018.12.2\",\"2018.12.3\",\"2018.12.4\",\"2018.12.5\",\"2019.01\",\"2019.01.1\",\"2019.01.2\",\"2019.01.3\",\"2019.01.4\",\"2019.01.5\",\"2019.02\",\"2019.02.1\",\"2019.02.2\",\"2019.02.3\",\"2019.02.4\",\"2019.02.5\",\"2019.03\",\"2019.03.1\",\"2019.03.2\",\"2019.03.3\",\"2019.03.4\",\"2019.03.5\",\"2019.04\",\"2019.04.1\",\"2019.04.2\",\"2019.04.3\",\"2019.04.4\",\"2019.04.5\",\"2019.05\",\"2019.05.1\",\"2019.05.2\",\"2019.05.3\",\"2019.05.4\",\"2019.05.5\",\"2019.06\",\"2019.06.1\",\"2019.06.2\",\"2019.06.3\",\"2019.06.4\",\"2019.06.5\",\"2019.07\",\"2019.07.1\",\"2019.07.2\",\"2019.07.3\",\"2019.07.4\",\"2019.07.5\",\"2019.08\",\"2019.08.1\",\"2019.08.2\",\"2019.08.3\",\"2019.08.4\",\"2019.08.5\",\"2019.09\",\"2019.09.1\",\"2019.09.2\",\"2019.09.3\",\"2019.09.4\",\"2019.09.5\",\"2019.10\",\"2019.10.1\",\"2019.10.2\",\"2019.10.3\",\"2019.10.4\",\"2019.10.5\",\"2019.11\",\"2019.11.1\",\"2019.11.2\",\"2019.11.3\",\"2019.11.4\",\"2019.11.5\",\"2019.12\",\"2019.12.1\",\"2019.12.2\",\"2019.12.3\",\"2019.12.4\",\"2019.12.5\",\"2020.01\",\"2020.01.1\",\"2020.01.2\",\"2020.01.3\",\"2020.01.4\",\"2020.01.5\",\"2020.02\",\"2020.02.1\",\"2020.02.2\",\"2020.02.3\",\"2020.02.4\",\"2020.02.5\",\"2020.03\",\"2020.03.1\",\"2020.03.2\",\"2020.03.3\",\"2020.03.4\",\"2020.03.5\",\"2020.04\",\"2020.04.1\",\"2020.04.2\",\"2020.04.3\",\"2020.04.4\",\"2020.04.5\",\"2020.05\",\"2020.05.1\",\"2020.05.2\",\"2020.05.3\",\"2020.05.4\",\"2020.05.5\",\"2020.06\",\"2020.06.1\",\"2020.06.2\",\"2020.06.3\",\"2020.06.4\",\"2020.06.5\",\"2020.07\",\"2020.07.1\",\"2020.07.2\",\"2020.07.3\",\"2020.07.4\",\"2020.07.5\",\"2020.08\",\"2020.08.1\",\"2020.08.2\",\"2020.08.3\",\"2020.08.4\",\"2020.08.5\",\"2020.09\",\"2020.09.1\",\"2020.09.2\",\"2020.09.3\",\"2020.09.4\",\"2020.09.5\",\"2020.10\",\"2020.10.1\",\"2020.10.2\",\"2020.10.3\",\"2020.10.4\",\"2020.10.5\",\"2020.11\",\"2020.11.1\",\"2020.11.2\",\"2020.11.3\",\"2020.11.4\",\"2020.11.5\",\"2020.12\",\"2020.12.1\",\"2020.12.2\",\"2020.12.3\",\"2020.12.4\",\"2020.12.5\",\"2021.01\",\"2021.01.1\",\"2021.01.2\",\"2021.01.3\",\"2021.01.4\",\"2021.01.5\",\"2021.02\",\"2021.02.1\",\"2021.02.2\",\"2021.02.3\",\"2021.02.4\",\"2021.02.5\",\"2021.03\",\"2021.03.1\",\"2021.03.2\",\"2021.03.3\",\"2021.03.4\",\"2021.03.5\",\"2021.04\",\"2021.04.1\",\"2021.04.2\",\"2021.04.3\",\"2021.04.4\",\"2021.04.5\",\"2021.05\",\"2021.05.1\",\"2021.05.2\",\"2021.05.3\",\"2021.05.4\",\"2021.05.5\",\"2021.06\",\"2021.06.1\",\"2021.06.2\",\"2021.06.3\",\"2021.06.4\",\"2021.06.5\",\"2021.07\",\"2021.07.1\",\"2021.07.2\",\"2021.07.3\",\"2021.07.4\",\"2021.07.5\",\"2021.08\",\"2021.08.1\",\"2021.08.2\",\"2021.08.3\",\"2021.08.4\",\"2021.08.5\",\"2021.09\",\"2021.09.1\",\"2021.09.2\",\"2021.09.3\",\"2021.09.4\",\"2021.09.5\",\"2021.10\",\"2021.10.1\",\"2021.10.2\",\"2021.10.3\",\"2021.10.4\",\"2021.10.5\",\"2021.11\",\"2021.11.1\",\"2021.11.2\",\"2021.11.3\",\"2021.11.4\",\"2021.11.5\",\"2021.12\",\"2021.12.1\",\"2021.12.2\",\"2021.12.3\",\"2021.12.4\",\"2021.12.5\",\"2022.01\",\"2022.01.1\",\"2022.01.2\",\"2022.01.3\",\"2022.01.4\",\"2022.01.5\",\"2022.02\",\"2022.02.1\",\"2022.02.2\",\"2022.02.3\",\"2022.02.4\",\"2022.02.5\",\"2022.03\",\"2022.03.1\",\"2022.03.2\",\"2022.03.3\",\"2022.03.4\",\"2022.03.5\",\"2022.04\",\"2022.04.1\",\"2022.04.2\",\"2022.04.3\",\"2022.04.4\",\"2022.04.5\",\"2022.05\",\"2022.05.1\",\"2022.05.2\",\"2022.05.3\",\"2022.05.4\",\"2022.05.5\",\"2022.06\",\"2022.06.1\",\"2022.06.2\",\"2022.06.3\",\"2022.06.4\",\"2022.06.5\",\"2022.07\",\"2022.07.1\",\"2022.07.2\",\"2022.07.3\",\"2022.07.4\",\"2022.07.5\",\"2022.08\",\"2022.08.1\",\"2022.08.2\",\"2022.08.3\",\"2022.08.4\",\"2022.08.5\",\"2022.09\",\"2022.09.1\",\"2022.09.2\",\"2022.09.3\",\"2022.09.4\",\"2022.09.5\",\"2022.10\",\"2022.10.1\",\"2022.10.2\",\"2022.10.3\",\"2022.10.4\",\"2022.10.5\",\"2022.11\",\"2022.11.1\",\"2022.11.2\",\"2022.11.3\",\"2022.11.4\",\"2022.11.5\",\"2022.12\",\"2022.12.1\",\"2022.12.2\",\"2022.12.3\",\"2022.12.4\",\"2022.12.5\",\"2023.01\",\"2023.01.1\",\"2023.01.2\",\"2023.01.3\",\"2023.01.4\",\"2023.01.5\"],\"xaxis\":\"x\",\"y\":[0.0,5.8,75.4,17.0,1.8,107.4,0.0,7.4,74.3,18.3,0.0,105.5,0.0,6.1,82.7,8.1,3.1,104.1,0.0,4.2,75.9,16.7,3.1,109.3,0.0,7.3,71.9,14.4,6.4,109.9,1.8,7.6,78.2,8.0,4.5,103.0,0.9,11.9,63.7,19.0,4.5,107.1,0.0,6.2,79.8,7.6,6.3,107.0,0.0,7.2,83.1,7.9,1.8,102.1,0.0,8.5,76.1,12.2,3.2,105.0,2.8,3.7,83.1,9.5,0.9,101.0,0.0,4.5,77.4,12.2,5.9,109.7,0.0,5.3,77.1,14.8,2.7,107.4,0.0,5.0,80.4,11.4,3.2,106.4,0.0,8.5,81.3,10.2,0.0,100.9,0.0,7.2,82.5,9.3,0.9,102.0,0.0,5.8,85.5,5.5,3.2,103.0,0.0,6.5,84.4,5.8,3.4,103.0,0.0,7.8,82.1,6.6,3.6,103.0,1.0,9.4,79.3,7.8,2.4,100.7,0.0,6.3,83.3,8.4,1.9,103.0,0.0,10.1,78.0,11.9,0.0,100.9,0.0,9.6,84.0,4.8,1.6,99.2,3.1,8.1,74.5,12.9,1.4,100.7,0.0,9.4,77.7,11.4,1.4,102.5,0.0,11.2,75.6,13.1,0.0,101.0,0.0,6.5,80.3,11.5,1.7,104.2,1.7,4.8,72.8,19.1,1.7,107.2,0.0,12.7,72.0,13.7,1.6,102.1,0.0,11.0,71.4,15.9,1.6,104.1,0.0,8.0,73.3,15.7,3.1,106.9,0.0,8.0,76.5,12.2,3.3,105.4,0.0,6.5,74.7,10.8,8.0,110.1,1.7,8.1,75.9,11.2,3.1,103.0,1.7,8.4,78.6,9.9,1.5,100.6,1.6,14.8,72.5,11.0,0.0,96.4,0.0,6.6,75.8,14.5,3.1,107.1,0.0,11.5,74.0,13.0,1.5,102.2,0.0,11.5,73.9,13.2,1.4,102.2,0.0,10.8,70.4,18.8,0.0,104.0,1.7,9.6,77.2,11.5,0.0,99.3,0.0,9.3,69.4,21.4,0.0,106.0,0.0,9.6,75.8,14.6,0.0,102.5,0.0,9.8,75.6,14.6,0.0,102.4,0.0,7.7,66.6,24.0,1.6,109.8,0.0,6.6,77.4,14.3,1.6,105.5,0.0,6.6,77.4,14.3,1.6,105.5,0.0,8.0,72.7,16.0,3.3,107.3,0.0,5.1,71.1,19.3,4.6,111.7,1.5,7.7,67.7,19.7,3.4,107.8,0.0,4.9,71.0,19.3,4.9,112.1,0.0,3.1,79.9,15.5,1.6,107.8,0.0,4.6,70.3,20.3,4.7,112.6,0.0,6.2,65.9,22.9,5.0,113.3,1.7,3.2,61.8,26.9,6.5,116.7,1.6,3.1,63.8,26.7,4.8,115.0,0.0,6.4,68.2,22.1,3.2,111.1,0.0,1.6,61.3,35.5,1.6,118.5,0.0,3.2,62.9,32.2,1.6,116.1,0.0,4.8,66.2,24.2,4.8,114.5,0.0,3.2,73.8,19.7,3.2,111.5,0.0,10.0,71.7,16.7,1.7,105.0,0.0,6.4,63.4,27.0,3.2,113.5,0.0,3.1,58.1,27.4,11.4,123.5,1.6,4.7,49.3,23.7,20.8,128.7,1.7,4.8,58.0,24.1,11.4,119.4,0.0,3.1,54.7,29.7,12.5,125.8,0.0,6.2,57.1,23.9,12.7,121.5,0.0,9.4,50.0,31.2,9.4,120.3,0.0,6.4,59.7,25.8,8.1,117.7,0.0,4.7,63.7,22.2,9.5,118.2,0.0,4.4,66.1,20.2,9.3,117.2,0.0,8.6,65.2,19.9,6.2,111.9,1.7,6.6,73.0,13.6,5.1,107.0,0.0,7.7,74.3,15.1,2.9,106.6,0.0,7.6,75.1,10.1,7.3,108.5,0.0,7.7,71.7,14.6,6.0,109.5,0.0,2.7,81.1,11.7,4.5,109.0,0.0,7.2,70.4,22.4,0.0,107.6,1.4,2.8,74.8,16.4,4.5,110.0,0.0,1.4,78.7,15.3,4.6,111.5,0.0,5.9,79.4,11.9,2.8,105.8,1.7,7.7,80.0,9.1,1.5,100.5,0.0,5.8,79.3,13.6,1.4,105.3,0.0,4.3,77.3,13.7,4.7,109.4,0.0,3.1,78.6,15.1,3.1,109.1,0.0,7.8,73.9,13.9,4.3,107.4,0.0,5.5,82.1,12.4,0.0,103.5,0.0,5.8,82.1,12.1,0.0,103.1,0.0,9.1,71.9,17.0,2.0,105.9,0.0,5.8,80.7,11.6,2.0,104.9,0.0,4.4,82.9,7.6,5.1,106.6,0.0,2.5,80.6,13.8,3.1,108.7,1.3,5.9,75.3,17.4,0.0,104.4,1.9,3.2,75.3,16.3,3.2,107.9,1.8,6.2,71.2,20.8,0.0,105.5],\"yaxis\":\"y\",\"type\":\"scatter\"}],                        {\"template\":{\"data\":{\"bar\":[{\"error_x\":{\"color\":\"#2a3f5f\"},\"error_y\":{\"color\":\"#2a3f5f\"},\"marker\":{\"line\":{\"color\":\"#E5ECF6\",\"width\":0.5},\"pattern\":{\"fillmode\":\"overlay\",\"size\":10,\"solidity\":0.2}},\"type\":\"bar\"}],\"barpolar\":[{\"marker\":{\"line\":{\"color\":\"#E5ECF6\",\"width\":0.5},\"pattern\":{\"fillmode\":\"overlay\",\"size\":10,\"solidity\":0.2}},\"type\":\"barpolar\"}],\"carpet\":[{\"aaxis\":{\"endlinecolor\":\"#2a3f5f\",\"gridcolor\":\"white\",\"linecolor\":\"white\",\"minorgridcolor\":\"white\",\"startlinecolor\":\"#2a3f5f\"},\"baxis\":{\"endlinecolor\":\"#2a3f5f\",\"gridcolor\":\"white\",\"linecolor\":\"white\",\"minorgridcolor\":\"white\",\"startlinecolor\":\"#2a3f5f\"},\"type\":\"carpet\"}],\"choropleth\":[{\"colorbar\":{\"outlinewidth\":0,\"ticks\":\"\"},\"type\":\"choropleth\"}],\"contour\":[{\"colorbar\":{\"outlinewidth\":0,\"ticks\":\"\"},\"colorscale\":[[0.0,\"#0d0887\"],[0.1111111111111111,\"#46039f\"],[0.2222222222222222,\"#7201a8\"],[0.3333333333333333,\"#9c179e\"],[0.4444444444444444,\"#bd3786\"],[0.5555555555555556,\"#d8576b\"],[0.6666666666666666,\"#ed7953\"],[0.7777777777777778,\"#fb9f3a\"],[0.8888888888888888,\"#fdca26\"],[1.0,\"#f0f921\"]],\"type\":\"contour\"}],\"contourcarpet\":[{\"colorbar\":{\"outlinewidth\":0,\"ticks\":\"\"},\"type\":\"contourcarpet\"}],\"heatmap\":[{\"colorbar\":{\"outlinewidth\":0,\"ticks\":\"\"},\"colorscale\":[[0.0,\"#0d0887\"],[0.1111111111111111,\"#46039f\"],[0.2222222222222222,\"#7201a8\"],[0.3333333333333333,\"#9c179e\"],[0.4444444444444444,\"#bd3786\"],[0.5555555555555556,\"#d8576b\"],[0.6666666666666666,\"#ed7953\"],[0.7777777777777778,\"#fb9f3a\"],[0.8888888888888888,\"#fdca26\"],[1.0,\"#f0f921\"]],\"type\":\"heatmap\"}],\"heatmapgl\":[{\"colorbar\":{\"outlinewidth\":0,\"ticks\":\"\"},\"colorscale\":[[0.0,\"#0d0887\"],[0.1111111111111111,\"#46039f\"],[0.2222222222222222,\"#7201a8\"],[0.3333333333333333,\"#9c179e\"],[0.4444444444444444,\"#bd3786\"],[0.5555555555555556,\"#d8576b\"],[0.6666666666666666,\"#ed7953\"],[0.7777777777777778,\"#fb9f3a\"],[0.8888888888888888,\"#fdca26\"],[1.0,\"#f0f921\"]],\"type\":\"heatmapgl\"}],\"histogram\":[{\"marker\":{\"pattern\":{\"fillmode\":\"overlay\",\"size\":10,\"solidity\":0.2}},\"type\":\"histogram\"}],\"histogram2d\":[{\"colorbar\":{\"outlinewidth\":0,\"ticks\":\"\"},\"colorscale\":[[0.0,\"#0d0887\"],[0.1111111111111111,\"#46039f\"],[0.2222222222222222,\"#7201a8\"],[0.3333333333333333,\"#9c179e\"],[0.4444444444444444,\"#bd3786\"],[0.5555555555555556,\"#d8576b\"],[0.6666666666666666,\"#ed7953\"],[0.7777777777777778,\"#fb9f3a\"],[0.8888888888888888,\"#fdca26\"],[1.0,\"#f0f921\"]],\"type\":\"histogram2d\"}],\"histogram2dcontour\":[{\"colorbar\":{\"outlinewidth\":0,\"ticks\":\"\"},\"colorscale\":[[0.0,\"#0d0887\"],[0.1111111111111111,\"#46039f\"],[0.2222222222222222,\"#7201a8\"],[0.3333333333333333,\"#9c179e\"],[0.4444444444444444,\"#bd3786\"],[0.5555555555555556,\"#d8576b\"],[0.6666666666666666,\"#ed7953\"],[0.7777777777777778,\"#fb9f3a\"],[0.8888888888888888,\"#fdca26\"],[1.0,\"#f0f921\"]],\"type\":\"histogram2dcontour\"}],\"mesh3d\":[{\"colorbar\":{\"outlinewidth\":0,\"ticks\":\"\"},\"type\":\"mesh3d\"}],\"parcoords\":[{\"line\":{\"colorbar\":{\"outlinewidth\":0,\"ticks\":\"\"}},\"type\":\"parcoords\"}],\"pie\":[{\"automargin\":true,\"type\":\"pie\"}],\"scatter\":[{\"marker\":{\"colorbar\":{\"outlinewidth\":0,\"ticks\":\"\"}},\"type\":\"scatter\"}],\"scatter3d\":[{\"line\":{\"colorbar\":{\"outlinewidth\":0,\"ticks\":\"\"}},\"marker\":{\"colorbar\":{\"outlinewidth\":0,\"ticks\":\"\"}},\"type\":\"scatter3d\"}],\"scattercarpet\":[{\"marker\":{\"colorbar\":{\"outlinewidth\":0,\"ticks\":\"\"}},\"type\":\"scattercarpet\"}],\"scattergeo\":[{\"marker\":{\"colorbar\":{\"outlinewidth\":0,\"ticks\":\"\"}},\"type\":\"scattergeo\"}],\"scattergl\":[{\"marker\":{\"colorbar\":{\"outlinewidth\":0,\"ticks\":\"\"}},\"type\":\"scattergl\"}],\"scattermapbox\":[{\"marker\":{\"colorbar\":{\"outlinewidth\":0,\"ticks\":\"\"}},\"type\":\"scattermapbox\"}],\"scatterpolar\":[{\"marker\":{\"colorbar\":{\"outlinewidth\":0,\"ticks\":\"\"}},\"type\":\"scatterpolar\"}],\"scatterpolargl\":[{\"marker\":{\"colorbar\":{\"outlinewidth\":0,\"ticks\":\"\"}},\"type\":\"scatterpolargl\"}],\"scatterternary\":[{\"marker\":{\"colorbar\":{\"outlinewidth\":0,\"ticks\":\"\"}},\"type\":\"scatterternary\"}],\"surface\":[{\"colorbar\":{\"outlinewidth\":0,\"ticks\":\"\"},\"colorscale\":[[0.0,\"#0d0887\"],[0.1111111111111111,\"#46039f\"],[0.2222222222222222,\"#7201a8\"],[0.3333333333333333,\"#9c179e\"],[0.4444444444444444,\"#bd3786\"],[0.5555555555555556,\"#d8576b\"],[0.6666666666666666,\"#ed7953\"],[0.7777777777777778,\"#fb9f3a\"],[0.8888888888888888,\"#fdca26\"],[1.0,\"#f0f921\"]],\"type\":\"surface\"}],\"table\":[{\"cells\":{\"fill\":{\"color\":\"#EBF0F8\"},\"line\":{\"color\":\"white\"}},\"header\":{\"fill\":{\"color\":\"#C8D4E3\"},\"line\":{\"color\":\"white\"}},\"type\":\"table\"}]},\"layout\":{\"annotationdefaults\":{\"arrowcolor\":\"#2a3f5f\",\"arrowhead\":0,\"arrowwidth\":1},\"autotypenumbers\":\"strict\",\"coloraxis\":{\"colorbar\":{\"outlinewidth\":0,\"ticks\":\"\"}},\"colorscale\":{\"diverging\":[[0,\"#8e0152\"],[0.1,\"#c51b7d\"],[0.2,\"#de77ae\"],[0.3,\"#f1b6da\"],[0.4,\"#fde0ef\"],[0.5,\"#f7f7f7\"],[0.6,\"#e6f5d0\"],[0.7,\"#b8e186\"],[0.8,\"#7fbc41\"],[0.9,\"#4d9221\"],[1,\"#276419\"]],\"sequential\":[[0.0,\"#0d0887\"],[0.1111111111111111,\"#46039f\"],[0.2222222222222222,\"#7201a8\"],[0.3333333333333333,\"#9c179e\"],[0.4444444444444444,\"#bd3786\"],[0.5555555555555556,\"#d8576b\"],[0.6666666666666666,\"#ed7953\"],[0.7777777777777778,\"#fb9f3a\"],[0.8888888888888888,\"#fdca26\"],[1.0,\"#f0f921\"]],\"sequentialminus\":[[0.0,\"#0d0887\"],[0.1111111111111111,\"#46039f\"],[0.2222222222222222,\"#7201a8\"],[0.3333333333333333,\"#9c179e\"],[0.4444444444444444,\"#bd3786\"],[0.5555555555555556,\"#d8576b\"],[0.6666666666666666,\"#ed7953\"],[0.7777777777777778,\"#fb9f3a\"],[0.8888888888888888,\"#fdca26\"],[1.0,\"#f0f921\"]]},\"colorway\":[\"#636efa\",\"#EF553B\",\"#00cc96\",\"#ab63fa\",\"#FFA15A\",\"#19d3f3\",\"#FF6692\",\"#B6E880\",\"#FF97FF\",\"#FECB52\"],\"font\":{\"color\":\"#2a3f5f\"},\"geo\":{\"bgcolor\":\"white\",\"lakecolor\":\"white\",\"landcolor\":\"#E5ECF6\",\"showlakes\":true,\"showland\":true,\"subunitcolor\":\"white\"},\"hoverlabel\":{\"align\":\"left\"},\"hovermode\":\"closest\",\"mapbox\":{\"style\":\"light\"},\"paper_bgcolor\":\"white\",\"plot_bgcolor\":\"#E5ECF6\",\"polar\":{\"angularaxis\":{\"gridcolor\":\"white\",\"linecolor\":\"white\",\"ticks\":\"\"},\"bgcolor\":\"#E5ECF6\",\"radialaxis\":{\"gridcolor\":\"white\",\"linecolor\":\"white\",\"ticks\":\"\"}},\"scene\":{\"xaxis\":{\"backgroundcolor\":\"#E5ECF6\",\"gridcolor\":\"white\",\"gridwidth\":2,\"linecolor\":\"white\",\"showbackground\":true,\"ticks\":\"\",\"zerolinecolor\":\"white\"},\"yaxis\":{\"backgroundcolor\":\"#E5ECF6\",\"gridcolor\":\"white\",\"gridwidth\":2,\"linecolor\":\"white\",\"showbackground\":true,\"ticks\":\"\",\"zerolinecolor\":\"white\"},\"zaxis\":{\"backgroundcolor\":\"#E5ECF6\",\"gridcolor\":\"white\",\"gridwidth\":2,\"linecolor\":\"white\",\"showbackground\":true,\"ticks\":\"\",\"zerolinecolor\":\"white\"}},\"shapedefaults\":{\"line\":{\"color\":\"#2a3f5f\"}},\"ternary\":{\"aaxis\":{\"gridcolor\":\"white\",\"linecolor\":\"white\",\"ticks\":\"\"},\"baxis\":{\"gridcolor\":\"white\",\"linecolor\":\"white\",\"ticks\":\"\"},\"bgcolor\":\"#E5ECF6\",\"caxis\":{\"gridcolor\":\"white\",\"linecolor\":\"white\",\"ticks\":\"\"}},\"title\":{\"x\":0.05},\"xaxis\":{\"automargin\":true,\"gridcolor\":\"white\",\"linecolor\":\"white\",\"ticks\":\"\",\"title\":{\"standoff\":15},\"zerolinecolor\":\"white\",\"zerolinewidth\":2},\"yaxis\":{\"automargin\":true,\"gridcolor\":\"white\",\"linecolor\":\"white\",\"ticks\":\"\",\"title\":{\"standoff\":15},\"zerolinecolor\":\"white\",\"zerolinewidth\":2}}},\"xaxis\":{\"anchor\":\"y\",\"domain\":[0.0,1.0],\"title\":{\"text\":\"\\uc2dc\\uae30\"}},\"yaxis\":{\"anchor\":\"x\",\"domain\":[0.0,1.0],\"title\":{\"text\":\"\\uc12c\\uc720\\uc81c\\ud488;\\uc758\\ubcf5\\uc81c\\uc678\"}},\"legend\":{\"tracegroupgap\":0},\"margin\":{\"t\":60}},                        {\"responsive\": true}                    ).then(function(){\n",
       "                            \n",
       "var gd = document.getElementById('7a3367bb-f82b-4e7f-a5c6-ddf5cccae593');\n",
       "var x = new MutationObserver(function (mutations, observer) {{\n",
       "        var display = window.getComputedStyle(gd).display;\n",
       "        if (!display || display === 'none') {{\n",
       "            console.log([gd, 'removed!']);\n",
       "            Plotly.purge(gd);\n",
       "            observer.disconnect();\n",
       "        }}\n",
       "}});\n",
       "\n",
       "// Listen for the removal of the full notebook cells\n",
       "var notebookContainer = gd.closest('#notebook-container');\n",
       "if (notebookContainer) {{\n",
       "    x.observe(notebookContainer, {childList: true});\n",
       "}}\n",
       "\n",
       "// Listen for the clearing of the current output cell\n",
       "var outputEl = gd.closest('.output');\n",
       "if (outputEl) {{\n",
       "    x.observe(outputEl, {childList: true});\n",
       "}}\n",
       "\n",
       "                        })                };                });            </script>        </div>"
      ]
     },
     "metadata": {},
     "output_type": "display_data"
    }
   ],
   "source": [
    "px.line(df_3, x='시기', y='섬유제품;의복제외', markers = True)"
   ]
  },
  {
   "cell_type": "code",
   "execution_count": null,
   "id": "71740756",
   "metadata": {},
   "outputs": [],
   "source": []
  },
  {
   "cell_type": "code",
   "execution_count": 12,
   "id": "ef57c9cd",
   "metadata": {},
   "outputs": [],
   "source": [
    "df_4 = pd.read_csv('./SBHI전처리데이터/생산전망_sbhi.csv' , encoding = 'cp949')"
   ]
  },
  {
   "cell_type": "code",
   "execution_count": 13,
   "id": "c762b14f",
   "metadata": {},
   "outputs": [
    {
     "data": {
      "application/vnd.plotly.v1+json": {
       "config": {
        "plotlyServerURL": "https://plot.ly"
       },
       "data": [
        {
         "hovertemplate": "시기=%{x}<br>섬유제품;의복제외=%{y}<extra></extra>",
         "legendgroup": "",
         "line": {
          "color": "#636efa",
          "dash": "solid"
         },
         "marker": {
          "symbol": "circle"
         },
         "mode": "lines+markers",
         "name": "",
         "orientation": "v",
         "showlegend": false,
         "type": "scatter",
         "x": [
          "2015.02",
          "2015.02.1",
          "2015.02.2",
          "2015.02.3",
          "2015.02.4",
          "2015.02.5",
          "2015.03",
          "2015.03.1",
          "2015.03.2",
          "2015.03.3",
          "2015.03.4",
          "2015.03.5",
          "2015.04",
          "2015.04.1",
          "2015.04.2",
          "2015.04.3",
          "2015.04.4",
          "2015.04.5",
          "2015.05",
          "2015.05.1",
          "2015.05.2",
          "2015.05.3",
          "2015.05.4",
          "2015.05.5",
          "2015.06",
          "2015.06.1",
          "2015.06.2",
          "2015.06.3",
          "2015.06.4",
          "2015.06.5",
          "2015.07",
          "2015.07.1",
          "2015.07.2",
          "2015.07.3",
          "2015.07.4",
          "2015.07.5",
          "2015.08",
          "2015.08.1",
          "2015.08.2",
          "2015.08.3",
          "2015.08.4",
          "2015.08.5",
          "2015.09",
          "2015.09.1",
          "2015.09.2",
          "2015.09.3",
          "2015.09.4",
          "2015.09.5",
          "2015.10",
          "2015.10.1",
          "2015.10.2",
          "2015.10.3",
          "2015.10.4",
          "2015.10.5",
          "2015.11",
          "2015.11.1",
          "2015.11.2",
          "2015.11.3",
          "2015.11.4",
          "2015.11.5",
          "2015.12",
          "2015.12.1",
          "2015.12.2",
          "2015.12.3",
          "2015.12.4",
          "2015.12.5",
          "2016.01",
          "2016.01.1",
          "2016.01.2",
          "2016.01.3",
          "2016.01.4",
          "2016.01.5",
          "2016.02",
          "2016.02.1",
          "2016.02.2",
          "2016.02.3",
          "2016.02.4",
          "2016.02.5",
          "2016.03",
          "2016.03.1",
          "2016.03.2",
          "2016.03.3",
          "2016.03.4",
          "2016.03.5",
          "2016.04",
          "2016.04.1",
          "2016.04.2",
          "2016.04.3",
          "2016.04.4",
          "2016.04.5",
          "2016.05",
          "2016.05.1",
          "2016.05.2",
          "2016.05.3",
          "2016.05.4",
          "2016.05.5",
          "2016.06",
          "2016.06.1",
          "2016.06.2",
          "2016.06.3",
          "2016.06.4",
          "2016.06.5",
          "2016.07",
          "2016.07.1",
          "2016.07.2",
          "2016.07.3",
          "2016.07.4",
          "2016.07.5",
          "2016.08",
          "2016.08.1",
          "2016.08.2",
          "2016.08.3",
          "2016.08.4",
          "2016.08.5",
          "2016.09",
          "2016.09.1",
          "2016.09.2",
          "2016.09.3",
          "2016.09.4",
          "2016.09.5",
          "2016.10",
          "2016.10.1",
          "2016.10.2",
          "2016.10.3",
          "2016.10.4",
          "2016.10.5",
          "2016.11",
          "2016.11.1",
          "2016.11.2",
          "2016.11.3",
          "2016.11.4",
          "2016.11.5",
          "2016.12",
          "2016.12.1",
          "2016.12.2",
          "2016.12.3",
          "2016.12.4",
          "2016.12.5",
          "2017.01",
          "2017.01.1",
          "2017.01.2",
          "2017.01.3",
          "2017.01.4",
          "2017.01.5",
          "2017.02",
          "2017.02.1",
          "2017.02.2",
          "2017.02.3",
          "2017.02.4",
          "2017.02.5",
          "2017.03",
          "2017.03.1",
          "2017.03.2",
          "2017.03.3",
          "2017.03.4",
          "2017.03.5",
          "2017.04",
          "2017.04.1",
          "2017.04.2",
          "2017.04.3",
          "2017.04.4",
          "2017.04.5",
          "2017.05",
          "2017.05.1",
          "2017.05.2",
          "2017.05.3",
          "2017.05.4",
          "2017.05.5",
          "2017.06",
          "2017.06.1",
          "2017.06.2",
          "2017.06.3",
          "2017.06.4",
          "2017.06.5",
          "2017.07",
          "2017.07.1",
          "2017.07.2",
          "2017.07.3",
          "2017.07.4",
          "2017.07.5",
          "2017.08",
          "2017.08.1",
          "2017.08.2",
          "2017.08.3",
          "2017.08.4",
          "2017.08.5",
          "2017.09",
          "2017.09.1",
          "2017.09.2",
          "2017.09.3",
          "2017.09.4",
          "2017.09.5",
          "2017.10",
          "2017.10.1",
          "2017.10.2",
          "2017.10.3",
          "2017.10.4",
          "2017.10.5",
          "2017.11",
          "2017.11.1",
          "2017.11.2",
          "2017.11.3",
          "2017.11.4",
          "2017.11.5",
          "2017.12",
          "2017.12.1",
          "2017.12.2",
          "2017.12.3",
          "2017.12.4",
          "2017.12.5",
          "2018.01",
          "2018.01.1",
          "2018.01.2",
          "2018.01.3",
          "2018.01.4",
          "2018.01.5",
          "2018.02",
          "2018.02.1",
          "2018.02.2",
          "2018.02.3",
          "2018.02.4",
          "2018.02.5",
          "2018.03",
          "2018.03.1",
          "2018.03.2",
          "2018.03.3",
          "2018.03.4",
          "2018.03.5",
          "2018.04",
          "2018.04.1",
          "2018.04.2",
          "2018.04.3",
          "2018.04.4",
          "2018.04.5",
          "2018.05",
          "2018.05.1",
          "2018.05.2",
          "2018.05.3",
          "2018.05.4",
          "2018.05.5",
          "2018.06",
          "2018.06.1",
          "2018.06.2",
          "2018.06.3",
          "2018.06.4",
          "2018.06.5",
          "2018.07",
          "2018.07.1",
          "2018.07.2",
          "2018.07.3",
          "2018.07.4",
          "2018.07.5",
          "2018.08",
          "2018.08.1",
          "2018.08.2",
          "2018.08.3",
          "2018.08.4",
          "2018.08.5",
          "2018.09",
          "2018.09.1",
          "2018.09.2",
          "2018.09.3",
          "2018.09.4",
          "2018.09.5",
          "2018.10",
          "2018.10.1",
          "2018.10.2",
          "2018.10.3",
          "2018.10.4",
          "2018.10.5",
          "2018.11",
          "2018.11.1",
          "2018.11.2",
          "2018.11.3",
          "2018.11.4",
          "2018.11.5",
          "2018.12",
          "2018.12.1",
          "2018.12.2",
          "2018.12.3",
          "2018.12.4",
          "2018.12.5",
          "2019.01",
          "2019.01.1",
          "2019.01.2",
          "2019.01.3",
          "2019.01.4",
          "2019.01.5",
          "2019.02",
          "2019.02.1",
          "2019.02.2",
          "2019.02.3",
          "2019.02.4",
          "2019.02.5",
          "2019.03",
          "2019.03.1",
          "2019.03.2",
          "2019.03.3",
          "2019.03.4",
          "2019.03.5",
          "2019.04",
          "2019.04.1",
          "2019.04.2",
          "2019.04.3",
          "2019.04.4",
          "2019.04.5",
          "2019.05",
          "2019.05.1",
          "2019.05.2",
          "2019.05.3",
          "2019.05.4",
          "2019.05.5",
          "2019.06",
          "2019.06.1",
          "2019.06.2",
          "2019.06.3",
          "2019.06.4",
          "2019.06.5",
          "2019.07",
          "2019.07.1",
          "2019.07.2",
          "2019.07.3",
          "2019.07.4",
          "2019.07.5",
          "2019.08",
          "2019.08.1",
          "2019.08.2",
          "2019.08.3",
          "2019.08.4",
          "2019.08.5",
          "2019.09",
          "2019.09.1",
          "2019.09.2",
          "2019.09.3",
          "2019.09.4",
          "2019.09.5",
          "2019.10",
          "2019.10.1",
          "2019.10.2",
          "2019.10.3",
          "2019.10.4",
          "2019.10.5",
          "2019.11",
          "2019.11.1",
          "2019.11.2",
          "2019.11.3",
          "2019.11.4",
          "2019.11.5",
          "2019.12",
          "2019.12.1",
          "2019.12.2",
          "2019.12.3",
          "2019.12.4",
          "2019.12.5",
          "2020.01",
          "2020.01.1",
          "2020.01.2",
          "2020.01.3",
          "2020.01.4",
          "2020.01.5",
          "2020.02",
          "2020.02.1",
          "2020.02.2",
          "2020.02.3",
          "2020.02.4",
          "2020.02.5",
          "2020.03",
          "2020.03.1",
          "2020.03.2",
          "2020.03.3",
          "2020.03.4",
          "2020.03.5",
          "2020.04",
          "2020.04.1",
          "2020.04.2",
          "2020.04.3",
          "2020.04.4",
          "2020.04.5",
          "2020.05",
          "2020.05.1",
          "2020.05.2",
          "2020.05.3",
          "2020.05.4",
          "2020.05.5",
          "2020.06",
          "2020.06.1",
          "2020.06.2",
          "2020.06.3",
          "2020.06.4",
          "2020.06.5",
          "2020.07",
          "2020.07.1",
          "2020.07.2",
          "2020.07.3",
          "2020.07.4",
          "2020.07.5",
          "2020.08",
          "2020.08.1",
          "2020.08.2",
          "2020.08.3",
          "2020.08.4",
          "2020.08.5",
          "2020.09",
          "2020.09.1",
          "2020.09.2",
          "2020.09.3",
          "2020.09.4",
          "2020.09.5",
          "2020.10",
          "2020.10.1",
          "2020.10.2",
          "2020.10.3",
          "2020.10.4",
          "2020.10.5",
          "2020.11",
          "2020.11.1",
          "2020.11.2",
          "2020.11.3",
          "2020.11.4",
          "2020.11.5",
          "2020.12",
          "2020.12.1",
          "2020.12.2",
          "2020.12.3",
          "2020.12.4",
          "2020.12.5",
          "2021.01",
          "2021.01.1",
          "2021.01.2",
          "2021.01.3",
          "2021.01.4",
          "2021.01.5",
          "2021.02",
          "2021.02.1",
          "2021.02.2",
          "2021.02.3",
          "2021.02.4",
          "2021.02.5",
          "2021.03",
          "2021.03.1",
          "2021.03.2",
          "2021.03.3",
          "2021.03.4",
          "2021.03.5",
          "2021.04",
          "2021.04.1",
          "2021.04.2",
          "2021.04.3",
          "2021.04.4",
          "2021.04.5",
          "2021.05",
          "2021.05.1",
          "2021.05.2",
          "2021.05.3",
          "2021.05.4",
          "2021.05.5",
          "2021.06",
          "2021.06.1",
          "2021.06.2",
          "2021.06.3",
          "2021.06.4",
          "2021.06.5",
          "2021.07",
          "2021.07.1",
          "2021.07.2",
          "2021.07.3",
          "2021.07.4",
          "2021.07.5",
          "2021.08",
          "2021.08.1",
          "2021.08.2",
          "2021.08.3",
          "2021.08.4",
          "2021.08.5",
          "2021.09",
          "2021.09.1",
          "2021.09.2",
          "2021.09.3",
          "2021.09.4",
          "2021.09.5",
          "2021.10",
          "2021.10.1",
          "2021.10.2",
          "2021.10.3",
          "2021.10.4",
          "2021.10.5",
          "2021.11",
          "2021.11.1",
          "2021.11.2",
          "2021.11.3",
          "2021.11.4",
          "2021.11.5",
          "2021.12",
          "2021.12.1",
          "2021.12.2",
          "2021.12.3",
          "2021.12.4",
          "2021.12.5",
          "2022.01",
          "2022.01.1",
          "2022.01.2",
          "2022.01.3",
          "2022.01.4",
          "2022.01.5",
          "2022.02",
          "2022.02.1",
          "2022.02.2",
          "2022.02.3",
          "2022.02.4",
          "2022.02.5",
          "2022.03",
          "2022.03.1",
          "2022.03.2",
          "2022.03.3",
          "2022.03.4",
          "2022.03.5",
          "2022.04",
          "2022.04.1",
          "2022.04.2",
          "2022.04.3",
          "2022.04.4",
          "2022.04.5",
          "2022.05",
          "2022.05.1",
          "2022.05.2",
          "2022.05.3",
          "2022.05.4",
          "2022.05.5",
          "2022.06",
          "2022.06.1",
          "2022.06.2",
          "2022.06.3",
          "2022.06.4",
          "2022.06.5",
          "2022.07",
          "2022.07.1",
          "2022.07.2",
          "2022.07.3",
          "2022.07.4",
          "2022.07.5",
          "2022.08",
          "2022.08.1",
          "2022.08.2",
          "2022.08.3",
          "2022.08.4",
          "2022.08.5",
          "2022.09",
          "2022.09.1",
          "2022.09.2",
          "2022.09.3",
          "2022.09.4",
          "2022.09.5",
          "2022.10",
          "2022.10.1",
          "2022.10.2",
          "2022.10.3",
          "2022.10.4",
          "2022.10.5",
          "2022.11",
          "2022.11.1",
          "2022.11.2",
          "2022.11.3",
          "2022.11.4",
          "2022.11.5",
          "2022.12",
          "2022.12.1",
          "2022.12.2",
          "2022.12.3",
          "2022.12.4",
          "2022.12.5",
          "2023.01",
          "2023.01.1",
          "2023.01.2",
          "2023.01.3",
          "2023.01.4",
          "2023.01.5"
         ],
         "xaxis": "x",
         "y": [
          10.9,
          39.5,
          46.4,
          3.1,
          0,
          70.9,
          4.8,
          35.3,
          41.4,
          18.6,
          0,
          86.9,
          9.1,
          17.2,
          53.9,
          19.8,
          0,
          92.2,
          10.1,
          25.4,
          46.7,
          17.8,
          0,
          86.1,
          8.2,
          29.7,
          49.4,
          11.7,
          0.9,
          83.7,
          11.2,
          31.4,
          48.6,
          6.2,
          2.7,
          78.9,
          14.1,
          30,
          44.2,
          10.8,
          0.9,
          77.2,
          8.1,
          28.1,
          49,
          14.8,
          0,
          85.3,
          6.3,
          22.1,
          54.4,
          17.1,
          0,
          91.2,
          4.9,
          27.9,
          50.2,
          17,
          0,
          89.6,
          10.8,
          24.7,
          56.9,
          7.6,
          0,
          80.7,
          10,
          27.1,
          56.5,
          6.4,
          0,
          79.6,
          12.6,
          40.6,
          43.7,
          3.1,
          0,
          68.6,
          5.4,
          26.4,
          58,
          10.2,
          0,
          86.5,
          4.7,
          23.1,
          50,
          22.2,
          0,
          94.8,
          7,
          16.3,
          53.5,
          21.1,
          2.1,
          97.5,
          8.2,
          23.2,
          50.6,
          15,
          3.1,
          90.8,
          10,
          34.5,
          40.8,
          12,
          2.7,
          81.4,
          7.6,
          37.6,
          45.3,
          6.7,
          2.7,
          79.6,
          2,
          17.6,
          67.6,
          10.1,
          2.7,
          96.9,
          3.4,
          21.1,
          61.8,
          13.6,
          0,
          92.8,
          3.4,
          22.2,
          59.2,
          15.2,
          0,
          93.2,
          8.1,
          30.7,
          49.9,
          11.4,
          0,
          82.3,
          16,
          38.2,
          39.4,
          6.4,
          0,
          68.1,
          9.6,
          31.2,
          53.1,
          6.1,
          0,
          77.9,
          8.4,
          25.3,
          49.4,
          16.9,
          0,
          87.4,
          6.7,
          26.1,
          48.2,
          19,
          0,
          89.8,
          10,
          22.2,
          50.3,
          17.4,
          0,
          87.6,
          6.3,
          19,
          59.4,
          13.7,
          1.6,
          92.6,
          6.3,
          22,
          59.6,
          12,
          0,
          88.7,
          14.5,
          25.3,
          49.4,
          10.8,
          0,
          78.2,
          9.6,
          18.8,
          51.6,
          20,
          0,
          91,
          11,
          20.6,
          59.2,
          9.2,
          0,
          83.3,
          6.4,
          13.8,
          58.7,
          21,
          0,
          97.1,
          9.9,
          24.4,
          51.2,
          14.5,
          0,
          85.2,
          13,
          19,
          59.9,
          8.1,
          0,
          81.5,
          13,
          30.7,
          45.1,
          11.2,
          0,
          77.2,
          9.9,
          27.1,
          44,
          19,
          0,
          86.1,
          10.1,
          19.1,
          50,
          20.8,
          0,
          90.7,
          6.6,
          19,
          58.7,
          15.7,
          0,
          91.8,
          8.4,
          14,
          68,
          9.6,
          0,
          89.3,
          9.8,
          24.2,
          62.9,
          3.1,
          0,
          79.6,
          8,
          31.5,
          53,
          7.5,
          0,
          80,
          6.5,
          28.4,
          52.2,
          12.9,
          0,
          85.8,
          9.4,
          21.6,
          58,
          11,
          0,
          85.3,
          9.4,
          21.8,
          56.1,
          12.7,
          0,
          86,
          11,
          28.4,
          51.2,
          9.4,
          0,
          79.5,
          12.9,
          22.5,
          58.5,
          6.1,
          0,
          78.9,
          9.7,
          47.7,
          42.7,
          0,
          0,
          66.5,
          6.2,
          29.5,
          47.7,
          16.6,
          0,
          87.4,
          7.8,
          17.7,
          63,
          11.5,
          0,
          89.1,
          7.8,
          29.3,
          52.1,
          10.8,
          0,
          83,
          14.3,
          21.7,
          53.1,
          9.4,
          1.5,
          81,
          9.4,
          29.5,
          46.8,
          14.3,
          0,
          83,
          14.6,
          44.2,
          36.4,
          4.8,
          0,
          65.7,
          11.2,
          38.7,
          40.6,
          9.5,
          0,
          74.2,
          11.1,
          34.4,
          37.4,
          17.1,
          0,
          80.3,
          9.7,
          24.2,
          59.7,
          6.5,
          0,
          81.5,
          12.9,
          43.6,
          37.1,
          6.5,
          0,
          68.5,
          11.3,
          35.5,
          48.4,
          4.8,
          0,
          73.4,
          11.3,
          31.1,
          49.5,
          8.1,
          0,
          77.2,
          11.6,
          35,
          45,
          8.3,
          0,
          75.1,
          23.7,
          43,
          33.3,
          0,
          0,
          54.8,
          43.7,
          35.5,
          17.6,
          3.1,
          0,
          40.1,
          44.5,
          28.6,
          23.7,
          3.2,
          0,
          42.8,
          34.1,
          23.9,
          38.9,
          3.1,
          0,
          55.5,
          31.3,
          29.7,
          34.4,
          4.7,
          0,
          56.2,
          25.5,
          42.7,
          25.4,
          6.4,
          0,
          56.3,
          21.9,
          31.2,
          34.4,
          12.5,
          0,
          68.8,
          16.1,
          29,
          48.4,
          6.4,
          0,
          72.6,
          17.5,
          39.6,
          39.8,
          3.2,
          0,
          64.3,
          26.3,
          31,
          37.8,
          4.9,
          0,
          60.6,
          16.5,
          34.8,
          47.3,
          1.4,
          0,
          66.8,
          8.4,
          35.5,
          40.8,
          15.3,
          0,
          81.6,
          12.2,
          21.1,
          55.6,
          11,
          0,
          82.7,
          5.6,
          26.9,
          53.5,
          14,
          0,
          88,
          5.8,
          38.4,
          49.6,
          6.2,
          0,
          78.2,
          11.3,
          35.4,
          41.2,
          12.1,
          0,
          77,
          8.6,
          38.9,
          46.7,
          5.8,
          0,
          74.9,
          10.2,
          38.5,
          38.1,
          13.3,
          0,
          77.3,
          13,
          25.3,
          49.6,
          12,
          0,
          80.3,
          2.8,
          34.3,
          50.7,
          12.2,
          0,
          86.2,
          4.7,
          34.1,
          49.8,
          9.7,
          1.7,
          84.8,
          7.5,
          36.7,
          48.3,
          7.5,
          0,
          77.9,
          12.1,
          26.4,
          56.3,
          5.3,
          0,
          77.4,
          7.1,
          33.1,
          41.4,
          18.4,
          0,
          85.5,
          11.7,
          34.7,
          45.7,
          6.5,
          1.3,
          75.4,
          7.2,
          36.2,
          46.7,
          8.6,
          1.4,
          80.3,
          4,
          38.5,
          49.5,
          8,
          0,
          80.7,
          9.8,
          37.9,
          48.4,
          3.9,
          0,
          73.2,
          10.9,
          39.9,
          46.7,
          2.5,
          0,
          70.4,
          10.1,
          38.6,
          42.4,
          7.6,
          1.3,
          75.6,
          6.9,
          31.8,
          47.5,
          13.8,
          0,
          84.1,
          9.7,
          28.9,
          54.2,
          7.2,
          0,
          79.5,
          9.7,
          38.6,
          41.3,
          9.1,
          1.3,
          76.9,
          7.5,
          42.6,
          45.4,
          4.4,
          0,
          73.4
         ],
         "yaxis": "y"
        }
       ],
       "layout": {
        "legend": {
         "tracegroupgap": 0
        },
        "margin": {
         "t": 60
        },
        "template": {
         "data": {
          "bar": [
           {
            "error_x": {
             "color": "#2a3f5f"
            },
            "error_y": {
             "color": "#2a3f5f"
            },
            "marker": {
             "line": {
              "color": "#E5ECF6",
              "width": 0.5
             },
             "pattern": {
              "fillmode": "overlay",
              "size": 10,
              "solidity": 0.2
             }
            },
            "type": "bar"
           }
          ],
          "barpolar": [
           {
            "marker": {
             "line": {
              "color": "#E5ECF6",
              "width": 0.5
             },
             "pattern": {
              "fillmode": "overlay",
              "size": 10,
              "solidity": 0.2
             }
            },
            "type": "barpolar"
           }
          ],
          "carpet": [
           {
            "aaxis": {
             "endlinecolor": "#2a3f5f",
             "gridcolor": "white",
             "linecolor": "white",
             "minorgridcolor": "white",
             "startlinecolor": "#2a3f5f"
            },
            "baxis": {
             "endlinecolor": "#2a3f5f",
             "gridcolor": "white",
             "linecolor": "white",
             "minorgridcolor": "white",
             "startlinecolor": "#2a3f5f"
            },
            "type": "carpet"
           }
          ],
          "choropleth": [
           {
            "colorbar": {
             "outlinewidth": 0,
             "ticks": ""
            },
            "type": "choropleth"
           }
          ],
          "contour": [
           {
            "colorbar": {
             "outlinewidth": 0,
             "ticks": ""
            },
            "colorscale": [
             [
              0,
              "#0d0887"
             ],
             [
              0.1111111111111111,
              "#46039f"
             ],
             [
              0.2222222222222222,
              "#7201a8"
             ],
             [
              0.3333333333333333,
              "#9c179e"
             ],
             [
              0.4444444444444444,
              "#bd3786"
             ],
             [
              0.5555555555555556,
              "#d8576b"
             ],
             [
              0.6666666666666666,
              "#ed7953"
             ],
             [
              0.7777777777777778,
              "#fb9f3a"
             ],
             [
              0.8888888888888888,
              "#fdca26"
             ],
             [
              1,
              "#f0f921"
             ]
            ],
            "type": "contour"
           }
          ],
          "contourcarpet": [
           {
            "colorbar": {
             "outlinewidth": 0,
             "ticks": ""
            },
            "type": "contourcarpet"
           }
          ],
          "heatmap": [
           {
            "colorbar": {
             "outlinewidth": 0,
             "ticks": ""
            },
            "colorscale": [
             [
              0,
              "#0d0887"
             ],
             [
              0.1111111111111111,
              "#46039f"
             ],
             [
              0.2222222222222222,
              "#7201a8"
             ],
             [
              0.3333333333333333,
              "#9c179e"
             ],
             [
              0.4444444444444444,
              "#bd3786"
             ],
             [
              0.5555555555555556,
              "#d8576b"
             ],
             [
              0.6666666666666666,
              "#ed7953"
             ],
             [
              0.7777777777777778,
              "#fb9f3a"
             ],
             [
              0.8888888888888888,
              "#fdca26"
             ],
             [
              1,
              "#f0f921"
             ]
            ],
            "type": "heatmap"
           }
          ],
          "heatmapgl": [
           {
            "colorbar": {
             "outlinewidth": 0,
             "ticks": ""
            },
            "colorscale": [
             [
              0,
              "#0d0887"
             ],
             [
              0.1111111111111111,
              "#46039f"
             ],
             [
              0.2222222222222222,
              "#7201a8"
             ],
             [
              0.3333333333333333,
              "#9c179e"
             ],
             [
              0.4444444444444444,
              "#bd3786"
             ],
             [
              0.5555555555555556,
              "#d8576b"
             ],
             [
              0.6666666666666666,
              "#ed7953"
             ],
             [
              0.7777777777777778,
              "#fb9f3a"
             ],
             [
              0.8888888888888888,
              "#fdca26"
             ],
             [
              1,
              "#f0f921"
             ]
            ],
            "type": "heatmapgl"
           }
          ],
          "histogram": [
           {
            "marker": {
             "pattern": {
              "fillmode": "overlay",
              "size": 10,
              "solidity": 0.2
             }
            },
            "type": "histogram"
           }
          ],
          "histogram2d": [
           {
            "colorbar": {
             "outlinewidth": 0,
             "ticks": ""
            },
            "colorscale": [
             [
              0,
              "#0d0887"
             ],
             [
              0.1111111111111111,
              "#46039f"
             ],
             [
              0.2222222222222222,
              "#7201a8"
             ],
             [
              0.3333333333333333,
              "#9c179e"
             ],
             [
              0.4444444444444444,
              "#bd3786"
             ],
             [
              0.5555555555555556,
              "#d8576b"
             ],
             [
              0.6666666666666666,
              "#ed7953"
             ],
             [
              0.7777777777777778,
              "#fb9f3a"
             ],
             [
              0.8888888888888888,
              "#fdca26"
             ],
             [
              1,
              "#f0f921"
             ]
            ],
            "type": "histogram2d"
           }
          ],
          "histogram2dcontour": [
           {
            "colorbar": {
             "outlinewidth": 0,
             "ticks": ""
            },
            "colorscale": [
             [
              0,
              "#0d0887"
             ],
             [
              0.1111111111111111,
              "#46039f"
             ],
             [
              0.2222222222222222,
              "#7201a8"
             ],
             [
              0.3333333333333333,
              "#9c179e"
             ],
             [
              0.4444444444444444,
              "#bd3786"
             ],
             [
              0.5555555555555556,
              "#d8576b"
             ],
             [
              0.6666666666666666,
              "#ed7953"
             ],
             [
              0.7777777777777778,
              "#fb9f3a"
             ],
             [
              0.8888888888888888,
              "#fdca26"
             ],
             [
              1,
              "#f0f921"
             ]
            ],
            "type": "histogram2dcontour"
           }
          ],
          "mesh3d": [
           {
            "colorbar": {
             "outlinewidth": 0,
             "ticks": ""
            },
            "type": "mesh3d"
           }
          ],
          "parcoords": [
           {
            "line": {
             "colorbar": {
              "outlinewidth": 0,
              "ticks": ""
             }
            },
            "type": "parcoords"
           }
          ],
          "pie": [
           {
            "automargin": true,
            "type": "pie"
           }
          ],
          "scatter": [
           {
            "marker": {
             "colorbar": {
              "outlinewidth": 0,
              "ticks": ""
             }
            },
            "type": "scatter"
           }
          ],
          "scatter3d": [
           {
            "line": {
             "colorbar": {
              "outlinewidth": 0,
              "ticks": ""
             }
            },
            "marker": {
             "colorbar": {
              "outlinewidth": 0,
              "ticks": ""
             }
            },
            "type": "scatter3d"
           }
          ],
          "scattercarpet": [
           {
            "marker": {
             "colorbar": {
              "outlinewidth": 0,
              "ticks": ""
             }
            },
            "type": "scattercarpet"
           }
          ],
          "scattergeo": [
           {
            "marker": {
             "colorbar": {
              "outlinewidth": 0,
              "ticks": ""
             }
            },
            "type": "scattergeo"
           }
          ],
          "scattergl": [
           {
            "marker": {
             "colorbar": {
              "outlinewidth": 0,
              "ticks": ""
             }
            },
            "type": "scattergl"
           }
          ],
          "scattermapbox": [
           {
            "marker": {
             "colorbar": {
              "outlinewidth": 0,
              "ticks": ""
             }
            },
            "type": "scattermapbox"
           }
          ],
          "scatterpolar": [
           {
            "marker": {
             "colorbar": {
              "outlinewidth": 0,
              "ticks": ""
             }
            },
            "type": "scatterpolar"
           }
          ],
          "scatterpolargl": [
           {
            "marker": {
             "colorbar": {
              "outlinewidth": 0,
              "ticks": ""
             }
            },
            "type": "scatterpolargl"
           }
          ],
          "scatterternary": [
           {
            "marker": {
             "colorbar": {
              "outlinewidth": 0,
              "ticks": ""
             }
            },
            "type": "scatterternary"
           }
          ],
          "surface": [
           {
            "colorbar": {
             "outlinewidth": 0,
             "ticks": ""
            },
            "colorscale": [
             [
              0,
              "#0d0887"
             ],
             [
              0.1111111111111111,
              "#46039f"
             ],
             [
              0.2222222222222222,
              "#7201a8"
             ],
             [
              0.3333333333333333,
              "#9c179e"
             ],
             [
              0.4444444444444444,
              "#bd3786"
             ],
             [
              0.5555555555555556,
              "#d8576b"
             ],
             [
              0.6666666666666666,
              "#ed7953"
             ],
             [
              0.7777777777777778,
              "#fb9f3a"
             ],
             [
              0.8888888888888888,
              "#fdca26"
             ],
             [
              1,
              "#f0f921"
             ]
            ],
            "type": "surface"
           }
          ],
          "table": [
           {
            "cells": {
             "fill": {
              "color": "#EBF0F8"
             },
             "line": {
              "color": "white"
             }
            },
            "header": {
             "fill": {
              "color": "#C8D4E3"
             },
             "line": {
              "color": "white"
             }
            },
            "type": "table"
           }
          ]
         },
         "layout": {
          "annotationdefaults": {
           "arrowcolor": "#2a3f5f",
           "arrowhead": 0,
           "arrowwidth": 1
          },
          "autotypenumbers": "strict",
          "coloraxis": {
           "colorbar": {
            "outlinewidth": 0,
            "ticks": ""
           }
          },
          "colorscale": {
           "diverging": [
            [
             0,
             "#8e0152"
            ],
            [
             0.1,
             "#c51b7d"
            ],
            [
             0.2,
             "#de77ae"
            ],
            [
             0.3,
             "#f1b6da"
            ],
            [
             0.4,
             "#fde0ef"
            ],
            [
             0.5,
             "#f7f7f7"
            ],
            [
             0.6,
             "#e6f5d0"
            ],
            [
             0.7,
             "#b8e186"
            ],
            [
             0.8,
             "#7fbc41"
            ],
            [
             0.9,
             "#4d9221"
            ],
            [
             1,
             "#276419"
            ]
           ],
           "sequential": [
            [
             0,
             "#0d0887"
            ],
            [
             0.1111111111111111,
             "#46039f"
            ],
            [
             0.2222222222222222,
             "#7201a8"
            ],
            [
             0.3333333333333333,
             "#9c179e"
            ],
            [
             0.4444444444444444,
             "#bd3786"
            ],
            [
             0.5555555555555556,
             "#d8576b"
            ],
            [
             0.6666666666666666,
             "#ed7953"
            ],
            [
             0.7777777777777778,
             "#fb9f3a"
            ],
            [
             0.8888888888888888,
             "#fdca26"
            ],
            [
             1,
             "#f0f921"
            ]
           ],
           "sequentialminus": [
            [
             0,
             "#0d0887"
            ],
            [
             0.1111111111111111,
             "#46039f"
            ],
            [
             0.2222222222222222,
             "#7201a8"
            ],
            [
             0.3333333333333333,
             "#9c179e"
            ],
            [
             0.4444444444444444,
             "#bd3786"
            ],
            [
             0.5555555555555556,
             "#d8576b"
            ],
            [
             0.6666666666666666,
             "#ed7953"
            ],
            [
             0.7777777777777778,
             "#fb9f3a"
            ],
            [
             0.8888888888888888,
             "#fdca26"
            ],
            [
             1,
             "#f0f921"
            ]
           ]
          },
          "colorway": [
           "#636efa",
           "#EF553B",
           "#00cc96",
           "#ab63fa",
           "#FFA15A",
           "#19d3f3",
           "#FF6692",
           "#B6E880",
           "#FF97FF",
           "#FECB52"
          ],
          "font": {
           "color": "#2a3f5f"
          },
          "geo": {
           "bgcolor": "white",
           "lakecolor": "white",
           "landcolor": "#E5ECF6",
           "showlakes": true,
           "showland": true,
           "subunitcolor": "white"
          },
          "hoverlabel": {
           "align": "left"
          },
          "hovermode": "closest",
          "mapbox": {
           "style": "light"
          },
          "paper_bgcolor": "white",
          "plot_bgcolor": "#E5ECF6",
          "polar": {
           "angularaxis": {
            "gridcolor": "white",
            "linecolor": "white",
            "ticks": ""
           },
           "bgcolor": "#E5ECF6",
           "radialaxis": {
            "gridcolor": "white",
            "linecolor": "white",
            "ticks": ""
           }
          },
          "scene": {
           "xaxis": {
            "backgroundcolor": "#E5ECF6",
            "gridcolor": "white",
            "gridwidth": 2,
            "linecolor": "white",
            "showbackground": true,
            "ticks": "",
            "zerolinecolor": "white"
           },
           "yaxis": {
            "backgroundcolor": "#E5ECF6",
            "gridcolor": "white",
            "gridwidth": 2,
            "linecolor": "white",
            "showbackground": true,
            "ticks": "",
            "zerolinecolor": "white"
           },
           "zaxis": {
            "backgroundcolor": "#E5ECF6",
            "gridcolor": "white",
            "gridwidth": 2,
            "linecolor": "white",
            "showbackground": true,
            "ticks": "",
            "zerolinecolor": "white"
           }
          },
          "shapedefaults": {
           "line": {
            "color": "#2a3f5f"
           }
          },
          "ternary": {
           "aaxis": {
            "gridcolor": "white",
            "linecolor": "white",
            "ticks": ""
           },
           "baxis": {
            "gridcolor": "white",
            "linecolor": "white",
            "ticks": ""
           },
           "bgcolor": "#E5ECF6",
           "caxis": {
            "gridcolor": "white",
            "linecolor": "white",
            "ticks": ""
           }
          },
          "title": {
           "x": 0.05
          },
          "xaxis": {
           "automargin": true,
           "gridcolor": "white",
           "linecolor": "white",
           "ticks": "",
           "title": {
            "standoff": 15
           },
           "zerolinecolor": "white",
           "zerolinewidth": 2
          },
          "yaxis": {
           "automargin": true,
           "gridcolor": "white",
           "linecolor": "white",
           "ticks": "",
           "title": {
            "standoff": 15
           },
           "zerolinecolor": "white",
           "zerolinewidth": 2
          }
         }
        },
        "xaxis": {
         "anchor": "y",
         "domain": [
          0,
          1
         ],
         "title": {
          "text": "시기"
         }
        },
        "yaxis": {
         "anchor": "x",
         "domain": [
          0,
          1
         ],
         "title": {
          "text": "섬유제품;의복제외"
         }
        }
       }
      },
      "text/html": [
       "<div>                            <div id=\"2e2d0020-cb84-443d-bdd2-1d994f8ff765\" class=\"plotly-graph-div\" style=\"height:525px; width:100%;\"></div>            <script type=\"text/javascript\">                require([\"plotly\"], function(Plotly) {                    window.PLOTLYENV=window.PLOTLYENV || {};                                    if (document.getElementById(\"2e2d0020-cb84-443d-bdd2-1d994f8ff765\")) {                    Plotly.newPlot(                        \"2e2d0020-cb84-443d-bdd2-1d994f8ff765\",                        [{\"hovertemplate\":\"\\uc2dc\\uae30=%{x}<br>\\uc12c\\uc720\\uc81c\\ud488;\\uc758\\ubcf5\\uc81c\\uc678=%{y}<extra></extra>\",\"legendgroup\":\"\",\"line\":{\"color\":\"#636efa\",\"dash\":\"solid\"},\"marker\":{\"symbol\":\"circle\"},\"mode\":\"lines+markers\",\"name\":\"\",\"orientation\":\"v\",\"showlegend\":false,\"x\":[\"2015.02\",\"2015.02.1\",\"2015.02.2\",\"2015.02.3\",\"2015.02.4\",\"2015.02.5\",\"2015.03\",\"2015.03.1\",\"2015.03.2\",\"2015.03.3\",\"2015.03.4\",\"2015.03.5\",\"2015.04\",\"2015.04.1\",\"2015.04.2\",\"2015.04.3\",\"2015.04.4\",\"2015.04.5\",\"2015.05\",\"2015.05.1\",\"2015.05.2\",\"2015.05.3\",\"2015.05.4\",\"2015.05.5\",\"2015.06\",\"2015.06.1\",\"2015.06.2\",\"2015.06.3\",\"2015.06.4\",\"2015.06.5\",\"2015.07\",\"2015.07.1\",\"2015.07.2\",\"2015.07.3\",\"2015.07.4\",\"2015.07.5\",\"2015.08\",\"2015.08.1\",\"2015.08.2\",\"2015.08.3\",\"2015.08.4\",\"2015.08.5\",\"2015.09\",\"2015.09.1\",\"2015.09.2\",\"2015.09.3\",\"2015.09.4\",\"2015.09.5\",\"2015.10\",\"2015.10.1\",\"2015.10.2\",\"2015.10.3\",\"2015.10.4\",\"2015.10.5\",\"2015.11\",\"2015.11.1\",\"2015.11.2\",\"2015.11.3\",\"2015.11.4\",\"2015.11.5\",\"2015.12\",\"2015.12.1\",\"2015.12.2\",\"2015.12.3\",\"2015.12.4\",\"2015.12.5\",\"2016.01\",\"2016.01.1\",\"2016.01.2\",\"2016.01.3\",\"2016.01.4\",\"2016.01.5\",\"2016.02\",\"2016.02.1\",\"2016.02.2\",\"2016.02.3\",\"2016.02.4\",\"2016.02.5\",\"2016.03\",\"2016.03.1\",\"2016.03.2\",\"2016.03.3\",\"2016.03.4\",\"2016.03.5\",\"2016.04\",\"2016.04.1\",\"2016.04.2\",\"2016.04.3\",\"2016.04.4\",\"2016.04.5\",\"2016.05\",\"2016.05.1\",\"2016.05.2\",\"2016.05.3\",\"2016.05.4\",\"2016.05.5\",\"2016.06\",\"2016.06.1\",\"2016.06.2\",\"2016.06.3\",\"2016.06.4\",\"2016.06.5\",\"2016.07\",\"2016.07.1\",\"2016.07.2\",\"2016.07.3\",\"2016.07.4\",\"2016.07.5\",\"2016.08\",\"2016.08.1\",\"2016.08.2\",\"2016.08.3\",\"2016.08.4\",\"2016.08.5\",\"2016.09\",\"2016.09.1\",\"2016.09.2\",\"2016.09.3\",\"2016.09.4\",\"2016.09.5\",\"2016.10\",\"2016.10.1\",\"2016.10.2\",\"2016.10.3\",\"2016.10.4\",\"2016.10.5\",\"2016.11\",\"2016.11.1\",\"2016.11.2\",\"2016.11.3\",\"2016.11.4\",\"2016.11.5\",\"2016.12\",\"2016.12.1\",\"2016.12.2\",\"2016.12.3\",\"2016.12.4\",\"2016.12.5\",\"2017.01\",\"2017.01.1\",\"2017.01.2\",\"2017.01.3\",\"2017.01.4\",\"2017.01.5\",\"2017.02\",\"2017.02.1\",\"2017.02.2\",\"2017.02.3\",\"2017.02.4\",\"2017.02.5\",\"2017.03\",\"2017.03.1\",\"2017.03.2\",\"2017.03.3\",\"2017.03.4\",\"2017.03.5\",\"2017.04\",\"2017.04.1\",\"2017.04.2\",\"2017.04.3\",\"2017.04.4\",\"2017.04.5\",\"2017.05\",\"2017.05.1\",\"2017.05.2\",\"2017.05.3\",\"2017.05.4\",\"2017.05.5\",\"2017.06\",\"2017.06.1\",\"2017.06.2\",\"2017.06.3\",\"2017.06.4\",\"2017.06.5\",\"2017.07\",\"2017.07.1\",\"2017.07.2\",\"2017.07.3\",\"2017.07.4\",\"2017.07.5\",\"2017.08\",\"2017.08.1\",\"2017.08.2\",\"2017.08.3\",\"2017.08.4\",\"2017.08.5\",\"2017.09\",\"2017.09.1\",\"2017.09.2\",\"2017.09.3\",\"2017.09.4\",\"2017.09.5\",\"2017.10\",\"2017.10.1\",\"2017.10.2\",\"2017.10.3\",\"2017.10.4\",\"2017.10.5\",\"2017.11\",\"2017.11.1\",\"2017.11.2\",\"2017.11.3\",\"2017.11.4\",\"2017.11.5\",\"2017.12\",\"2017.12.1\",\"2017.12.2\",\"2017.12.3\",\"2017.12.4\",\"2017.12.5\",\"2018.01\",\"2018.01.1\",\"2018.01.2\",\"2018.01.3\",\"2018.01.4\",\"2018.01.5\",\"2018.02\",\"2018.02.1\",\"2018.02.2\",\"2018.02.3\",\"2018.02.4\",\"2018.02.5\",\"2018.03\",\"2018.03.1\",\"2018.03.2\",\"2018.03.3\",\"2018.03.4\",\"2018.03.5\",\"2018.04\",\"2018.04.1\",\"2018.04.2\",\"2018.04.3\",\"2018.04.4\",\"2018.04.5\",\"2018.05\",\"2018.05.1\",\"2018.05.2\",\"2018.05.3\",\"2018.05.4\",\"2018.05.5\",\"2018.06\",\"2018.06.1\",\"2018.06.2\",\"2018.06.3\",\"2018.06.4\",\"2018.06.5\",\"2018.07\",\"2018.07.1\",\"2018.07.2\",\"2018.07.3\",\"2018.07.4\",\"2018.07.5\",\"2018.08\",\"2018.08.1\",\"2018.08.2\",\"2018.08.3\",\"2018.08.4\",\"2018.08.5\",\"2018.09\",\"2018.09.1\",\"2018.09.2\",\"2018.09.3\",\"2018.09.4\",\"2018.09.5\",\"2018.10\",\"2018.10.1\",\"2018.10.2\",\"2018.10.3\",\"2018.10.4\",\"2018.10.5\",\"2018.11\",\"2018.11.1\",\"2018.11.2\",\"2018.11.3\",\"2018.11.4\",\"2018.11.5\",\"2018.12\",\"2018.12.1\",\"2018.12.2\",\"2018.12.3\",\"2018.12.4\",\"2018.12.5\",\"2019.01\",\"2019.01.1\",\"2019.01.2\",\"2019.01.3\",\"2019.01.4\",\"2019.01.5\",\"2019.02\",\"2019.02.1\",\"2019.02.2\",\"2019.02.3\",\"2019.02.4\",\"2019.02.5\",\"2019.03\",\"2019.03.1\",\"2019.03.2\",\"2019.03.3\",\"2019.03.4\",\"2019.03.5\",\"2019.04\",\"2019.04.1\",\"2019.04.2\",\"2019.04.3\",\"2019.04.4\",\"2019.04.5\",\"2019.05\",\"2019.05.1\",\"2019.05.2\",\"2019.05.3\",\"2019.05.4\",\"2019.05.5\",\"2019.06\",\"2019.06.1\",\"2019.06.2\",\"2019.06.3\",\"2019.06.4\",\"2019.06.5\",\"2019.07\",\"2019.07.1\",\"2019.07.2\",\"2019.07.3\",\"2019.07.4\",\"2019.07.5\",\"2019.08\",\"2019.08.1\",\"2019.08.2\",\"2019.08.3\",\"2019.08.4\",\"2019.08.5\",\"2019.09\",\"2019.09.1\",\"2019.09.2\",\"2019.09.3\",\"2019.09.4\",\"2019.09.5\",\"2019.10\",\"2019.10.1\",\"2019.10.2\",\"2019.10.3\",\"2019.10.4\",\"2019.10.5\",\"2019.11\",\"2019.11.1\",\"2019.11.2\",\"2019.11.3\",\"2019.11.4\",\"2019.11.5\",\"2019.12\",\"2019.12.1\",\"2019.12.2\",\"2019.12.3\",\"2019.12.4\",\"2019.12.5\",\"2020.01\",\"2020.01.1\",\"2020.01.2\",\"2020.01.3\",\"2020.01.4\",\"2020.01.5\",\"2020.02\",\"2020.02.1\",\"2020.02.2\",\"2020.02.3\",\"2020.02.4\",\"2020.02.5\",\"2020.03\",\"2020.03.1\",\"2020.03.2\",\"2020.03.3\",\"2020.03.4\",\"2020.03.5\",\"2020.04\",\"2020.04.1\",\"2020.04.2\",\"2020.04.3\",\"2020.04.4\",\"2020.04.5\",\"2020.05\",\"2020.05.1\",\"2020.05.2\",\"2020.05.3\",\"2020.05.4\",\"2020.05.5\",\"2020.06\",\"2020.06.1\",\"2020.06.2\",\"2020.06.3\",\"2020.06.4\",\"2020.06.5\",\"2020.07\",\"2020.07.1\",\"2020.07.2\",\"2020.07.3\",\"2020.07.4\",\"2020.07.5\",\"2020.08\",\"2020.08.1\",\"2020.08.2\",\"2020.08.3\",\"2020.08.4\",\"2020.08.5\",\"2020.09\",\"2020.09.1\",\"2020.09.2\",\"2020.09.3\",\"2020.09.4\",\"2020.09.5\",\"2020.10\",\"2020.10.1\",\"2020.10.2\",\"2020.10.3\",\"2020.10.4\",\"2020.10.5\",\"2020.11\",\"2020.11.1\",\"2020.11.2\",\"2020.11.3\",\"2020.11.4\",\"2020.11.5\",\"2020.12\",\"2020.12.1\",\"2020.12.2\",\"2020.12.3\",\"2020.12.4\",\"2020.12.5\",\"2021.01\",\"2021.01.1\",\"2021.01.2\",\"2021.01.3\",\"2021.01.4\",\"2021.01.5\",\"2021.02\",\"2021.02.1\",\"2021.02.2\",\"2021.02.3\",\"2021.02.4\",\"2021.02.5\",\"2021.03\",\"2021.03.1\",\"2021.03.2\",\"2021.03.3\",\"2021.03.4\",\"2021.03.5\",\"2021.04\",\"2021.04.1\",\"2021.04.2\",\"2021.04.3\",\"2021.04.4\",\"2021.04.5\",\"2021.05\",\"2021.05.1\",\"2021.05.2\",\"2021.05.3\",\"2021.05.4\",\"2021.05.5\",\"2021.06\",\"2021.06.1\",\"2021.06.2\",\"2021.06.3\",\"2021.06.4\",\"2021.06.5\",\"2021.07\",\"2021.07.1\",\"2021.07.2\",\"2021.07.3\",\"2021.07.4\",\"2021.07.5\",\"2021.08\",\"2021.08.1\",\"2021.08.2\",\"2021.08.3\",\"2021.08.4\",\"2021.08.5\",\"2021.09\",\"2021.09.1\",\"2021.09.2\",\"2021.09.3\",\"2021.09.4\",\"2021.09.5\",\"2021.10\",\"2021.10.1\",\"2021.10.2\",\"2021.10.3\",\"2021.10.4\",\"2021.10.5\",\"2021.11\",\"2021.11.1\",\"2021.11.2\",\"2021.11.3\",\"2021.11.4\",\"2021.11.5\",\"2021.12\",\"2021.12.1\",\"2021.12.2\",\"2021.12.3\",\"2021.12.4\",\"2021.12.5\",\"2022.01\",\"2022.01.1\",\"2022.01.2\",\"2022.01.3\",\"2022.01.4\",\"2022.01.5\",\"2022.02\",\"2022.02.1\",\"2022.02.2\",\"2022.02.3\",\"2022.02.4\",\"2022.02.5\",\"2022.03\",\"2022.03.1\",\"2022.03.2\",\"2022.03.3\",\"2022.03.4\",\"2022.03.5\",\"2022.04\",\"2022.04.1\",\"2022.04.2\",\"2022.04.3\",\"2022.04.4\",\"2022.04.5\",\"2022.05\",\"2022.05.1\",\"2022.05.2\",\"2022.05.3\",\"2022.05.4\",\"2022.05.5\",\"2022.06\",\"2022.06.1\",\"2022.06.2\",\"2022.06.3\",\"2022.06.4\",\"2022.06.5\",\"2022.07\",\"2022.07.1\",\"2022.07.2\",\"2022.07.3\",\"2022.07.4\",\"2022.07.5\",\"2022.08\",\"2022.08.1\",\"2022.08.2\",\"2022.08.3\",\"2022.08.4\",\"2022.08.5\",\"2022.09\",\"2022.09.1\",\"2022.09.2\",\"2022.09.3\",\"2022.09.4\",\"2022.09.5\",\"2022.10\",\"2022.10.1\",\"2022.10.2\",\"2022.10.3\",\"2022.10.4\",\"2022.10.5\",\"2022.11\",\"2022.11.1\",\"2022.11.2\",\"2022.11.3\",\"2022.11.4\",\"2022.11.5\",\"2022.12\",\"2022.12.1\",\"2022.12.2\",\"2022.12.3\",\"2022.12.4\",\"2022.12.5\",\"2023.01\",\"2023.01.1\",\"2023.01.2\",\"2023.01.3\",\"2023.01.4\",\"2023.01.5\"],\"xaxis\":\"x\",\"y\":[10.9,39.5,46.4,3.1,0.0,70.9,4.8,35.3,41.4,18.6,0.0,86.9,9.1,17.2,53.9,19.8,0.0,92.2,10.1,25.4,46.7,17.8,0.0,86.1,8.2,29.7,49.4,11.7,0.9,83.7,11.2,31.4,48.6,6.2,2.7,78.9,14.1,30.0,44.2,10.8,0.9,77.2,8.1,28.1,49.0,14.8,0.0,85.3,6.3,22.1,54.4,17.1,0.0,91.2,4.9,27.9,50.2,17.0,0.0,89.6,10.8,24.7,56.9,7.6,0.0,80.7,10.0,27.1,56.5,6.4,0.0,79.6,12.6,40.6,43.7,3.1,0.0,68.6,5.4,26.4,58.0,10.2,0.0,86.5,4.7,23.1,50.0,22.2,0.0,94.8,7.0,16.3,53.5,21.1,2.1,97.5,8.2,23.2,50.6,15.0,3.1,90.8,10.0,34.5,40.8,12.0,2.7,81.4,7.6,37.6,45.3,6.7,2.7,79.6,2.0,17.6,67.6,10.1,2.7,96.9,3.4,21.1,61.8,13.6,0.0,92.8,3.4,22.2,59.2,15.2,0.0,93.2,8.1,30.7,49.9,11.4,0.0,82.3,16.0,38.2,39.4,6.4,0.0,68.1,9.6,31.2,53.1,6.1,0.0,77.9,8.4,25.3,49.4,16.9,0.0,87.4,6.7,26.1,48.2,19.0,0.0,89.8,10.0,22.2,50.3,17.4,0.0,87.6,6.3,19.0,59.4,13.7,1.6,92.6,6.3,22.0,59.6,12.0,0.0,88.7,14.5,25.3,49.4,10.8,0.0,78.2,9.6,18.8,51.6,20.0,0.0,91.0,11.0,20.6,59.2,9.2,0.0,83.3,6.4,13.8,58.7,21.0,0.0,97.1,9.9,24.4,51.2,14.5,0.0,85.2,13.0,19.0,59.9,8.1,0.0,81.5,13.0,30.7,45.1,11.2,0.0,77.2,9.9,27.1,44.0,19.0,0.0,86.1,10.1,19.1,50.0,20.8,0.0,90.7,6.6,19.0,58.7,15.7,0.0,91.8,8.4,14.0,68.0,9.6,0.0,89.3,9.8,24.2,62.9,3.1,0.0,79.6,8.0,31.5,53.0,7.5,0.0,80.0,6.5,28.4,52.2,12.9,0.0,85.8,9.4,21.6,58.0,11.0,0.0,85.3,9.4,21.8,56.1,12.7,0.0,86.0,11.0,28.4,51.2,9.4,0.0,79.5,12.9,22.5,58.5,6.1,0.0,78.9,9.7,47.7,42.7,0.0,0.0,66.5,6.2,29.5,47.7,16.6,0.0,87.4,7.8,17.7,63.0,11.5,0.0,89.1,7.8,29.3,52.1,10.8,0.0,83.0,14.3,21.7,53.1,9.4,1.5,81.0,9.4,29.5,46.8,14.3,0.0,83.0,14.6,44.2,36.4,4.8,0.0,65.7,11.2,38.7,40.6,9.5,0.0,74.2,11.1,34.4,37.4,17.1,0.0,80.3,9.7,24.2,59.7,6.5,0.0,81.5,12.9,43.6,37.1,6.5,0.0,68.5,11.3,35.5,48.4,4.8,0.0,73.4,11.3,31.1,49.5,8.1,0.0,77.2,11.6,35.0,45.0,8.3,0.0,75.1,23.7,43.0,33.3,0.0,0.0,54.8,43.7,35.5,17.6,3.1,0.0,40.1,44.5,28.6,23.7,3.2,0.0,42.8,34.1,23.9,38.9,3.1,0.0,55.5,31.3,29.7,34.4,4.7,0.0,56.2,25.5,42.7,25.4,6.4,0.0,56.3,21.9,31.2,34.4,12.5,0.0,68.8,16.1,29.0,48.4,6.4,0.0,72.6,17.5,39.6,39.8,3.2,0.0,64.3,26.3,31.0,37.8,4.9,0.0,60.6,16.5,34.8,47.3,1.4,0.0,66.8,8.4,35.5,40.8,15.3,0.0,81.6,12.2,21.1,55.6,11.0,0.0,82.7,5.6,26.9,53.5,14.0,0.0,88.0,5.8,38.4,49.6,6.2,0.0,78.2,11.3,35.4,41.2,12.1,0.0,77.0,8.6,38.9,46.7,5.8,0.0,74.9,10.2,38.5,38.1,13.3,0.0,77.3,13.0,25.3,49.6,12.0,0.0,80.3,2.8,34.3,50.7,12.2,0.0,86.2,4.7,34.1,49.8,9.7,1.7,84.8,7.5,36.7,48.3,7.5,0.0,77.9,12.1,26.4,56.3,5.3,0.0,77.4,7.1,33.1,41.4,18.4,0.0,85.5,11.7,34.7,45.7,6.5,1.3,75.4,7.2,36.2,46.7,8.6,1.4,80.3,4.0,38.5,49.5,8.0,0.0,80.7,9.8,37.9,48.4,3.9,0.0,73.2,10.9,39.9,46.7,2.5,0.0,70.4,10.1,38.6,42.4,7.6,1.3,75.6,6.9,31.8,47.5,13.8,0.0,84.1,9.7,28.9,54.2,7.2,0.0,79.5,9.7,38.6,41.3,9.1,1.3,76.9,7.5,42.6,45.4,4.4,0.0,73.4],\"yaxis\":\"y\",\"type\":\"scatter\"}],                        {\"template\":{\"data\":{\"bar\":[{\"error_x\":{\"color\":\"#2a3f5f\"},\"error_y\":{\"color\":\"#2a3f5f\"},\"marker\":{\"line\":{\"color\":\"#E5ECF6\",\"width\":0.5},\"pattern\":{\"fillmode\":\"overlay\",\"size\":10,\"solidity\":0.2}},\"type\":\"bar\"}],\"barpolar\":[{\"marker\":{\"line\":{\"color\":\"#E5ECF6\",\"width\":0.5},\"pattern\":{\"fillmode\":\"overlay\",\"size\":10,\"solidity\":0.2}},\"type\":\"barpolar\"}],\"carpet\":[{\"aaxis\":{\"endlinecolor\":\"#2a3f5f\",\"gridcolor\":\"white\",\"linecolor\":\"white\",\"minorgridcolor\":\"white\",\"startlinecolor\":\"#2a3f5f\"},\"baxis\":{\"endlinecolor\":\"#2a3f5f\",\"gridcolor\":\"white\",\"linecolor\":\"white\",\"minorgridcolor\":\"white\",\"startlinecolor\":\"#2a3f5f\"},\"type\":\"carpet\"}],\"choropleth\":[{\"colorbar\":{\"outlinewidth\":0,\"ticks\":\"\"},\"type\":\"choropleth\"}],\"contour\":[{\"colorbar\":{\"outlinewidth\":0,\"ticks\":\"\"},\"colorscale\":[[0.0,\"#0d0887\"],[0.1111111111111111,\"#46039f\"],[0.2222222222222222,\"#7201a8\"],[0.3333333333333333,\"#9c179e\"],[0.4444444444444444,\"#bd3786\"],[0.5555555555555556,\"#d8576b\"],[0.6666666666666666,\"#ed7953\"],[0.7777777777777778,\"#fb9f3a\"],[0.8888888888888888,\"#fdca26\"],[1.0,\"#f0f921\"]],\"type\":\"contour\"}],\"contourcarpet\":[{\"colorbar\":{\"outlinewidth\":0,\"ticks\":\"\"},\"type\":\"contourcarpet\"}],\"heatmap\":[{\"colorbar\":{\"outlinewidth\":0,\"ticks\":\"\"},\"colorscale\":[[0.0,\"#0d0887\"],[0.1111111111111111,\"#46039f\"],[0.2222222222222222,\"#7201a8\"],[0.3333333333333333,\"#9c179e\"],[0.4444444444444444,\"#bd3786\"],[0.5555555555555556,\"#d8576b\"],[0.6666666666666666,\"#ed7953\"],[0.7777777777777778,\"#fb9f3a\"],[0.8888888888888888,\"#fdca26\"],[1.0,\"#f0f921\"]],\"type\":\"heatmap\"}],\"heatmapgl\":[{\"colorbar\":{\"outlinewidth\":0,\"ticks\":\"\"},\"colorscale\":[[0.0,\"#0d0887\"],[0.1111111111111111,\"#46039f\"],[0.2222222222222222,\"#7201a8\"],[0.3333333333333333,\"#9c179e\"],[0.4444444444444444,\"#bd3786\"],[0.5555555555555556,\"#d8576b\"],[0.6666666666666666,\"#ed7953\"],[0.7777777777777778,\"#fb9f3a\"],[0.8888888888888888,\"#fdca26\"],[1.0,\"#f0f921\"]],\"type\":\"heatmapgl\"}],\"histogram\":[{\"marker\":{\"pattern\":{\"fillmode\":\"overlay\",\"size\":10,\"solidity\":0.2}},\"type\":\"histogram\"}],\"histogram2d\":[{\"colorbar\":{\"outlinewidth\":0,\"ticks\":\"\"},\"colorscale\":[[0.0,\"#0d0887\"],[0.1111111111111111,\"#46039f\"],[0.2222222222222222,\"#7201a8\"],[0.3333333333333333,\"#9c179e\"],[0.4444444444444444,\"#bd3786\"],[0.5555555555555556,\"#d8576b\"],[0.6666666666666666,\"#ed7953\"],[0.7777777777777778,\"#fb9f3a\"],[0.8888888888888888,\"#fdca26\"],[1.0,\"#f0f921\"]],\"type\":\"histogram2d\"}],\"histogram2dcontour\":[{\"colorbar\":{\"outlinewidth\":0,\"ticks\":\"\"},\"colorscale\":[[0.0,\"#0d0887\"],[0.1111111111111111,\"#46039f\"],[0.2222222222222222,\"#7201a8\"],[0.3333333333333333,\"#9c179e\"],[0.4444444444444444,\"#bd3786\"],[0.5555555555555556,\"#d8576b\"],[0.6666666666666666,\"#ed7953\"],[0.7777777777777778,\"#fb9f3a\"],[0.8888888888888888,\"#fdca26\"],[1.0,\"#f0f921\"]],\"type\":\"histogram2dcontour\"}],\"mesh3d\":[{\"colorbar\":{\"outlinewidth\":0,\"ticks\":\"\"},\"type\":\"mesh3d\"}],\"parcoords\":[{\"line\":{\"colorbar\":{\"outlinewidth\":0,\"ticks\":\"\"}},\"type\":\"parcoords\"}],\"pie\":[{\"automargin\":true,\"type\":\"pie\"}],\"scatter\":[{\"marker\":{\"colorbar\":{\"outlinewidth\":0,\"ticks\":\"\"}},\"type\":\"scatter\"}],\"scatter3d\":[{\"line\":{\"colorbar\":{\"outlinewidth\":0,\"ticks\":\"\"}},\"marker\":{\"colorbar\":{\"outlinewidth\":0,\"ticks\":\"\"}},\"type\":\"scatter3d\"}],\"scattercarpet\":[{\"marker\":{\"colorbar\":{\"outlinewidth\":0,\"ticks\":\"\"}},\"type\":\"scattercarpet\"}],\"scattergeo\":[{\"marker\":{\"colorbar\":{\"outlinewidth\":0,\"ticks\":\"\"}},\"type\":\"scattergeo\"}],\"scattergl\":[{\"marker\":{\"colorbar\":{\"outlinewidth\":0,\"ticks\":\"\"}},\"type\":\"scattergl\"}],\"scattermapbox\":[{\"marker\":{\"colorbar\":{\"outlinewidth\":0,\"ticks\":\"\"}},\"type\":\"scattermapbox\"}],\"scatterpolar\":[{\"marker\":{\"colorbar\":{\"outlinewidth\":0,\"ticks\":\"\"}},\"type\":\"scatterpolar\"}],\"scatterpolargl\":[{\"marker\":{\"colorbar\":{\"outlinewidth\":0,\"ticks\":\"\"}},\"type\":\"scatterpolargl\"}],\"scatterternary\":[{\"marker\":{\"colorbar\":{\"outlinewidth\":0,\"ticks\":\"\"}},\"type\":\"scatterternary\"}],\"surface\":[{\"colorbar\":{\"outlinewidth\":0,\"ticks\":\"\"},\"colorscale\":[[0.0,\"#0d0887\"],[0.1111111111111111,\"#46039f\"],[0.2222222222222222,\"#7201a8\"],[0.3333333333333333,\"#9c179e\"],[0.4444444444444444,\"#bd3786\"],[0.5555555555555556,\"#d8576b\"],[0.6666666666666666,\"#ed7953\"],[0.7777777777777778,\"#fb9f3a\"],[0.8888888888888888,\"#fdca26\"],[1.0,\"#f0f921\"]],\"type\":\"surface\"}],\"table\":[{\"cells\":{\"fill\":{\"color\":\"#EBF0F8\"},\"line\":{\"color\":\"white\"}},\"header\":{\"fill\":{\"color\":\"#C8D4E3\"},\"line\":{\"color\":\"white\"}},\"type\":\"table\"}]},\"layout\":{\"annotationdefaults\":{\"arrowcolor\":\"#2a3f5f\",\"arrowhead\":0,\"arrowwidth\":1},\"autotypenumbers\":\"strict\",\"coloraxis\":{\"colorbar\":{\"outlinewidth\":0,\"ticks\":\"\"}},\"colorscale\":{\"diverging\":[[0,\"#8e0152\"],[0.1,\"#c51b7d\"],[0.2,\"#de77ae\"],[0.3,\"#f1b6da\"],[0.4,\"#fde0ef\"],[0.5,\"#f7f7f7\"],[0.6,\"#e6f5d0\"],[0.7,\"#b8e186\"],[0.8,\"#7fbc41\"],[0.9,\"#4d9221\"],[1,\"#276419\"]],\"sequential\":[[0.0,\"#0d0887\"],[0.1111111111111111,\"#46039f\"],[0.2222222222222222,\"#7201a8\"],[0.3333333333333333,\"#9c179e\"],[0.4444444444444444,\"#bd3786\"],[0.5555555555555556,\"#d8576b\"],[0.6666666666666666,\"#ed7953\"],[0.7777777777777778,\"#fb9f3a\"],[0.8888888888888888,\"#fdca26\"],[1.0,\"#f0f921\"]],\"sequentialminus\":[[0.0,\"#0d0887\"],[0.1111111111111111,\"#46039f\"],[0.2222222222222222,\"#7201a8\"],[0.3333333333333333,\"#9c179e\"],[0.4444444444444444,\"#bd3786\"],[0.5555555555555556,\"#d8576b\"],[0.6666666666666666,\"#ed7953\"],[0.7777777777777778,\"#fb9f3a\"],[0.8888888888888888,\"#fdca26\"],[1.0,\"#f0f921\"]]},\"colorway\":[\"#636efa\",\"#EF553B\",\"#00cc96\",\"#ab63fa\",\"#FFA15A\",\"#19d3f3\",\"#FF6692\",\"#B6E880\",\"#FF97FF\",\"#FECB52\"],\"font\":{\"color\":\"#2a3f5f\"},\"geo\":{\"bgcolor\":\"white\",\"lakecolor\":\"white\",\"landcolor\":\"#E5ECF6\",\"showlakes\":true,\"showland\":true,\"subunitcolor\":\"white\"},\"hoverlabel\":{\"align\":\"left\"},\"hovermode\":\"closest\",\"mapbox\":{\"style\":\"light\"},\"paper_bgcolor\":\"white\",\"plot_bgcolor\":\"#E5ECF6\",\"polar\":{\"angularaxis\":{\"gridcolor\":\"white\",\"linecolor\":\"white\",\"ticks\":\"\"},\"bgcolor\":\"#E5ECF6\",\"radialaxis\":{\"gridcolor\":\"white\",\"linecolor\":\"white\",\"ticks\":\"\"}},\"scene\":{\"xaxis\":{\"backgroundcolor\":\"#E5ECF6\",\"gridcolor\":\"white\",\"gridwidth\":2,\"linecolor\":\"white\",\"showbackground\":true,\"ticks\":\"\",\"zerolinecolor\":\"white\"},\"yaxis\":{\"backgroundcolor\":\"#E5ECF6\",\"gridcolor\":\"white\",\"gridwidth\":2,\"linecolor\":\"white\",\"showbackground\":true,\"ticks\":\"\",\"zerolinecolor\":\"white\"},\"zaxis\":{\"backgroundcolor\":\"#E5ECF6\",\"gridcolor\":\"white\",\"gridwidth\":2,\"linecolor\":\"white\",\"showbackground\":true,\"ticks\":\"\",\"zerolinecolor\":\"white\"}},\"shapedefaults\":{\"line\":{\"color\":\"#2a3f5f\"}},\"ternary\":{\"aaxis\":{\"gridcolor\":\"white\",\"linecolor\":\"white\",\"ticks\":\"\"},\"baxis\":{\"gridcolor\":\"white\",\"linecolor\":\"white\",\"ticks\":\"\"},\"bgcolor\":\"#E5ECF6\",\"caxis\":{\"gridcolor\":\"white\",\"linecolor\":\"white\",\"ticks\":\"\"}},\"title\":{\"x\":0.05},\"xaxis\":{\"automargin\":true,\"gridcolor\":\"white\",\"linecolor\":\"white\",\"ticks\":\"\",\"title\":{\"standoff\":15},\"zerolinecolor\":\"white\",\"zerolinewidth\":2},\"yaxis\":{\"automargin\":true,\"gridcolor\":\"white\",\"linecolor\":\"white\",\"ticks\":\"\",\"title\":{\"standoff\":15},\"zerolinecolor\":\"white\",\"zerolinewidth\":2}}},\"xaxis\":{\"anchor\":\"y\",\"domain\":[0.0,1.0],\"title\":{\"text\":\"\\uc2dc\\uae30\"}},\"yaxis\":{\"anchor\":\"x\",\"domain\":[0.0,1.0],\"title\":{\"text\":\"\\uc12c\\uc720\\uc81c\\ud488;\\uc758\\ubcf5\\uc81c\\uc678\"}},\"legend\":{\"tracegroupgap\":0},\"margin\":{\"t\":60}},                        {\"responsive\": true}                    ).then(function(){\n",
       "                            \n",
       "var gd = document.getElementById('2e2d0020-cb84-443d-bdd2-1d994f8ff765');\n",
       "var x = new MutationObserver(function (mutations, observer) {{\n",
       "        var display = window.getComputedStyle(gd).display;\n",
       "        if (!display || display === 'none') {{\n",
       "            console.log([gd, 'removed!']);\n",
       "            Plotly.purge(gd);\n",
       "            observer.disconnect();\n",
       "        }}\n",
       "}});\n",
       "\n",
       "// Listen for the removal of the full notebook cells\n",
       "var notebookContainer = gd.closest('#notebook-container');\n",
       "if (notebookContainer) {{\n",
       "    x.observe(notebookContainer, {childList: true});\n",
       "}}\n",
       "\n",
       "// Listen for the clearing of the current output cell\n",
       "var outputEl = gd.closest('.output');\n",
       "if (outputEl) {{\n",
       "    x.observe(outputEl, {childList: true});\n",
       "}}\n",
       "\n",
       "                        })                };                });            </script>        </div>"
      ]
     },
     "metadata": {},
     "output_type": "display_data"
    }
   ],
   "source": [
    "px.line(df_4, x='시기', y='섬유제품;의복제외', markers = True)"
   ]
  },
  {
   "cell_type": "code",
   "execution_count": null,
   "id": "165d3672",
   "metadata": {},
   "outputs": [],
   "source": []
  },
  {
   "cell_type": "code",
   "execution_count": 14,
   "id": "678d2725",
   "metadata": {},
   "outputs": [],
   "source": [
    "df_5 = pd.read_csv('./SBHI전처리데이터/수출전망_sbhi.csv' , encoding = 'cp949')"
   ]
  },
  {
   "cell_type": "code",
   "execution_count": 15,
   "id": "d5a01635",
   "metadata": {},
   "outputs": [
    {
     "data": {
      "application/vnd.plotly.v1+json": {
       "config": {
        "plotlyServerURL": "https://plot.ly"
       },
       "data": [
        {
         "hovertemplate": "시기=%{x}<br>섬유제품;의복제외=%{y}<extra></extra>",
         "legendgroup": "",
         "line": {
          "color": "#636efa",
          "dash": "solid"
         },
         "marker": {
          "symbol": "circle"
         },
         "mode": "lines+markers",
         "name": "",
         "orientation": "v",
         "showlegend": false,
         "type": "scatter",
         "x": [
          "2015.02 월",
          "2015.03 월",
          "2015.04 월",
          "2015.05 월",
          "2015.06 월",
          "2015.07 월",
          "2015.08 월",
          "2015.09 월",
          "2015.10 월",
          "2015.11 월",
          "2015.12 월",
          "2016.01 월",
          "2016.02 월",
          "2016.03 월",
          "2016.04 월",
          "2016.05 월",
          "2016.06 월",
          "2016.07 월",
          "2016.08 월",
          "2016.09 월",
          "2016.10 월",
          "2016.11 월",
          "2016.12 월",
          "2017.01 월",
          "2017.02 월",
          "2017.03 월",
          "2017.04 월",
          "2017.05 월",
          "2017.06 월",
          "2017.07 월",
          "2017.08 월",
          "2017.09 월",
          "2017.10 월",
          "2017.11 월",
          "2017.12 월",
          "2018.01 월",
          "2018.02 월",
          "2018.03 월",
          "2018.04 월",
          "2018.05 월",
          "2018.06 월",
          "2018.07 월",
          "2018.08 월",
          "2018.09 월",
          "2018.10 월",
          "2018.11 월",
          "2018.12 월",
          "2019.01 월",
          "2019.02 월",
          "2019.03 월",
          "2019.04 월",
          "2019.05 월",
          "2019.06 월",
          "2019.07 월",
          "2019.08 월",
          "2019.09 월",
          "2019.10 월",
          "2019.11 월",
          "2019.12 월",
          "2020.01 월",
          "2020.02 월",
          "2020.03 월",
          "2020.04 월",
          "2020.05 월",
          "2020.06 월",
          "2020.07 월",
          "2020.08 월",
          "2020.09 월",
          "2020.10 월",
          "2020.11 월",
          "2020.12 월",
          "2021.01 월",
          "2021.02 월",
          "2021.03 월",
          "2021.04 월",
          "2021.05 월",
          "2021.06 월",
          "2021.07 월",
          "2021.08 월",
          "2021.09 월",
          "2021.10 월",
          "2021.11 월",
          "2021.12 월",
          "2022.01 월",
          "2022.02 월",
          "2022.03 월",
          "2022.04 월",
          "2022.05 월",
          "2022.06 월",
          "2022.07 월",
          "2022.08 월",
          "2022.09 월",
          "2022.10 월",
          "2022.11 월",
          "2022.12 월",
          "2023.01 월"
         ],
         "xaxis": "x",
         "y": [
          61.4,
          75.9,
          73.9,
          87.5,
          85.1,
          66.4,
          69.5,
          71.8,
          82.5,
          72.3,
          66.2,
          70,
          60.5,
          72.2,
          94.6,
          91,
          85.7,
          80.6,
          88.3,
          91.7,
          82.9,
          93.7,
          86.1,
          64.2,
          64.1,
          86.3,
          77.8,
          70.6,
          76,
          77.3,
          68.6,
          91.5,
          75,
          102.8,
          88,
          91.9,
          80.3,
          81.9,
          96,
          87.6,
          98.4,
          84.7,
          86,
          74.8,
          81.5,
          81.2,
          79.6,
          92.5,
          68.1,
          89.8,
          84,
          77.8,
          70.2,
          79.1,
          64.7,
          79.8,
          89.4,
          87.5,
          77.8,
          63.5,
          76.1,
          81.8,
          51.9,
          40.4,
          62,
          67.5,
          56.2,
          62,
          84.8,
          66.1,
          71.9,
          60.1,
          74,
          61.1,
          93.5,
          81.2,
          87.1,
          80.9,
          76.3,
          86.3,
          85.7,
          84.5,
          84.5,
          75.8,
          80.1,
          90.7,
          80.8,
          87.2,
          91.5,
          87.1,
          78.1,
          70.7,
          81,
          75.5,
          76.1,
          80.5
         ],
         "yaxis": "y"
        }
       ],
       "layout": {
        "legend": {
         "tracegroupgap": 0
        },
        "margin": {
         "t": 60
        },
        "template": {
         "data": {
          "bar": [
           {
            "error_x": {
             "color": "#2a3f5f"
            },
            "error_y": {
             "color": "#2a3f5f"
            },
            "marker": {
             "line": {
              "color": "#E5ECF6",
              "width": 0.5
             },
             "pattern": {
              "fillmode": "overlay",
              "size": 10,
              "solidity": 0.2
             }
            },
            "type": "bar"
           }
          ],
          "barpolar": [
           {
            "marker": {
             "line": {
              "color": "#E5ECF6",
              "width": 0.5
             },
             "pattern": {
              "fillmode": "overlay",
              "size": 10,
              "solidity": 0.2
             }
            },
            "type": "barpolar"
           }
          ],
          "carpet": [
           {
            "aaxis": {
             "endlinecolor": "#2a3f5f",
             "gridcolor": "white",
             "linecolor": "white",
             "minorgridcolor": "white",
             "startlinecolor": "#2a3f5f"
            },
            "baxis": {
             "endlinecolor": "#2a3f5f",
             "gridcolor": "white",
             "linecolor": "white",
             "minorgridcolor": "white",
             "startlinecolor": "#2a3f5f"
            },
            "type": "carpet"
           }
          ],
          "choropleth": [
           {
            "colorbar": {
             "outlinewidth": 0,
             "ticks": ""
            },
            "type": "choropleth"
           }
          ],
          "contour": [
           {
            "colorbar": {
             "outlinewidth": 0,
             "ticks": ""
            },
            "colorscale": [
             [
              0,
              "#0d0887"
             ],
             [
              0.1111111111111111,
              "#46039f"
             ],
             [
              0.2222222222222222,
              "#7201a8"
             ],
             [
              0.3333333333333333,
              "#9c179e"
             ],
             [
              0.4444444444444444,
              "#bd3786"
             ],
             [
              0.5555555555555556,
              "#d8576b"
             ],
             [
              0.6666666666666666,
              "#ed7953"
             ],
             [
              0.7777777777777778,
              "#fb9f3a"
             ],
             [
              0.8888888888888888,
              "#fdca26"
             ],
             [
              1,
              "#f0f921"
             ]
            ],
            "type": "contour"
           }
          ],
          "contourcarpet": [
           {
            "colorbar": {
             "outlinewidth": 0,
             "ticks": ""
            },
            "type": "contourcarpet"
           }
          ],
          "heatmap": [
           {
            "colorbar": {
             "outlinewidth": 0,
             "ticks": ""
            },
            "colorscale": [
             [
              0,
              "#0d0887"
             ],
             [
              0.1111111111111111,
              "#46039f"
             ],
             [
              0.2222222222222222,
              "#7201a8"
             ],
             [
              0.3333333333333333,
              "#9c179e"
             ],
             [
              0.4444444444444444,
              "#bd3786"
             ],
             [
              0.5555555555555556,
              "#d8576b"
             ],
             [
              0.6666666666666666,
              "#ed7953"
             ],
             [
              0.7777777777777778,
              "#fb9f3a"
             ],
             [
              0.8888888888888888,
              "#fdca26"
             ],
             [
              1,
              "#f0f921"
             ]
            ],
            "type": "heatmap"
           }
          ],
          "heatmapgl": [
           {
            "colorbar": {
             "outlinewidth": 0,
             "ticks": ""
            },
            "colorscale": [
             [
              0,
              "#0d0887"
             ],
             [
              0.1111111111111111,
              "#46039f"
             ],
             [
              0.2222222222222222,
              "#7201a8"
             ],
             [
              0.3333333333333333,
              "#9c179e"
             ],
             [
              0.4444444444444444,
              "#bd3786"
             ],
             [
              0.5555555555555556,
              "#d8576b"
             ],
             [
              0.6666666666666666,
              "#ed7953"
             ],
             [
              0.7777777777777778,
              "#fb9f3a"
             ],
             [
              0.8888888888888888,
              "#fdca26"
             ],
             [
              1,
              "#f0f921"
             ]
            ],
            "type": "heatmapgl"
           }
          ],
          "histogram": [
           {
            "marker": {
             "pattern": {
              "fillmode": "overlay",
              "size": 10,
              "solidity": 0.2
             }
            },
            "type": "histogram"
           }
          ],
          "histogram2d": [
           {
            "colorbar": {
             "outlinewidth": 0,
             "ticks": ""
            },
            "colorscale": [
             [
              0,
              "#0d0887"
             ],
             [
              0.1111111111111111,
              "#46039f"
             ],
             [
              0.2222222222222222,
              "#7201a8"
             ],
             [
              0.3333333333333333,
              "#9c179e"
             ],
             [
              0.4444444444444444,
              "#bd3786"
             ],
             [
              0.5555555555555556,
              "#d8576b"
             ],
             [
              0.6666666666666666,
              "#ed7953"
             ],
             [
              0.7777777777777778,
              "#fb9f3a"
             ],
             [
              0.8888888888888888,
              "#fdca26"
             ],
             [
              1,
              "#f0f921"
             ]
            ],
            "type": "histogram2d"
           }
          ],
          "histogram2dcontour": [
           {
            "colorbar": {
             "outlinewidth": 0,
             "ticks": ""
            },
            "colorscale": [
             [
              0,
              "#0d0887"
             ],
             [
              0.1111111111111111,
              "#46039f"
             ],
             [
              0.2222222222222222,
              "#7201a8"
             ],
             [
              0.3333333333333333,
              "#9c179e"
             ],
             [
              0.4444444444444444,
              "#bd3786"
             ],
             [
              0.5555555555555556,
              "#d8576b"
             ],
             [
              0.6666666666666666,
              "#ed7953"
             ],
             [
              0.7777777777777778,
              "#fb9f3a"
             ],
             [
              0.8888888888888888,
              "#fdca26"
             ],
             [
              1,
              "#f0f921"
             ]
            ],
            "type": "histogram2dcontour"
           }
          ],
          "mesh3d": [
           {
            "colorbar": {
             "outlinewidth": 0,
             "ticks": ""
            },
            "type": "mesh3d"
           }
          ],
          "parcoords": [
           {
            "line": {
             "colorbar": {
              "outlinewidth": 0,
              "ticks": ""
             }
            },
            "type": "parcoords"
           }
          ],
          "pie": [
           {
            "automargin": true,
            "type": "pie"
           }
          ],
          "scatter": [
           {
            "marker": {
             "colorbar": {
              "outlinewidth": 0,
              "ticks": ""
             }
            },
            "type": "scatter"
           }
          ],
          "scatter3d": [
           {
            "line": {
             "colorbar": {
              "outlinewidth": 0,
              "ticks": ""
             }
            },
            "marker": {
             "colorbar": {
              "outlinewidth": 0,
              "ticks": ""
             }
            },
            "type": "scatter3d"
           }
          ],
          "scattercarpet": [
           {
            "marker": {
             "colorbar": {
              "outlinewidth": 0,
              "ticks": ""
             }
            },
            "type": "scattercarpet"
           }
          ],
          "scattergeo": [
           {
            "marker": {
             "colorbar": {
              "outlinewidth": 0,
              "ticks": ""
             }
            },
            "type": "scattergeo"
           }
          ],
          "scattergl": [
           {
            "marker": {
             "colorbar": {
              "outlinewidth": 0,
              "ticks": ""
             }
            },
            "type": "scattergl"
           }
          ],
          "scattermapbox": [
           {
            "marker": {
             "colorbar": {
              "outlinewidth": 0,
              "ticks": ""
             }
            },
            "type": "scattermapbox"
           }
          ],
          "scatterpolar": [
           {
            "marker": {
             "colorbar": {
              "outlinewidth": 0,
              "ticks": ""
             }
            },
            "type": "scatterpolar"
           }
          ],
          "scatterpolargl": [
           {
            "marker": {
             "colorbar": {
              "outlinewidth": 0,
              "ticks": ""
             }
            },
            "type": "scatterpolargl"
           }
          ],
          "scatterternary": [
           {
            "marker": {
             "colorbar": {
              "outlinewidth": 0,
              "ticks": ""
             }
            },
            "type": "scatterternary"
           }
          ],
          "surface": [
           {
            "colorbar": {
             "outlinewidth": 0,
             "ticks": ""
            },
            "colorscale": [
             [
              0,
              "#0d0887"
             ],
             [
              0.1111111111111111,
              "#46039f"
             ],
             [
              0.2222222222222222,
              "#7201a8"
             ],
             [
              0.3333333333333333,
              "#9c179e"
             ],
             [
              0.4444444444444444,
              "#bd3786"
             ],
             [
              0.5555555555555556,
              "#d8576b"
             ],
             [
              0.6666666666666666,
              "#ed7953"
             ],
             [
              0.7777777777777778,
              "#fb9f3a"
             ],
             [
              0.8888888888888888,
              "#fdca26"
             ],
             [
              1,
              "#f0f921"
             ]
            ],
            "type": "surface"
           }
          ],
          "table": [
           {
            "cells": {
             "fill": {
              "color": "#EBF0F8"
             },
             "line": {
              "color": "white"
             }
            },
            "header": {
             "fill": {
              "color": "#C8D4E3"
             },
             "line": {
              "color": "white"
             }
            },
            "type": "table"
           }
          ]
         },
         "layout": {
          "annotationdefaults": {
           "arrowcolor": "#2a3f5f",
           "arrowhead": 0,
           "arrowwidth": 1
          },
          "autotypenumbers": "strict",
          "coloraxis": {
           "colorbar": {
            "outlinewidth": 0,
            "ticks": ""
           }
          },
          "colorscale": {
           "diverging": [
            [
             0,
             "#8e0152"
            ],
            [
             0.1,
             "#c51b7d"
            ],
            [
             0.2,
             "#de77ae"
            ],
            [
             0.3,
             "#f1b6da"
            ],
            [
             0.4,
             "#fde0ef"
            ],
            [
             0.5,
             "#f7f7f7"
            ],
            [
             0.6,
             "#e6f5d0"
            ],
            [
             0.7,
             "#b8e186"
            ],
            [
             0.8,
             "#7fbc41"
            ],
            [
             0.9,
             "#4d9221"
            ],
            [
             1,
             "#276419"
            ]
           ],
           "sequential": [
            [
             0,
             "#0d0887"
            ],
            [
             0.1111111111111111,
             "#46039f"
            ],
            [
             0.2222222222222222,
             "#7201a8"
            ],
            [
             0.3333333333333333,
             "#9c179e"
            ],
            [
             0.4444444444444444,
             "#bd3786"
            ],
            [
             0.5555555555555556,
             "#d8576b"
            ],
            [
             0.6666666666666666,
             "#ed7953"
            ],
            [
             0.7777777777777778,
             "#fb9f3a"
            ],
            [
             0.8888888888888888,
             "#fdca26"
            ],
            [
             1,
             "#f0f921"
            ]
           ],
           "sequentialminus": [
            [
             0,
             "#0d0887"
            ],
            [
             0.1111111111111111,
             "#46039f"
            ],
            [
             0.2222222222222222,
             "#7201a8"
            ],
            [
             0.3333333333333333,
             "#9c179e"
            ],
            [
             0.4444444444444444,
             "#bd3786"
            ],
            [
             0.5555555555555556,
             "#d8576b"
            ],
            [
             0.6666666666666666,
             "#ed7953"
            ],
            [
             0.7777777777777778,
             "#fb9f3a"
            ],
            [
             0.8888888888888888,
             "#fdca26"
            ],
            [
             1,
             "#f0f921"
            ]
           ]
          },
          "colorway": [
           "#636efa",
           "#EF553B",
           "#00cc96",
           "#ab63fa",
           "#FFA15A",
           "#19d3f3",
           "#FF6692",
           "#B6E880",
           "#FF97FF",
           "#FECB52"
          ],
          "font": {
           "color": "#2a3f5f"
          },
          "geo": {
           "bgcolor": "white",
           "lakecolor": "white",
           "landcolor": "#E5ECF6",
           "showlakes": true,
           "showland": true,
           "subunitcolor": "white"
          },
          "hoverlabel": {
           "align": "left"
          },
          "hovermode": "closest",
          "mapbox": {
           "style": "light"
          },
          "paper_bgcolor": "white",
          "plot_bgcolor": "#E5ECF6",
          "polar": {
           "angularaxis": {
            "gridcolor": "white",
            "linecolor": "white",
            "ticks": ""
           },
           "bgcolor": "#E5ECF6",
           "radialaxis": {
            "gridcolor": "white",
            "linecolor": "white",
            "ticks": ""
           }
          },
          "scene": {
           "xaxis": {
            "backgroundcolor": "#E5ECF6",
            "gridcolor": "white",
            "gridwidth": 2,
            "linecolor": "white",
            "showbackground": true,
            "ticks": "",
            "zerolinecolor": "white"
           },
           "yaxis": {
            "backgroundcolor": "#E5ECF6",
            "gridcolor": "white",
            "gridwidth": 2,
            "linecolor": "white",
            "showbackground": true,
            "ticks": "",
            "zerolinecolor": "white"
           },
           "zaxis": {
            "backgroundcolor": "#E5ECF6",
            "gridcolor": "white",
            "gridwidth": 2,
            "linecolor": "white",
            "showbackground": true,
            "ticks": "",
            "zerolinecolor": "white"
           }
          },
          "shapedefaults": {
           "line": {
            "color": "#2a3f5f"
           }
          },
          "ternary": {
           "aaxis": {
            "gridcolor": "white",
            "linecolor": "white",
            "ticks": ""
           },
           "baxis": {
            "gridcolor": "white",
            "linecolor": "white",
            "ticks": ""
           },
           "bgcolor": "#E5ECF6",
           "caxis": {
            "gridcolor": "white",
            "linecolor": "white",
            "ticks": ""
           }
          },
          "title": {
           "x": 0.05
          },
          "xaxis": {
           "automargin": true,
           "gridcolor": "white",
           "linecolor": "white",
           "ticks": "",
           "title": {
            "standoff": 15
           },
           "zerolinecolor": "white",
           "zerolinewidth": 2
          },
          "yaxis": {
           "automargin": true,
           "gridcolor": "white",
           "linecolor": "white",
           "ticks": "",
           "title": {
            "standoff": 15
           },
           "zerolinecolor": "white",
           "zerolinewidth": 2
          }
         }
        },
        "xaxis": {
         "anchor": "y",
         "domain": [
          0,
          1
         ],
         "title": {
          "text": "시기"
         }
        },
        "yaxis": {
         "anchor": "x",
         "domain": [
          0,
          1
         ],
         "title": {
          "text": "섬유제품;의복제외"
         }
        }
       }
      },
      "text/html": [
       "<div>                            <div id=\"2b4ac850-d05f-4e27-94d1-4bd86ce58afc\" class=\"plotly-graph-div\" style=\"height:525px; width:100%;\"></div>            <script type=\"text/javascript\">                require([\"plotly\"], function(Plotly) {                    window.PLOTLYENV=window.PLOTLYENV || {};                                    if (document.getElementById(\"2b4ac850-d05f-4e27-94d1-4bd86ce58afc\")) {                    Plotly.newPlot(                        \"2b4ac850-d05f-4e27-94d1-4bd86ce58afc\",                        [{\"hovertemplate\":\"\\uc2dc\\uae30=%{x}<br>\\uc12c\\uc720\\uc81c\\ud488;\\uc758\\ubcf5\\uc81c\\uc678=%{y}<extra></extra>\",\"legendgroup\":\"\",\"line\":{\"color\":\"#636efa\",\"dash\":\"solid\"},\"marker\":{\"symbol\":\"circle\"},\"mode\":\"lines+markers\",\"name\":\"\",\"orientation\":\"v\",\"showlegend\":false,\"x\":[\"2015.02 \\uc6d4\",\"2015.03 \\uc6d4\",\"2015.04 \\uc6d4\",\"2015.05 \\uc6d4\",\"2015.06 \\uc6d4\",\"2015.07 \\uc6d4\",\"2015.08 \\uc6d4\",\"2015.09 \\uc6d4\",\"2015.10 \\uc6d4\",\"2015.11 \\uc6d4\",\"2015.12 \\uc6d4\",\"2016.01 \\uc6d4\",\"2016.02 \\uc6d4\",\"2016.03 \\uc6d4\",\"2016.04 \\uc6d4\",\"2016.05 \\uc6d4\",\"2016.06 \\uc6d4\",\"2016.07 \\uc6d4\",\"2016.08 \\uc6d4\",\"2016.09 \\uc6d4\",\"2016.10 \\uc6d4\",\"2016.11 \\uc6d4\",\"2016.12 \\uc6d4\",\"2017.01 \\uc6d4\",\"2017.02 \\uc6d4\",\"2017.03 \\uc6d4\",\"2017.04 \\uc6d4\",\"2017.05 \\uc6d4\",\"2017.06 \\uc6d4\",\"2017.07 \\uc6d4\",\"2017.08 \\uc6d4\",\"2017.09 \\uc6d4\",\"2017.10 \\uc6d4\",\"2017.11 \\uc6d4\",\"2017.12 \\uc6d4\",\"2018.01 \\uc6d4\",\"2018.02 \\uc6d4\",\"2018.03 \\uc6d4\",\"2018.04 \\uc6d4\",\"2018.05 \\uc6d4\",\"2018.06 \\uc6d4\",\"2018.07 \\uc6d4\",\"2018.08 \\uc6d4\",\"2018.09 \\uc6d4\",\"2018.10 \\uc6d4\",\"2018.11 \\uc6d4\",\"2018.12 \\uc6d4\",\"2019.01 \\uc6d4\",\"2019.02 \\uc6d4\",\"2019.03 \\uc6d4\",\"2019.04 \\uc6d4\",\"2019.05 \\uc6d4\",\"2019.06 \\uc6d4\",\"2019.07 \\uc6d4\",\"2019.08 \\uc6d4\",\"2019.09 \\uc6d4\",\"2019.10 \\uc6d4\",\"2019.11 \\uc6d4\",\"2019.12 \\uc6d4\",\"2020.01 \\uc6d4\",\"2020.02 \\uc6d4\",\"2020.03 \\uc6d4\",\"2020.04 \\uc6d4\",\"2020.05 \\uc6d4\",\"2020.06 \\uc6d4\",\"2020.07 \\uc6d4\",\"2020.08 \\uc6d4\",\"2020.09 \\uc6d4\",\"2020.10 \\uc6d4\",\"2020.11 \\uc6d4\",\"2020.12 \\uc6d4\",\"2021.01 \\uc6d4\",\"2021.02 \\uc6d4\",\"2021.03 \\uc6d4\",\"2021.04 \\uc6d4\",\"2021.05 \\uc6d4\",\"2021.06 \\uc6d4\",\"2021.07 \\uc6d4\",\"2021.08 \\uc6d4\",\"2021.09 \\uc6d4\",\"2021.10 \\uc6d4\",\"2021.11 \\uc6d4\",\"2021.12 \\uc6d4\",\"2022.01 \\uc6d4\",\"2022.02 \\uc6d4\",\"2022.03 \\uc6d4\",\"2022.04 \\uc6d4\",\"2022.05 \\uc6d4\",\"2022.06 \\uc6d4\",\"2022.07 \\uc6d4\",\"2022.08 \\uc6d4\",\"2022.09 \\uc6d4\",\"2022.10 \\uc6d4\",\"2022.11 \\uc6d4\",\"2022.12 \\uc6d4\",\"2023.01 \\uc6d4\"],\"xaxis\":\"x\",\"y\":[61.4,75.9,73.9,87.5,85.1,66.4,69.5,71.8,82.5,72.3,66.2,70.0,60.5,72.2,94.6,91.0,85.7,80.6,88.3,91.7,82.9,93.7,86.1,64.2,64.1,86.3,77.8,70.6,76.0,77.3,68.6,91.5,75.0,102.8,88.0,91.9,80.3,81.9,96.0,87.6,98.4,84.7,86.0,74.8,81.5,81.2,79.6,92.5,68.1,89.8,84.0,77.8,70.2,79.1,64.7,79.8,89.4,87.5,77.8,63.5,76.1,81.8,51.9,40.4,62.0,67.5,56.2,62.0,84.8,66.1,71.9,60.1,74.0,61.1,93.5,81.2,87.1,80.9,76.3,86.3,85.7,84.5,84.5,75.8,80.1,90.7,80.8,87.2,91.5,87.1,78.1,70.7,81.0,75.5,76.1,80.5],\"yaxis\":\"y\",\"type\":\"scatter\"}],                        {\"template\":{\"data\":{\"bar\":[{\"error_x\":{\"color\":\"#2a3f5f\"},\"error_y\":{\"color\":\"#2a3f5f\"},\"marker\":{\"line\":{\"color\":\"#E5ECF6\",\"width\":0.5},\"pattern\":{\"fillmode\":\"overlay\",\"size\":10,\"solidity\":0.2}},\"type\":\"bar\"}],\"barpolar\":[{\"marker\":{\"line\":{\"color\":\"#E5ECF6\",\"width\":0.5},\"pattern\":{\"fillmode\":\"overlay\",\"size\":10,\"solidity\":0.2}},\"type\":\"barpolar\"}],\"carpet\":[{\"aaxis\":{\"endlinecolor\":\"#2a3f5f\",\"gridcolor\":\"white\",\"linecolor\":\"white\",\"minorgridcolor\":\"white\",\"startlinecolor\":\"#2a3f5f\"},\"baxis\":{\"endlinecolor\":\"#2a3f5f\",\"gridcolor\":\"white\",\"linecolor\":\"white\",\"minorgridcolor\":\"white\",\"startlinecolor\":\"#2a3f5f\"},\"type\":\"carpet\"}],\"choropleth\":[{\"colorbar\":{\"outlinewidth\":0,\"ticks\":\"\"},\"type\":\"choropleth\"}],\"contour\":[{\"colorbar\":{\"outlinewidth\":0,\"ticks\":\"\"},\"colorscale\":[[0.0,\"#0d0887\"],[0.1111111111111111,\"#46039f\"],[0.2222222222222222,\"#7201a8\"],[0.3333333333333333,\"#9c179e\"],[0.4444444444444444,\"#bd3786\"],[0.5555555555555556,\"#d8576b\"],[0.6666666666666666,\"#ed7953\"],[0.7777777777777778,\"#fb9f3a\"],[0.8888888888888888,\"#fdca26\"],[1.0,\"#f0f921\"]],\"type\":\"contour\"}],\"contourcarpet\":[{\"colorbar\":{\"outlinewidth\":0,\"ticks\":\"\"},\"type\":\"contourcarpet\"}],\"heatmap\":[{\"colorbar\":{\"outlinewidth\":0,\"ticks\":\"\"},\"colorscale\":[[0.0,\"#0d0887\"],[0.1111111111111111,\"#46039f\"],[0.2222222222222222,\"#7201a8\"],[0.3333333333333333,\"#9c179e\"],[0.4444444444444444,\"#bd3786\"],[0.5555555555555556,\"#d8576b\"],[0.6666666666666666,\"#ed7953\"],[0.7777777777777778,\"#fb9f3a\"],[0.8888888888888888,\"#fdca26\"],[1.0,\"#f0f921\"]],\"type\":\"heatmap\"}],\"heatmapgl\":[{\"colorbar\":{\"outlinewidth\":0,\"ticks\":\"\"},\"colorscale\":[[0.0,\"#0d0887\"],[0.1111111111111111,\"#46039f\"],[0.2222222222222222,\"#7201a8\"],[0.3333333333333333,\"#9c179e\"],[0.4444444444444444,\"#bd3786\"],[0.5555555555555556,\"#d8576b\"],[0.6666666666666666,\"#ed7953\"],[0.7777777777777778,\"#fb9f3a\"],[0.8888888888888888,\"#fdca26\"],[1.0,\"#f0f921\"]],\"type\":\"heatmapgl\"}],\"histogram\":[{\"marker\":{\"pattern\":{\"fillmode\":\"overlay\",\"size\":10,\"solidity\":0.2}},\"type\":\"histogram\"}],\"histogram2d\":[{\"colorbar\":{\"outlinewidth\":0,\"ticks\":\"\"},\"colorscale\":[[0.0,\"#0d0887\"],[0.1111111111111111,\"#46039f\"],[0.2222222222222222,\"#7201a8\"],[0.3333333333333333,\"#9c179e\"],[0.4444444444444444,\"#bd3786\"],[0.5555555555555556,\"#d8576b\"],[0.6666666666666666,\"#ed7953\"],[0.7777777777777778,\"#fb9f3a\"],[0.8888888888888888,\"#fdca26\"],[1.0,\"#f0f921\"]],\"type\":\"histogram2d\"}],\"histogram2dcontour\":[{\"colorbar\":{\"outlinewidth\":0,\"ticks\":\"\"},\"colorscale\":[[0.0,\"#0d0887\"],[0.1111111111111111,\"#46039f\"],[0.2222222222222222,\"#7201a8\"],[0.3333333333333333,\"#9c179e\"],[0.4444444444444444,\"#bd3786\"],[0.5555555555555556,\"#d8576b\"],[0.6666666666666666,\"#ed7953\"],[0.7777777777777778,\"#fb9f3a\"],[0.8888888888888888,\"#fdca26\"],[1.0,\"#f0f921\"]],\"type\":\"histogram2dcontour\"}],\"mesh3d\":[{\"colorbar\":{\"outlinewidth\":0,\"ticks\":\"\"},\"type\":\"mesh3d\"}],\"parcoords\":[{\"line\":{\"colorbar\":{\"outlinewidth\":0,\"ticks\":\"\"}},\"type\":\"parcoords\"}],\"pie\":[{\"automargin\":true,\"type\":\"pie\"}],\"scatter\":[{\"marker\":{\"colorbar\":{\"outlinewidth\":0,\"ticks\":\"\"}},\"type\":\"scatter\"}],\"scatter3d\":[{\"line\":{\"colorbar\":{\"outlinewidth\":0,\"ticks\":\"\"}},\"marker\":{\"colorbar\":{\"outlinewidth\":0,\"ticks\":\"\"}},\"type\":\"scatter3d\"}],\"scattercarpet\":[{\"marker\":{\"colorbar\":{\"outlinewidth\":0,\"ticks\":\"\"}},\"type\":\"scattercarpet\"}],\"scattergeo\":[{\"marker\":{\"colorbar\":{\"outlinewidth\":0,\"ticks\":\"\"}},\"type\":\"scattergeo\"}],\"scattergl\":[{\"marker\":{\"colorbar\":{\"outlinewidth\":0,\"ticks\":\"\"}},\"type\":\"scattergl\"}],\"scattermapbox\":[{\"marker\":{\"colorbar\":{\"outlinewidth\":0,\"ticks\":\"\"}},\"type\":\"scattermapbox\"}],\"scatterpolar\":[{\"marker\":{\"colorbar\":{\"outlinewidth\":0,\"ticks\":\"\"}},\"type\":\"scatterpolar\"}],\"scatterpolargl\":[{\"marker\":{\"colorbar\":{\"outlinewidth\":0,\"ticks\":\"\"}},\"type\":\"scatterpolargl\"}],\"scatterternary\":[{\"marker\":{\"colorbar\":{\"outlinewidth\":0,\"ticks\":\"\"}},\"type\":\"scatterternary\"}],\"surface\":[{\"colorbar\":{\"outlinewidth\":0,\"ticks\":\"\"},\"colorscale\":[[0.0,\"#0d0887\"],[0.1111111111111111,\"#46039f\"],[0.2222222222222222,\"#7201a8\"],[0.3333333333333333,\"#9c179e\"],[0.4444444444444444,\"#bd3786\"],[0.5555555555555556,\"#d8576b\"],[0.6666666666666666,\"#ed7953\"],[0.7777777777777778,\"#fb9f3a\"],[0.8888888888888888,\"#fdca26\"],[1.0,\"#f0f921\"]],\"type\":\"surface\"}],\"table\":[{\"cells\":{\"fill\":{\"color\":\"#EBF0F8\"},\"line\":{\"color\":\"white\"}},\"header\":{\"fill\":{\"color\":\"#C8D4E3\"},\"line\":{\"color\":\"white\"}},\"type\":\"table\"}]},\"layout\":{\"annotationdefaults\":{\"arrowcolor\":\"#2a3f5f\",\"arrowhead\":0,\"arrowwidth\":1},\"autotypenumbers\":\"strict\",\"coloraxis\":{\"colorbar\":{\"outlinewidth\":0,\"ticks\":\"\"}},\"colorscale\":{\"diverging\":[[0,\"#8e0152\"],[0.1,\"#c51b7d\"],[0.2,\"#de77ae\"],[0.3,\"#f1b6da\"],[0.4,\"#fde0ef\"],[0.5,\"#f7f7f7\"],[0.6,\"#e6f5d0\"],[0.7,\"#b8e186\"],[0.8,\"#7fbc41\"],[0.9,\"#4d9221\"],[1,\"#276419\"]],\"sequential\":[[0.0,\"#0d0887\"],[0.1111111111111111,\"#46039f\"],[0.2222222222222222,\"#7201a8\"],[0.3333333333333333,\"#9c179e\"],[0.4444444444444444,\"#bd3786\"],[0.5555555555555556,\"#d8576b\"],[0.6666666666666666,\"#ed7953\"],[0.7777777777777778,\"#fb9f3a\"],[0.8888888888888888,\"#fdca26\"],[1.0,\"#f0f921\"]],\"sequentialminus\":[[0.0,\"#0d0887\"],[0.1111111111111111,\"#46039f\"],[0.2222222222222222,\"#7201a8\"],[0.3333333333333333,\"#9c179e\"],[0.4444444444444444,\"#bd3786\"],[0.5555555555555556,\"#d8576b\"],[0.6666666666666666,\"#ed7953\"],[0.7777777777777778,\"#fb9f3a\"],[0.8888888888888888,\"#fdca26\"],[1.0,\"#f0f921\"]]},\"colorway\":[\"#636efa\",\"#EF553B\",\"#00cc96\",\"#ab63fa\",\"#FFA15A\",\"#19d3f3\",\"#FF6692\",\"#B6E880\",\"#FF97FF\",\"#FECB52\"],\"font\":{\"color\":\"#2a3f5f\"},\"geo\":{\"bgcolor\":\"white\",\"lakecolor\":\"white\",\"landcolor\":\"#E5ECF6\",\"showlakes\":true,\"showland\":true,\"subunitcolor\":\"white\"},\"hoverlabel\":{\"align\":\"left\"},\"hovermode\":\"closest\",\"mapbox\":{\"style\":\"light\"},\"paper_bgcolor\":\"white\",\"plot_bgcolor\":\"#E5ECF6\",\"polar\":{\"angularaxis\":{\"gridcolor\":\"white\",\"linecolor\":\"white\",\"ticks\":\"\"},\"bgcolor\":\"#E5ECF6\",\"radialaxis\":{\"gridcolor\":\"white\",\"linecolor\":\"white\",\"ticks\":\"\"}},\"scene\":{\"xaxis\":{\"backgroundcolor\":\"#E5ECF6\",\"gridcolor\":\"white\",\"gridwidth\":2,\"linecolor\":\"white\",\"showbackground\":true,\"ticks\":\"\",\"zerolinecolor\":\"white\"},\"yaxis\":{\"backgroundcolor\":\"#E5ECF6\",\"gridcolor\":\"white\",\"gridwidth\":2,\"linecolor\":\"white\",\"showbackground\":true,\"ticks\":\"\",\"zerolinecolor\":\"white\"},\"zaxis\":{\"backgroundcolor\":\"#E5ECF6\",\"gridcolor\":\"white\",\"gridwidth\":2,\"linecolor\":\"white\",\"showbackground\":true,\"ticks\":\"\",\"zerolinecolor\":\"white\"}},\"shapedefaults\":{\"line\":{\"color\":\"#2a3f5f\"}},\"ternary\":{\"aaxis\":{\"gridcolor\":\"white\",\"linecolor\":\"white\",\"ticks\":\"\"},\"baxis\":{\"gridcolor\":\"white\",\"linecolor\":\"white\",\"ticks\":\"\"},\"bgcolor\":\"#E5ECF6\",\"caxis\":{\"gridcolor\":\"white\",\"linecolor\":\"white\",\"ticks\":\"\"}},\"title\":{\"x\":0.05},\"xaxis\":{\"automargin\":true,\"gridcolor\":\"white\",\"linecolor\":\"white\",\"ticks\":\"\",\"title\":{\"standoff\":15},\"zerolinecolor\":\"white\",\"zerolinewidth\":2},\"yaxis\":{\"automargin\":true,\"gridcolor\":\"white\",\"linecolor\":\"white\",\"ticks\":\"\",\"title\":{\"standoff\":15},\"zerolinecolor\":\"white\",\"zerolinewidth\":2}}},\"xaxis\":{\"anchor\":\"y\",\"domain\":[0.0,1.0],\"title\":{\"text\":\"\\uc2dc\\uae30\"}},\"yaxis\":{\"anchor\":\"x\",\"domain\":[0.0,1.0],\"title\":{\"text\":\"\\uc12c\\uc720\\uc81c\\ud488;\\uc758\\ubcf5\\uc81c\\uc678\"}},\"legend\":{\"tracegroupgap\":0},\"margin\":{\"t\":60}},                        {\"responsive\": true}                    ).then(function(){\n",
       "                            \n",
       "var gd = document.getElementById('2b4ac850-d05f-4e27-94d1-4bd86ce58afc');\n",
       "var x = new MutationObserver(function (mutations, observer) {{\n",
       "        var display = window.getComputedStyle(gd).display;\n",
       "        if (!display || display === 'none') {{\n",
       "            console.log([gd, 'removed!']);\n",
       "            Plotly.purge(gd);\n",
       "            observer.disconnect();\n",
       "        }}\n",
       "}});\n",
       "\n",
       "// Listen for the removal of the full notebook cells\n",
       "var notebookContainer = gd.closest('#notebook-container');\n",
       "if (notebookContainer) {{\n",
       "    x.observe(notebookContainer, {childList: true});\n",
       "}}\n",
       "\n",
       "// Listen for the clearing of the current output cell\n",
       "var outputEl = gd.closest('.output');\n",
       "if (outputEl) {{\n",
       "    x.observe(outputEl, {childList: true});\n",
       "}}\n",
       "\n",
       "                        })                };                });            </script>        </div>"
      ]
     },
     "metadata": {},
     "output_type": "display_data"
    }
   ],
   "source": [
    "px.line(df_5, x='시기', y='섬유제품;의복제외', markers = True)"
   ]
  },
  {
   "cell_type": "code",
   "execution_count": null,
   "id": "3dab5f39",
   "metadata": {},
   "outputs": [],
   "source": []
  },
  {
   "cell_type": "code",
   "execution_count": 16,
   "id": "52fbeaf3",
   "metadata": {},
   "outputs": [],
   "source": [
    "df_6 = pd.read_csv('./SBHI전처리데이터/영업이익전망_sbhi.csv' , encoding = 'cp949')"
   ]
  },
  {
   "cell_type": "code",
   "execution_count": 17,
   "id": "841c2024",
   "metadata": {},
   "outputs": [
    {
     "data": {
      "application/vnd.plotly.v1+json": {
       "config": {
        "plotlyServerURL": "https://plot.ly"
       },
       "data": [
        {
         "hovertemplate": "시기=%{x}<br>섬유제품;의복제외=%{y}<extra></extra>",
         "legendgroup": "",
         "line": {
          "color": "#636efa",
          "dash": "solid"
         },
         "marker": {
          "symbol": "circle"
         },
         "mode": "lines+markers",
         "name": "",
         "orientation": "v",
         "showlegend": false,
         "type": "scatter",
         "x": [
          "2015.02 월",
          "2015.03 월",
          "2015.04 월",
          "2015.05 월",
          "2015.06 월",
          "2015.07 월",
          "2015.08 월",
          "2015.09 월",
          "2015.10 월",
          "2015.11 월",
          "2015.12 월",
          "2016.01 월",
          "2016.02 월",
          "2016.03 월",
          "2016.04 월",
          "2016.05 월",
          "2016.06 월",
          "2016.07 월",
          "2016.08 월",
          "2016.09 월",
          "2016.10 월",
          "2016.11 월",
          "2016.12 월",
          "2017.01 월",
          "2017.02 월",
          "2017.03 월",
          "2017.04 월",
          "2017.05 월",
          "2017.06 월",
          "2017.07 월",
          "2017.08 월",
          "2017.09 월",
          "2017.10 월",
          "2017.11 월",
          "2017.12 월",
          "2018.01 월",
          "2018.02 월",
          "2018.03 월",
          "2018.04 월",
          "2018.05 월",
          "2018.06 월",
          "2018.07 월",
          "2018.08 월",
          "2018.09 월",
          "2018.10 월",
          "2018.11 월",
          "2018.12 월",
          "2019.01 월",
          "2019.02 월",
          "2019.03 월",
          "2019.04 월",
          "2019.05 월",
          "2019.06 월",
          "2019.07 월",
          "2019.08 월",
          "2019.09 월",
          "2019.10 월",
          "2019.11 월",
          "2019.12 월",
          "2020.01 월",
          "2020.02 월",
          "2020.03 월",
          "2020.04 월",
          "2020.05 월",
          "2020.06 월",
          "2020.07 월",
          "2020.08 월",
          "2020.09 월",
          "2020.10 월",
          "2020.11 월",
          "2020.12 월",
          "2021.01 월",
          "2021.02 월",
          "2021.03 월",
          "2021.04 월",
          "2021.05 월",
          "2021.06 월",
          "2021.07 월",
          "2021.08 월",
          "2021.09 월",
          "2021.10 월",
          "2021.11 월",
          "2021.12 월",
          "2022.01 월",
          "2022.02 월",
          "2022.03 월",
          "2022.04 월",
          "2022.05 월",
          "2022.06 월",
          "2022.07 월",
          "2022.08 월",
          "2022.09 월",
          "2022.10 월",
          "2022.11 월",
          "2022.12 월",
          "2023.01 월"
         ],
         "xaxis": "x",
         "y": [
          61.5,
          80.1,
          81.8,
          75.5,
          77.9,
          71.6,
          72.5,
          82.7,
          85.9,
          82.6,
          73.4,
          74.8,
          67,
          83.5,
          92.6,
          90,
          87.4,
          79.7,
          81.3,
          92.4,
          94.5,
          87.2,
          81.4,
          65.3,
          67.9,
          74.7,
          80.7,
          81.2,
          79.4,
          80.1,
          70.9,
          84.2,
          77.1,
          85.7,
          75.7,
          74.4,
          75.2,
          79,
          81.2,
          83.8,
          75,
          74.6,
          73.9,
          73.6,
          76.9,
          79.6,
          71.2,
          74.2,
          59.1,
          76,
          78.3,
          77.6,
          78.7,
          76,
          64,
          67,
          75.7,
          71,
          62.9,
          67,
          69,
          67.5,
          47.7,
          36.1,
          41.1,
          56.2,
          52.3,
          54.7,
          66.4,
          68.5,
          60.4,
          53.8,
          63,
          72.2,
          76.9,
          81.2,
          72.8,
          74.2,
          70.7,
          74.6,
          76,
          78.7,
          81.9,
          72.6,
          73.8,
          80.8,
          72,
          74.3,
          73.3,
          64.1,
          71,
          70.3,
          77.4,
          71.6,
          69.6,
          67.3
         ],
         "yaxis": "y"
        }
       ],
       "layout": {
        "legend": {
         "tracegroupgap": 0
        },
        "margin": {
         "t": 60
        },
        "template": {
         "data": {
          "bar": [
           {
            "error_x": {
             "color": "#2a3f5f"
            },
            "error_y": {
             "color": "#2a3f5f"
            },
            "marker": {
             "line": {
              "color": "#E5ECF6",
              "width": 0.5
             },
             "pattern": {
              "fillmode": "overlay",
              "size": 10,
              "solidity": 0.2
             }
            },
            "type": "bar"
           }
          ],
          "barpolar": [
           {
            "marker": {
             "line": {
              "color": "#E5ECF6",
              "width": 0.5
             },
             "pattern": {
              "fillmode": "overlay",
              "size": 10,
              "solidity": 0.2
             }
            },
            "type": "barpolar"
           }
          ],
          "carpet": [
           {
            "aaxis": {
             "endlinecolor": "#2a3f5f",
             "gridcolor": "white",
             "linecolor": "white",
             "minorgridcolor": "white",
             "startlinecolor": "#2a3f5f"
            },
            "baxis": {
             "endlinecolor": "#2a3f5f",
             "gridcolor": "white",
             "linecolor": "white",
             "minorgridcolor": "white",
             "startlinecolor": "#2a3f5f"
            },
            "type": "carpet"
           }
          ],
          "choropleth": [
           {
            "colorbar": {
             "outlinewidth": 0,
             "ticks": ""
            },
            "type": "choropleth"
           }
          ],
          "contour": [
           {
            "colorbar": {
             "outlinewidth": 0,
             "ticks": ""
            },
            "colorscale": [
             [
              0,
              "#0d0887"
             ],
             [
              0.1111111111111111,
              "#46039f"
             ],
             [
              0.2222222222222222,
              "#7201a8"
             ],
             [
              0.3333333333333333,
              "#9c179e"
             ],
             [
              0.4444444444444444,
              "#bd3786"
             ],
             [
              0.5555555555555556,
              "#d8576b"
             ],
             [
              0.6666666666666666,
              "#ed7953"
             ],
             [
              0.7777777777777778,
              "#fb9f3a"
             ],
             [
              0.8888888888888888,
              "#fdca26"
             ],
             [
              1,
              "#f0f921"
             ]
            ],
            "type": "contour"
           }
          ],
          "contourcarpet": [
           {
            "colorbar": {
             "outlinewidth": 0,
             "ticks": ""
            },
            "type": "contourcarpet"
           }
          ],
          "heatmap": [
           {
            "colorbar": {
             "outlinewidth": 0,
             "ticks": ""
            },
            "colorscale": [
             [
              0,
              "#0d0887"
             ],
             [
              0.1111111111111111,
              "#46039f"
             ],
             [
              0.2222222222222222,
              "#7201a8"
             ],
             [
              0.3333333333333333,
              "#9c179e"
             ],
             [
              0.4444444444444444,
              "#bd3786"
             ],
             [
              0.5555555555555556,
              "#d8576b"
             ],
             [
              0.6666666666666666,
              "#ed7953"
             ],
             [
              0.7777777777777778,
              "#fb9f3a"
             ],
             [
              0.8888888888888888,
              "#fdca26"
             ],
             [
              1,
              "#f0f921"
             ]
            ],
            "type": "heatmap"
           }
          ],
          "heatmapgl": [
           {
            "colorbar": {
             "outlinewidth": 0,
             "ticks": ""
            },
            "colorscale": [
             [
              0,
              "#0d0887"
             ],
             [
              0.1111111111111111,
              "#46039f"
             ],
             [
              0.2222222222222222,
              "#7201a8"
             ],
             [
              0.3333333333333333,
              "#9c179e"
             ],
             [
              0.4444444444444444,
              "#bd3786"
             ],
             [
              0.5555555555555556,
              "#d8576b"
             ],
             [
              0.6666666666666666,
              "#ed7953"
             ],
             [
              0.7777777777777778,
              "#fb9f3a"
             ],
             [
              0.8888888888888888,
              "#fdca26"
             ],
             [
              1,
              "#f0f921"
             ]
            ],
            "type": "heatmapgl"
           }
          ],
          "histogram": [
           {
            "marker": {
             "pattern": {
              "fillmode": "overlay",
              "size": 10,
              "solidity": 0.2
             }
            },
            "type": "histogram"
           }
          ],
          "histogram2d": [
           {
            "colorbar": {
             "outlinewidth": 0,
             "ticks": ""
            },
            "colorscale": [
             [
              0,
              "#0d0887"
             ],
             [
              0.1111111111111111,
              "#46039f"
             ],
             [
              0.2222222222222222,
              "#7201a8"
             ],
             [
              0.3333333333333333,
              "#9c179e"
             ],
             [
              0.4444444444444444,
              "#bd3786"
             ],
             [
              0.5555555555555556,
              "#d8576b"
             ],
             [
              0.6666666666666666,
              "#ed7953"
             ],
             [
              0.7777777777777778,
              "#fb9f3a"
             ],
             [
              0.8888888888888888,
              "#fdca26"
             ],
             [
              1,
              "#f0f921"
             ]
            ],
            "type": "histogram2d"
           }
          ],
          "histogram2dcontour": [
           {
            "colorbar": {
             "outlinewidth": 0,
             "ticks": ""
            },
            "colorscale": [
             [
              0,
              "#0d0887"
             ],
             [
              0.1111111111111111,
              "#46039f"
             ],
             [
              0.2222222222222222,
              "#7201a8"
             ],
             [
              0.3333333333333333,
              "#9c179e"
             ],
             [
              0.4444444444444444,
              "#bd3786"
             ],
             [
              0.5555555555555556,
              "#d8576b"
             ],
             [
              0.6666666666666666,
              "#ed7953"
             ],
             [
              0.7777777777777778,
              "#fb9f3a"
             ],
             [
              0.8888888888888888,
              "#fdca26"
             ],
             [
              1,
              "#f0f921"
             ]
            ],
            "type": "histogram2dcontour"
           }
          ],
          "mesh3d": [
           {
            "colorbar": {
             "outlinewidth": 0,
             "ticks": ""
            },
            "type": "mesh3d"
           }
          ],
          "parcoords": [
           {
            "line": {
             "colorbar": {
              "outlinewidth": 0,
              "ticks": ""
             }
            },
            "type": "parcoords"
           }
          ],
          "pie": [
           {
            "automargin": true,
            "type": "pie"
           }
          ],
          "scatter": [
           {
            "marker": {
             "colorbar": {
              "outlinewidth": 0,
              "ticks": ""
             }
            },
            "type": "scatter"
           }
          ],
          "scatter3d": [
           {
            "line": {
             "colorbar": {
              "outlinewidth": 0,
              "ticks": ""
             }
            },
            "marker": {
             "colorbar": {
              "outlinewidth": 0,
              "ticks": ""
             }
            },
            "type": "scatter3d"
           }
          ],
          "scattercarpet": [
           {
            "marker": {
             "colorbar": {
              "outlinewidth": 0,
              "ticks": ""
             }
            },
            "type": "scattercarpet"
           }
          ],
          "scattergeo": [
           {
            "marker": {
             "colorbar": {
              "outlinewidth": 0,
              "ticks": ""
             }
            },
            "type": "scattergeo"
           }
          ],
          "scattergl": [
           {
            "marker": {
             "colorbar": {
              "outlinewidth": 0,
              "ticks": ""
             }
            },
            "type": "scattergl"
           }
          ],
          "scattermapbox": [
           {
            "marker": {
             "colorbar": {
              "outlinewidth": 0,
              "ticks": ""
             }
            },
            "type": "scattermapbox"
           }
          ],
          "scatterpolar": [
           {
            "marker": {
             "colorbar": {
              "outlinewidth": 0,
              "ticks": ""
             }
            },
            "type": "scatterpolar"
           }
          ],
          "scatterpolargl": [
           {
            "marker": {
             "colorbar": {
              "outlinewidth": 0,
              "ticks": ""
             }
            },
            "type": "scatterpolargl"
           }
          ],
          "scatterternary": [
           {
            "marker": {
             "colorbar": {
              "outlinewidth": 0,
              "ticks": ""
             }
            },
            "type": "scatterternary"
           }
          ],
          "surface": [
           {
            "colorbar": {
             "outlinewidth": 0,
             "ticks": ""
            },
            "colorscale": [
             [
              0,
              "#0d0887"
             ],
             [
              0.1111111111111111,
              "#46039f"
             ],
             [
              0.2222222222222222,
              "#7201a8"
             ],
             [
              0.3333333333333333,
              "#9c179e"
             ],
             [
              0.4444444444444444,
              "#bd3786"
             ],
             [
              0.5555555555555556,
              "#d8576b"
             ],
             [
              0.6666666666666666,
              "#ed7953"
             ],
             [
              0.7777777777777778,
              "#fb9f3a"
             ],
             [
              0.8888888888888888,
              "#fdca26"
             ],
             [
              1,
              "#f0f921"
             ]
            ],
            "type": "surface"
           }
          ],
          "table": [
           {
            "cells": {
             "fill": {
              "color": "#EBF0F8"
             },
             "line": {
              "color": "white"
             }
            },
            "header": {
             "fill": {
              "color": "#C8D4E3"
             },
             "line": {
              "color": "white"
             }
            },
            "type": "table"
           }
          ]
         },
         "layout": {
          "annotationdefaults": {
           "arrowcolor": "#2a3f5f",
           "arrowhead": 0,
           "arrowwidth": 1
          },
          "autotypenumbers": "strict",
          "coloraxis": {
           "colorbar": {
            "outlinewidth": 0,
            "ticks": ""
           }
          },
          "colorscale": {
           "diverging": [
            [
             0,
             "#8e0152"
            ],
            [
             0.1,
             "#c51b7d"
            ],
            [
             0.2,
             "#de77ae"
            ],
            [
             0.3,
             "#f1b6da"
            ],
            [
             0.4,
             "#fde0ef"
            ],
            [
             0.5,
             "#f7f7f7"
            ],
            [
             0.6,
             "#e6f5d0"
            ],
            [
             0.7,
             "#b8e186"
            ],
            [
             0.8,
             "#7fbc41"
            ],
            [
             0.9,
             "#4d9221"
            ],
            [
             1,
             "#276419"
            ]
           ],
           "sequential": [
            [
             0,
             "#0d0887"
            ],
            [
             0.1111111111111111,
             "#46039f"
            ],
            [
             0.2222222222222222,
             "#7201a8"
            ],
            [
             0.3333333333333333,
             "#9c179e"
            ],
            [
             0.4444444444444444,
             "#bd3786"
            ],
            [
             0.5555555555555556,
             "#d8576b"
            ],
            [
             0.6666666666666666,
             "#ed7953"
            ],
            [
             0.7777777777777778,
             "#fb9f3a"
            ],
            [
             0.8888888888888888,
             "#fdca26"
            ],
            [
             1,
             "#f0f921"
            ]
           ],
           "sequentialminus": [
            [
             0,
             "#0d0887"
            ],
            [
             0.1111111111111111,
             "#46039f"
            ],
            [
             0.2222222222222222,
             "#7201a8"
            ],
            [
             0.3333333333333333,
             "#9c179e"
            ],
            [
             0.4444444444444444,
             "#bd3786"
            ],
            [
             0.5555555555555556,
             "#d8576b"
            ],
            [
             0.6666666666666666,
             "#ed7953"
            ],
            [
             0.7777777777777778,
             "#fb9f3a"
            ],
            [
             0.8888888888888888,
             "#fdca26"
            ],
            [
             1,
             "#f0f921"
            ]
           ]
          },
          "colorway": [
           "#636efa",
           "#EF553B",
           "#00cc96",
           "#ab63fa",
           "#FFA15A",
           "#19d3f3",
           "#FF6692",
           "#B6E880",
           "#FF97FF",
           "#FECB52"
          ],
          "font": {
           "color": "#2a3f5f"
          },
          "geo": {
           "bgcolor": "white",
           "lakecolor": "white",
           "landcolor": "#E5ECF6",
           "showlakes": true,
           "showland": true,
           "subunitcolor": "white"
          },
          "hoverlabel": {
           "align": "left"
          },
          "hovermode": "closest",
          "mapbox": {
           "style": "light"
          },
          "paper_bgcolor": "white",
          "plot_bgcolor": "#E5ECF6",
          "polar": {
           "angularaxis": {
            "gridcolor": "white",
            "linecolor": "white",
            "ticks": ""
           },
           "bgcolor": "#E5ECF6",
           "radialaxis": {
            "gridcolor": "white",
            "linecolor": "white",
            "ticks": ""
           }
          },
          "scene": {
           "xaxis": {
            "backgroundcolor": "#E5ECF6",
            "gridcolor": "white",
            "gridwidth": 2,
            "linecolor": "white",
            "showbackground": true,
            "ticks": "",
            "zerolinecolor": "white"
           },
           "yaxis": {
            "backgroundcolor": "#E5ECF6",
            "gridcolor": "white",
            "gridwidth": 2,
            "linecolor": "white",
            "showbackground": true,
            "ticks": "",
            "zerolinecolor": "white"
           },
           "zaxis": {
            "backgroundcolor": "#E5ECF6",
            "gridcolor": "white",
            "gridwidth": 2,
            "linecolor": "white",
            "showbackground": true,
            "ticks": "",
            "zerolinecolor": "white"
           }
          },
          "shapedefaults": {
           "line": {
            "color": "#2a3f5f"
           }
          },
          "ternary": {
           "aaxis": {
            "gridcolor": "white",
            "linecolor": "white",
            "ticks": ""
           },
           "baxis": {
            "gridcolor": "white",
            "linecolor": "white",
            "ticks": ""
           },
           "bgcolor": "#E5ECF6",
           "caxis": {
            "gridcolor": "white",
            "linecolor": "white",
            "ticks": ""
           }
          },
          "title": {
           "x": 0.05
          },
          "xaxis": {
           "automargin": true,
           "gridcolor": "white",
           "linecolor": "white",
           "ticks": "",
           "title": {
            "standoff": 15
           },
           "zerolinecolor": "white",
           "zerolinewidth": 2
          },
          "yaxis": {
           "automargin": true,
           "gridcolor": "white",
           "linecolor": "white",
           "ticks": "",
           "title": {
            "standoff": 15
           },
           "zerolinecolor": "white",
           "zerolinewidth": 2
          }
         }
        },
        "xaxis": {
         "anchor": "y",
         "domain": [
          0,
          1
         ],
         "title": {
          "text": "시기"
         }
        },
        "yaxis": {
         "anchor": "x",
         "domain": [
          0,
          1
         ],
         "title": {
          "text": "섬유제품;의복제외"
         }
        }
       }
      },
      "text/html": [
       "<div>                            <div id=\"d95f23eb-a936-4fe4-a1d9-8a87f4dc3d93\" class=\"plotly-graph-div\" style=\"height:525px; width:100%;\"></div>            <script type=\"text/javascript\">                require([\"plotly\"], function(Plotly) {                    window.PLOTLYENV=window.PLOTLYENV || {};                                    if (document.getElementById(\"d95f23eb-a936-4fe4-a1d9-8a87f4dc3d93\")) {                    Plotly.newPlot(                        \"d95f23eb-a936-4fe4-a1d9-8a87f4dc3d93\",                        [{\"hovertemplate\":\"\\uc2dc\\uae30=%{x}<br>\\uc12c\\uc720\\uc81c\\ud488;\\uc758\\ubcf5\\uc81c\\uc678=%{y}<extra></extra>\",\"legendgroup\":\"\",\"line\":{\"color\":\"#636efa\",\"dash\":\"solid\"},\"marker\":{\"symbol\":\"circle\"},\"mode\":\"lines+markers\",\"name\":\"\",\"orientation\":\"v\",\"showlegend\":false,\"x\":[\"2015.02 \\uc6d4\",\"2015.03 \\uc6d4\",\"2015.04 \\uc6d4\",\"2015.05 \\uc6d4\",\"2015.06 \\uc6d4\",\"2015.07 \\uc6d4\",\"2015.08 \\uc6d4\",\"2015.09 \\uc6d4\",\"2015.10 \\uc6d4\",\"2015.11 \\uc6d4\",\"2015.12 \\uc6d4\",\"2016.01 \\uc6d4\",\"2016.02 \\uc6d4\",\"2016.03 \\uc6d4\",\"2016.04 \\uc6d4\",\"2016.05 \\uc6d4\",\"2016.06 \\uc6d4\",\"2016.07 \\uc6d4\",\"2016.08 \\uc6d4\",\"2016.09 \\uc6d4\",\"2016.10 \\uc6d4\",\"2016.11 \\uc6d4\",\"2016.12 \\uc6d4\",\"2017.01 \\uc6d4\",\"2017.02 \\uc6d4\",\"2017.03 \\uc6d4\",\"2017.04 \\uc6d4\",\"2017.05 \\uc6d4\",\"2017.06 \\uc6d4\",\"2017.07 \\uc6d4\",\"2017.08 \\uc6d4\",\"2017.09 \\uc6d4\",\"2017.10 \\uc6d4\",\"2017.11 \\uc6d4\",\"2017.12 \\uc6d4\",\"2018.01 \\uc6d4\",\"2018.02 \\uc6d4\",\"2018.03 \\uc6d4\",\"2018.04 \\uc6d4\",\"2018.05 \\uc6d4\",\"2018.06 \\uc6d4\",\"2018.07 \\uc6d4\",\"2018.08 \\uc6d4\",\"2018.09 \\uc6d4\",\"2018.10 \\uc6d4\",\"2018.11 \\uc6d4\",\"2018.12 \\uc6d4\",\"2019.01 \\uc6d4\",\"2019.02 \\uc6d4\",\"2019.03 \\uc6d4\",\"2019.04 \\uc6d4\",\"2019.05 \\uc6d4\",\"2019.06 \\uc6d4\",\"2019.07 \\uc6d4\",\"2019.08 \\uc6d4\",\"2019.09 \\uc6d4\",\"2019.10 \\uc6d4\",\"2019.11 \\uc6d4\",\"2019.12 \\uc6d4\",\"2020.01 \\uc6d4\",\"2020.02 \\uc6d4\",\"2020.03 \\uc6d4\",\"2020.04 \\uc6d4\",\"2020.05 \\uc6d4\",\"2020.06 \\uc6d4\",\"2020.07 \\uc6d4\",\"2020.08 \\uc6d4\",\"2020.09 \\uc6d4\",\"2020.10 \\uc6d4\",\"2020.11 \\uc6d4\",\"2020.12 \\uc6d4\",\"2021.01 \\uc6d4\",\"2021.02 \\uc6d4\",\"2021.03 \\uc6d4\",\"2021.04 \\uc6d4\",\"2021.05 \\uc6d4\",\"2021.06 \\uc6d4\",\"2021.07 \\uc6d4\",\"2021.08 \\uc6d4\",\"2021.09 \\uc6d4\",\"2021.10 \\uc6d4\",\"2021.11 \\uc6d4\",\"2021.12 \\uc6d4\",\"2022.01 \\uc6d4\",\"2022.02 \\uc6d4\",\"2022.03 \\uc6d4\",\"2022.04 \\uc6d4\",\"2022.05 \\uc6d4\",\"2022.06 \\uc6d4\",\"2022.07 \\uc6d4\",\"2022.08 \\uc6d4\",\"2022.09 \\uc6d4\",\"2022.10 \\uc6d4\",\"2022.11 \\uc6d4\",\"2022.12 \\uc6d4\",\"2023.01 \\uc6d4\"],\"xaxis\":\"x\",\"y\":[61.5,80.1,81.8,75.5,77.9,71.6,72.5,82.7,85.9,82.6,73.4,74.8,67.0,83.5,92.6,90.0,87.4,79.7,81.3,92.4,94.5,87.2,81.4,65.3,67.9,74.7,80.7,81.2,79.4,80.1,70.9,84.2,77.1,85.7,75.7,74.4,75.2,79.0,81.2,83.8,75.0,74.6,73.9,73.6,76.9,79.6,71.2,74.2,59.1,76.0,78.3,77.6,78.7,76.0,64.0,67.0,75.7,71.0,62.9,67.0,69.0,67.5,47.7,36.1,41.1,56.2,52.3,54.7,66.4,68.5,60.4,53.8,63.0,72.2,76.9,81.2,72.8,74.2,70.7,74.6,76.0,78.7,81.9,72.6,73.8,80.8,72.0,74.3,73.3,64.1,71.0,70.3,77.4,71.6,69.6,67.3],\"yaxis\":\"y\",\"type\":\"scatter\"}],                        {\"template\":{\"data\":{\"bar\":[{\"error_x\":{\"color\":\"#2a3f5f\"},\"error_y\":{\"color\":\"#2a3f5f\"},\"marker\":{\"line\":{\"color\":\"#E5ECF6\",\"width\":0.5},\"pattern\":{\"fillmode\":\"overlay\",\"size\":10,\"solidity\":0.2}},\"type\":\"bar\"}],\"barpolar\":[{\"marker\":{\"line\":{\"color\":\"#E5ECF6\",\"width\":0.5},\"pattern\":{\"fillmode\":\"overlay\",\"size\":10,\"solidity\":0.2}},\"type\":\"barpolar\"}],\"carpet\":[{\"aaxis\":{\"endlinecolor\":\"#2a3f5f\",\"gridcolor\":\"white\",\"linecolor\":\"white\",\"minorgridcolor\":\"white\",\"startlinecolor\":\"#2a3f5f\"},\"baxis\":{\"endlinecolor\":\"#2a3f5f\",\"gridcolor\":\"white\",\"linecolor\":\"white\",\"minorgridcolor\":\"white\",\"startlinecolor\":\"#2a3f5f\"},\"type\":\"carpet\"}],\"choropleth\":[{\"colorbar\":{\"outlinewidth\":0,\"ticks\":\"\"},\"type\":\"choropleth\"}],\"contour\":[{\"colorbar\":{\"outlinewidth\":0,\"ticks\":\"\"},\"colorscale\":[[0.0,\"#0d0887\"],[0.1111111111111111,\"#46039f\"],[0.2222222222222222,\"#7201a8\"],[0.3333333333333333,\"#9c179e\"],[0.4444444444444444,\"#bd3786\"],[0.5555555555555556,\"#d8576b\"],[0.6666666666666666,\"#ed7953\"],[0.7777777777777778,\"#fb9f3a\"],[0.8888888888888888,\"#fdca26\"],[1.0,\"#f0f921\"]],\"type\":\"contour\"}],\"contourcarpet\":[{\"colorbar\":{\"outlinewidth\":0,\"ticks\":\"\"},\"type\":\"contourcarpet\"}],\"heatmap\":[{\"colorbar\":{\"outlinewidth\":0,\"ticks\":\"\"},\"colorscale\":[[0.0,\"#0d0887\"],[0.1111111111111111,\"#46039f\"],[0.2222222222222222,\"#7201a8\"],[0.3333333333333333,\"#9c179e\"],[0.4444444444444444,\"#bd3786\"],[0.5555555555555556,\"#d8576b\"],[0.6666666666666666,\"#ed7953\"],[0.7777777777777778,\"#fb9f3a\"],[0.8888888888888888,\"#fdca26\"],[1.0,\"#f0f921\"]],\"type\":\"heatmap\"}],\"heatmapgl\":[{\"colorbar\":{\"outlinewidth\":0,\"ticks\":\"\"},\"colorscale\":[[0.0,\"#0d0887\"],[0.1111111111111111,\"#46039f\"],[0.2222222222222222,\"#7201a8\"],[0.3333333333333333,\"#9c179e\"],[0.4444444444444444,\"#bd3786\"],[0.5555555555555556,\"#d8576b\"],[0.6666666666666666,\"#ed7953\"],[0.7777777777777778,\"#fb9f3a\"],[0.8888888888888888,\"#fdca26\"],[1.0,\"#f0f921\"]],\"type\":\"heatmapgl\"}],\"histogram\":[{\"marker\":{\"pattern\":{\"fillmode\":\"overlay\",\"size\":10,\"solidity\":0.2}},\"type\":\"histogram\"}],\"histogram2d\":[{\"colorbar\":{\"outlinewidth\":0,\"ticks\":\"\"},\"colorscale\":[[0.0,\"#0d0887\"],[0.1111111111111111,\"#46039f\"],[0.2222222222222222,\"#7201a8\"],[0.3333333333333333,\"#9c179e\"],[0.4444444444444444,\"#bd3786\"],[0.5555555555555556,\"#d8576b\"],[0.6666666666666666,\"#ed7953\"],[0.7777777777777778,\"#fb9f3a\"],[0.8888888888888888,\"#fdca26\"],[1.0,\"#f0f921\"]],\"type\":\"histogram2d\"}],\"histogram2dcontour\":[{\"colorbar\":{\"outlinewidth\":0,\"ticks\":\"\"},\"colorscale\":[[0.0,\"#0d0887\"],[0.1111111111111111,\"#46039f\"],[0.2222222222222222,\"#7201a8\"],[0.3333333333333333,\"#9c179e\"],[0.4444444444444444,\"#bd3786\"],[0.5555555555555556,\"#d8576b\"],[0.6666666666666666,\"#ed7953\"],[0.7777777777777778,\"#fb9f3a\"],[0.8888888888888888,\"#fdca26\"],[1.0,\"#f0f921\"]],\"type\":\"histogram2dcontour\"}],\"mesh3d\":[{\"colorbar\":{\"outlinewidth\":0,\"ticks\":\"\"},\"type\":\"mesh3d\"}],\"parcoords\":[{\"line\":{\"colorbar\":{\"outlinewidth\":0,\"ticks\":\"\"}},\"type\":\"parcoords\"}],\"pie\":[{\"automargin\":true,\"type\":\"pie\"}],\"scatter\":[{\"marker\":{\"colorbar\":{\"outlinewidth\":0,\"ticks\":\"\"}},\"type\":\"scatter\"}],\"scatter3d\":[{\"line\":{\"colorbar\":{\"outlinewidth\":0,\"ticks\":\"\"}},\"marker\":{\"colorbar\":{\"outlinewidth\":0,\"ticks\":\"\"}},\"type\":\"scatter3d\"}],\"scattercarpet\":[{\"marker\":{\"colorbar\":{\"outlinewidth\":0,\"ticks\":\"\"}},\"type\":\"scattercarpet\"}],\"scattergeo\":[{\"marker\":{\"colorbar\":{\"outlinewidth\":0,\"ticks\":\"\"}},\"type\":\"scattergeo\"}],\"scattergl\":[{\"marker\":{\"colorbar\":{\"outlinewidth\":0,\"ticks\":\"\"}},\"type\":\"scattergl\"}],\"scattermapbox\":[{\"marker\":{\"colorbar\":{\"outlinewidth\":0,\"ticks\":\"\"}},\"type\":\"scattermapbox\"}],\"scatterpolar\":[{\"marker\":{\"colorbar\":{\"outlinewidth\":0,\"ticks\":\"\"}},\"type\":\"scatterpolar\"}],\"scatterpolargl\":[{\"marker\":{\"colorbar\":{\"outlinewidth\":0,\"ticks\":\"\"}},\"type\":\"scatterpolargl\"}],\"scatterternary\":[{\"marker\":{\"colorbar\":{\"outlinewidth\":0,\"ticks\":\"\"}},\"type\":\"scatterternary\"}],\"surface\":[{\"colorbar\":{\"outlinewidth\":0,\"ticks\":\"\"},\"colorscale\":[[0.0,\"#0d0887\"],[0.1111111111111111,\"#46039f\"],[0.2222222222222222,\"#7201a8\"],[0.3333333333333333,\"#9c179e\"],[0.4444444444444444,\"#bd3786\"],[0.5555555555555556,\"#d8576b\"],[0.6666666666666666,\"#ed7953\"],[0.7777777777777778,\"#fb9f3a\"],[0.8888888888888888,\"#fdca26\"],[1.0,\"#f0f921\"]],\"type\":\"surface\"}],\"table\":[{\"cells\":{\"fill\":{\"color\":\"#EBF0F8\"},\"line\":{\"color\":\"white\"}},\"header\":{\"fill\":{\"color\":\"#C8D4E3\"},\"line\":{\"color\":\"white\"}},\"type\":\"table\"}]},\"layout\":{\"annotationdefaults\":{\"arrowcolor\":\"#2a3f5f\",\"arrowhead\":0,\"arrowwidth\":1},\"autotypenumbers\":\"strict\",\"coloraxis\":{\"colorbar\":{\"outlinewidth\":0,\"ticks\":\"\"}},\"colorscale\":{\"diverging\":[[0,\"#8e0152\"],[0.1,\"#c51b7d\"],[0.2,\"#de77ae\"],[0.3,\"#f1b6da\"],[0.4,\"#fde0ef\"],[0.5,\"#f7f7f7\"],[0.6,\"#e6f5d0\"],[0.7,\"#b8e186\"],[0.8,\"#7fbc41\"],[0.9,\"#4d9221\"],[1,\"#276419\"]],\"sequential\":[[0.0,\"#0d0887\"],[0.1111111111111111,\"#46039f\"],[0.2222222222222222,\"#7201a8\"],[0.3333333333333333,\"#9c179e\"],[0.4444444444444444,\"#bd3786\"],[0.5555555555555556,\"#d8576b\"],[0.6666666666666666,\"#ed7953\"],[0.7777777777777778,\"#fb9f3a\"],[0.8888888888888888,\"#fdca26\"],[1.0,\"#f0f921\"]],\"sequentialminus\":[[0.0,\"#0d0887\"],[0.1111111111111111,\"#46039f\"],[0.2222222222222222,\"#7201a8\"],[0.3333333333333333,\"#9c179e\"],[0.4444444444444444,\"#bd3786\"],[0.5555555555555556,\"#d8576b\"],[0.6666666666666666,\"#ed7953\"],[0.7777777777777778,\"#fb9f3a\"],[0.8888888888888888,\"#fdca26\"],[1.0,\"#f0f921\"]]},\"colorway\":[\"#636efa\",\"#EF553B\",\"#00cc96\",\"#ab63fa\",\"#FFA15A\",\"#19d3f3\",\"#FF6692\",\"#B6E880\",\"#FF97FF\",\"#FECB52\"],\"font\":{\"color\":\"#2a3f5f\"},\"geo\":{\"bgcolor\":\"white\",\"lakecolor\":\"white\",\"landcolor\":\"#E5ECF6\",\"showlakes\":true,\"showland\":true,\"subunitcolor\":\"white\"},\"hoverlabel\":{\"align\":\"left\"},\"hovermode\":\"closest\",\"mapbox\":{\"style\":\"light\"},\"paper_bgcolor\":\"white\",\"plot_bgcolor\":\"#E5ECF6\",\"polar\":{\"angularaxis\":{\"gridcolor\":\"white\",\"linecolor\":\"white\",\"ticks\":\"\"},\"bgcolor\":\"#E5ECF6\",\"radialaxis\":{\"gridcolor\":\"white\",\"linecolor\":\"white\",\"ticks\":\"\"}},\"scene\":{\"xaxis\":{\"backgroundcolor\":\"#E5ECF6\",\"gridcolor\":\"white\",\"gridwidth\":2,\"linecolor\":\"white\",\"showbackground\":true,\"ticks\":\"\",\"zerolinecolor\":\"white\"},\"yaxis\":{\"backgroundcolor\":\"#E5ECF6\",\"gridcolor\":\"white\",\"gridwidth\":2,\"linecolor\":\"white\",\"showbackground\":true,\"ticks\":\"\",\"zerolinecolor\":\"white\"},\"zaxis\":{\"backgroundcolor\":\"#E5ECF6\",\"gridcolor\":\"white\",\"gridwidth\":2,\"linecolor\":\"white\",\"showbackground\":true,\"ticks\":\"\",\"zerolinecolor\":\"white\"}},\"shapedefaults\":{\"line\":{\"color\":\"#2a3f5f\"}},\"ternary\":{\"aaxis\":{\"gridcolor\":\"white\",\"linecolor\":\"white\",\"ticks\":\"\"},\"baxis\":{\"gridcolor\":\"white\",\"linecolor\":\"white\",\"ticks\":\"\"},\"bgcolor\":\"#E5ECF6\",\"caxis\":{\"gridcolor\":\"white\",\"linecolor\":\"white\",\"ticks\":\"\"}},\"title\":{\"x\":0.05},\"xaxis\":{\"automargin\":true,\"gridcolor\":\"white\",\"linecolor\":\"white\",\"ticks\":\"\",\"title\":{\"standoff\":15},\"zerolinecolor\":\"white\",\"zerolinewidth\":2},\"yaxis\":{\"automargin\":true,\"gridcolor\":\"white\",\"linecolor\":\"white\",\"ticks\":\"\",\"title\":{\"standoff\":15},\"zerolinecolor\":\"white\",\"zerolinewidth\":2}}},\"xaxis\":{\"anchor\":\"y\",\"domain\":[0.0,1.0],\"title\":{\"text\":\"\\uc2dc\\uae30\"}},\"yaxis\":{\"anchor\":\"x\",\"domain\":[0.0,1.0],\"title\":{\"text\":\"\\uc12c\\uc720\\uc81c\\ud488;\\uc758\\ubcf5\\uc81c\\uc678\"}},\"legend\":{\"tracegroupgap\":0},\"margin\":{\"t\":60}},                        {\"responsive\": true}                    ).then(function(){\n",
       "                            \n",
       "var gd = document.getElementById('d95f23eb-a936-4fe4-a1d9-8a87f4dc3d93');\n",
       "var x = new MutationObserver(function (mutations, observer) {{\n",
       "        var display = window.getComputedStyle(gd).display;\n",
       "        if (!display || display === 'none') {{\n",
       "            console.log([gd, 'removed!']);\n",
       "            Plotly.purge(gd);\n",
       "            observer.disconnect();\n",
       "        }}\n",
       "}});\n",
       "\n",
       "// Listen for the removal of the full notebook cells\n",
       "var notebookContainer = gd.closest('#notebook-container');\n",
       "if (notebookContainer) {{\n",
       "    x.observe(notebookContainer, {childList: true});\n",
       "}}\n",
       "\n",
       "// Listen for the clearing of the current output cell\n",
       "var outputEl = gd.closest('.output');\n",
       "if (outputEl) {{\n",
       "    x.observe(outputEl, {childList: true});\n",
       "}}\n",
       "\n",
       "                        })                };                });            </script>        </div>"
      ]
     },
     "metadata": {},
     "output_type": "display_data"
    }
   ],
   "source": [
    "px.line(df_6, x='시기', y='섬유제품;의복제외', markers = True)"
   ]
  },
  {
   "cell_type": "code",
   "execution_count": null,
   "id": "2940b18a",
   "metadata": {},
   "outputs": [],
   "source": []
  },
  {
   "cell_type": "code",
   "execution_count": 18,
   "id": "c83f8834",
   "metadata": {},
   "outputs": [],
   "source": [
    "df_7 = pd.read_csv('./SBHI전처리데이터/원자재조달사정전망_sbhi.csv' , encoding = 'cp949')"
   ]
  },
  {
   "cell_type": "code",
   "execution_count": 19,
   "id": "5ab15040",
   "metadata": {},
   "outputs": [
    {
     "data": {
      "application/vnd.plotly.v1+json": {
       "config": {
        "plotlyServerURL": "https://plot.ly"
       },
       "data": [
        {
         "hovertemplate": "시기=%{x}<br>섬유제품;의복제외=%{y}<extra></extra>",
         "legendgroup": "",
         "line": {
          "color": "#636efa",
          "dash": "solid"
         },
         "marker": {
          "symbol": "circle"
         },
         "mode": "lines+markers",
         "name": "",
         "orientation": "v",
         "showlegend": false,
         "type": "scatter",
         "x": [
          "2015.02",
          "2015.02.1",
          "2015.02.2",
          "2015.02.3",
          "2015.02.4",
          "2015.02.5",
          "2015.03",
          "2015.03.1",
          "2015.03.2",
          "2015.03.3",
          "2015.03.4",
          "2015.03.5",
          "2015.04",
          "2015.04.1",
          "2015.04.2",
          "2015.04.3",
          "2015.04.4",
          "2015.04.5",
          "2015.05",
          "2015.05.1",
          "2015.05.2",
          "2015.05.3",
          "2015.05.4",
          "2015.05.5",
          "2015.06",
          "2015.06.1",
          "2015.06.2",
          "2015.06.3",
          "2015.06.4",
          "2015.06.5",
          "2015.07",
          "2015.07.1",
          "2015.07.2",
          "2015.07.3",
          "2015.07.4",
          "2015.07.5",
          "2015.08",
          "2015.08.1",
          "2015.08.2",
          "2015.08.3",
          "2015.08.4",
          "2015.08.5",
          "2015.09",
          "2015.09.1",
          "2015.09.2",
          "2015.09.3",
          "2015.09.4",
          "2015.09.5",
          "2015.10",
          "2015.10.1",
          "2015.10.2",
          "2015.10.3",
          "2015.10.4",
          "2015.10.5",
          "2015.11",
          "2015.11.1",
          "2015.11.2",
          "2015.11.3",
          "2015.11.4",
          "2015.11.5",
          "2015.12",
          "2015.12.1",
          "2015.12.2",
          "2015.12.3",
          "2015.12.4",
          "2015.12.5",
          "2016.01",
          "2016.01.1",
          "2016.01.2",
          "2016.01.3",
          "2016.01.4",
          "2016.01.5",
          "2016.02",
          "2016.02.1",
          "2016.02.2",
          "2016.02.3",
          "2016.02.4",
          "2016.02.5",
          "2016.03",
          "2016.03.1",
          "2016.03.2",
          "2016.03.3",
          "2016.03.4",
          "2016.03.5",
          "2016.04",
          "2016.04.1",
          "2016.04.2",
          "2016.04.3",
          "2016.04.4",
          "2016.04.5",
          "2016.05",
          "2016.05.1",
          "2016.05.2",
          "2016.05.3",
          "2016.05.4",
          "2016.05.5",
          "2016.06",
          "2016.06.1",
          "2016.06.2",
          "2016.06.3",
          "2016.06.4",
          "2016.06.5",
          "2016.07",
          "2016.07.1",
          "2016.07.2",
          "2016.07.3",
          "2016.07.4",
          "2016.07.5",
          "2016.08",
          "2016.08.1",
          "2016.08.2",
          "2016.08.3",
          "2016.08.4",
          "2016.08.5",
          "2016.09",
          "2016.09.1",
          "2016.09.2",
          "2016.09.3",
          "2016.09.4",
          "2016.09.5",
          "2016.10",
          "2016.10.1",
          "2016.10.2",
          "2016.10.3",
          "2016.10.4",
          "2016.10.5",
          "2016.11",
          "2016.11.1",
          "2016.11.2",
          "2016.11.3",
          "2016.11.4",
          "2016.11.5",
          "2016.12",
          "2016.12.1",
          "2016.12.2",
          "2016.12.3",
          "2016.12.4",
          "2016.12.5",
          "2017.01",
          "2017.01.1",
          "2017.01.2",
          "2017.01.3",
          "2017.01.4",
          "2017.01.5",
          "2017.02",
          "2017.02.1",
          "2017.02.2",
          "2017.02.3",
          "2017.02.4",
          "2017.02.5",
          "2017.03",
          "2017.03.1",
          "2017.03.2",
          "2017.03.3",
          "2017.03.4",
          "2017.03.5",
          "2017.04",
          "2017.04.1",
          "2017.04.2",
          "2017.04.3",
          "2017.04.4",
          "2017.04.5",
          "2017.05",
          "2017.05.1",
          "2017.05.2",
          "2017.05.3",
          "2017.05.4",
          "2017.05.5",
          "2017.06",
          "2017.06.1",
          "2017.06.2",
          "2017.06.3",
          "2017.06.4",
          "2017.06.5",
          "2017.07",
          "2017.07.1",
          "2017.07.2",
          "2017.07.3",
          "2017.07.4",
          "2017.07.5",
          "2017.08",
          "2017.08.1",
          "2017.08.2",
          "2017.08.3",
          "2017.08.4",
          "2017.08.5",
          "2017.09",
          "2017.09.1",
          "2017.09.2",
          "2017.09.3",
          "2017.09.4",
          "2017.09.5",
          "2017.10",
          "2017.10.1",
          "2017.10.2",
          "2017.10.3",
          "2017.10.4",
          "2017.10.5",
          "2017.11",
          "2017.11.1",
          "2017.11.2",
          "2017.11.3",
          "2017.11.4",
          "2017.11.5",
          "2017.12",
          "2017.12.1",
          "2017.12.2",
          "2017.12.3",
          "2017.12.4",
          "2017.12.5",
          "2018.01",
          "2018.01.1",
          "2018.01.2",
          "2018.01.3",
          "2018.01.4",
          "2018.01.5",
          "2018.02",
          "2018.02.1",
          "2018.02.2",
          "2018.02.3",
          "2018.02.4",
          "2018.02.5",
          "2018.03",
          "2018.03.1",
          "2018.03.2",
          "2018.03.3",
          "2018.03.4",
          "2018.03.5",
          "2018.04",
          "2018.04.1",
          "2018.04.2",
          "2018.04.3",
          "2018.04.4",
          "2018.04.5",
          "2018.05",
          "2018.05.1",
          "2018.05.2",
          "2018.05.3",
          "2018.05.4",
          "2018.05.5",
          "2018.06",
          "2018.06.1",
          "2018.06.2",
          "2018.06.3",
          "2018.06.4",
          "2018.06.5",
          "2018.07",
          "2018.07.1",
          "2018.07.2",
          "2018.07.3",
          "2018.07.4",
          "2018.07.5",
          "2018.08",
          "2018.08.1",
          "2018.08.2",
          "2018.08.3",
          "2018.08.4",
          "2018.08.5",
          "2018.09",
          "2018.09.1",
          "2018.09.2",
          "2018.09.3",
          "2018.09.4",
          "2018.09.5",
          "2018.10",
          "2018.10.1",
          "2018.10.2",
          "2018.10.3",
          "2018.10.4",
          "2018.10.5",
          "2018.11",
          "2018.11.1",
          "2018.11.2",
          "2018.11.3",
          "2018.11.4",
          "2018.11.5",
          "2018.12",
          "2018.12.1",
          "2018.12.2",
          "2018.12.3",
          "2018.12.4",
          "2018.12.5",
          "2019.01",
          "2019.01.1",
          "2019.01.2",
          "2019.01.3",
          "2019.01.4",
          "2019.01.5",
          "2019.02",
          "2019.02.1",
          "2019.02.2",
          "2019.02.3",
          "2019.02.4",
          "2019.02.5",
          "2019.03",
          "2019.03.1",
          "2019.03.2",
          "2019.03.3",
          "2019.03.4",
          "2019.03.5",
          "2019.04",
          "2019.04.1",
          "2019.04.2",
          "2019.04.3",
          "2019.04.4",
          "2019.04.5",
          "2019.05",
          "2019.05.1",
          "2019.05.2",
          "2019.05.3",
          "2019.05.4",
          "2019.05.5",
          "2019.06",
          "2019.06.1",
          "2019.06.2",
          "2019.06.3",
          "2019.06.4",
          "2019.06.5",
          "2019.07",
          "2019.07.1",
          "2019.07.2",
          "2019.07.3",
          "2019.07.4",
          "2019.07.5",
          "2019.08",
          "2019.08.1",
          "2019.08.2",
          "2019.08.3",
          "2019.08.4",
          "2019.08.5",
          "2019.09",
          "2019.09.1",
          "2019.09.2",
          "2019.09.3",
          "2019.09.4",
          "2019.09.5",
          "2019.10",
          "2019.10.1",
          "2019.10.2",
          "2019.10.3",
          "2019.10.4",
          "2019.10.5",
          "2019.11",
          "2019.11.1",
          "2019.11.2",
          "2019.11.3",
          "2019.11.4",
          "2019.11.5",
          "2019.12",
          "2019.12.1",
          "2019.12.2",
          "2019.12.3",
          "2019.12.4",
          "2019.12.5",
          "2020.01",
          "2020.01.1",
          "2020.01.2",
          "2020.01.3",
          "2020.01.4",
          "2020.01.5",
          "2020.02",
          "2020.02.1",
          "2020.02.2",
          "2020.02.3",
          "2020.02.4",
          "2020.02.5",
          "2020.03",
          "2020.03.1",
          "2020.03.2",
          "2020.03.3",
          "2020.03.4",
          "2020.03.5",
          "2020.04",
          "2020.04.1",
          "2020.04.2",
          "2020.04.3",
          "2020.04.4",
          "2020.04.5",
          "2020.05",
          "2020.05.1",
          "2020.05.2",
          "2020.05.3",
          "2020.05.4",
          "2020.05.5",
          "2020.06",
          "2020.06.1",
          "2020.06.2",
          "2020.06.3",
          "2020.06.4",
          "2020.06.5",
          "2020.07",
          "2020.07.1",
          "2020.07.2",
          "2020.07.3",
          "2020.07.4",
          "2020.07.5",
          "2020.08",
          "2020.08.1",
          "2020.08.2",
          "2020.08.3",
          "2020.08.4",
          "2020.08.5",
          "2020.09",
          "2020.09.1",
          "2020.09.2",
          "2020.09.3",
          "2020.09.4",
          "2020.09.5",
          "2020.10",
          "2020.10.1",
          "2020.10.2",
          "2020.10.3",
          "2020.10.4",
          "2020.10.5",
          "2020.11",
          "2020.11.1",
          "2020.11.2",
          "2020.11.3",
          "2020.11.4",
          "2020.11.5",
          "2020.12",
          "2020.12.1",
          "2020.12.2",
          "2020.12.3",
          "2020.12.4",
          "2020.12.5",
          "2021.01",
          "2021.01.1",
          "2021.01.2",
          "2021.01.3",
          "2021.01.4",
          "2021.01.5",
          "2021.02",
          "2021.02.1",
          "2021.02.2",
          "2021.02.3",
          "2021.02.4",
          "2021.02.5",
          "2021.03",
          "2021.03.1",
          "2021.03.2",
          "2021.03.3",
          "2021.03.4",
          "2021.03.5",
          "2021.04",
          "2021.04.1",
          "2021.04.2",
          "2021.04.3",
          "2021.04.4",
          "2021.04.5",
          "2021.05",
          "2021.05.1",
          "2021.05.2",
          "2021.05.3",
          "2021.05.4",
          "2021.05.5",
          "2021.06",
          "2021.06.1",
          "2021.06.2",
          "2021.06.3",
          "2021.06.4",
          "2021.06.5",
          "2021.07",
          "2021.07.1",
          "2021.07.2",
          "2021.07.3",
          "2021.07.4",
          "2021.07.5",
          "2021.08",
          "2021.08.1",
          "2021.08.2",
          "2021.08.3",
          "2021.08.4",
          "2021.08.5",
          "2021.09",
          "2021.09.1",
          "2021.09.2",
          "2021.09.3",
          "2021.09.4",
          "2021.09.5",
          "2021.10",
          "2021.10.1",
          "2021.10.2",
          "2021.10.3",
          "2021.10.4",
          "2021.10.5",
          "2021.11",
          "2021.11.1",
          "2021.11.2",
          "2021.11.3",
          "2021.11.4",
          "2021.11.5",
          "2021.12",
          "2021.12.1",
          "2021.12.2",
          "2021.12.3",
          "2021.12.4",
          "2021.12.5",
          "2022.01",
          "2022.01.1",
          "2022.01.2",
          "2022.01.3",
          "2022.01.4",
          "2022.01.5",
          "2022.02",
          "2022.02.1",
          "2022.02.2",
          "2022.02.3",
          "2022.02.4",
          "2022.02.5",
          "2022.03",
          "2022.03.1",
          "2022.03.2",
          "2022.03.3",
          "2022.03.4",
          "2022.03.5",
          "2022.04",
          "2022.04.1",
          "2022.04.2",
          "2022.04.3",
          "2022.04.4",
          "2022.04.5",
          "2022.05",
          "2022.05.1",
          "2022.05.2",
          "2022.05.3",
          "2022.05.4",
          "2022.05.5",
          "2022.06",
          "2022.06.1",
          "2022.06.2",
          "2022.06.3",
          "2022.06.4",
          "2022.06.5",
          "2022.07",
          "2022.07.1",
          "2022.07.2",
          "2022.07.3",
          "2022.07.4",
          "2022.07.5",
          "2022.08",
          "2022.08.1",
          "2022.08.2",
          "2022.08.3",
          "2022.08.4",
          "2022.08.5",
          "2022.09",
          "2022.09.1",
          "2022.09.2",
          "2022.09.3",
          "2022.09.4",
          "2022.09.5",
          "2022.10",
          "2022.10.1",
          "2022.10.2",
          "2022.10.3",
          "2022.10.4",
          "2022.10.5",
          "2022.11",
          "2022.11.1",
          "2022.11.2",
          "2022.11.3",
          "2022.11.4",
          "2022.11.5",
          "2022.12",
          "2022.12.1",
          "2022.12.2",
          "2022.12.3",
          "2022.12.4",
          "2022.12.5",
          "2023.01",
          "2023.01.1",
          "2023.01.2",
          "2023.01.3",
          "2023.01.4",
          "2023.01.5"
         ],
         "xaxis": "x",
         "y": [
          5,
          15,
          72.1,
          7.2,
          0.8,
          91.9,
          6.1,
          8.2,
          72.8,
          12.9,
          0,
          96.2,
          1.4,
          10.1,
          71.9,
          16.6,
          0,
          101.9,
          3.1,
          10.6,
          73.7,
          10,
          2.6,
          99.3,
          3.2,
          8.2,
          74.8,
          11,
          2.7,
          100.9,
          3.5,
          9.4,
          73.1,
          14,
          0,
          98.8,
          9.6,
          16.9,
          61.5,
          12.1,
          0,
          88,
          1.4,
          9,
          71.7,
          16.1,
          1.8,
          104,
          1.4,
          8.3,
          75.6,
          13,
          1.8,
          102.7,
          1.4,
          12.3,
          76.1,
          10.2,
          0,
          97.6,
          3.3,
          12.6,
          72.9,
          9.8,
          1.4,
          96.7,
          3.7,
          6.7,
          80.1,
          9.5,
          0,
          97.7,
          1.4,
          15.2,
          75.7,
          7.6,
          0,
          94.8,
          0.9,
          11.4,
          79,
          8.6,
          0,
          97.7,
          0,
          12.9,
          68.7,
          17,
          1.3,
          103.4,
          0,
          11.4,
          81.6,
          5.6,
          1.4,
          98.5,
          0.9,
          10.8,
          77.8,
          9.6,
          0.9,
          99.4,
          3.4,
          15.4,
          70.4,
          9.9,
          1,
          94.9,
          0,
          17.1,
          74.6,
          5.7,
          2.5,
          96.9,
          2.4,
          15.3,
          75.6,
          5.2,
          1.5,
          94,
          2.5,
          8.4,
          79.1,
          10,
          0,
          98.3,
          0,
          15.4,
          72.8,
          10.1,
          1.7,
          99.1,
          1.6,
          17.9,
          72.4,
          6.4,
          1.6,
          94.2,
          9.8,
          14.6,
          63.2,
          10.7,
          1.7,
          90,
          3.3,
          13.9,
          73.7,
          9.2,
          0,
          94.4,
          3.1,
          14.3,
          71.6,
          11,
          0,
          95.2,
          8.4,
          14.5,
          66.1,
          11,
          0,
          89.9,
          6.7,
          17.7,
          68,
          7.6,
          0,
          88.3,
          4.9,
          11,
          77.7,
          4.7,
          1.6,
          93.6,
          0,
          12.7,
          76.1,
          9.6,
          1.6,
          100.1,
          1.6,
          15.5,
          78.2,
          4.7,
          0,
          93,
          4.7,
          11,
          75.1,
          9.2,
          0,
          94.4,
          4.9,
          9.2,
          76.7,
          7.5,
          1.6,
          95.9,
          3.3,
          18.8,
          60.6,
          17.2,
          0,
          95.8,
          6.7,
          18.1,
          63.7,
          11.5,
          0,
          90,
          1.6,
          12.8,
          75.8,
          9.7,
          0,
          96.8,
          3.3,
          16.1,
          74.2,
          6.4,
          0,
          91.9,
          3.3,
          11.2,
          77.7,
          6.2,
          1.6,
          95.9,
          8.1,
          12.9,
          75.8,
          3.1,
          0,
          86.9,
          9.9,
          9.6,
          67.6,
          12.9,
          0,
          91.8,
          5.1,
          20.2,
          68,
          6.7,
          0,
          88.2,
          3.4,
          18.8,
          74.4,
          3.4,
          0,
          88.9,
          1.6,
          15.5,
          81.2,
          1.6,
          0,
          91.4,
          6.5,
          21.6,
          67.1,
          4.8,
          0,
          85.1,
          8,
          10.5,
          78.4,
          3,
          0,
          88.3,
          4.9,
          12,
          74.9,
          4.9,
          3.3,
          94.8,
          6.3,
          18.1,
          66.2,
          7.7,
          1.6,
          90.2,
          4.9,
          16.9,
          71.8,
          6.3,
          0,
          89.8,
          3.1,
          24.9,
          67.4,
          4.6,
          0,
          86.8,
          3.1,
          24,
          63,
          6.5,
          3.4,
          91.5,
          4.7,
          16.3,
          65.7,
          11.5,
          1.7,
          94.6,
          3.1,
          18.5,
          73.8,
          3.1,
          1.6,
          90.7,
          6.3,
          9.5,
          74.9,
          9.4,
          0,
          93.6,
          4.6,
          26.2,
          64.4,
          4.8,
          0,
          84.7,
          5,
          25.3,
          65.2,
          4.5,
          0,
          84.6,
          4.8,
          34.2,
          51.5,
          9.5,
          0,
          82.8,
          3.2,
          29.8,
          59.1,
          7.9,
          0,
          85.9,
          3.2,
          27.4,
          66.1,
          3.2,
          0,
          84.7,
          4.8,
          32.2,
          59.7,
          3.2,
          0,
          80.7,
          4.8,
          22.6,
          69.4,
          3.2,
          0,
          85.5,
          3.2,
          24.4,
          64.1,
          6.6,
          1.6,
          89.5,
          6.6,
          30,
          58.4,
          5,
          0,
          80.9,
          19,
          30.1,
          49.2,
          1.6,
          0,
          66.7,
          18.2,
          28.7,
          48.1,
          4.9,
          0,
          69.9,
          17.4,
          30.3,
          47.5,
          3.2,
          1.6,
          70.6,
          14.5,
          25.9,
          52.9,
          4.9,
          1.7,
          76.7,
          12.5,
          34.4,
          48.4,
          3.1,
          1.6,
          73.4,
          8,
          25.3,
          65.1,
          1.6,
          0,
          80.2,
          10.9,
          28.1,
          54.7,
          6.3,
          0,
          78.1,
          6.5,
          27.4,
          61.3,
          4.8,
          0,
          82.3,
          9.5,
          23.6,
          65.3,
          1.6,
          0,
          79.4,
          11.2,
          25.6,
          55.4,
          7.8,
          0,
          79.9,
          8.9,
          21.1,
          64,
          4.6,
          1.4,
          84.3,
          5.1,
          25.3,
          61.3,
          6.7,
          1.7,
          87.3,
          6,
          20.1,
          67.6,
          6.2,
          0,
          87.1,
          7.6,
          25.2,
          58,
          9.2,
          0,
          84.5,
          5.8,
          24.7,
          66.7,
          1.4,
          1.4,
          84.1,
          7.2,
          18.3,
          70,
          4.5,
          0,
          85.9,
          4.9,
          25.5,
          62.4,
          7.2,
          0,
          86,
          7.3,
          22.7,
          60.8,
          7.7,
          1.4,
          86.5,
          7.4,
          20.3,
          63.5,
          8.8,
          0,
          86.9,
          4.9,
          26.9,
          65.4,
          2.8,
          0,
          83,
          8.5,
          26.2,
          59.2,
          6.2,
          0,
          81.5,
          6.7,
          27.4,
          60.2,
          5.8,
          0,
          82.5,
          7.7,
          22.4,
          62.6,
          7.4,
          0,
          84.8,
          6.8,
          31.7,
          58.8,
          2.7,
          0,
          78.7,
          8.7,
          25.2,
          58.3,
          6.5,
          1.3,
          83.2,
          10.7,
          23.4,
          57.4,
          7.2,
          1.4,
          82.6,
          4.5,
          28.8,
          60.1,
          6.7,
          0,
          84.5,
          12.4,
          32,
          54.3,
          1.3,
          0,
          72.2,
          7.8,
          31.5,
          59.5,
          1.3,
          0,
          77.1,
          4.4,
          25.4,
          65.8,
          3.2,
          1.3,
          85.7,
          6.9,
          26,
          60.8,
          5.1,
          1.3,
          83.9,
          7,
          23.6,
          63.6,
          4.6,
          1.3,
          84.8,
          4.6,
          20.1,
          67.6,
          7.8,
          0,
          89.3,
          3.1,
          19,
          73.5,
          4.4,
          0,
          89.6
         ],
         "yaxis": "y"
        }
       ],
       "layout": {
        "legend": {
         "tracegroupgap": 0
        },
        "margin": {
         "t": 60
        },
        "template": {
         "data": {
          "bar": [
           {
            "error_x": {
             "color": "#2a3f5f"
            },
            "error_y": {
             "color": "#2a3f5f"
            },
            "marker": {
             "line": {
              "color": "#E5ECF6",
              "width": 0.5
             },
             "pattern": {
              "fillmode": "overlay",
              "size": 10,
              "solidity": 0.2
             }
            },
            "type": "bar"
           }
          ],
          "barpolar": [
           {
            "marker": {
             "line": {
              "color": "#E5ECF6",
              "width": 0.5
             },
             "pattern": {
              "fillmode": "overlay",
              "size": 10,
              "solidity": 0.2
             }
            },
            "type": "barpolar"
           }
          ],
          "carpet": [
           {
            "aaxis": {
             "endlinecolor": "#2a3f5f",
             "gridcolor": "white",
             "linecolor": "white",
             "minorgridcolor": "white",
             "startlinecolor": "#2a3f5f"
            },
            "baxis": {
             "endlinecolor": "#2a3f5f",
             "gridcolor": "white",
             "linecolor": "white",
             "minorgridcolor": "white",
             "startlinecolor": "#2a3f5f"
            },
            "type": "carpet"
           }
          ],
          "choropleth": [
           {
            "colorbar": {
             "outlinewidth": 0,
             "ticks": ""
            },
            "type": "choropleth"
           }
          ],
          "contour": [
           {
            "colorbar": {
             "outlinewidth": 0,
             "ticks": ""
            },
            "colorscale": [
             [
              0,
              "#0d0887"
             ],
             [
              0.1111111111111111,
              "#46039f"
             ],
             [
              0.2222222222222222,
              "#7201a8"
             ],
             [
              0.3333333333333333,
              "#9c179e"
             ],
             [
              0.4444444444444444,
              "#bd3786"
             ],
             [
              0.5555555555555556,
              "#d8576b"
             ],
             [
              0.6666666666666666,
              "#ed7953"
             ],
             [
              0.7777777777777778,
              "#fb9f3a"
             ],
             [
              0.8888888888888888,
              "#fdca26"
             ],
             [
              1,
              "#f0f921"
             ]
            ],
            "type": "contour"
           }
          ],
          "contourcarpet": [
           {
            "colorbar": {
             "outlinewidth": 0,
             "ticks": ""
            },
            "type": "contourcarpet"
           }
          ],
          "heatmap": [
           {
            "colorbar": {
             "outlinewidth": 0,
             "ticks": ""
            },
            "colorscale": [
             [
              0,
              "#0d0887"
             ],
             [
              0.1111111111111111,
              "#46039f"
             ],
             [
              0.2222222222222222,
              "#7201a8"
             ],
             [
              0.3333333333333333,
              "#9c179e"
             ],
             [
              0.4444444444444444,
              "#bd3786"
             ],
             [
              0.5555555555555556,
              "#d8576b"
             ],
             [
              0.6666666666666666,
              "#ed7953"
             ],
             [
              0.7777777777777778,
              "#fb9f3a"
             ],
             [
              0.8888888888888888,
              "#fdca26"
             ],
             [
              1,
              "#f0f921"
             ]
            ],
            "type": "heatmap"
           }
          ],
          "heatmapgl": [
           {
            "colorbar": {
             "outlinewidth": 0,
             "ticks": ""
            },
            "colorscale": [
             [
              0,
              "#0d0887"
             ],
             [
              0.1111111111111111,
              "#46039f"
             ],
             [
              0.2222222222222222,
              "#7201a8"
             ],
             [
              0.3333333333333333,
              "#9c179e"
             ],
             [
              0.4444444444444444,
              "#bd3786"
             ],
             [
              0.5555555555555556,
              "#d8576b"
             ],
             [
              0.6666666666666666,
              "#ed7953"
             ],
             [
              0.7777777777777778,
              "#fb9f3a"
             ],
             [
              0.8888888888888888,
              "#fdca26"
             ],
             [
              1,
              "#f0f921"
             ]
            ],
            "type": "heatmapgl"
           }
          ],
          "histogram": [
           {
            "marker": {
             "pattern": {
              "fillmode": "overlay",
              "size": 10,
              "solidity": 0.2
             }
            },
            "type": "histogram"
           }
          ],
          "histogram2d": [
           {
            "colorbar": {
             "outlinewidth": 0,
             "ticks": ""
            },
            "colorscale": [
             [
              0,
              "#0d0887"
             ],
             [
              0.1111111111111111,
              "#46039f"
             ],
             [
              0.2222222222222222,
              "#7201a8"
             ],
             [
              0.3333333333333333,
              "#9c179e"
             ],
             [
              0.4444444444444444,
              "#bd3786"
             ],
             [
              0.5555555555555556,
              "#d8576b"
             ],
             [
              0.6666666666666666,
              "#ed7953"
             ],
             [
              0.7777777777777778,
              "#fb9f3a"
             ],
             [
              0.8888888888888888,
              "#fdca26"
             ],
             [
              1,
              "#f0f921"
             ]
            ],
            "type": "histogram2d"
           }
          ],
          "histogram2dcontour": [
           {
            "colorbar": {
             "outlinewidth": 0,
             "ticks": ""
            },
            "colorscale": [
             [
              0,
              "#0d0887"
             ],
             [
              0.1111111111111111,
              "#46039f"
             ],
             [
              0.2222222222222222,
              "#7201a8"
             ],
             [
              0.3333333333333333,
              "#9c179e"
             ],
             [
              0.4444444444444444,
              "#bd3786"
             ],
             [
              0.5555555555555556,
              "#d8576b"
             ],
             [
              0.6666666666666666,
              "#ed7953"
             ],
             [
              0.7777777777777778,
              "#fb9f3a"
             ],
             [
              0.8888888888888888,
              "#fdca26"
             ],
             [
              1,
              "#f0f921"
             ]
            ],
            "type": "histogram2dcontour"
           }
          ],
          "mesh3d": [
           {
            "colorbar": {
             "outlinewidth": 0,
             "ticks": ""
            },
            "type": "mesh3d"
           }
          ],
          "parcoords": [
           {
            "line": {
             "colorbar": {
              "outlinewidth": 0,
              "ticks": ""
             }
            },
            "type": "parcoords"
           }
          ],
          "pie": [
           {
            "automargin": true,
            "type": "pie"
           }
          ],
          "scatter": [
           {
            "marker": {
             "colorbar": {
              "outlinewidth": 0,
              "ticks": ""
             }
            },
            "type": "scatter"
           }
          ],
          "scatter3d": [
           {
            "line": {
             "colorbar": {
              "outlinewidth": 0,
              "ticks": ""
             }
            },
            "marker": {
             "colorbar": {
              "outlinewidth": 0,
              "ticks": ""
             }
            },
            "type": "scatter3d"
           }
          ],
          "scattercarpet": [
           {
            "marker": {
             "colorbar": {
              "outlinewidth": 0,
              "ticks": ""
             }
            },
            "type": "scattercarpet"
           }
          ],
          "scattergeo": [
           {
            "marker": {
             "colorbar": {
              "outlinewidth": 0,
              "ticks": ""
             }
            },
            "type": "scattergeo"
           }
          ],
          "scattergl": [
           {
            "marker": {
             "colorbar": {
              "outlinewidth": 0,
              "ticks": ""
             }
            },
            "type": "scattergl"
           }
          ],
          "scattermapbox": [
           {
            "marker": {
             "colorbar": {
              "outlinewidth": 0,
              "ticks": ""
             }
            },
            "type": "scattermapbox"
           }
          ],
          "scatterpolar": [
           {
            "marker": {
             "colorbar": {
              "outlinewidth": 0,
              "ticks": ""
             }
            },
            "type": "scatterpolar"
           }
          ],
          "scatterpolargl": [
           {
            "marker": {
             "colorbar": {
              "outlinewidth": 0,
              "ticks": ""
             }
            },
            "type": "scatterpolargl"
           }
          ],
          "scatterternary": [
           {
            "marker": {
             "colorbar": {
              "outlinewidth": 0,
              "ticks": ""
             }
            },
            "type": "scatterternary"
           }
          ],
          "surface": [
           {
            "colorbar": {
             "outlinewidth": 0,
             "ticks": ""
            },
            "colorscale": [
             [
              0,
              "#0d0887"
             ],
             [
              0.1111111111111111,
              "#46039f"
             ],
             [
              0.2222222222222222,
              "#7201a8"
             ],
             [
              0.3333333333333333,
              "#9c179e"
             ],
             [
              0.4444444444444444,
              "#bd3786"
             ],
             [
              0.5555555555555556,
              "#d8576b"
             ],
             [
              0.6666666666666666,
              "#ed7953"
             ],
             [
              0.7777777777777778,
              "#fb9f3a"
             ],
             [
              0.8888888888888888,
              "#fdca26"
             ],
             [
              1,
              "#f0f921"
             ]
            ],
            "type": "surface"
           }
          ],
          "table": [
           {
            "cells": {
             "fill": {
              "color": "#EBF0F8"
             },
             "line": {
              "color": "white"
             }
            },
            "header": {
             "fill": {
              "color": "#C8D4E3"
             },
             "line": {
              "color": "white"
             }
            },
            "type": "table"
           }
          ]
         },
         "layout": {
          "annotationdefaults": {
           "arrowcolor": "#2a3f5f",
           "arrowhead": 0,
           "arrowwidth": 1
          },
          "autotypenumbers": "strict",
          "coloraxis": {
           "colorbar": {
            "outlinewidth": 0,
            "ticks": ""
           }
          },
          "colorscale": {
           "diverging": [
            [
             0,
             "#8e0152"
            ],
            [
             0.1,
             "#c51b7d"
            ],
            [
             0.2,
             "#de77ae"
            ],
            [
             0.3,
             "#f1b6da"
            ],
            [
             0.4,
             "#fde0ef"
            ],
            [
             0.5,
             "#f7f7f7"
            ],
            [
             0.6,
             "#e6f5d0"
            ],
            [
             0.7,
             "#b8e186"
            ],
            [
             0.8,
             "#7fbc41"
            ],
            [
             0.9,
             "#4d9221"
            ],
            [
             1,
             "#276419"
            ]
           ],
           "sequential": [
            [
             0,
             "#0d0887"
            ],
            [
             0.1111111111111111,
             "#46039f"
            ],
            [
             0.2222222222222222,
             "#7201a8"
            ],
            [
             0.3333333333333333,
             "#9c179e"
            ],
            [
             0.4444444444444444,
             "#bd3786"
            ],
            [
             0.5555555555555556,
             "#d8576b"
            ],
            [
             0.6666666666666666,
             "#ed7953"
            ],
            [
             0.7777777777777778,
             "#fb9f3a"
            ],
            [
             0.8888888888888888,
             "#fdca26"
            ],
            [
             1,
             "#f0f921"
            ]
           ],
           "sequentialminus": [
            [
             0,
             "#0d0887"
            ],
            [
             0.1111111111111111,
             "#46039f"
            ],
            [
             0.2222222222222222,
             "#7201a8"
            ],
            [
             0.3333333333333333,
             "#9c179e"
            ],
            [
             0.4444444444444444,
             "#bd3786"
            ],
            [
             0.5555555555555556,
             "#d8576b"
            ],
            [
             0.6666666666666666,
             "#ed7953"
            ],
            [
             0.7777777777777778,
             "#fb9f3a"
            ],
            [
             0.8888888888888888,
             "#fdca26"
            ],
            [
             1,
             "#f0f921"
            ]
           ]
          },
          "colorway": [
           "#636efa",
           "#EF553B",
           "#00cc96",
           "#ab63fa",
           "#FFA15A",
           "#19d3f3",
           "#FF6692",
           "#B6E880",
           "#FF97FF",
           "#FECB52"
          ],
          "font": {
           "color": "#2a3f5f"
          },
          "geo": {
           "bgcolor": "white",
           "lakecolor": "white",
           "landcolor": "#E5ECF6",
           "showlakes": true,
           "showland": true,
           "subunitcolor": "white"
          },
          "hoverlabel": {
           "align": "left"
          },
          "hovermode": "closest",
          "mapbox": {
           "style": "light"
          },
          "paper_bgcolor": "white",
          "plot_bgcolor": "#E5ECF6",
          "polar": {
           "angularaxis": {
            "gridcolor": "white",
            "linecolor": "white",
            "ticks": ""
           },
           "bgcolor": "#E5ECF6",
           "radialaxis": {
            "gridcolor": "white",
            "linecolor": "white",
            "ticks": ""
           }
          },
          "scene": {
           "xaxis": {
            "backgroundcolor": "#E5ECF6",
            "gridcolor": "white",
            "gridwidth": 2,
            "linecolor": "white",
            "showbackground": true,
            "ticks": "",
            "zerolinecolor": "white"
           },
           "yaxis": {
            "backgroundcolor": "#E5ECF6",
            "gridcolor": "white",
            "gridwidth": 2,
            "linecolor": "white",
            "showbackground": true,
            "ticks": "",
            "zerolinecolor": "white"
           },
           "zaxis": {
            "backgroundcolor": "#E5ECF6",
            "gridcolor": "white",
            "gridwidth": 2,
            "linecolor": "white",
            "showbackground": true,
            "ticks": "",
            "zerolinecolor": "white"
           }
          },
          "shapedefaults": {
           "line": {
            "color": "#2a3f5f"
           }
          },
          "ternary": {
           "aaxis": {
            "gridcolor": "white",
            "linecolor": "white",
            "ticks": ""
           },
           "baxis": {
            "gridcolor": "white",
            "linecolor": "white",
            "ticks": ""
           },
           "bgcolor": "#E5ECF6",
           "caxis": {
            "gridcolor": "white",
            "linecolor": "white",
            "ticks": ""
           }
          },
          "title": {
           "x": 0.05
          },
          "xaxis": {
           "automargin": true,
           "gridcolor": "white",
           "linecolor": "white",
           "ticks": "",
           "title": {
            "standoff": 15
           },
           "zerolinecolor": "white",
           "zerolinewidth": 2
          },
          "yaxis": {
           "automargin": true,
           "gridcolor": "white",
           "linecolor": "white",
           "ticks": "",
           "title": {
            "standoff": 15
           },
           "zerolinecolor": "white",
           "zerolinewidth": 2
          }
         }
        },
        "xaxis": {
         "anchor": "y",
         "domain": [
          0,
          1
         ],
         "title": {
          "text": "시기"
         }
        },
        "yaxis": {
         "anchor": "x",
         "domain": [
          0,
          1
         ],
         "title": {
          "text": "섬유제품;의복제외"
         }
        }
       }
      },
      "text/html": [
       "<div>                            <div id=\"710122c7-4077-4665-8a6f-f27669cb16dd\" class=\"plotly-graph-div\" style=\"height:525px; width:100%;\"></div>            <script type=\"text/javascript\">                require([\"plotly\"], function(Plotly) {                    window.PLOTLYENV=window.PLOTLYENV || {};                                    if (document.getElementById(\"710122c7-4077-4665-8a6f-f27669cb16dd\")) {                    Plotly.newPlot(                        \"710122c7-4077-4665-8a6f-f27669cb16dd\",                        [{\"hovertemplate\":\"\\uc2dc\\uae30=%{x}<br>\\uc12c\\uc720\\uc81c\\ud488;\\uc758\\ubcf5\\uc81c\\uc678=%{y}<extra></extra>\",\"legendgroup\":\"\",\"line\":{\"color\":\"#636efa\",\"dash\":\"solid\"},\"marker\":{\"symbol\":\"circle\"},\"mode\":\"lines+markers\",\"name\":\"\",\"orientation\":\"v\",\"showlegend\":false,\"x\":[\"2015.02\",\"2015.02.1\",\"2015.02.2\",\"2015.02.3\",\"2015.02.4\",\"2015.02.5\",\"2015.03\",\"2015.03.1\",\"2015.03.2\",\"2015.03.3\",\"2015.03.4\",\"2015.03.5\",\"2015.04\",\"2015.04.1\",\"2015.04.2\",\"2015.04.3\",\"2015.04.4\",\"2015.04.5\",\"2015.05\",\"2015.05.1\",\"2015.05.2\",\"2015.05.3\",\"2015.05.4\",\"2015.05.5\",\"2015.06\",\"2015.06.1\",\"2015.06.2\",\"2015.06.3\",\"2015.06.4\",\"2015.06.5\",\"2015.07\",\"2015.07.1\",\"2015.07.2\",\"2015.07.3\",\"2015.07.4\",\"2015.07.5\",\"2015.08\",\"2015.08.1\",\"2015.08.2\",\"2015.08.3\",\"2015.08.4\",\"2015.08.5\",\"2015.09\",\"2015.09.1\",\"2015.09.2\",\"2015.09.3\",\"2015.09.4\",\"2015.09.5\",\"2015.10\",\"2015.10.1\",\"2015.10.2\",\"2015.10.3\",\"2015.10.4\",\"2015.10.5\",\"2015.11\",\"2015.11.1\",\"2015.11.2\",\"2015.11.3\",\"2015.11.4\",\"2015.11.5\",\"2015.12\",\"2015.12.1\",\"2015.12.2\",\"2015.12.3\",\"2015.12.4\",\"2015.12.5\",\"2016.01\",\"2016.01.1\",\"2016.01.2\",\"2016.01.3\",\"2016.01.4\",\"2016.01.5\",\"2016.02\",\"2016.02.1\",\"2016.02.2\",\"2016.02.3\",\"2016.02.4\",\"2016.02.5\",\"2016.03\",\"2016.03.1\",\"2016.03.2\",\"2016.03.3\",\"2016.03.4\",\"2016.03.5\",\"2016.04\",\"2016.04.1\",\"2016.04.2\",\"2016.04.3\",\"2016.04.4\",\"2016.04.5\",\"2016.05\",\"2016.05.1\",\"2016.05.2\",\"2016.05.3\",\"2016.05.4\",\"2016.05.5\",\"2016.06\",\"2016.06.1\",\"2016.06.2\",\"2016.06.3\",\"2016.06.4\",\"2016.06.5\",\"2016.07\",\"2016.07.1\",\"2016.07.2\",\"2016.07.3\",\"2016.07.4\",\"2016.07.5\",\"2016.08\",\"2016.08.1\",\"2016.08.2\",\"2016.08.3\",\"2016.08.4\",\"2016.08.5\",\"2016.09\",\"2016.09.1\",\"2016.09.2\",\"2016.09.3\",\"2016.09.4\",\"2016.09.5\",\"2016.10\",\"2016.10.1\",\"2016.10.2\",\"2016.10.3\",\"2016.10.4\",\"2016.10.5\",\"2016.11\",\"2016.11.1\",\"2016.11.2\",\"2016.11.3\",\"2016.11.4\",\"2016.11.5\",\"2016.12\",\"2016.12.1\",\"2016.12.2\",\"2016.12.3\",\"2016.12.4\",\"2016.12.5\",\"2017.01\",\"2017.01.1\",\"2017.01.2\",\"2017.01.3\",\"2017.01.4\",\"2017.01.5\",\"2017.02\",\"2017.02.1\",\"2017.02.2\",\"2017.02.3\",\"2017.02.4\",\"2017.02.5\",\"2017.03\",\"2017.03.1\",\"2017.03.2\",\"2017.03.3\",\"2017.03.4\",\"2017.03.5\",\"2017.04\",\"2017.04.1\",\"2017.04.2\",\"2017.04.3\",\"2017.04.4\",\"2017.04.5\",\"2017.05\",\"2017.05.1\",\"2017.05.2\",\"2017.05.3\",\"2017.05.4\",\"2017.05.5\",\"2017.06\",\"2017.06.1\",\"2017.06.2\",\"2017.06.3\",\"2017.06.4\",\"2017.06.5\",\"2017.07\",\"2017.07.1\",\"2017.07.2\",\"2017.07.3\",\"2017.07.4\",\"2017.07.5\",\"2017.08\",\"2017.08.1\",\"2017.08.2\",\"2017.08.3\",\"2017.08.4\",\"2017.08.5\",\"2017.09\",\"2017.09.1\",\"2017.09.2\",\"2017.09.3\",\"2017.09.4\",\"2017.09.5\",\"2017.10\",\"2017.10.1\",\"2017.10.2\",\"2017.10.3\",\"2017.10.4\",\"2017.10.5\",\"2017.11\",\"2017.11.1\",\"2017.11.2\",\"2017.11.3\",\"2017.11.4\",\"2017.11.5\",\"2017.12\",\"2017.12.1\",\"2017.12.2\",\"2017.12.3\",\"2017.12.4\",\"2017.12.5\",\"2018.01\",\"2018.01.1\",\"2018.01.2\",\"2018.01.3\",\"2018.01.4\",\"2018.01.5\",\"2018.02\",\"2018.02.1\",\"2018.02.2\",\"2018.02.3\",\"2018.02.4\",\"2018.02.5\",\"2018.03\",\"2018.03.1\",\"2018.03.2\",\"2018.03.3\",\"2018.03.4\",\"2018.03.5\",\"2018.04\",\"2018.04.1\",\"2018.04.2\",\"2018.04.3\",\"2018.04.4\",\"2018.04.5\",\"2018.05\",\"2018.05.1\",\"2018.05.2\",\"2018.05.3\",\"2018.05.4\",\"2018.05.5\",\"2018.06\",\"2018.06.1\",\"2018.06.2\",\"2018.06.3\",\"2018.06.4\",\"2018.06.5\",\"2018.07\",\"2018.07.1\",\"2018.07.2\",\"2018.07.3\",\"2018.07.4\",\"2018.07.5\",\"2018.08\",\"2018.08.1\",\"2018.08.2\",\"2018.08.3\",\"2018.08.4\",\"2018.08.5\",\"2018.09\",\"2018.09.1\",\"2018.09.2\",\"2018.09.3\",\"2018.09.4\",\"2018.09.5\",\"2018.10\",\"2018.10.1\",\"2018.10.2\",\"2018.10.3\",\"2018.10.4\",\"2018.10.5\",\"2018.11\",\"2018.11.1\",\"2018.11.2\",\"2018.11.3\",\"2018.11.4\",\"2018.11.5\",\"2018.12\",\"2018.12.1\",\"2018.12.2\",\"2018.12.3\",\"2018.12.4\",\"2018.12.5\",\"2019.01\",\"2019.01.1\",\"2019.01.2\",\"2019.01.3\",\"2019.01.4\",\"2019.01.5\",\"2019.02\",\"2019.02.1\",\"2019.02.2\",\"2019.02.3\",\"2019.02.4\",\"2019.02.5\",\"2019.03\",\"2019.03.1\",\"2019.03.2\",\"2019.03.3\",\"2019.03.4\",\"2019.03.5\",\"2019.04\",\"2019.04.1\",\"2019.04.2\",\"2019.04.3\",\"2019.04.4\",\"2019.04.5\",\"2019.05\",\"2019.05.1\",\"2019.05.2\",\"2019.05.3\",\"2019.05.4\",\"2019.05.5\",\"2019.06\",\"2019.06.1\",\"2019.06.2\",\"2019.06.3\",\"2019.06.4\",\"2019.06.5\",\"2019.07\",\"2019.07.1\",\"2019.07.2\",\"2019.07.3\",\"2019.07.4\",\"2019.07.5\",\"2019.08\",\"2019.08.1\",\"2019.08.2\",\"2019.08.3\",\"2019.08.4\",\"2019.08.5\",\"2019.09\",\"2019.09.1\",\"2019.09.2\",\"2019.09.3\",\"2019.09.4\",\"2019.09.5\",\"2019.10\",\"2019.10.1\",\"2019.10.2\",\"2019.10.3\",\"2019.10.4\",\"2019.10.5\",\"2019.11\",\"2019.11.1\",\"2019.11.2\",\"2019.11.3\",\"2019.11.4\",\"2019.11.5\",\"2019.12\",\"2019.12.1\",\"2019.12.2\",\"2019.12.3\",\"2019.12.4\",\"2019.12.5\",\"2020.01\",\"2020.01.1\",\"2020.01.2\",\"2020.01.3\",\"2020.01.4\",\"2020.01.5\",\"2020.02\",\"2020.02.1\",\"2020.02.2\",\"2020.02.3\",\"2020.02.4\",\"2020.02.5\",\"2020.03\",\"2020.03.1\",\"2020.03.2\",\"2020.03.3\",\"2020.03.4\",\"2020.03.5\",\"2020.04\",\"2020.04.1\",\"2020.04.2\",\"2020.04.3\",\"2020.04.4\",\"2020.04.5\",\"2020.05\",\"2020.05.1\",\"2020.05.2\",\"2020.05.3\",\"2020.05.4\",\"2020.05.5\",\"2020.06\",\"2020.06.1\",\"2020.06.2\",\"2020.06.3\",\"2020.06.4\",\"2020.06.5\",\"2020.07\",\"2020.07.1\",\"2020.07.2\",\"2020.07.3\",\"2020.07.4\",\"2020.07.5\",\"2020.08\",\"2020.08.1\",\"2020.08.2\",\"2020.08.3\",\"2020.08.4\",\"2020.08.5\",\"2020.09\",\"2020.09.1\",\"2020.09.2\",\"2020.09.3\",\"2020.09.4\",\"2020.09.5\",\"2020.10\",\"2020.10.1\",\"2020.10.2\",\"2020.10.3\",\"2020.10.4\",\"2020.10.5\",\"2020.11\",\"2020.11.1\",\"2020.11.2\",\"2020.11.3\",\"2020.11.4\",\"2020.11.5\",\"2020.12\",\"2020.12.1\",\"2020.12.2\",\"2020.12.3\",\"2020.12.4\",\"2020.12.5\",\"2021.01\",\"2021.01.1\",\"2021.01.2\",\"2021.01.3\",\"2021.01.4\",\"2021.01.5\",\"2021.02\",\"2021.02.1\",\"2021.02.2\",\"2021.02.3\",\"2021.02.4\",\"2021.02.5\",\"2021.03\",\"2021.03.1\",\"2021.03.2\",\"2021.03.3\",\"2021.03.4\",\"2021.03.5\",\"2021.04\",\"2021.04.1\",\"2021.04.2\",\"2021.04.3\",\"2021.04.4\",\"2021.04.5\",\"2021.05\",\"2021.05.1\",\"2021.05.2\",\"2021.05.3\",\"2021.05.4\",\"2021.05.5\",\"2021.06\",\"2021.06.1\",\"2021.06.2\",\"2021.06.3\",\"2021.06.4\",\"2021.06.5\",\"2021.07\",\"2021.07.1\",\"2021.07.2\",\"2021.07.3\",\"2021.07.4\",\"2021.07.5\",\"2021.08\",\"2021.08.1\",\"2021.08.2\",\"2021.08.3\",\"2021.08.4\",\"2021.08.5\",\"2021.09\",\"2021.09.1\",\"2021.09.2\",\"2021.09.3\",\"2021.09.4\",\"2021.09.5\",\"2021.10\",\"2021.10.1\",\"2021.10.2\",\"2021.10.3\",\"2021.10.4\",\"2021.10.5\",\"2021.11\",\"2021.11.1\",\"2021.11.2\",\"2021.11.3\",\"2021.11.4\",\"2021.11.5\",\"2021.12\",\"2021.12.1\",\"2021.12.2\",\"2021.12.3\",\"2021.12.4\",\"2021.12.5\",\"2022.01\",\"2022.01.1\",\"2022.01.2\",\"2022.01.3\",\"2022.01.4\",\"2022.01.5\",\"2022.02\",\"2022.02.1\",\"2022.02.2\",\"2022.02.3\",\"2022.02.4\",\"2022.02.5\",\"2022.03\",\"2022.03.1\",\"2022.03.2\",\"2022.03.3\",\"2022.03.4\",\"2022.03.5\",\"2022.04\",\"2022.04.1\",\"2022.04.2\",\"2022.04.3\",\"2022.04.4\",\"2022.04.5\",\"2022.05\",\"2022.05.1\",\"2022.05.2\",\"2022.05.3\",\"2022.05.4\",\"2022.05.5\",\"2022.06\",\"2022.06.1\",\"2022.06.2\",\"2022.06.3\",\"2022.06.4\",\"2022.06.5\",\"2022.07\",\"2022.07.1\",\"2022.07.2\",\"2022.07.3\",\"2022.07.4\",\"2022.07.5\",\"2022.08\",\"2022.08.1\",\"2022.08.2\",\"2022.08.3\",\"2022.08.4\",\"2022.08.5\",\"2022.09\",\"2022.09.1\",\"2022.09.2\",\"2022.09.3\",\"2022.09.4\",\"2022.09.5\",\"2022.10\",\"2022.10.1\",\"2022.10.2\",\"2022.10.3\",\"2022.10.4\",\"2022.10.5\",\"2022.11\",\"2022.11.1\",\"2022.11.2\",\"2022.11.3\",\"2022.11.4\",\"2022.11.5\",\"2022.12\",\"2022.12.1\",\"2022.12.2\",\"2022.12.3\",\"2022.12.4\",\"2022.12.5\",\"2023.01\",\"2023.01.1\",\"2023.01.2\",\"2023.01.3\",\"2023.01.4\",\"2023.01.5\"],\"xaxis\":\"x\",\"y\":[5.0,15.0,72.1,7.2,0.8,91.9,6.1,8.2,72.8,12.9,0.0,96.2,1.4,10.1,71.9,16.6,0.0,101.9,3.1,10.6,73.7,10.0,2.6,99.3,3.2,8.2,74.8,11.0,2.7,100.9,3.5,9.4,73.1,14.0,0.0,98.8,9.6,16.9,61.5,12.1,0.0,88.0,1.4,9.0,71.7,16.1,1.8,104.0,1.4,8.3,75.6,13.0,1.8,102.7,1.4,12.3,76.1,10.2,0.0,97.6,3.3,12.6,72.9,9.8,1.4,96.7,3.7,6.7,80.1,9.5,0.0,97.7,1.4,15.2,75.7,7.6,0.0,94.8,0.9,11.4,79.0,8.6,0.0,97.7,0.0,12.9,68.7,17.0,1.3,103.4,0.0,11.4,81.6,5.6,1.4,98.5,0.9,10.8,77.8,9.6,0.9,99.4,3.4,15.4,70.4,9.9,1.0,94.9,0.0,17.1,74.6,5.7,2.5,96.9,2.4,15.3,75.6,5.2,1.5,94.0,2.5,8.4,79.1,10.0,0.0,98.3,0.0,15.4,72.8,10.1,1.7,99.1,1.6,17.9,72.4,6.4,1.6,94.2,9.8,14.6,63.2,10.7,1.7,90.0,3.3,13.9,73.7,9.2,0.0,94.4,3.1,14.3,71.6,11.0,0.0,95.2,8.4,14.5,66.1,11.0,0.0,89.9,6.7,17.7,68.0,7.6,0.0,88.3,4.9,11.0,77.7,4.7,1.6,93.6,0.0,12.7,76.1,9.6,1.6,100.1,1.6,15.5,78.2,4.7,0.0,93.0,4.7,11.0,75.1,9.2,0.0,94.4,4.9,9.2,76.7,7.5,1.6,95.9,3.3,18.8,60.6,17.2,0.0,95.8,6.7,18.1,63.7,11.5,0.0,90.0,1.6,12.8,75.8,9.7,0.0,96.8,3.3,16.1,74.2,6.4,0.0,91.9,3.3,11.2,77.7,6.2,1.6,95.9,8.1,12.9,75.8,3.1,0.0,86.9,9.9,9.6,67.6,12.9,0.0,91.8,5.1,20.2,68.0,6.7,0.0,88.2,3.4,18.8,74.4,3.4,0.0,88.9,1.6,15.5,81.2,1.6,0.0,91.4,6.5,21.6,67.1,4.8,0.0,85.1,8.0,10.5,78.4,3.0,0.0,88.3,4.9,12.0,74.9,4.9,3.3,94.8,6.3,18.1,66.2,7.7,1.6,90.2,4.9,16.9,71.8,6.3,0.0,89.8,3.1,24.9,67.4,4.6,0.0,86.8,3.1,24.0,63.0,6.5,3.4,91.5,4.7,16.3,65.7,11.5,1.7,94.6,3.1,18.5,73.8,3.1,1.6,90.7,6.3,9.5,74.9,9.4,0.0,93.6,4.6,26.2,64.4,4.8,0.0,84.7,5.0,25.3,65.2,4.5,0.0,84.6,4.8,34.2,51.5,9.5,0.0,82.8,3.2,29.8,59.1,7.9,0.0,85.9,3.2,27.4,66.1,3.2,0.0,84.7,4.8,32.2,59.7,3.2,0.0,80.7,4.8,22.6,69.4,3.2,0.0,85.5,3.2,24.4,64.1,6.6,1.6,89.5,6.6,30.0,58.4,5.0,0.0,80.9,19.0,30.1,49.2,1.6,0.0,66.7,18.2,28.7,48.1,4.9,0.0,69.9,17.4,30.3,47.5,3.2,1.6,70.6,14.5,25.9,52.9,4.9,1.7,76.7,12.5,34.4,48.4,3.1,1.6,73.4,8.0,25.3,65.1,1.6,0.0,80.2,10.9,28.1,54.7,6.3,0.0,78.1,6.5,27.4,61.3,4.8,0.0,82.3,9.5,23.6,65.3,1.6,0.0,79.4,11.2,25.6,55.4,7.8,0.0,79.9,8.9,21.1,64.0,4.6,1.4,84.3,5.1,25.3,61.3,6.7,1.7,87.3,6.0,20.1,67.6,6.2,0.0,87.1,7.6,25.2,58.0,9.2,0.0,84.5,5.8,24.7,66.7,1.4,1.4,84.1,7.2,18.3,70.0,4.5,0.0,85.9,4.9,25.5,62.4,7.2,0.0,86.0,7.3,22.7,60.8,7.7,1.4,86.5,7.4,20.3,63.5,8.8,0.0,86.9,4.9,26.9,65.4,2.8,0.0,83.0,8.5,26.2,59.2,6.2,0.0,81.5,6.7,27.4,60.2,5.8,0.0,82.5,7.7,22.4,62.6,7.4,0.0,84.8,6.8,31.7,58.8,2.7,0.0,78.7,8.7,25.2,58.3,6.5,1.3,83.2,10.7,23.4,57.4,7.2,1.4,82.6,4.5,28.8,60.1,6.7,0.0,84.5,12.4,32.0,54.3,1.3,0.0,72.2,7.8,31.5,59.5,1.3,0.0,77.1,4.4,25.4,65.8,3.2,1.3,85.7,6.9,26.0,60.8,5.1,1.3,83.9,7.0,23.6,63.6,4.6,1.3,84.8,4.6,20.1,67.6,7.8,0.0,89.3,3.1,19.0,73.5,4.4,0.0,89.6],\"yaxis\":\"y\",\"type\":\"scatter\"}],                        {\"template\":{\"data\":{\"bar\":[{\"error_x\":{\"color\":\"#2a3f5f\"},\"error_y\":{\"color\":\"#2a3f5f\"},\"marker\":{\"line\":{\"color\":\"#E5ECF6\",\"width\":0.5},\"pattern\":{\"fillmode\":\"overlay\",\"size\":10,\"solidity\":0.2}},\"type\":\"bar\"}],\"barpolar\":[{\"marker\":{\"line\":{\"color\":\"#E5ECF6\",\"width\":0.5},\"pattern\":{\"fillmode\":\"overlay\",\"size\":10,\"solidity\":0.2}},\"type\":\"barpolar\"}],\"carpet\":[{\"aaxis\":{\"endlinecolor\":\"#2a3f5f\",\"gridcolor\":\"white\",\"linecolor\":\"white\",\"minorgridcolor\":\"white\",\"startlinecolor\":\"#2a3f5f\"},\"baxis\":{\"endlinecolor\":\"#2a3f5f\",\"gridcolor\":\"white\",\"linecolor\":\"white\",\"minorgridcolor\":\"white\",\"startlinecolor\":\"#2a3f5f\"},\"type\":\"carpet\"}],\"choropleth\":[{\"colorbar\":{\"outlinewidth\":0,\"ticks\":\"\"},\"type\":\"choropleth\"}],\"contour\":[{\"colorbar\":{\"outlinewidth\":0,\"ticks\":\"\"},\"colorscale\":[[0.0,\"#0d0887\"],[0.1111111111111111,\"#46039f\"],[0.2222222222222222,\"#7201a8\"],[0.3333333333333333,\"#9c179e\"],[0.4444444444444444,\"#bd3786\"],[0.5555555555555556,\"#d8576b\"],[0.6666666666666666,\"#ed7953\"],[0.7777777777777778,\"#fb9f3a\"],[0.8888888888888888,\"#fdca26\"],[1.0,\"#f0f921\"]],\"type\":\"contour\"}],\"contourcarpet\":[{\"colorbar\":{\"outlinewidth\":0,\"ticks\":\"\"},\"type\":\"contourcarpet\"}],\"heatmap\":[{\"colorbar\":{\"outlinewidth\":0,\"ticks\":\"\"},\"colorscale\":[[0.0,\"#0d0887\"],[0.1111111111111111,\"#46039f\"],[0.2222222222222222,\"#7201a8\"],[0.3333333333333333,\"#9c179e\"],[0.4444444444444444,\"#bd3786\"],[0.5555555555555556,\"#d8576b\"],[0.6666666666666666,\"#ed7953\"],[0.7777777777777778,\"#fb9f3a\"],[0.8888888888888888,\"#fdca26\"],[1.0,\"#f0f921\"]],\"type\":\"heatmap\"}],\"heatmapgl\":[{\"colorbar\":{\"outlinewidth\":0,\"ticks\":\"\"},\"colorscale\":[[0.0,\"#0d0887\"],[0.1111111111111111,\"#46039f\"],[0.2222222222222222,\"#7201a8\"],[0.3333333333333333,\"#9c179e\"],[0.4444444444444444,\"#bd3786\"],[0.5555555555555556,\"#d8576b\"],[0.6666666666666666,\"#ed7953\"],[0.7777777777777778,\"#fb9f3a\"],[0.8888888888888888,\"#fdca26\"],[1.0,\"#f0f921\"]],\"type\":\"heatmapgl\"}],\"histogram\":[{\"marker\":{\"pattern\":{\"fillmode\":\"overlay\",\"size\":10,\"solidity\":0.2}},\"type\":\"histogram\"}],\"histogram2d\":[{\"colorbar\":{\"outlinewidth\":0,\"ticks\":\"\"},\"colorscale\":[[0.0,\"#0d0887\"],[0.1111111111111111,\"#46039f\"],[0.2222222222222222,\"#7201a8\"],[0.3333333333333333,\"#9c179e\"],[0.4444444444444444,\"#bd3786\"],[0.5555555555555556,\"#d8576b\"],[0.6666666666666666,\"#ed7953\"],[0.7777777777777778,\"#fb9f3a\"],[0.8888888888888888,\"#fdca26\"],[1.0,\"#f0f921\"]],\"type\":\"histogram2d\"}],\"histogram2dcontour\":[{\"colorbar\":{\"outlinewidth\":0,\"ticks\":\"\"},\"colorscale\":[[0.0,\"#0d0887\"],[0.1111111111111111,\"#46039f\"],[0.2222222222222222,\"#7201a8\"],[0.3333333333333333,\"#9c179e\"],[0.4444444444444444,\"#bd3786\"],[0.5555555555555556,\"#d8576b\"],[0.6666666666666666,\"#ed7953\"],[0.7777777777777778,\"#fb9f3a\"],[0.8888888888888888,\"#fdca26\"],[1.0,\"#f0f921\"]],\"type\":\"histogram2dcontour\"}],\"mesh3d\":[{\"colorbar\":{\"outlinewidth\":0,\"ticks\":\"\"},\"type\":\"mesh3d\"}],\"parcoords\":[{\"line\":{\"colorbar\":{\"outlinewidth\":0,\"ticks\":\"\"}},\"type\":\"parcoords\"}],\"pie\":[{\"automargin\":true,\"type\":\"pie\"}],\"scatter\":[{\"marker\":{\"colorbar\":{\"outlinewidth\":0,\"ticks\":\"\"}},\"type\":\"scatter\"}],\"scatter3d\":[{\"line\":{\"colorbar\":{\"outlinewidth\":0,\"ticks\":\"\"}},\"marker\":{\"colorbar\":{\"outlinewidth\":0,\"ticks\":\"\"}},\"type\":\"scatter3d\"}],\"scattercarpet\":[{\"marker\":{\"colorbar\":{\"outlinewidth\":0,\"ticks\":\"\"}},\"type\":\"scattercarpet\"}],\"scattergeo\":[{\"marker\":{\"colorbar\":{\"outlinewidth\":0,\"ticks\":\"\"}},\"type\":\"scattergeo\"}],\"scattergl\":[{\"marker\":{\"colorbar\":{\"outlinewidth\":0,\"ticks\":\"\"}},\"type\":\"scattergl\"}],\"scattermapbox\":[{\"marker\":{\"colorbar\":{\"outlinewidth\":0,\"ticks\":\"\"}},\"type\":\"scattermapbox\"}],\"scatterpolar\":[{\"marker\":{\"colorbar\":{\"outlinewidth\":0,\"ticks\":\"\"}},\"type\":\"scatterpolar\"}],\"scatterpolargl\":[{\"marker\":{\"colorbar\":{\"outlinewidth\":0,\"ticks\":\"\"}},\"type\":\"scatterpolargl\"}],\"scatterternary\":[{\"marker\":{\"colorbar\":{\"outlinewidth\":0,\"ticks\":\"\"}},\"type\":\"scatterternary\"}],\"surface\":[{\"colorbar\":{\"outlinewidth\":0,\"ticks\":\"\"},\"colorscale\":[[0.0,\"#0d0887\"],[0.1111111111111111,\"#46039f\"],[0.2222222222222222,\"#7201a8\"],[0.3333333333333333,\"#9c179e\"],[0.4444444444444444,\"#bd3786\"],[0.5555555555555556,\"#d8576b\"],[0.6666666666666666,\"#ed7953\"],[0.7777777777777778,\"#fb9f3a\"],[0.8888888888888888,\"#fdca26\"],[1.0,\"#f0f921\"]],\"type\":\"surface\"}],\"table\":[{\"cells\":{\"fill\":{\"color\":\"#EBF0F8\"},\"line\":{\"color\":\"white\"}},\"header\":{\"fill\":{\"color\":\"#C8D4E3\"},\"line\":{\"color\":\"white\"}},\"type\":\"table\"}]},\"layout\":{\"annotationdefaults\":{\"arrowcolor\":\"#2a3f5f\",\"arrowhead\":0,\"arrowwidth\":1},\"autotypenumbers\":\"strict\",\"coloraxis\":{\"colorbar\":{\"outlinewidth\":0,\"ticks\":\"\"}},\"colorscale\":{\"diverging\":[[0,\"#8e0152\"],[0.1,\"#c51b7d\"],[0.2,\"#de77ae\"],[0.3,\"#f1b6da\"],[0.4,\"#fde0ef\"],[0.5,\"#f7f7f7\"],[0.6,\"#e6f5d0\"],[0.7,\"#b8e186\"],[0.8,\"#7fbc41\"],[0.9,\"#4d9221\"],[1,\"#276419\"]],\"sequential\":[[0.0,\"#0d0887\"],[0.1111111111111111,\"#46039f\"],[0.2222222222222222,\"#7201a8\"],[0.3333333333333333,\"#9c179e\"],[0.4444444444444444,\"#bd3786\"],[0.5555555555555556,\"#d8576b\"],[0.6666666666666666,\"#ed7953\"],[0.7777777777777778,\"#fb9f3a\"],[0.8888888888888888,\"#fdca26\"],[1.0,\"#f0f921\"]],\"sequentialminus\":[[0.0,\"#0d0887\"],[0.1111111111111111,\"#46039f\"],[0.2222222222222222,\"#7201a8\"],[0.3333333333333333,\"#9c179e\"],[0.4444444444444444,\"#bd3786\"],[0.5555555555555556,\"#d8576b\"],[0.6666666666666666,\"#ed7953\"],[0.7777777777777778,\"#fb9f3a\"],[0.8888888888888888,\"#fdca26\"],[1.0,\"#f0f921\"]]},\"colorway\":[\"#636efa\",\"#EF553B\",\"#00cc96\",\"#ab63fa\",\"#FFA15A\",\"#19d3f3\",\"#FF6692\",\"#B6E880\",\"#FF97FF\",\"#FECB52\"],\"font\":{\"color\":\"#2a3f5f\"},\"geo\":{\"bgcolor\":\"white\",\"lakecolor\":\"white\",\"landcolor\":\"#E5ECF6\",\"showlakes\":true,\"showland\":true,\"subunitcolor\":\"white\"},\"hoverlabel\":{\"align\":\"left\"},\"hovermode\":\"closest\",\"mapbox\":{\"style\":\"light\"},\"paper_bgcolor\":\"white\",\"plot_bgcolor\":\"#E5ECF6\",\"polar\":{\"angularaxis\":{\"gridcolor\":\"white\",\"linecolor\":\"white\",\"ticks\":\"\"},\"bgcolor\":\"#E5ECF6\",\"radialaxis\":{\"gridcolor\":\"white\",\"linecolor\":\"white\",\"ticks\":\"\"}},\"scene\":{\"xaxis\":{\"backgroundcolor\":\"#E5ECF6\",\"gridcolor\":\"white\",\"gridwidth\":2,\"linecolor\":\"white\",\"showbackground\":true,\"ticks\":\"\",\"zerolinecolor\":\"white\"},\"yaxis\":{\"backgroundcolor\":\"#E5ECF6\",\"gridcolor\":\"white\",\"gridwidth\":2,\"linecolor\":\"white\",\"showbackground\":true,\"ticks\":\"\",\"zerolinecolor\":\"white\"},\"zaxis\":{\"backgroundcolor\":\"#E5ECF6\",\"gridcolor\":\"white\",\"gridwidth\":2,\"linecolor\":\"white\",\"showbackground\":true,\"ticks\":\"\",\"zerolinecolor\":\"white\"}},\"shapedefaults\":{\"line\":{\"color\":\"#2a3f5f\"}},\"ternary\":{\"aaxis\":{\"gridcolor\":\"white\",\"linecolor\":\"white\",\"ticks\":\"\"},\"baxis\":{\"gridcolor\":\"white\",\"linecolor\":\"white\",\"ticks\":\"\"},\"bgcolor\":\"#E5ECF6\",\"caxis\":{\"gridcolor\":\"white\",\"linecolor\":\"white\",\"ticks\":\"\"}},\"title\":{\"x\":0.05},\"xaxis\":{\"automargin\":true,\"gridcolor\":\"white\",\"linecolor\":\"white\",\"ticks\":\"\",\"title\":{\"standoff\":15},\"zerolinecolor\":\"white\",\"zerolinewidth\":2},\"yaxis\":{\"automargin\":true,\"gridcolor\":\"white\",\"linecolor\":\"white\",\"ticks\":\"\",\"title\":{\"standoff\":15},\"zerolinecolor\":\"white\",\"zerolinewidth\":2}}},\"xaxis\":{\"anchor\":\"y\",\"domain\":[0.0,1.0],\"title\":{\"text\":\"\\uc2dc\\uae30\"}},\"yaxis\":{\"anchor\":\"x\",\"domain\":[0.0,1.0],\"title\":{\"text\":\"\\uc12c\\uc720\\uc81c\\ud488;\\uc758\\ubcf5\\uc81c\\uc678\"}},\"legend\":{\"tracegroupgap\":0},\"margin\":{\"t\":60}},                        {\"responsive\": true}                    ).then(function(){\n",
       "                            \n",
       "var gd = document.getElementById('710122c7-4077-4665-8a6f-f27669cb16dd');\n",
       "var x = new MutationObserver(function (mutations, observer) {{\n",
       "        var display = window.getComputedStyle(gd).display;\n",
       "        if (!display || display === 'none') {{\n",
       "            console.log([gd, 'removed!']);\n",
       "            Plotly.purge(gd);\n",
       "            observer.disconnect();\n",
       "        }}\n",
       "}});\n",
       "\n",
       "// Listen for the removal of the full notebook cells\n",
       "var notebookContainer = gd.closest('#notebook-container');\n",
       "if (notebookContainer) {{\n",
       "    x.observe(notebookContainer, {childList: true});\n",
       "}}\n",
       "\n",
       "// Listen for the clearing of the current output cell\n",
       "var outputEl = gd.closest('.output');\n",
       "if (outputEl) {{\n",
       "    x.observe(outputEl, {childList: true});\n",
       "}}\n",
       "\n",
       "                        })                };                });            </script>        </div>"
      ]
     },
     "metadata": {},
     "output_type": "display_data"
    }
   ],
   "source": [
    "px.line(df_7, x='시기', y='섬유제품;의복제외', markers = True)"
   ]
  },
  {
   "cell_type": "code",
   "execution_count": null,
   "id": "0f927c2d",
   "metadata": {},
   "outputs": [],
   "source": []
  },
  {
   "cell_type": "code",
   "execution_count": 23,
   "id": "b501638a",
   "metadata": {},
   "outputs": [],
   "source": [
    "df_8 = pd.read_csv('./SBHI전처리데이터/자금사정전망_sbhi.csv' , encoding = 'cp949')"
   ]
  },
  {
   "cell_type": "code",
   "execution_count": 24,
   "id": "12e1cb98",
   "metadata": {},
   "outputs": [
    {
     "data": {
      "application/vnd.plotly.v1+json": {
       "config": {
        "plotlyServerURL": "https://plot.ly"
       },
       "data": [
        {
         "hovertemplate": "시기=%{x}<br>섬유제품;의복제외=%{y}<extra></extra>",
         "legendgroup": "",
         "line": {
          "color": "#636efa",
          "dash": "solid"
         },
         "marker": {
          "symbol": "circle"
         },
         "mode": "lines+markers",
         "name": "",
         "orientation": "v",
         "showlegend": false,
         "type": "scatter",
         "x": [
          "2015.02 월",
          "2015.03 월",
          "2015.04 월",
          "2015.05 월",
          "2015.06 월",
          "2015.07 월",
          "2015.08 월",
          "2015.09 월",
          "2015.10 월",
          "2015.11 월",
          "2015.12 월",
          "2016.01 월",
          "2016.02 월",
          "2016.03 월",
          "2016.04 월",
          "2016.05 월",
          "2016.06 월",
          "2016.07 월",
          "2016.08 월",
          "2016.09 월",
          "2016.10 월",
          "2016.11 월",
          "2016.12 월",
          "2017.01 월",
          "2017.02 월",
          "2017.03 월",
          "2017.04 월",
          "2017.05 월",
          "2017.06 월",
          "2017.07 월",
          "2017.08 월",
          "2017.09 월",
          "2017.10 월",
          "2017.11 월",
          "2017.12 월",
          "2018.01 월",
          "2018.02 월",
          "2018.03 월",
          "2018.04 월",
          "2018.05 월",
          "2018.06 월",
          "2018.07 월",
          "2018.08 월",
          "2018.09 월",
          "2018.10 월",
          "2018.11 월",
          "2018.12 월",
          "2019.01 월",
          "2019.02 월",
          "2019.03 월",
          "2019.04 월",
          "2019.05 월",
          "2019.06 월",
          "2019.07 월",
          "2019.08 월",
          "2019.09 월",
          "2019.10 월",
          "2019.11 월",
          "2019.12 월",
          "2020.01 월",
          "2020.02 월",
          "2020.03 월",
          "2020.04 월",
          "2020.05 월",
          "2020.06 월",
          "2020.07 월",
          "2020.08 월",
          "2020.09 월",
          "2020.10 월",
          "2020.11 월",
          "2020.12 월",
          "2021.01 월",
          "2021.02 월",
          "2021.03 월",
          "2021.04 월",
          "2021.05 월",
          "2021.06 월",
          "2021.07 월",
          "2021.08 월",
          "2021.09 월",
          "2021.10 월",
          "2021.11 월",
          "2021.12 월",
          "2022.01 월",
          "2022.02 월",
          "2022.03 월",
          "2022.04 월",
          "2022.05 월",
          "2022.06 월",
          "2022.07 월",
          "2022.08 월",
          "2022.09 월",
          "2022.10 월",
          "2022.11 월",
          "2022.12 월",
          "2023.01 월"
         ],
         "xaxis": "x",
         "y": [
          65.7,
          81.4,
          81.8,
          79.9,
          76.5,
          71.3,
          79.9,
          81.1,
          82.6,
          80.4,
          75.3,
          73.5,
          69.2,
          79.9,
          89.1,
          87.1,
          83.5,
          77.9,
          82.8,
          84,
          92,
          87.1,
          83,
          67.4,
          70.1,
          76.5,
          83.3,
          75.8,
          79.5,
          81.2,
          75.4,
          77.2,
          80.9,
          86.6,
          72.5,
          76,
          77.6,
          81.4,
          81.5,
          80.6,
          75.6,
          73.2,
          74.5,
          71.5,
          76.2,
          79.8,
          70.4,
          69.5,
          62.4,
          78.3,
          77.4,
          73.7,
          80.4,
          73.6,
          68.8,
          67.2,
          75.7,
          75,
          66.9,
          67,
          69,
          65,
          48.5,
          38.6,
          41.2,
          56.4,
          54.7,
          52.4,
          62.5,
          65.3,
          58.8,
          57.7,
          66.8,
          79.8,
          81.2,
          78.7,
          76.6,
          75.9,
          72.8,
          73.9,
          76.4,
          76.4,
          85.6,
          75.5,
          74.8,
          78.7,
          75.7,
          73.8,
          76.3,
          67,
          72.4,
          70.9,
          74.5,
          71.1,
          66.3,
          68.6
         ],
         "yaxis": "y"
        }
       ],
       "layout": {
        "legend": {
         "tracegroupgap": 0
        },
        "margin": {
         "t": 60
        },
        "template": {
         "data": {
          "bar": [
           {
            "error_x": {
             "color": "#2a3f5f"
            },
            "error_y": {
             "color": "#2a3f5f"
            },
            "marker": {
             "line": {
              "color": "#E5ECF6",
              "width": 0.5
             },
             "pattern": {
              "fillmode": "overlay",
              "size": 10,
              "solidity": 0.2
             }
            },
            "type": "bar"
           }
          ],
          "barpolar": [
           {
            "marker": {
             "line": {
              "color": "#E5ECF6",
              "width": 0.5
             },
             "pattern": {
              "fillmode": "overlay",
              "size": 10,
              "solidity": 0.2
             }
            },
            "type": "barpolar"
           }
          ],
          "carpet": [
           {
            "aaxis": {
             "endlinecolor": "#2a3f5f",
             "gridcolor": "white",
             "linecolor": "white",
             "minorgridcolor": "white",
             "startlinecolor": "#2a3f5f"
            },
            "baxis": {
             "endlinecolor": "#2a3f5f",
             "gridcolor": "white",
             "linecolor": "white",
             "minorgridcolor": "white",
             "startlinecolor": "#2a3f5f"
            },
            "type": "carpet"
           }
          ],
          "choropleth": [
           {
            "colorbar": {
             "outlinewidth": 0,
             "ticks": ""
            },
            "type": "choropleth"
           }
          ],
          "contour": [
           {
            "colorbar": {
             "outlinewidth": 0,
             "ticks": ""
            },
            "colorscale": [
             [
              0,
              "#0d0887"
             ],
             [
              0.1111111111111111,
              "#46039f"
             ],
             [
              0.2222222222222222,
              "#7201a8"
             ],
             [
              0.3333333333333333,
              "#9c179e"
             ],
             [
              0.4444444444444444,
              "#bd3786"
             ],
             [
              0.5555555555555556,
              "#d8576b"
             ],
             [
              0.6666666666666666,
              "#ed7953"
             ],
             [
              0.7777777777777778,
              "#fb9f3a"
             ],
             [
              0.8888888888888888,
              "#fdca26"
             ],
             [
              1,
              "#f0f921"
             ]
            ],
            "type": "contour"
           }
          ],
          "contourcarpet": [
           {
            "colorbar": {
             "outlinewidth": 0,
             "ticks": ""
            },
            "type": "contourcarpet"
           }
          ],
          "heatmap": [
           {
            "colorbar": {
             "outlinewidth": 0,
             "ticks": ""
            },
            "colorscale": [
             [
              0,
              "#0d0887"
             ],
             [
              0.1111111111111111,
              "#46039f"
             ],
             [
              0.2222222222222222,
              "#7201a8"
             ],
             [
              0.3333333333333333,
              "#9c179e"
             ],
             [
              0.4444444444444444,
              "#bd3786"
             ],
             [
              0.5555555555555556,
              "#d8576b"
             ],
             [
              0.6666666666666666,
              "#ed7953"
             ],
             [
              0.7777777777777778,
              "#fb9f3a"
             ],
             [
              0.8888888888888888,
              "#fdca26"
             ],
             [
              1,
              "#f0f921"
             ]
            ],
            "type": "heatmap"
           }
          ],
          "heatmapgl": [
           {
            "colorbar": {
             "outlinewidth": 0,
             "ticks": ""
            },
            "colorscale": [
             [
              0,
              "#0d0887"
             ],
             [
              0.1111111111111111,
              "#46039f"
             ],
             [
              0.2222222222222222,
              "#7201a8"
             ],
             [
              0.3333333333333333,
              "#9c179e"
             ],
             [
              0.4444444444444444,
              "#bd3786"
             ],
             [
              0.5555555555555556,
              "#d8576b"
             ],
             [
              0.6666666666666666,
              "#ed7953"
             ],
             [
              0.7777777777777778,
              "#fb9f3a"
             ],
             [
              0.8888888888888888,
              "#fdca26"
             ],
             [
              1,
              "#f0f921"
             ]
            ],
            "type": "heatmapgl"
           }
          ],
          "histogram": [
           {
            "marker": {
             "pattern": {
              "fillmode": "overlay",
              "size": 10,
              "solidity": 0.2
             }
            },
            "type": "histogram"
           }
          ],
          "histogram2d": [
           {
            "colorbar": {
             "outlinewidth": 0,
             "ticks": ""
            },
            "colorscale": [
             [
              0,
              "#0d0887"
             ],
             [
              0.1111111111111111,
              "#46039f"
             ],
             [
              0.2222222222222222,
              "#7201a8"
             ],
             [
              0.3333333333333333,
              "#9c179e"
             ],
             [
              0.4444444444444444,
              "#bd3786"
             ],
             [
              0.5555555555555556,
              "#d8576b"
             ],
             [
              0.6666666666666666,
              "#ed7953"
             ],
             [
              0.7777777777777778,
              "#fb9f3a"
             ],
             [
              0.8888888888888888,
              "#fdca26"
             ],
             [
              1,
              "#f0f921"
             ]
            ],
            "type": "histogram2d"
           }
          ],
          "histogram2dcontour": [
           {
            "colorbar": {
             "outlinewidth": 0,
             "ticks": ""
            },
            "colorscale": [
             [
              0,
              "#0d0887"
             ],
             [
              0.1111111111111111,
              "#46039f"
             ],
             [
              0.2222222222222222,
              "#7201a8"
             ],
             [
              0.3333333333333333,
              "#9c179e"
             ],
             [
              0.4444444444444444,
              "#bd3786"
             ],
             [
              0.5555555555555556,
              "#d8576b"
             ],
             [
              0.6666666666666666,
              "#ed7953"
             ],
             [
              0.7777777777777778,
              "#fb9f3a"
             ],
             [
              0.8888888888888888,
              "#fdca26"
             ],
             [
              1,
              "#f0f921"
             ]
            ],
            "type": "histogram2dcontour"
           }
          ],
          "mesh3d": [
           {
            "colorbar": {
             "outlinewidth": 0,
             "ticks": ""
            },
            "type": "mesh3d"
           }
          ],
          "parcoords": [
           {
            "line": {
             "colorbar": {
              "outlinewidth": 0,
              "ticks": ""
             }
            },
            "type": "parcoords"
           }
          ],
          "pie": [
           {
            "automargin": true,
            "type": "pie"
           }
          ],
          "scatter": [
           {
            "marker": {
             "colorbar": {
              "outlinewidth": 0,
              "ticks": ""
             }
            },
            "type": "scatter"
           }
          ],
          "scatter3d": [
           {
            "line": {
             "colorbar": {
              "outlinewidth": 0,
              "ticks": ""
             }
            },
            "marker": {
             "colorbar": {
              "outlinewidth": 0,
              "ticks": ""
             }
            },
            "type": "scatter3d"
           }
          ],
          "scattercarpet": [
           {
            "marker": {
             "colorbar": {
              "outlinewidth": 0,
              "ticks": ""
             }
            },
            "type": "scattercarpet"
           }
          ],
          "scattergeo": [
           {
            "marker": {
             "colorbar": {
              "outlinewidth": 0,
              "ticks": ""
             }
            },
            "type": "scattergeo"
           }
          ],
          "scattergl": [
           {
            "marker": {
             "colorbar": {
              "outlinewidth": 0,
              "ticks": ""
             }
            },
            "type": "scattergl"
           }
          ],
          "scattermapbox": [
           {
            "marker": {
             "colorbar": {
              "outlinewidth": 0,
              "ticks": ""
             }
            },
            "type": "scattermapbox"
           }
          ],
          "scatterpolar": [
           {
            "marker": {
             "colorbar": {
              "outlinewidth": 0,
              "ticks": ""
             }
            },
            "type": "scatterpolar"
           }
          ],
          "scatterpolargl": [
           {
            "marker": {
             "colorbar": {
              "outlinewidth": 0,
              "ticks": ""
             }
            },
            "type": "scatterpolargl"
           }
          ],
          "scatterternary": [
           {
            "marker": {
             "colorbar": {
              "outlinewidth": 0,
              "ticks": ""
             }
            },
            "type": "scatterternary"
           }
          ],
          "surface": [
           {
            "colorbar": {
             "outlinewidth": 0,
             "ticks": ""
            },
            "colorscale": [
             [
              0,
              "#0d0887"
             ],
             [
              0.1111111111111111,
              "#46039f"
             ],
             [
              0.2222222222222222,
              "#7201a8"
             ],
             [
              0.3333333333333333,
              "#9c179e"
             ],
             [
              0.4444444444444444,
              "#bd3786"
             ],
             [
              0.5555555555555556,
              "#d8576b"
             ],
             [
              0.6666666666666666,
              "#ed7953"
             ],
             [
              0.7777777777777778,
              "#fb9f3a"
             ],
             [
              0.8888888888888888,
              "#fdca26"
             ],
             [
              1,
              "#f0f921"
             ]
            ],
            "type": "surface"
           }
          ],
          "table": [
           {
            "cells": {
             "fill": {
              "color": "#EBF0F8"
             },
             "line": {
              "color": "white"
             }
            },
            "header": {
             "fill": {
              "color": "#C8D4E3"
             },
             "line": {
              "color": "white"
             }
            },
            "type": "table"
           }
          ]
         },
         "layout": {
          "annotationdefaults": {
           "arrowcolor": "#2a3f5f",
           "arrowhead": 0,
           "arrowwidth": 1
          },
          "autotypenumbers": "strict",
          "coloraxis": {
           "colorbar": {
            "outlinewidth": 0,
            "ticks": ""
           }
          },
          "colorscale": {
           "diverging": [
            [
             0,
             "#8e0152"
            ],
            [
             0.1,
             "#c51b7d"
            ],
            [
             0.2,
             "#de77ae"
            ],
            [
             0.3,
             "#f1b6da"
            ],
            [
             0.4,
             "#fde0ef"
            ],
            [
             0.5,
             "#f7f7f7"
            ],
            [
             0.6,
             "#e6f5d0"
            ],
            [
             0.7,
             "#b8e186"
            ],
            [
             0.8,
             "#7fbc41"
            ],
            [
             0.9,
             "#4d9221"
            ],
            [
             1,
             "#276419"
            ]
           ],
           "sequential": [
            [
             0,
             "#0d0887"
            ],
            [
             0.1111111111111111,
             "#46039f"
            ],
            [
             0.2222222222222222,
             "#7201a8"
            ],
            [
             0.3333333333333333,
             "#9c179e"
            ],
            [
             0.4444444444444444,
             "#bd3786"
            ],
            [
             0.5555555555555556,
             "#d8576b"
            ],
            [
             0.6666666666666666,
             "#ed7953"
            ],
            [
             0.7777777777777778,
             "#fb9f3a"
            ],
            [
             0.8888888888888888,
             "#fdca26"
            ],
            [
             1,
             "#f0f921"
            ]
           ],
           "sequentialminus": [
            [
             0,
             "#0d0887"
            ],
            [
             0.1111111111111111,
             "#46039f"
            ],
            [
             0.2222222222222222,
             "#7201a8"
            ],
            [
             0.3333333333333333,
             "#9c179e"
            ],
            [
             0.4444444444444444,
             "#bd3786"
            ],
            [
             0.5555555555555556,
             "#d8576b"
            ],
            [
             0.6666666666666666,
             "#ed7953"
            ],
            [
             0.7777777777777778,
             "#fb9f3a"
            ],
            [
             0.8888888888888888,
             "#fdca26"
            ],
            [
             1,
             "#f0f921"
            ]
           ]
          },
          "colorway": [
           "#636efa",
           "#EF553B",
           "#00cc96",
           "#ab63fa",
           "#FFA15A",
           "#19d3f3",
           "#FF6692",
           "#B6E880",
           "#FF97FF",
           "#FECB52"
          ],
          "font": {
           "color": "#2a3f5f"
          },
          "geo": {
           "bgcolor": "white",
           "lakecolor": "white",
           "landcolor": "#E5ECF6",
           "showlakes": true,
           "showland": true,
           "subunitcolor": "white"
          },
          "hoverlabel": {
           "align": "left"
          },
          "hovermode": "closest",
          "mapbox": {
           "style": "light"
          },
          "paper_bgcolor": "white",
          "plot_bgcolor": "#E5ECF6",
          "polar": {
           "angularaxis": {
            "gridcolor": "white",
            "linecolor": "white",
            "ticks": ""
           },
           "bgcolor": "#E5ECF6",
           "radialaxis": {
            "gridcolor": "white",
            "linecolor": "white",
            "ticks": ""
           }
          },
          "scene": {
           "xaxis": {
            "backgroundcolor": "#E5ECF6",
            "gridcolor": "white",
            "gridwidth": 2,
            "linecolor": "white",
            "showbackground": true,
            "ticks": "",
            "zerolinecolor": "white"
           },
           "yaxis": {
            "backgroundcolor": "#E5ECF6",
            "gridcolor": "white",
            "gridwidth": 2,
            "linecolor": "white",
            "showbackground": true,
            "ticks": "",
            "zerolinecolor": "white"
           },
           "zaxis": {
            "backgroundcolor": "#E5ECF6",
            "gridcolor": "white",
            "gridwidth": 2,
            "linecolor": "white",
            "showbackground": true,
            "ticks": "",
            "zerolinecolor": "white"
           }
          },
          "shapedefaults": {
           "line": {
            "color": "#2a3f5f"
           }
          },
          "ternary": {
           "aaxis": {
            "gridcolor": "white",
            "linecolor": "white",
            "ticks": ""
           },
           "baxis": {
            "gridcolor": "white",
            "linecolor": "white",
            "ticks": ""
           },
           "bgcolor": "#E5ECF6",
           "caxis": {
            "gridcolor": "white",
            "linecolor": "white",
            "ticks": ""
           }
          },
          "title": {
           "x": 0.05
          },
          "xaxis": {
           "automargin": true,
           "gridcolor": "white",
           "linecolor": "white",
           "ticks": "",
           "title": {
            "standoff": 15
           },
           "zerolinecolor": "white",
           "zerolinewidth": 2
          },
          "yaxis": {
           "automargin": true,
           "gridcolor": "white",
           "linecolor": "white",
           "ticks": "",
           "title": {
            "standoff": 15
           },
           "zerolinecolor": "white",
           "zerolinewidth": 2
          }
         }
        },
        "xaxis": {
         "anchor": "y",
         "domain": [
          0,
          1
         ],
         "title": {
          "text": "시기"
         }
        },
        "yaxis": {
         "anchor": "x",
         "domain": [
          0,
          1
         ],
         "title": {
          "text": "섬유제품;의복제외"
         }
        }
       }
      },
      "text/html": [
       "<div>                            <div id=\"303b3fc8-ccd9-490a-8d83-f2b9a2901bd8\" class=\"plotly-graph-div\" style=\"height:525px; width:100%;\"></div>            <script type=\"text/javascript\">                require([\"plotly\"], function(Plotly) {                    window.PLOTLYENV=window.PLOTLYENV || {};                                    if (document.getElementById(\"303b3fc8-ccd9-490a-8d83-f2b9a2901bd8\")) {                    Plotly.newPlot(                        \"303b3fc8-ccd9-490a-8d83-f2b9a2901bd8\",                        [{\"hovertemplate\":\"\\uc2dc\\uae30=%{x}<br>\\uc12c\\uc720\\uc81c\\ud488;\\uc758\\ubcf5\\uc81c\\uc678=%{y}<extra></extra>\",\"legendgroup\":\"\",\"line\":{\"color\":\"#636efa\",\"dash\":\"solid\"},\"marker\":{\"symbol\":\"circle\"},\"mode\":\"lines+markers\",\"name\":\"\",\"orientation\":\"v\",\"showlegend\":false,\"x\":[\"2015.02 \\uc6d4\",\"2015.03 \\uc6d4\",\"2015.04 \\uc6d4\",\"2015.05 \\uc6d4\",\"2015.06 \\uc6d4\",\"2015.07 \\uc6d4\",\"2015.08 \\uc6d4\",\"2015.09 \\uc6d4\",\"2015.10 \\uc6d4\",\"2015.11 \\uc6d4\",\"2015.12 \\uc6d4\",\"2016.01 \\uc6d4\",\"2016.02 \\uc6d4\",\"2016.03 \\uc6d4\",\"2016.04 \\uc6d4\",\"2016.05 \\uc6d4\",\"2016.06 \\uc6d4\",\"2016.07 \\uc6d4\",\"2016.08 \\uc6d4\",\"2016.09 \\uc6d4\",\"2016.10 \\uc6d4\",\"2016.11 \\uc6d4\",\"2016.12 \\uc6d4\",\"2017.01 \\uc6d4\",\"2017.02 \\uc6d4\",\"2017.03 \\uc6d4\",\"2017.04 \\uc6d4\",\"2017.05 \\uc6d4\",\"2017.06 \\uc6d4\",\"2017.07 \\uc6d4\",\"2017.08 \\uc6d4\",\"2017.09 \\uc6d4\",\"2017.10 \\uc6d4\",\"2017.11 \\uc6d4\",\"2017.12 \\uc6d4\",\"2018.01 \\uc6d4\",\"2018.02 \\uc6d4\",\"2018.03 \\uc6d4\",\"2018.04 \\uc6d4\",\"2018.05 \\uc6d4\",\"2018.06 \\uc6d4\",\"2018.07 \\uc6d4\",\"2018.08 \\uc6d4\",\"2018.09 \\uc6d4\",\"2018.10 \\uc6d4\",\"2018.11 \\uc6d4\",\"2018.12 \\uc6d4\",\"2019.01 \\uc6d4\",\"2019.02 \\uc6d4\",\"2019.03 \\uc6d4\",\"2019.04 \\uc6d4\",\"2019.05 \\uc6d4\",\"2019.06 \\uc6d4\",\"2019.07 \\uc6d4\",\"2019.08 \\uc6d4\",\"2019.09 \\uc6d4\",\"2019.10 \\uc6d4\",\"2019.11 \\uc6d4\",\"2019.12 \\uc6d4\",\"2020.01 \\uc6d4\",\"2020.02 \\uc6d4\",\"2020.03 \\uc6d4\",\"2020.04 \\uc6d4\",\"2020.05 \\uc6d4\",\"2020.06 \\uc6d4\",\"2020.07 \\uc6d4\",\"2020.08 \\uc6d4\",\"2020.09 \\uc6d4\",\"2020.10 \\uc6d4\",\"2020.11 \\uc6d4\",\"2020.12 \\uc6d4\",\"2021.01 \\uc6d4\",\"2021.02 \\uc6d4\",\"2021.03 \\uc6d4\",\"2021.04 \\uc6d4\",\"2021.05 \\uc6d4\",\"2021.06 \\uc6d4\",\"2021.07 \\uc6d4\",\"2021.08 \\uc6d4\",\"2021.09 \\uc6d4\",\"2021.10 \\uc6d4\",\"2021.11 \\uc6d4\",\"2021.12 \\uc6d4\",\"2022.01 \\uc6d4\",\"2022.02 \\uc6d4\",\"2022.03 \\uc6d4\",\"2022.04 \\uc6d4\",\"2022.05 \\uc6d4\",\"2022.06 \\uc6d4\",\"2022.07 \\uc6d4\",\"2022.08 \\uc6d4\",\"2022.09 \\uc6d4\",\"2022.10 \\uc6d4\",\"2022.11 \\uc6d4\",\"2022.12 \\uc6d4\",\"2023.01 \\uc6d4\"],\"xaxis\":\"x\",\"y\":[65.7,81.4,81.8,79.9,76.5,71.3,79.9,81.1,82.6,80.4,75.3,73.5,69.2,79.9,89.1,87.1,83.5,77.9,82.8,84.0,92.0,87.1,83.0,67.4,70.1,76.5,83.3,75.8,79.5,81.2,75.4,77.2,80.9,86.6,72.5,76.0,77.6,81.4,81.5,80.6,75.6,73.2,74.5,71.5,76.2,79.8,70.4,69.5,62.4,78.3,77.4,73.7,80.4,73.6,68.8,67.2,75.7,75.0,66.9,67.0,69.0,65.0,48.5,38.6,41.2,56.4,54.7,52.4,62.5,65.3,58.8,57.7,66.8,79.8,81.2,78.7,76.6,75.9,72.8,73.9,76.4,76.4,85.6,75.5,74.8,78.7,75.7,73.8,76.3,67.0,72.4,70.9,74.5,71.1,66.3,68.6],\"yaxis\":\"y\",\"type\":\"scatter\"}],                        {\"template\":{\"data\":{\"bar\":[{\"error_x\":{\"color\":\"#2a3f5f\"},\"error_y\":{\"color\":\"#2a3f5f\"},\"marker\":{\"line\":{\"color\":\"#E5ECF6\",\"width\":0.5},\"pattern\":{\"fillmode\":\"overlay\",\"size\":10,\"solidity\":0.2}},\"type\":\"bar\"}],\"barpolar\":[{\"marker\":{\"line\":{\"color\":\"#E5ECF6\",\"width\":0.5},\"pattern\":{\"fillmode\":\"overlay\",\"size\":10,\"solidity\":0.2}},\"type\":\"barpolar\"}],\"carpet\":[{\"aaxis\":{\"endlinecolor\":\"#2a3f5f\",\"gridcolor\":\"white\",\"linecolor\":\"white\",\"minorgridcolor\":\"white\",\"startlinecolor\":\"#2a3f5f\"},\"baxis\":{\"endlinecolor\":\"#2a3f5f\",\"gridcolor\":\"white\",\"linecolor\":\"white\",\"minorgridcolor\":\"white\",\"startlinecolor\":\"#2a3f5f\"},\"type\":\"carpet\"}],\"choropleth\":[{\"colorbar\":{\"outlinewidth\":0,\"ticks\":\"\"},\"type\":\"choropleth\"}],\"contour\":[{\"colorbar\":{\"outlinewidth\":0,\"ticks\":\"\"},\"colorscale\":[[0.0,\"#0d0887\"],[0.1111111111111111,\"#46039f\"],[0.2222222222222222,\"#7201a8\"],[0.3333333333333333,\"#9c179e\"],[0.4444444444444444,\"#bd3786\"],[0.5555555555555556,\"#d8576b\"],[0.6666666666666666,\"#ed7953\"],[0.7777777777777778,\"#fb9f3a\"],[0.8888888888888888,\"#fdca26\"],[1.0,\"#f0f921\"]],\"type\":\"contour\"}],\"contourcarpet\":[{\"colorbar\":{\"outlinewidth\":0,\"ticks\":\"\"},\"type\":\"contourcarpet\"}],\"heatmap\":[{\"colorbar\":{\"outlinewidth\":0,\"ticks\":\"\"},\"colorscale\":[[0.0,\"#0d0887\"],[0.1111111111111111,\"#46039f\"],[0.2222222222222222,\"#7201a8\"],[0.3333333333333333,\"#9c179e\"],[0.4444444444444444,\"#bd3786\"],[0.5555555555555556,\"#d8576b\"],[0.6666666666666666,\"#ed7953\"],[0.7777777777777778,\"#fb9f3a\"],[0.8888888888888888,\"#fdca26\"],[1.0,\"#f0f921\"]],\"type\":\"heatmap\"}],\"heatmapgl\":[{\"colorbar\":{\"outlinewidth\":0,\"ticks\":\"\"},\"colorscale\":[[0.0,\"#0d0887\"],[0.1111111111111111,\"#46039f\"],[0.2222222222222222,\"#7201a8\"],[0.3333333333333333,\"#9c179e\"],[0.4444444444444444,\"#bd3786\"],[0.5555555555555556,\"#d8576b\"],[0.6666666666666666,\"#ed7953\"],[0.7777777777777778,\"#fb9f3a\"],[0.8888888888888888,\"#fdca26\"],[1.0,\"#f0f921\"]],\"type\":\"heatmapgl\"}],\"histogram\":[{\"marker\":{\"pattern\":{\"fillmode\":\"overlay\",\"size\":10,\"solidity\":0.2}},\"type\":\"histogram\"}],\"histogram2d\":[{\"colorbar\":{\"outlinewidth\":0,\"ticks\":\"\"},\"colorscale\":[[0.0,\"#0d0887\"],[0.1111111111111111,\"#46039f\"],[0.2222222222222222,\"#7201a8\"],[0.3333333333333333,\"#9c179e\"],[0.4444444444444444,\"#bd3786\"],[0.5555555555555556,\"#d8576b\"],[0.6666666666666666,\"#ed7953\"],[0.7777777777777778,\"#fb9f3a\"],[0.8888888888888888,\"#fdca26\"],[1.0,\"#f0f921\"]],\"type\":\"histogram2d\"}],\"histogram2dcontour\":[{\"colorbar\":{\"outlinewidth\":0,\"ticks\":\"\"},\"colorscale\":[[0.0,\"#0d0887\"],[0.1111111111111111,\"#46039f\"],[0.2222222222222222,\"#7201a8\"],[0.3333333333333333,\"#9c179e\"],[0.4444444444444444,\"#bd3786\"],[0.5555555555555556,\"#d8576b\"],[0.6666666666666666,\"#ed7953\"],[0.7777777777777778,\"#fb9f3a\"],[0.8888888888888888,\"#fdca26\"],[1.0,\"#f0f921\"]],\"type\":\"histogram2dcontour\"}],\"mesh3d\":[{\"colorbar\":{\"outlinewidth\":0,\"ticks\":\"\"},\"type\":\"mesh3d\"}],\"parcoords\":[{\"line\":{\"colorbar\":{\"outlinewidth\":0,\"ticks\":\"\"}},\"type\":\"parcoords\"}],\"pie\":[{\"automargin\":true,\"type\":\"pie\"}],\"scatter\":[{\"marker\":{\"colorbar\":{\"outlinewidth\":0,\"ticks\":\"\"}},\"type\":\"scatter\"}],\"scatter3d\":[{\"line\":{\"colorbar\":{\"outlinewidth\":0,\"ticks\":\"\"}},\"marker\":{\"colorbar\":{\"outlinewidth\":0,\"ticks\":\"\"}},\"type\":\"scatter3d\"}],\"scattercarpet\":[{\"marker\":{\"colorbar\":{\"outlinewidth\":0,\"ticks\":\"\"}},\"type\":\"scattercarpet\"}],\"scattergeo\":[{\"marker\":{\"colorbar\":{\"outlinewidth\":0,\"ticks\":\"\"}},\"type\":\"scattergeo\"}],\"scattergl\":[{\"marker\":{\"colorbar\":{\"outlinewidth\":0,\"ticks\":\"\"}},\"type\":\"scattergl\"}],\"scattermapbox\":[{\"marker\":{\"colorbar\":{\"outlinewidth\":0,\"ticks\":\"\"}},\"type\":\"scattermapbox\"}],\"scatterpolar\":[{\"marker\":{\"colorbar\":{\"outlinewidth\":0,\"ticks\":\"\"}},\"type\":\"scatterpolar\"}],\"scatterpolargl\":[{\"marker\":{\"colorbar\":{\"outlinewidth\":0,\"ticks\":\"\"}},\"type\":\"scatterpolargl\"}],\"scatterternary\":[{\"marker\":{\"colorbar\":{\"outlinewidth\":0,\"ticks\":\"\"}},\"type\":\"scatterternary\"}],\"surface\":[{\"colorbar\":{\"outlinewidth\":0,\"ticks\":\"\"},\"colorscale\":[[0.0,\"#0d0887\"],[0.1111111111111111,\"#46039f\"],[0.2222222222222222,\"#7201a8\"],[0.3333333333333333,\"#9c179e\"],[0.4444444444444444,\"#bd3786\"],[0.5555555555555556,\"#d8576b\"],[0.6666666666666666,\"#ed7953\"],[0.7777777777777778,\"#fb9f3a\"],[0.8888888888888888,\"#fdca26\"],[1.0,\"#f0f921\"]],\"type\":\"surface\"}],\"table\":[{\"cells\":{\"fill\":{\"color\":\"#EBF0F8\"},\"line\":{\"color\":\"white\"}},\"header\":{\"fill\":{\"color\":\"#C8D4E3\"},\"line\":{\"color\":\"white\"}},\"type\":\"table\"}]},\"layout\":{\"annotationdefaults\":{\"arrowcolor\":\"#2a3f5f\",\"arrowhead\":0,\"arrowwidth\":1},\"autotypenumbers\":\"strict\",\"coloraxis\":{\"colorbar\":{\"outlinewidth\":0,\"ticks\":\"\"}},\"colorscale\":{\"diverging\":[[0,\"#8e0152\"],[0.1,\"#c51b7d\"],[0.2,\"#de77ae\"],[0.3,\"#f1b6da\"],[0.4,\"#fde0ef\"],[0.5,\"#f7f7f7\"],[0.6,\"#e6f5d0\"],[0.7,\"#b8e186\"],[0.8,\"#7fbc41\"],[0.9,\"#4d9221\"],[1,\"#276419\"]],\"sequential\":[[0.0,\"#0d0887\"],[0.1111111111111111,\"#46039f\"],[0.2222222222222222,\"#7201a8\"],[0.3333333333333333,\"#9c179e\"],[0.4444444444444444,\"#bd3786\"],[0.5555555555555556,\"#d8576b\"],[0.6666666666666666,\"#ed7953\"],[0.7777777777777778,\"#fb9f3a\"],[0.8888888888888888,\"#fdca26\"],[1.0,\"#f0f921\"]],\"sequentialminus\":[[0.0,\"#0d0887\"],[0.1111111111111111,\"#46039f\"],[0.2222222222222222,\"#7201a8\"],[0.3333333333333333,\"#9c179e\"],[0.4444444444444444,\"#bd3786\"],[0.5555555555555556,\"#d8576b\"],[0.6666666666666666,\"#ed7953\"],[0.7777777777777778,\"#fb9f3a\"],[0.8888888888888888,\"#fdca26\"],[1.0,\"#f0f921\"]]},\"colorway\":[\"#636efa\",\"#EF553B\",\"#00cc96\",\"#ab63fa\",\"#FFA15A\",\"#19d3f3\",\"#FF6692\",\"#B6E880\",\"#FF97FF\",\"#FECB52\"],\"font\":{\"color\":\"#2a3f5f\"},\"geo\":{\"bgcolor\":\"white\",\"lakecolor\":\"white\",\"landcolor\":\"#E5ECF6\",\"showlakes\":true,\"showland\":true,\"subunitcolor\":\"white\"},\"hoverlabel\":{\"align\":\"left\"},\"hovermode\":\"closest\",\"mapbox\":{\"style\":\"light\"},\"paper_bgcolor\":\"white\",\"plot_bgcolor\":\"#E5ECF6\",\"polar\":{\"angularaxis\":{\"gridcolor\":\"white\",\"linecolor\":\"white\",\"ticks\":\"\"},\"bgcolor\":\"#E5ECF6\",\"radialaxis\":{\"gridcolor\":\"white\",\"linecolor\":\"white\",\"ticks\":\"\"}},\"scene\":{\"xaxis\":{\"backgroundcolor\":\"#E5ECF6\",\"gridcolor\":\"white\",\"gridwidth\":2,\"linecolor\":\"white\",\"showbackground\":true,\"ticks\":\"\",\"zerolinecolor\":\"white\"},\"yaxis\":{\"backgroundcolor\":\"#E5ECF6\",\"gridcolor\":\"white\",\"gridwidth\":2,\"linecolor\":\"white\",\"showbackground\":true,\"ticks\":\"\",\"zerolinecolor\":\"white\"},\"zaxis\":{\"backgroundcolor\":\"#E5ECF6\",\"gridcolor\":\"white\",\"gridwidth\":2,\"linecolor\":\"white\",\"showbackground\":true,\"ticks\":\"\",\"zerolinecolor\":\"white\"}},\"shapedefaults\":{\"line\":{\"color\":\"#2a3f5f\"}},\"ternary\":{\"aaxis\":{\"gridcolor\":\"white\",\"linecolor\":\"white\",\"ticks\":\"\"},\"baxis\":{\"gridcolor\":\"white\",\"linecolor\":\"white\",\"ticks\":\"\"},\"bgcolor\":\"#E5ECF6\",\"caxis\":{\"gridcolor\":\"white\",\"linecolor\":\"white\",\"ticks\":\"\"}},\"title\":{\"x\":0.05},\"xaxis\":{\"automargin\":true,\"gridcolor\":\"white\",\"linecolor\":\"white\",\"ticks\":\"\",\"title\":{\"standoff\":15},\"zerolinecolor\":\"white\",\"zerolinewidth\":2},\"yaxis\":{\"automargin\":true,\"gridcolor\":\"white\",\"linecolor\":\"white\",\"ticks\":\"\",\"title\":{\"standoff\":15},\"zerolinecolor\":\"white\",\"zerolinewidth\":2}}},\"xaxis\":{\"anchor\":\"y\",\"domain\":[0.0,1.0],\"title\":{\"text\":\"\\uc2dc\\uae30\"}},\"yaxis\":{\"anchor\":\"x\",\"domain\":[0.0,1.0],\"title\":{\"text\":\"\\uc12c\\uc720\\uc81c\\ud488;\\uc758\\ubcf5\\uc81c\\uc678\"}},\"legend\":{\"tracegroupgap\":0},\"margin\":{\"t\":60}},                        {\"responsive\": true}                    ).then(function(){\n",
       "                            \n",
       "var gd = document.getElementById('303b3fc8-ccd9-490a-8d83-f2b9a2901bd8');\n",
       "var x = new MutationObserver(function (mutations, observer) {{\n",
       "        var display = window.getComputedStyle(gd).display;\n",
       "        if (!display || display === 'none') {{\n",
       "            console.log([gd, 'removed!']);\n",
       "            Plotly.purge(gd);\n",
       "            observer.disconnect();\n",
       "        }}\n",
       "}});\n",
       "\n",
       "// Listen for the removal of the full notebook cells\n",
       "var notebookContainer = gd.closest('#notebook-container');\n",
       "if (notebookContainer) {{\n",
       "    x.observe(notebookContainer, {childList: true});\n",
       "}}\n",
       "\n",
       "// Listen for the clearing of the current output cell\n",
       "var outputEl = gd.closest('.output');\n",
       "if (outputEl) {{\n",
       "    x.observe(outputEl, {childList: true});\n",
       "}}\n",
       "\n",
       "                        })                };                });            </script>        </div>"
      ]
     },
     "metadata": {},
     "output_type": "display_data"
    }
   ],
   "source": [
    "px.line(df_8, x='시기', y='섬유제품;의복제외', markers = True)"
   ]
  },
  {
   "cell_type": "code",
   "execution_count": null,
   "id": "f9bab127",
   "metadata": {},
   "outputs": [],
   "source": []
  },
  {
   "cell_type": "code",
   "execution_count": 25,
   "id": "ccade91f",
   "metadata": {},
   "outputs": [],
   "source": [
    "df_9 = pd.read_csv('./SBHI전처리데이터/제품재고수준전망_sbhi.csv' , encoding = 'cp949')"
   ]
  },
  {
   "cell_type": "code",
   "execution_count": 26,
   "id": "41e92751",
   "metadata": {},
   "outputs": [
    {
     "data": {
      "application/vnd.plotly.v1+json": {
       "config": {
        "plotlyServerURL": "https://plot.ly"
       },
       "data": [
        {
         "hovertemplate": "시기=%{x}<br>섬유제품;의복제외=%{y}<extra></extra>",
         "legendgroup": "",
         "line": {
          "color": "#636efa",
          "dash": "solid"
         },
         "marker": {
          "symbol": "circle"
         },
         "mode": "lines+markers",
         "name": "",
         "orientation": "v",
         "showlegend": false,
         "type": "scatter",
         "x": [
          "2015.02",
          "2015.02.1",
          "2015.02.2",
          "2015.02.3",
          "2015.02.4",
          "2015.02.5",
          "2015.03",
          "2015.03.1",
          "2015.03.2",
          "2015.03.3",
          "2015.03.4",
          "2015.03.5",
          "2015.04",
          "2015.04.1",
          "2015.04.2",
          "2015.04.3",
          "2015.04.4",
          "2015.04.5",
          "2015.05",
          "2015.05.1",
          "2015.05.2",
          "2015.05.3",
          "2015.05.4",
          "2015.05.5",
          "2015.06",
          "2015.06.1",
          "2015.06.2",
          "2015.06.3",
          "2015.06.4",
          "2015.06.5",
          "2015.07",
          "2015.07.1",
          "2015.07.2",
          "2015.07.3",
          "2015.07.4",
          "2015.07.5",
          "2015.08",
          "2015.08.1",
          "2015.08.2",
          "2015.08.3",
          "2015.08.4",
          "2015.08.5",
          "2015.09",
          "2015.09.1",
          "2015.09.2",
          "2015.09.3",
          "2015.09.4",
          "2015.09.5",
          "2015.10",
          "2015.10.1",
          "2015.10.2",
          "2015.10.3",
          "2015.10.4",
          "2015.10.5",
          "2015.11",
          "2015.11.1",
          "2015.11.2",
          "2015.11.3",
          "2015.11.4",
          "2015.11.5",
          "2015.12",
          "2015.12.1",
          "2015.12.2",
          "2015.12.3",
          "2015.12.4",
          "2015.12.5",
          "2016.01",
          "2016.01.1",
          "2016.01.2",
          "2016.01.3",
          "2016.01.4",
          "2016.01.5",
          "2016.02",
          "2016.02.1",
          "2016.02.2",
          "2016.02.3",
          "2016.02.4",
          "2016.02.5",
          "2016.03",
          "2016.03.1",
          "2016.03.2",
          "2016.03.3",
          "2016.03.4",
          "2016.03.5",
          "2016.04",
          "2016.04.1",
          "2016.04.2",
          "2016.04.3",
          "2016.04.4",
          "2016.04.5",
          "2016.05",
          "2016.05.1",
          "2016.05.2",
          "2016.05.3",
          "2016.05.4",
          "2016.05.5",
          "2016.06",
          "2016.06.1",
          "2016.06.2",
          "2016.06.3",
          "2016.06.4",
          "2016.06.5",
          "2016.07",
          "2016.07.1",
          "2016.07.2",
          "2016.07.3",
          "2016.07.4",
          "2016.07.5",
          "2016.08",
          "2016.08.1",
          "2016.08.2",
          "2016.08.3",
          "2016.08.4",
          "2016.08.5",
          "2016.09",
          "2016.09.1",
          "2016.09.2",
          "2016.09.3",
          "2016.09.4",
          "2016.09.5",
          "2016.10",
          "2016.10.1",
          "2016.10.2",
          "2016.10.3",
          "2016.10.4",
          "2016.10.5",
          "2016.11",
          "2016.11.1",
          "2016.11.2",
          "2016.11.3",
          "2016.11.4",
          "2016.11.5",
          "2016.12",
          "2016.12.1",
          "2016.12.2",
          "2016.12.3",
          "2016.12.4",
          "2016.12.5",
          "2017.01",
          "2017.01.1",
          "2017.01.2",
          "2017.01.3",
          "2017.01.4",
          "2017.01.5",
          "2017.02",
          "2017.02.1",
          "2017.02.2",
          "2017.02.3",
          "2017.02.4",
          "2017.02.5",
          "2017.03",
          "2017.03.1",
          "2017.03.2",
          "2017.03.3",
          "2017.03.4",
          "2017.03.5",
          "2017.04",
          "2017.04.1",
          "2017.04.2",
          "2017.04.3",
          "2017.04.4",
          "2017.04.5",
          "2017.05",
          "2017.05.1",
          "2017.05.2",
          "2017.05.3",
          "2017.05.4",
          "2017.05.5",
          "2017.06",
          "2017.06.1",
          "2017.06.2",
          "2017.06.3",
          "2017.06.4",
          "2017.06.5",
          "2017.07",
          "2017.07.1",
          "2017.07.2",
          "2017.07.3",
          "2017.07.4",
          "2017.07.5",
          "2017.08",
          "2017.08.1",
          "2017.08.2",
          "2017.08.3",
          "2017.08.4",
          "2017.08.5",
          "2017.09",
          "2017.09.1",
          "2017.09.2",
          "2017.09.3",
          "2017.09.4",
          "2017.09.5",
          "2017.10",
          "2017.10.1",
          "2017.10.2",
          "2017.10.3",
          "2017.10.4",
          "2017.10.5",
          "2017.11",
          "2017.11.1",
          "2017.11.2",
          "2017.11.3",
          "2017.11.4",
          "2017.11.5",
          "2017.12",
          "2017.12.1",
          "2017.12.2",
          "2017.12.3",
          "2017.12.4",
          "2017.12.5",
          "2018.01",
          "2018.01.1",
          "2018.01.2",
          "2018.01.3",
          "2018.01.4",
          "2018.01.5",
          "2018.02",
          "2018.02.1",
          "2018.02.2",
          "2018.02.3",
          "2018.02.4",
          "2018.02.5",
          "2018.03",
          "2018.03.1",
          "2018.03.2",
          "2018.03.3",
          "2018.03.4",
          "2018.03.5",
          "2018.04",
          "2018.04.1",
          "2018.04.2",
          "2018.04.3",
          "2018.04.4",
          "2018.04.5",
          "2018.05",
          "2018.05.1",
          "2018.05.2",
          "2018.05.3",
          "2018.05.4",
          "2018.05.5",
          "2018.06",
          "2018.06.1",
          "2018.06.2",
          "2018.06.3",
          "2018.06.4",
          "2018.06.5",
          "2018.07",
          "2018.07.1",
          "2018.07.2",
          "2018.07.3",
          "2018.07.4",
          "2018.07.5",
          "2018.08",
          "2018.08.1",
          "2018.08.2",
          "2018.08.3",
          "2018.08.4",
          "2018.08.5",
          "2018.09",
          "2018.09.1",
          "2018.09.2",
          "2018.09.3",
          "2018.09.4",
          "2018.09.5",
          "2018.10",
          "2018.10.1",
          "2018.10.2",
          "2018.10.3",
          "2018.10.4",
          "2018.10.5",
          "2018.11",
          "2018.11.1",
          "2018.11.2",
          "2018.11.3",
          "2018.11.4",
          "2018.11.5",
          "2018.12",
          "2018.12.1",
          "2018.12.2",
          "2018.12.3",
          "2018.12.4",
          "2018.12.5",
          "2019.01",
          "2019.01.1",
          "2019.01.2",
          "2019.01.3",
          "2019.01.4",
          "2019.01.5",
          "2019.02",
          "2019.02.1",
          "2019.02.2",
          "2019.02.3",
          "2019.02.4",
          "2019.02.5",
          "2019.03",
          "2019.03.1",
          "2019.03.2",
          "2019.03.3",
          "2019.03.4",
          "2019.03.5",
          "2019.04",
          "2019.04.1",
          "2019.04.2",
          "2019.04.3",
          "2019.04.4",
          "2019.04.5",
          "2019.05",
          "2019.05.1",
          "2019.05.2",
          "2019.05.3",
          "2019.05.4",
          "2019.05.5",
          "2019.06",
          "2019.06.1",
          "2019.06.2",
          "2019.06.3",
          "2019.06.4",
          "2019.06.5",
          "2019.07",
          "2019.07.1",
          "2019.07.2",
          "2019.07.3",
          "2019.07.4",
          "2019.07.5",
          "2019.08",
          "2019.08.1",
          "2019.08.2",
          "2019.08.3",
          "2019.08.4",
          "2019.08.5",
          "2019.09",
          "2019.09.1",
          "2019.09.2",
          "2019.09.3",
          "2019.09.4",
          "2019.09.5",
          "2019.10",
          "2019.10.1",
          "2019.10.2",
          "2019.10.3",
          "2019.10.4",
          "2019.10.5",
          "2019.11",
          "2019.11.1",
          "2019.11.2",
          "2019.11.3",
          "2019.11.4",
          "2019.11.5",
          "2019.12",
          "2019.12.1",
          "2019.12.2",
          "2019.12.3",
          "2019.12.4",
          "2019.12.5",
          "2020.01",
          "2020.01.1",
          "2020.01.2",
          "2020.01.3",
          "2020.01.4",
          "2020.01.5",
          "2020.02",
          "2020.02.1",
          "2020.02.2",
          "2020.02.3",
          "2020.02.4",
          "2020.02.5",
          "2020.03",
          "2020.03.1",
          "2020.03.2",
          "2020.03.3",
          "2020.03.4",
          "2020.03.5",
          "2020.04",
          "2020.04.1",
          "2020.04.2",
          "2020.04.3",
          "2020.04.4",
          "2020.04.5",
          "2020.05",
          "2020.05.1",
          "2020.05.2",
          "2020.05.3",
          "2020.05.4",
          "2020.05.5",
          "2020.06",
          "2020.06.1",
          "2020.06.2",
          "2020.06.3",
          "2020.06.4",
          "2020.06.5",
          "2020.07",
          "2020.07.1",
          "2020.07.2",
          "2020.07.3",
          "2020.07.4",
          "2020.07.5",
          "2020.08",
          "2020.08.1",
          "2020.08.2",
          "2020.08.3",
          "2020.08.4",
          "2020.08.5",
          "2020.09",
          "2020.09.1",
          "2020.09.2",
          "2020.09.3",
          "2020.09.4",
          "2020.09.5",
          "2020.10",
          "2020.10.1",
          "2020.10.2",
          "2020.10.3",
          "2020.10.4",
          "2020.10.5",
          "2020.11",
          "2020.11.1",
          "2020.11.2",
          "2020.11.3",
          "2020.11.4",
          "2020.11.5",
          "2020.12",
          "2020.12.1",
          "2020.12.2",
          "2020.12.3",
          "2020.12.4",
          "2020.12.5",
          "2021.01",
          "2021.01.1",
          "2021.01.2",
          "2021.01.3",
          "2021.01.4",
          "2021.01.5",
          "2021.02",
          "2021.02.1",
          "2021.02.2",
          "2021.02.3",
          "2021.02.4",
          "2021.02.5",
          "2021.03",
          "2021.03.1",
          "2021.03.2",
          "2021.03.3",
          "2021.03.4",
          "2021.03.5",
          "2021.04",
          "2021.04.1",
          "2021.04.2",
          "2021.04.3",
          "2021.04.4",
          "2021.04.5",
          "2021.05",
          "2021.05.1",
          "2021.05.2",
          "2021.05.3",
          "2021.05.4",
          "2021.05.5",
          "2021.06",
          "2021.06.1",
          "2021.06.2",
          "2021.06.3",
          "2021.06.4",
          "2021.06.5",
          "2021.07",
          "2021.07.1",
          "2021.07.2",
          "2021.07.3",
          "2021.07.4",
          "2021.07.5",
          "2021.08",
          "2021.08.1",
          "2021.08.2",
          "2021.08.3",
          "2021.08.4",
          "2021.08.5",
          "2021.09",
          "2021.09.1",
          "2021.09.2",
          "2021.09.3",
          "2021.09.4",
          "2021.09.5",
          "2021.10",
          "2021.10.1",
          "2021.10.2",
          "2021.10.3",
          "2021.10.4",
          "2021.10.5",
          "2021.11",
          "2021.11.1",
          "2021.11.2",
          "2021.11.3",
          "2021.11.4",
          "2021.11.5",
          "2021.12",
          "2021.12.1",
          "2021.12.2",
          "2021.12.3",
          "2021.12.4",
          "2021.12.5",
          "2022.01",
          "2022.01.1",
          "2022.01.2",
          "2022.01.3",
          "2022.01.4",
          "2022.01.5",
          "2022.02",
          "2022.02.1",
          "2022.02.2",
          "2022.02.3",
          "2022.02.4",
          "2022.02.5",
          "2022.03",
          "2022.03.1",
          "2022.03.2",
          "2022.03.3",
          "2022.03.4",
          "2022.03.5",
          "2022.04",
          "2022.04.1",
          "2022.04.2",
          "2022.04.3",
          "2022.04.4",
          "2022.04.5",
          "2022.05",
          "2022.05.1",
          "2022.05.2",
          "2022.05.3",
          "2022.05.4",
          "2022.05.5",
          "2022.06",
          "2022.06.1",
          "2022.06.2",
          "2022.06.3",
          "2022.06.4",
          "2022.06.5",
          "2022.07",
          "2022.07.1",
          "2022.07.2",
          "2022.07.3",
          "2022.07.4",
          "2022.07.5",
          "2022.08",
          "2022.08.1",
          "2022.08.2",
          "2022.08.3",
          "2022.08.4",
          "2022.08.5",
          "2022.09",
          "2022.09.1",
          "2022.09.2",
          "2022.09.3",
          "2022.09.4",
          "2022.09.5",
          "2022.10",
          "2022.10.1",
          "2022.10.2",
          "2022.10.3",
          "2022.10.4",
          "2022.10.5",
          "2022.11",
          "2022.11.1",
          "2022.11.2",
          "2022.11.3",
          "2022.11.4",
          "2022.11.5",
          "2022.12",
          "2022.12.1",
          "2022.12.2",
          "2022.12.3",
          "2022.12.4",
          "2022.12.5",
          "2023.01",
          "2023.01.1",
          "2023.01.2",
          "2023.01.3",
          "2023.01.4",
          "2023.01.5"
         ],
         "xaxis": "x",
         "y": [
          0,
          4,
          71,
          21.4,
          3.6,
          112.3,
          0,
          8.9,
          58.7,
          32.3,
          0,
          111.7,
          0,
          1.5,
          66.7,
          23.8,
          8,
          119.1,
          2.5,
          4.2,
          63.1,
          22.2,
          7.9,
          114.4,
          0,
          3.6,
          62.3,
          28.1,
          6,
          118.3,
          0,
          7.1,
          56.7,
          30,
          6.3,
          117.7,
          0,
          8.3,
          55.5,
          27.6,
          8.5,
          118.2,
          0,
          3.1,
          71,
          20.5,
          5.5,
          114.1,
          0,
          2.6,
          72.6,
          23.9,
          0.9,
          111.6,
          0,
          5.7,
          66.5,
          24.1,
          3.7,
          112.9,
          0,
          8.8,
          62.2,
          25.2,
          3.8,
          112,
          0,
          4.4,
          63.3,
          27.7,
          4.6,
          116.3,
          0,
          2.6,
          55.4,
          36.1,
          5.9,
          122.6,
          0,
          6.1,
          64.9,
          25.3,
          3.7,
          113.3,
          0,
          14.3,
          70.6,
          11.6,
          3.4,
          102.1,
          0,
          5.2,
          75.7,
          13.5,
          5.6,
          109.8,
          0,
          6.4,
          71.7,
          17.8,
          4.1,
          109.8,
          0,
          11.4,
          68.2,
          14.7,
          5.8,
          107.4,
          0,
          9.8,
          69.5,
          17.6,
          3.1,
          106.9,
          0,
          5.2,
          75.3,
          16,
          3.4,
          108.8,
          0,
          7.7,
          76.5,
          13,
          2.8,
          105.5,
          0,
          8.5,
          66.1,
          23.6,
          1.7,
          109.3,
          0,
          11.4,
          64.5,
          19.3,
          4.8,
          108.8,
          1.4,
          8.1,
          52.5,
          34.8,
          3.1,
          115,
          1.4,
          8,
          61,
          23.3,
          6.3,
          112.6,
          0,
          9.8,
          60.1,
          26.7,
          3.3,
          111.8,
          0,
          5,
          61.3,
          28.9,
          4.8,
          116.8,
          1.7,
          7.6,
          57.3,
          25.5,
          7.9,
          115.2,
          0,
          8,
          61.6,
          24.3,
          6.1,
          114.3,
          0,
          6.3,
          62.7,
          21.8,
          9.2,
          116.9,
          1.6,
          3.1,
          59.4,
          28.2,
          7.8,
          118.7,
          0,
          7.8,
          61.2,
          26.3,
          4.7,
          114,
          0,
          8,
          62.4,
          20,
          9.6,
          115.6,
          1.7,
          8.1,
          71.9,
          13.6,
          4.8,
          105.8,
          3.3,
          8,
          58.5,
          27,
          3.2,
          109.3,
          1.6,
          11.3,
          61.9,
          20.3,
          4.8,
          107.6,
          1.6,
          4.8,
          65.4,
          25.1,
          3.1,
          111.6,
          0,
          6.4,
          68.7,
          21.8,
          3.1,
          110.8,
          0,
          6.2,
          65.5,
          25.3,
          3.1,
          112.6,
          1.6,
          12.4,
          56.6,
          26.3,
          3,
          108.3,
          0,
          6.2,
          70.2,
          18.8,
          4.8,
          111.1,
          0,
          7.9,
          60.4,
          23.9,
          7.9,
          115.9,
          0,
          11.3,
          58.9,
          23.7,
          6.1,
          112.3,
          0,
          8.4,
          68.3,
          15.7,
          7.6,
          111.2,
          0,
          6.3,
          66.5,
          22.7,
          4.5,
          112.7,
          0,
          8.2,
          71.3,
          18.8,
          1.6,
          106.9,
          1.6,
          6.3,
          67.1,
          20.2,
          4.7,
          110,
          0,
          4.7,
          66.9,
          22.3,
          6.1,
          114.9,
          0,
          3.5,
          61.4,
          26.4,
          8.6,
          120.1,
          0,
          4.6,
          70.5,
          21.5,
          3.4,
          111.8,
          0,
          4.9,
          60.9,
          30.9,
          3.3,
          116.3,
          0,
          1.6,
          67.8,
          26.1,
          4.6,
          116.9,
          0,
          6.4,
          62.5,
          29.5,
          1.6,
          113.1,
          0,
          1.7,
          62.8,
          27.9,
          7.7,
          120.8,
          0,
          0,
          57.2,
          33.5,
          9.4,
          126.1,
          0,
          4.6,
          62.4,
          26.7,
          6.3,
          117.3,
          0,
          1.6,
          59.3,
          35.9,
          3.2,
          120.4,
          0,
          3.2,
          59.7,
          35.5,
          1.6,
          117.7,
          0,
          1.6,
          69.4,
          24.2,
          4.8,
          116.1,
          0,
          4.8,
          56.5,
          30.7,
          8.1,
          121,
          0,
          1.6,
          55.8,
          39.4,
          3.2,
          122.1,
          0,
          8.3,
          63.4,
          23.3,
          5,
          112.5,
          0,
          4.7,
          58.7,
          30.2,
          6.3,
          119.1,
          0,
          4.8,
          46.6,
          32.4,
          16.2,
          130,
          0,
          0,
          42.9,
          36.3,
          20.8,
          138.9,
          1.7,
          1.7,
          48.4,
          28.9,
          19.3,
          131.3,
          0,
          1.6,
          54.7,
          26.6,
          17.2,
          129.7,
          0,
          1.6,
          47.6,
          38.1,
          12.7,
          131,
          0,
          9.4,
          53.1,
          26.6,
          10.9,
          119.5,
          0,
          6.4,
          59.7,
          25.8,
          8.1,
          117.8,
          0,
          4.7,
          62,
          23.8,
          9.5,
          119.1,
          0,
          5.9,
          62.9,
          26.6,
          4.6,
          115,
          0,
          4.3,
          63.1,
          28.1,
          4.6,
          116.4,
          1.7,
          5.1,
          64.4,
          22,
          6.9,
          113.7,
          0,
          7.7,
          66.4,
          22.8,
          3.1,
          110.7,
          1.4,
          4.5,
          71.4,
          19.9,
          2.8,
          109.1,
          0,
          2.9,
          69.8,
          24.5,
          2.9,
          113.7,
          0,
          0,
          76.9,
          19,
          4.1,
          113.6,
          0,
          5.8,
          65.2,
          25.9,
          3.1,
          113.1,
          1.4,
          0,
          72,
          20.6,
          5.9,
          114.9,
          0,
          2.8,
          71.5,
          17.9,
          7.8,
          115.4,
          0,
          5.9,
          74.5,
          18.2,
          1.4,
          107.5,
          1.7,
          7.9,
          74.5,
          14.4,
          1.5,
          103,
          0,
          4.6,
          75.2,
          17.4,
          2.9,
          109.2,
          0,
          4.3,
          77.6,
          13.3,
          4.7,
          109.2,
          0,
          5,
          74.5,
          16.1,
          4.5,
          110.1,
          0,
          4.8,
          80,
          12.2,
          3,
          106.7,
          0,
          1.4,
          75.3,
          20.6,
          2.7,
          112.4,
          0,
          2.7,
          78.9,
          17.1,
          1.3,
          108.5,
          1.3,
          5.2,
          73.3,
          17.6,
          2.6,
          107.5,
          1.3,
          0,
          70.9,
          27.8,
          0,
          112.6,
          1.9,
          5.1,
          69.6,
          23.4,
          0,
          107.3,
          0,
          1.3,
          64.6,
          31.6,
          2.5,
          117.7,
          1.3,
          7.8,
          60.6,
          30.3,
          0,
          109.9,
          0,
          3.8,
          72.9,
          15.6,
          7.8,
          113.7,
          0,
          4.4,
          67.3,
          23.9,
          4.4,
          114.2
         ],
         "yaxis": "y"
        }
       ],
       "layout": {
        "legend": {
         "tracegroupgap": 0
        },
        "margin": {
         "t": 60
        },
        "template": {
         "data": {
          "bar": [
           {
            "error_x": {
             "color": "#2a3f5f"
            },
            "error_y": {
             "color": "#2a3f5f"
            },
            "marker": {
             "line": {
              "color": "#E5ECF6",
              "width": 0.5
             },
             "pattern": {
              "fillmode": "overlay",
              "size": 10,
              "solidity": 0.2
             }
            },
            "type": "bar"
           }
          ],
          "barpolar": [
           {
            "marker": {
             "line": {
              "color": "#E5ECF6",
              "width": 0.5
             },
             "pattern": {
              "fillmode": "overlay",
              "size": 10,
              "solidity": 0.2
             }
            },
            "type": "barpolar"
           }
          ],
          "carpet": [
           {
            "aaxis": {
             "endlinecolor": "#2a3f5f",
             "gridcolor": "white",
             "linecolor": "white",
             "minorgridcolor": "white",
             "startlinecolor": "#2a3f5f"
            },
            "baxis": {
             "endlinecolor": "#2a3f5f",
             "gridcolor": "white",
             "linecolor": "white",
             "minorgridcolor": "white",
             "startlinecolor": "#2a3f5f"
            },
            "type": "carpet"
           }
          ],
          "choropleth": [
           {
            "colorbar": {
             "outlinewidth": 0,
             "ticks": ""
            },
            "type": "choropleth"
           }
          ],
          "contour": [
           {
            "colorbar": {
             "outlinewidth": 0,
             "ticks": ""
            },
            "colorscale": [
             [
              0,
              "#0d0887"
             ],
             [
              0.1111111111111111,
              "#46039f"
             ],
             [
              0.2222222222222222,
              "#7201a8"
             ],
             [
              0.3333333333333333,
              "#9c179e"
             ],
             [
              0.4444444444444444,
              "#bd3786"
             ],
             [
              0.5555555555555556,
              "#d8576b"
             ],
             [
              0.6666666666666666,
              "#ed7953"
             ],
             [
              0.7777777777777778,
              "#fb9f3a"
             ],
             [
              0.8888888888888888,
              "#fdca26"
             ],
             [
              1,
              "#f0f921"
             ]
            ],
            "type": "contour"
           }
          ],
          "contourcarpet": [
           {
            "colorbar": {
             "outlinewidth": 0,
             "ticks": ""
            },
            "type": "contourcarpet"
           }
          ],
          "heatmap": [
           {
            "colorbar": {
             "outlinewidth": 0,
             "ticks": ""
            },
            "colorscale": [
             [
              0,
              "#0d0887"
             ],
             [
              0.1111111111111111,
              "#46039f"
             ],
             [
              0.2222222222222222,
              "#7201a8"
             ],
             [
              0.3333333333333333,
              "#9c179e"
             ],
             [
              0.4444444444444444,
              "#bd3786"
             ],
             [
              0.5555555555555556,
              "#d8576b"
             ],
             [
              0.6666666666666666,
              "#ed7953"
             ],
             [
              0.7777777777777778,
              "#fb9f3a"
             ],
             [
              0.8888888888888888,
              "#fdca26"
             ],
             [
              1,
              "#f0f921"
             ]
            ],
            "type": "heatmap"
           }
          ],
          "heatmapgl": [
           {
            "colorbar": {
             "outlinewidth": 0,
             "ticks": ""
            },
            "colorscale": [
             [
              0,
              "#0d0887"
             ],
             [
              0.1111111111111111,
              "#46039f"
             ],
             [
              0.2222222222222222,
              "#7201a8"
             ],
             [
              0.3333333333333333,
              "#9c179e"
             ],
             [
              0.4444444444444444,
              "#bd3786"
             ],
             [
              0.5555555555555556,
              "#d8576b"
             ],
             [
              0.6666666666666666,
              "#ed7953"
             ],
             [
              0.7777777777777778,
              "#fb9f3a"
             ],
             [
              0.8888888888888888,
              "#fdca26"
             ],
             [
              1,
              "#f0f921"
             ]
            ],
            "type": "heatmapgl"
           }
          ],
          "histogram": [
           {
            "marker": {
             "pattern": {
              "fillmode": "overlay",
              "size": 10,
              "solidity": 0.2
             }
            },
            "type": "histogram"
           }
          ],
          "histogram2d": [
           {
            "colorbar": {
             "outlinewidth": 0,
             "ticks": ""
            },
            "colorscale": [
             [
              0,
              "#0d0887"
             ],
             [
              0.1111111111111111,
              "#46039f"
             ],
             [
              0.2222222222222222,
              "#7201a8"
             ],
             [
              0.3333333333333333,
              "#9c179e"
             ],
             [
              0.4444444444444444,
              "#bd3786"
             ],
             [
              0.5555555555555556,
              "#d8576b"
             ],
             [
              0.6666666666666666,
              "#ed7953"
             ],
             [
              0.7777777777777778,
              "#fb9f3a"
             ],
             [
              0.8888888888888888,
              "#fdca26"
             ],
             [
              1,
              "#f0f921"
             ]
            ],
            "type": "histogram2d"
           }
          ],
          "histogram2dcontour": [
           {
            "colorbar": {
             "outlinewidth": 0,
             "ticks": ""
            },
            "colorscale": [
             [
              0,
              "#0d0887"
             ],
             [
              0.1111111111111111,
              "#46039f"
             ],
             [
              0.2222222222222222,
              "#7201a8"
             ],
             [
              0.3333333333333333,
              "#9c179e"
             ],
             [
              0.4444444444444444,
              "#bd3786"
             ],
             [
              0.5555555555555556,
              "#d8576b"
             ],
             [
              0.6666666666666666,
              "#ed7953"
             ],
             [
              0.7777777777777778,
              "#fb9f3a"
             ],
             [
              0.8888888888888888,
              "#fdca26"
             ],
             [
              1,
              "#f0f921"
             ]
            ],
            "type": "histogram2dcontour"
           }
          ],
          "mesh3d": [
           {
            "colorbar": {
             "outlinewidth": 0,
             "ticks": ""
            },
            "type": "mesh3d"
           }
          ],
          "parcoords": [
           {
            "line": {
             "colorbar": {
              "outlinewidth": 0,
              "ticks": ""
             }
            },
            "type": "parcoords"
           }
          ],
          "pie": [
           {
            "automargin": true,
            "type": "pie"
           }
          ],
          "scatter": [
           {
            "marker": {
             "colorbar": {
              "outlinewidth": 0,
              "ticks": ""
             }
            },
            "type": "scatter"
           }
          ],
          "scatter3d": [
           {
            "line": {
             "colorbar": {
              "outlinewidth": 0,
              "ticks": ""
             }
            },
            "marker": {
             "colorbar": {
              "outlinewidth": 0,
              "ticks": ""
             }
            },
            "type": "scatter3d"
           }
          ],
          "scattercarpet": [
           {
            "marker": {
             "colorbar": {
              "outlinewidth": 0,
              "ticks": ""
             }
            },
            "type": "scattercarpet"
           }
          ],
          "scattergeo": [
           {
            "marker": {
             "colorbar": {
              "outlinewidth": 0,
              "ticks": ""
             }
            },
            "type": "scattergeo"
           }
          ],
          "scattergl": [
           {
            "marker": {
             "colorbar": {
              "outlinewidth": 0,
              "ticks": ""
             }
            },
            "type": "scattergl"
           }
          ],
          "scattermapbox": [
           {
            "marker": {
             "colorbar": {
              "outlinewidth": 0,
              "ticks": ""
             }
            },
            "type": "scattermapbox"
           }
          ],
          "scatterpolar": [
           {
            "marker": {
             "colorbar": {
              "outlinewidth": 0,
              "ticks": ""
             }
            },
            "type": "scatterpolar"
           }
          ],
          "scatterpolargl": [
           {
            "marker": {
             "colorbar": {
              "outlinewidth": 0,
              "ticks": ""
             }
            },
            "type": "scatterpolargl"
           }
          ],
          "scatterternary": [
           {
            "marker": {
             "colorbar": {
              "outlinewidth": 0,
              "ticks": ""
             }
            },
            "type": "scatterternary"
           }
          ],
          "surface": [
           {
            "colorbar": {
             "outlinewidth": 0,
             "ticks": ""
            },
            "colorscale": [
             [
              0,
              "#0d0887"
             ],
             [
              0.1111111111111111,
              "#46039f"
             ],
             [
              0.2222222222222222,
              "#7201a8"
             ],
             [
              0.3333333333333333,
              "#9c179e"
             ],
             [
              0.4444444444444444,
              "#bd3786"
             ],
             [
              0.5555555555555556,
              "#d8576b"
             ],
             [
              0.6666666666666666,
              "#ed7953"
             ],
             [
              0.7777777777777778,
              "#fb9f3a"
             ],
             [
              0.8888888888888888,
              "#fdca26"
             ],
             [
              1,
              "#f0f921"
             ]
            ],
            "type": "surface"
           }
          ],
          "table": [
           {
            "cells": {
             "fill": {
              "color": "#EBF0F8"
             },
             "line": {
              "color": "white"
             }
            },
            "header": {
             "fill": {
              "color": "#C8D4E3"
             },
             "line": {
              "color": "white"
             }
            },
            "type": "table"
           }
          ]
         },
         "layout": {
          "annotationdefaults": {
           "arrowcolor": "#2a3f5f",
           "arrowhead": 0,
           "arrowwidth": 1
          },
          "autotypenumbers": "strict",
          "coloraxis": {
           "colorbar": {
            "outlinewidth": 0,
            "ticks": ""
           }
          },
          "colorscale": {
           "diverging": [
            [
             0,
             "#8e0152"
            ],
            [
             0.1,
             "#c51b7d"
            ],
            [
             0.2,
             "#de77ae"
            ],
            [
             0.3,
             "#f1b6da"
            ],
            [
             0.4,
             "#fde0ef"
            ],
            [
             0.5,
             "#f7f7f7"
            ],
            [
             0.6,
             "#e6f5d0"
            ],
            [
             0.7,
             "#b8e186"
            ],
            [
             0.8,
             "#7fbc41"
            ],
            [
             0.9,
             "#4d9221"
            ],
            [
             1,
             "#276419"
            ]
           ],
           "sequential": [
            [
             0,
             "#0d0887"
            ],
            [
             0.1111111111111111,
             "#46039f"
            ],
            [
             0.2222222222222222,
             "#7201a8"
            ],
            [
             0.3333333333333333,
             "#9c179e"
            ],
            [
             0.4444444444444444,
             "#bd3786"
            ],
            [
             0.5555555555555556,
             "#d8576b"
            ],
            [
             0.6666666666666666,
             "#ed7953"
            ],
            [
             0.7777777777777778,
             "#fb9f3a"
            ],
            [
             0.8888888888888888,
             "#fdca26"
            ],
            [
             1,
             "#f0f921"
            ]
           ],
           "sequentialminus": [
            [
             0,
             "#0d0887"
            ],
            [
             0.1111111111111111,
             "#46039f"
            ],
            [
             0.2222222222222222,
             "#7201a8"
            ],
            [
             0.3333333333333333,
             "#9c179e"
            ],
            [
             0.4444444444444444,
             "#bd3786"
            ],
            [
             0.5555555555555556,
             "#d8576b"
            ],
            [
             0.6666666666666666,
             "#ed7953"
            ],
            [
             0.7777777777777778,
             "#fb9f3a"
            ],
            [
             0.8888888888888888,
             "#fdca26"
            ],
            [
             1,
             "#f0f921"
            ]
           ]
          },
          "colorway": [
           "#636efa",
           "#EF553B",
           "#00cc96",
           "#ab63fa",
           "#FFA15A",
           "#19d3f3",
           "#FF6692",
           "#B6E880",
           "#FF97FF",
           "#FECB52"
          ],
          "font": {
           "color": "#2a3f5f"
          },
          "geo": {
           "bgcolor": "white",
           "lakecolor": "white",
           "landcolor": "#E5ECF6",
           "showlakes": true,
           "showland": true,
           "subunitcolor": "white"
          },
          "hoverlabel": {
           "align": "left"
          },
          "hovermode": "closest",
          "mapbox": {
           "style": "light"
          },
          "paper_bgcolor": "white",
          "plot_bgcolor": "#E5ECF6",
          "polar": {
           "angularaxis": {
            "gridcolor": "white",
            "linecolor": "white",
            "ticks": ""
           },
           "bgcolor": "#E5ECF6",
           "radialaxis": {
            "gridcolor": "white",
            "linecolor": "white",
            "ticks": ""
           }
          },
          "scene": {
           "xaxis": {
            "backgroundcolor": "#E5ECF6",
            "gridcolor": "white",
            "gridwidth": 2,
            "linecolor": "white",
            "showbackground": true,
            "ticks": "",
            "zerolinecolor": "white"
           },
           "yaxis": {
            "backgroundcolor": "#E5ECF6",
            "gridcolor": "white",
            "gridwidth": 2,
            "linecolor": "white",
            "showbackground": true,
            "ticks": "",
            "zerolinecolor": "white"
           },
           "zaxis": {
            "backgroundcolor": "#E5ECF6",
            "gridcolor": "white",
            "gridwidth": 2,
            "linecolor": "white",
            "showbackground": true,
            "ticks": "",
            "zerolinecolor": "white"
           }
          },
          "shapedefaults": {
           "line": {
            "color": "#2a3f5f"
           }
          },
          "ternary": {
           "aaxis": {
            "gridcolor": "white",
            "linecolor": "white",
            "ticks": ""
           },
           "baxis": {
            "gridcolor": "white",
            "linecolor": "white",
            "ticks": ""
           },
           "bgcolor": "#E5ECF6",
           "caxis": {
            "gridcolor": "white",
            "linecolor": "white",
            "ticks": ""
           }
          },
          "title": {
           "x": 0.05
          },
          "xaxis": {
           "automargin": true,
           "gridcolor": "white",
           "linecolor": "white",
           "ticks": "",
           "title": {
            "standoff": 15
           },
           "zerolinecolor": "white",
           "zerolinewidth": 2
          },
          "yaxis": {
           "automargin": true,
           "gridcolor": "white",
           "linecolor": "white",
           "ticks": "",
           "title": {
            "standoff": 15
           },
           "zerolinecolor": "white",
           "zerolinewidth": 2
          }
         }
        },
        "xaxis": {
         "anchor": "y",
         "domain": [
          0,
          1
         ],
         "title": {
          "text": "시기"
         }
        },
        "yaxis": {
         "anchor": "x",
         "domain": [
          0,
          1
         ],
         "title": {
          "text": "섬유제품;의복제외"
         }
        }
       }
      },
      "text/html": [
       "<div>                            <div id=\"487d7542-0a91-4a1d-96fa-8cfa8d9b4da0\" class=\"plotly-graph-div\" style=\"height:525px; width:100%;\"></div>            <script type=\"text/javascript\">                require([\"plotly\"], function(Plotly) {                    window.PLOTLYENV=window.PLOTLYENV || {};                                    if (document.getElementById(\"487d7542-0a91-4a1d-96fa-8cfa8d9b4da0\")) {                    Plotly.newPlot(                        \"487d7542-0a91-4a1d-96fa-8cfa8d9b4da0\",                        [{\"hovertemplate\":\"\\uc2dc\\uae30=%{x}<br>\\uc12c\\uc720\\uc81c\\ud488;\\uc758\\ubcf5\\uc81c\\uc678=%{y}<extra></extra>\",\"legendgroup\":\"\",\"line\":{\"color\":\"#636efa\",\"dash\":\"solid\"},\"marker\":{\"symbol\":\"circle\"},\"mode\":\"lines+markers\",\"name\":\"\",\"orientation\":\"v\",\"showlegend\":false,\"x\":[\"2015.02\",\"2015.02.1\",\"2015.02.2\",\"2015.02.3\",\"2015.02.4\",\"2015.02.5\",\"2015.03\",\"2015.03.1\",\"2015.03.2\",\"2015.03.3\",\"2015.03.4\",\"2015.03.5\",\"2015.04\",\"2015.04.1\",\"2015.04.2\",\"2015.04.3\",\"2015.04.4\",\"2015.04.5\",\"2015.05\",\"2015.05.1\",\"2015.05.2\",\"2015.05.3\",\"2015.05.4\",\"2015.05.5\",\"2015.06\",\"2015.06.1\",\"2015.06.2\",\"2015.06.3\",\"2015.06.4\",\"2015.06.5\",\"2015.07\",\"2015.07.1\",\"2015.07.2\",\"2015.07.3\",\"2015.07.4\",\"2015.07.5\",\"2015.08\",\"2015.08.1\",\"2015.08.2\",\"2015.08.3\",\"2015.08.4\",\"2015.08.5\",\"2015.09\",\"2015.09.1\",\"2015.09.2\",\"2015.09.3\",\"2015.09.4\",\"2015.09.5\",\"2015.10\",\"2015.10.1\",\"2015.10.2\",\"2015.10.3\",\"2015.10.4\",\"2015.10.5\",\"2015.11\",\"2015.11.1\",\"2015.11.2\",\"2015.11.3\",\"2015.11.4\",\"2015.11.5\",\"2015.12\",\"2015.12.1\",\"2015.12.2\",\"2015.12.3\",\"2015.12.4\",\"2015.12.5\",\"2016.01\",\"2016.01.1\",\"2016.01.2\",\"2016.01.3\",\"2016.01.4\",\"2016.01.5\",\"2016.02\",\"2016.02.1\",\"2016.02.2\",\"2016.02.3\",\"2016.02.4\",\"2016.02.5\",\"2016.03\",\"2016.03.1\",\"2016.03.2\",\"2016.03.3\",\"2016.03.4\",\"2016.03.5\",\"2016.04\",\"2016.04.1\",\"2016.04.2\",\"2016.04.3\",\"2016.04.4\",\"2016.04.5\",\"2016.05\",\"2016.05.1\",\"2016.05.2\",\"2016.05.3\",\"2016.05.4\",\"2016.05.5\",\"2016.06\",\"2016.06.1\",\"2016.06.2\",\"2016.06.3\",\"2016.06.4\",\"2016.06.5\",\"2016.07\",\"2016.07.1\",\"2016.07.2\",\"2016.07.3\",\"2016.07.4\",\"2016.07.5\",\"2016.08\",\"2016.08.1\",\"2016.08.2\",\"2016.08.3\",\"2016.08.4\",\"2016.08.5\",\"2016.09\",\"2016.09.1\",\"2016.09.2\",\"2016.09.3\",\"2016.09.4\",\"2016.09.5\",\"2016.10\",\"2016.10.1\",\"2016.10.2\",\"2016.10.3\",\"2016.10.4\",\"2016.10.5\",\"2016.11\",\"2016.11.1\",\"2016.11.2\",\"2016.11.3\",\"2016.11.4\",\"2016.11.5\",\"2016.12\",\"2016.12.1\",\"2016.12.2\",\"2016.12.3\",\"2016.12.4\",\"2016.12.5\",\"2017.01\",\"2017.01.1\",\"2017.01.2\",\"2017.01.3\",\"2017.01.4\",\"2017.01.5\",\"2017.02\",\"2017.02.1\",\"2017.02.2\",\"2017.02.3\",\"2017.02.4\",\"2017.02.5\",\"2017.03\",\"2017.03.1\",\"2017.03.2\",\"2017.03.3\",\"2017.03.4\",\"2017.03.5\",\"2017.04\",\"2017.04.1\",\"2017.04.2\",\"2017.04.3\",\"2017.04.4\",\"2017.04.5\",\"2017.05\",\"2017.05.1\",\"2017.05.2\",\"2017.05.3\",\"2017.05.4\",\"2017.05.5\",\"2017.06\",\"2017.06.1\",\"2017.06.2\",\"2017.06.3\",\"2017.06.4\",\"2017.06.5\",\"2017.07\",\"2017.07.1\",\"2017.07.2\",\"2017.07.3\",\"2017.07.4\",\"2017.07.5\",\"2017.08\",\"2017.08.1\",\"2017.08.2\",\"2017.08.3\",\"2017.08.4\",\"2017.08.5\",\"2017.09\",\"2017.09.1\",\"2017.09.2\",\"2017.09.3\",\"2017.09.4\",\"2017.09.5\",\"2017.10\",\"2017.10.1\",\"2017.10.2\",\"2017.10.3\",\"2017.10.4\",\"2017.10.5\",\"2017.11\",\"2017.11.1\",\"2017.11.2\",\"2017.11.3\",\"2017.11.4\",\"2017.11.5\",\"2017.12\",\"2017.12.1\",\"2017.12.2\",\"2017.12.3\",\"2017.12.4\",\"2017.12.5\",\"2018.01\",\"2018.01.1\",\"2018.01.2\",\"2018.01.3\",\"2018.01.4\",\"2018.01.5\",\"2018.02\",\"2018.02.1\",\"2018.02.2\",\"2018.02.3\",\"2018.02.4\",\"2018.02.5\",\"2018.03\",\"2018.03.1\",\"2018.03.2\",\"2018.03.3\",\"2018.03.4\",\"2018.03.5\",\"2018.04\",\"2018.04.1\",\"2018.04.2\",\"2018.04.3\",\"2018.04.4\",\"2018.04.5\",\"2018.05\",\"2018.05.1\",\"2018.05.2\",\"2018.05.3\",\"2018.05.4\",\"2018.05.5\",\"2018.06\",\"2018.06.1\",\"2018.06.2\",\"2018.06.3\",\"2018.06.4\",\"2018.06.5\",\"2018.07\",\"2018.07.1\",\"2018.07.2\",\"2018.07.3\",\"2018.07.4\",\"2018.07.5\",\"2018.08\",\"2018.08.1\",\"2018.08.2\",\"2018.08.3\",\"2018.08.4\",\"2018.08.5\",\"2018.09\",\"2018.09.1\",\"2018.09.2\",\"2018.09.3\",\"2018.09.4\",\"2018.09.5\",\"2018.10\",\"2018.10.1\",\"2018.10.2\",\"2018.10.3\",\"2018.10.4\",\"2018.10.5\",\"2018.11\",\"2018.11.1\",\"2018.11.2\",\"2018.11.3\",\"2018.11.4\",\"2018.11.5\",\"2018.12\",\"2018.12.1\",\"2018.12.2\",\"2018.12.3\",\"2018.12.4\",\"2018.12.5\",\"2019.01\",\"2019.01.1\",\"2019.01.2\",\"2019.01.3\",\"2019.01.4\",\"2019.01.5\",\"2019.02\",\"2019.02.1\",\"2019.02.2\",\"2019.02.3\",\"2019.02.4\",\"2019.02.5\",\"2019.03\",\"2019.03.1\",\"2019.03.2\",\"2019.03.3\",\"2019.03.4\",\"2019.03.5\",\"2019.04\",\"2019.04.1\",\"2019.04.2\",\"2019.04.3\",\"2019.04.4\",\"2019.04.5\",\"2019.05\",\"2019.05.1\",\"2019.05.2\",\"2019.05.3\",\"2019.05.4\",\"2019.05.5\",\"2019.06\",\"2019.06.1\",\"2019.06.2\",\"2019.06.3\",\"2019.06.4\",\"2019.06.5\",\"2019.07\",\"2019.07.1\",\"2019.07.2\",\"2019.07.3\",\"2019.07.4\",\"2019.07.5\",\"2019.08\",\"2019.08.1\",\"2019.08.2\",\"2019.08.3\",\"2019.08.4\",\"2019.08.5\",\"2019.09\",\"2019.09.1\",\"2019.09.2\",\"2019.09.3\",\"2019.09.4\",\"2019.09.5\",\"2019.10\",\"2019.10.1\",\"2019.10.2\",\"2019.10.3\",\"2019.10.4\",\"2019.10.5\",\"2019.11\",\"2019.11.1\",\"2019.11.2\",\"2019.11.3\",\"2019.11.4\",\"2019.11.5\",\"2019.12\",\"2019.12.1\",\"2019.12.2\",\"2019.12.3\",\"2019.12.4\",\"2019.12.5\",\"2020.01\",\"2020.01.1\",\"2020.01.2\",\"2020.01.3\",\"2020.01.4\",\"2020.01.5\",\"2020.02\",\"2020.02.1\",\"2020.02.2\",\"2020.02.3\",\"2020.02.4\",\"2020.02.5\",\"2020.03\",\"2020.03.1\",\"2020.03.2\",\"2020.03.3\",\"2020.03.4\",\"2020.03.5\",\"2020.04\",\"2020.04.1\",\"2020.04.2\",\"2020.04.3\",\"2020.04.4\",\"2020.04.5\",\"2020.05\",\"2020.05.1\",\"2020.05.2\",\"2020.05.3\",\"2020.05.4\",\"2020.05.5\",\"2020.06\",\"2020.06.1\",\"2020.06.2\",\"2020.06.3\",\"2020.06.4\",\"2020.06.5\",\"2020.07\",\"2020.07.1\",\"2020.07.2\",\"2020.07.3\",\"2020.07.4\",\"2020.07.5\",\"2020.08\",\"2020.08.1\",\"2020.08.2\",\"2020.08.3\",\"2020.08.4\",\"2020.08.5\",\"2020.09\",\"2020.09.1\",\"2020.09.2\",\"2020.09.3\",\"2020.09.4\",\"2020.09.5\",\"2020.10\",\"2020.10.1\",\"2020.10.2\",\"2020.10.3\",\"2020.10.4\",\"2020.10.5\",\"2020.11\",\"2020.11.1\",\"2020.11.2\",\"2020.11.3\",\"2020.11.4\",\"2020.11.5\",\"2020.12\",\"2020.12.1\",\"2020.12.2\",\"2020.12.3\",\"2020.12.4\",\"2020.12.5\",\"2021.01\",\"2021.01.1\",\"2021.01.2\",\"2021.01.3\",\"2021.01.4\",\"2021.01.5\",\"2021.02\",\"2021.02.1\",\"2021.02.2\",\"2021.02.3\",\"2021.02.4\",\"2021.02.5\",\"2021.03\",\"2021.03.1\",\"2021.03.2\",\"2021.03.3\",\"2021.03.4\",\"2021.03.5\",\"2021.04\",\"2021.04.1\",\"2021.04.2\",\"2021.04.3\",\"2021.04.4\",\"2021.04.5\",\"2021.05\",\"2021.05.1\",\"2021.05.2\",\"2021.05.3\",\"2021.05.4\",\"2021.05.5\",\"2021.06\",\"2021.06.1\",\"2021.06.2\",\"2021.06.3\",\"2021.06.4\",\"2021.06.5\",\"2021.07\",\"2021.07.1\",\"2021.07.2\",\"2021.07.3\",\"2021.07.4\",\"2021.07.5\",\"2021.08\",\"2021.08.1\",\"2021.08.2\",\"2021.08.3\",\"2021.08.4\",\"2021.08.5\",\"2021.09\",\"2021.09.1\",\"2021.09.2\",\"2021.09.3\",\"2021.09.4\",\"2021.09.5\",\"2021.10\",\"2021.10.1\",\"2021.10.2\",\"2021.10.3\",\"2021.10.4\",\"2021.10.5\",\"2021.11\",\"2021.11.1\",\"2021.11.2\",\"2021.11.3\",\"2021.11.4\",\"2021.11.5\",\"2021.12\",\"2021.12.1\",\"2021.12.2\",\"2021.12.3\",\"2021.12.4\",\"2021.12.5\",\"2022.01\",\"2022.01.1\",\"2022.01.2\",\"2022.01.3\",\"2022.01.4\",\"2022.01.5\",\"2022.02\",\"2022.02.1\",\"2022.02.2\",\"2022.02.3\",\"2022.02.4\",\"2022.02.5\",\"2022.03\",\"2022.03.1\",\"2022.03.2\",\"2022.03.3\",\"2022.03.4\",\"2022.03.5\",\"2022.04\",\"2022.04.1\",\"2022.04.2\",\"2022.04.3\",\"2022.04.4\",\"2022.04.5\",\"2022.05\",\"2022.05.1\",\"2022.05.2\",\"2022.05.3\",\"2022.05.4\",\"2022.05.5\",\"2022.06\",\"2022.06.1\",\"2022.06.2\",\"2022.06.3\",\"2022.06.4\",\"2022.06.5\",\"2022.07\",\"2022.07.1\",\"2022.07.2\",\"2022.07.3\",\"2022.07.4\",\"2022.07.5\",\"2022.08\",\"2022.08.1\",\"2022.08.2\",\"2022.08.3\",\"2022.08.4\",\"2022.08.5\",\"2022.09\",\"2022.09.1\",\"2022.09.2\",\"2022.09.3\",\"2022.09.4\",\"2022.09.5\",\"2022.10\",\"2022.10.1\",\"2022.10.2\",\"2022.10.3\",\"2022.10.4\",\"2022.10.5\",\"2022.11\",\"2022.11.1\",\"2022.11.2\",\"2022.11.3\",\"2022.11.4\",\"2022.11.5\",\"2022.12\",\"2022.12.1\",\"2022.12.2\",\"2022.12.3\",\"2022.12.4\",\"2022.12.5\",\"2023.01\",\"2023.01.1\",\"2023.01.2\",\"2023.01.3\",\"2023.01.4\",\"2023.01.5\"],\"xaxis\":\"x\",\"y\":[0.0,4.0,71.0,21.4,3.6,112.3,0.0,8.9,58.7,32.3,0.0,111.7,0.0,1.5,66.7,23.8,8.0,119.1,2.5,4.2,63.1,22.2,7.9,114.4,0.0,3.6,62.3,28.1,6.0,118.3,0.0,7.1,56.7,30.0,6.3,117.7,0.0,8.3,55.5,27.6,8.5,118.2,0.0,3.1,71.0,20.5,5.5,114.1,0.0,2.6,72.6,23.9,0.9,111.6,0.0,5.7,66.5,24.1,3.7,112.9,0.0,8.8,62.2,25.2,3.8,112.0,0.0,4.4,63.3,27.7,4.6,116.3,0.0,2.6,55.4,36.1,5.9,122.6,0.0,6.1,64.9,25.3,3.7,113.3,0.0,14.3,70.6,11.6,3.4,102.1,0.0,5.2,75.7,13.5,5.6,109.8,0.0,6.4,71.7,17.8,4.1,109.8,0.0,11.4,68.2,14.7,5.8,107.4,0.0,9.8,69.5,17.6,3.1,106.9,0.0,5.2,75.3,16.0,3.4,108.8,0.0,7.7,76.5,13.0,2.8,105.5,0.0,8.5,66.1,23.6,1.7,109.3,0.0,11.4,64.5,19.3,4.8,108.8,1.4,8.1,52.5,34.8,3.1,115.0,1.4,8.0,61.0,23.3,6.3,112.6,0.0,9.8,60.1,26.7,3.3,111.8,0.0,5.0,61.3,28.9,4.8,116.8,1.7,7.6,57.3,25.5,7.9,115.2,0.0,8.0,61.6,24.3,6.1,114.3,0.0,6.3,62.7,21.8,9.2,116.9,1.6,3.1,59.4,28.2,7.8,118.7,0.0,7.8,61.2,26.3,4.7,114.0,0.0,8.0,62.4,20.0,9.6,115.6,1.7,8.1,71.9,13.6,4.8,105.8,3.3,8.0,58.5,27.0,3.2,109.3,1.6,11.3,61.9,20.3,4.8,107.6,1.6,4.8,65.4,25.1,3.1,111.6,0.0,6.4,68.7,21.8,3.1,110.8,0.0,6.2,65.5,25.3,3.1,112.6,1.6,12.4,56.6,26.3,3.0,108.3,0.0,6.2,70.2,18.8,4.8,111.1,0.0,7.9,60.4,23.9,7.9,115.9,0.0,11.3,58.9,23.7,6.1,112.3,0.0,8.4,68.3,15.7,7.6,111.2,0.0,6.3,66.5,22.7,4.5,112.7,0.0,8.2,71.3,18.8,1.6,106.9,1.6,6.3,67.1,20.2,4.7,110.0,0.0,4.7,66.9,22.3,6.1,114.9,0.0,3.5,61.4,26.4,8.6,120.1,0.0,4.6,70.5,21.5,3.4,111.8,0.0,4.9,60.9,30.9,3.3,116.3,0.0,1.6,67.8,26.1,4.6,116.9,0.0,6.4,62.5,29.5,1.6,113.1,0.0,1.7,62.8,27.9,7.7,120.8,0.0,0.0,57.2,33.5,9.4,126.1,0.0,4.6,62.4,26.7,6.3,117.3,0.0,1.6,59.3,35.9,3.2,120.4,0.0,3.2,59.7,35.5,1.6,117.7,0.0,1.6,69.4,24.2,4.8,116.1,0.0,4.8,56.5,30.7,8.1,121.0,0.0,1.6,55.8,39.4,3.2,122.1,0.0,8.3,63.4,23.3,5.0,112.5,0.0,4.7,58.7,30.2,6.3,119.1,0.0,4.8,46.6,32.4,16.2,130.0,0.0,0.0,42.9,36.3,20.8,138.9,1.7,1.7,48.4,28.9,19.3,131.3,0.0,1.6,54.7,26.6,17.2,129.7,0.0,1.6,47.6,38.1,12.7,131.0,0.0,9.4,53.1,26.6,10.9,119.5,0.0,6.4,59.7,25.8,8.1,117.8,0.0,4.7,62.0,23.8,9.5,119.1,0.0,5.9,62.9,26.6,4.6,115.0,0.0,4.3,63.1,28.1,4.6,116.4,1.7,5.1,64.4,22.0,6.9,113.7,0.0,7.7,66.4,22.8,3.1,110.7,1.4,4.5,71.4,19.9,2.8,109.1,0.0,2.9,69.8,24.5,2.9,113.7,0.0,0.0,76.9,19.0,4.1,113.6,0.0,5.8,65.2,25.9,3.1,113.1,1.4,0.0,72.0,20.6,5.9,114.9,0.0,2.8,71.5,17.9,7.8,115.4,0.0,5.9,74.5,18.2,1.4,107.5,1.7,7.9,74.5,14.4,1.5,103.0,0.0,4.6,75.2,17.4,2.9,109.2,0.0,4.3,77.6,13.3,4.7,109.2,0.0,5.0,74.5,16.1,4.5,110.1,0.0,4.8,80.0,12.2,3.0,106.7,0.0,1.4,75.3,20.6,2.7,112.4,0.0,2.7,78.9,17.1,1.3,108.5,1.3,5.2,73.3,17.6,2.6,107.5,1.3,0.0,70.9,27.8,0.0,112.6,1.9,5.1,69.6,23.4,0.0,107.3,0.0,1.3,64.6,31.6,2.5,117.7,1.3,7.8,60.6,30.3,0.0,109.9,0.0,3.8,72.9,15.6,7.8,113.7,0.0,4.4,67.3,23.9,4.4,114.2],\"yaxis\":\"y\",\"type\":\"scatter\"}],                        {\"template\":{\"data\":{\"bar\":[{\"error_x\":{\"color\":\"#2a3f5f\"},\"error_y\":{\"color\":\"#2a3f5f\"},\"marker\":{\"line\":{\"color\":\"#E5ECF6\",\"width\":0.5},\"pattern\":{\"fillmode\":\"overlay\",\"size\":10,\"solidity\":0.2}},\"type\":\"bar\"}],\"barpolar\":[{\"marker\":{\"line\":{\"color\":\"#E5ECF6\",\"width\":0.5},\"pattern\":{\"fillmode\":\"overlay\",\"size\":10,\"solidity\":0.2}},\"type\":\"barpolar\"}],\"carpet\":[{\"aaxis\":{\"endlinecolor\":\"#2a3f5f\",\"gridcolor\":\"white\",\"linecolor\":\"white\",\"minorgridcolor\":\"white\",\"startlinecolor\":\"#2a3f5f\"},\"baxis\":{\"endlinecolor\":\"#2a3f5f\",\"gridcolor\":\"white\",\"linecolor\":\"white\",\"minorgridcolor\":\"white\",\"startlinecolor\":\"#2a3f5f\"},\"type\":\"carpet\"}],\"choropleth\":[{\"colorbar\":{\"outlinewidth\":0,\"ticks\":\"\"},\"type\":\"choropleth\"}],\"contour\":[{\"colorbar\":{\"outlinewidth\":0,\"ticks\":\"\"},\"colorscale\":[[0.0,\"#0d0887\"],[0.1111111111111111,\"#46039f\"],[0.2222222222222222,\"#7201a8\"],[0.3333333333333333,\"#9c179e\"],[0.4444444444444444,\"#bd3786\"],[0.5555555555555556,\"#d8576b\"],[0.6666666666666666,\"#ed7953\"],[0.7777777777777778,\"#fb9f3a\"],[0.8888888888888888,\"#fdca26\"],[1.0,\"#f0f921\"]],\"type\":\"contour\"}],\"contourcarpet\":[{\"colorbar\":{\"outlinewidth\":0,\"ticks\":\"\"},\"type\":\"contourcarpet\"}],\"heatmap\":[{\"colorbar\":{\"outlinewidth\":0,\"ticks\":\"\"},\"colorscale\":[[0.0,\"#0d0887\"],[0.1111111111111111,\"#46039f\"],[0.2222222222222222,\"#7201a8\"],[0.3333333333333333,\"#9c179e\"],[0.4444444444444444,\"#bd3786\"],[0.5555555555555556,\"#d8576b\"],[0.6666666666666666,\"#ed7953\"],[0.7777777777777778,\"#fb9f3a\"],[0.8888888888888888,\"#fdca26\"],[1.0,\"#f0f921\"]],\"type\":\"heatmap\"}],\"heatmapgl\":[{\"colorbar\":{\"outlinewidth\":0,\"ticks\":\"\"},\"colorscale\":[[0.0,\"#0d0887\"],[0.1111111111111111,\"#46039f\"],[0.2222222222222222,\"#7201a8\"],[0.3333333333333333,\"#9c179e\"],[0.4444444444444444,\"#bd3786\"],[0.5555555555555556,\"#d8576b\"],[0.6666666666666666,\"#ed7953\"],[0.7777777777777778,\"#fb9f3a\"],[0.8888888888888888,\"#fdca26\"],[1.0,\"#f0f921\"]],\"type\":\"heatmapgl\"}],\"histogram\":[{\"marker\":{\"pattern\":{\"fillmode\":\"overlay\",\"size\":10,\"solidity\":0.2}},\"type\":\"histogram\"}],\"histogram2d\":[{\"colorbar\":{\"outlinewidth\":0,\"ticks\":\"\"},\"colorscale\":[[0.0,\"#0d0887\"],[0.1111111111111111,\"#46039f\"],[0.2222222222222222,\"#7201a8\"],[0.3333333333333333,\"#9c179e\"],[0.4444444444444444,\"#bd3786\"],[0.5555555555555556,\"#d8576b\"],[0.6666666666666666,\"#ed7953\"],[0.7777777777777778,\"#fb9f3a\"],[0.8888888888888888,\"#fdca26\"],[1.0,\"#f0f921\"]],\"type\":\"histogram2d\"}],\"histogram2dcontour\":[{\"colorbar\":{\"outlinewidth\":0,\"ticks\":\"\"},\"colorscale\":[[0.0,\"#0d0887\"],[0.1111111111111111,\"#46039f\"],[0.2222222222222222,\"#7201a8\"],[0.3333333333333333,\"#9c179e\"],[0.4444444444444444,\"#bd3786\"],[0.5555555555555556,\"#d8576b\"],[0.6666666666666666,\"#ed7953\"],[0.7777777777777778,\"#fb9f3a\"],[0.8888888888888888,\"#fdca26\"],[1.0,\"#f0f921\"]],\"type\":\"histogram2dcontour\"}],\"mesh3d\":[{\"colorbar\":{\"outlinewidth\":0,\"ticks\":\"\"},\"type\":\"mesh3d\"}],\"parcoords\":[{\"line\":{\"colorbar\":{\"outlinewidth\":0,\"ticks\":\"\"}},\"type\":\"parcoords\"}],\"pie\":[{\"automargin\":true,\"type\":\"pie\"}],\"scatter\":[{\"marker\":{\"colorbar\":{\"outlinewidth\":0,\"ticks\":\"\"}},\"type\":\"scatter\"}],\"scatter3d\":[{\"line\":{\"colorbar\":{\"outlinewidth\":0,\"ticks\":\"\"}},\"marker\":{\"colorbar\":{\"outlinewidth\":0,\"ticks\":\"\"}},\"type\":\"scatter3d\"}],\"scattercarpet\":[{\"marker\":{\"colorbar\":{\"outlinewidth\":0,\"ticks\":\"\"}},\"type\":\"scattercarpet\"}],\"scattergeo\":[{\"marker\":{\"colorbar\":{\"outlinewidth\":0,\"ticks\":\"\"}},\"type\":\"scattergeo\"}],\"scattergl\":[{\"marker\":{\"colorbar\":{\"outlinewidth\":0,\"ticks\":\"\"}},\"type\":\"scattergl\"}],\"scattermapbox\":[{\"marker\":{\"colorbar\":{\"outlinewidth\":0,\"ticks\":\"\"}},\"type\":\"scattermapbox\"}],\"scatterpolar\":[{\"marker\":{\"colorbar\":{\"outlinewidth\":0,\"ticks\":\"\"}},\"type\":\"scatterpolar\"}],\"scatterpolargl\":[{\"marker\":{\"colorbar\":{\"outlinewidth\":0,\"ticks\":\"\"}},\"type\":\"scatterpolargl\"}],\"scatterternary\":[{\"marker\":{\"colorbar\":{\"outlinewidth\":0,\"ticks\":\"\"}},\"type\":\"scatterternary\"}],\"surface\":[{\"colorbar\":{\"outlinewidth\":0,\"ticks\":\"\"},\"colorscale\":[[0.0,\"#0d0887\"],[0.1111111111111111,\"#46039f\"],[0.2222222222222222,\"#7201a8\"],[0.3333333333333333,\"#9c179e\"],[0.4444444444444444,\"#bd3786\"],[0.5555555555555556,\"#d8576b\"],[0.6666666666666666,\"#ed7953\"],[0.7777777777777778,\"#fb9f3a\"],[0.8888888888888888,\"#fdca26\"],[1.0,\"#f0f921\"]],\"type\":\"surface\"}],\"table\":[{\"cells\":{\"fill\":{\"color\":\"#EBF0F8\"},\"line\":{\"color\":\"white\"}},\"header\":{\"fill\":{\"color\":\"#C8D4E3\"},\"line\":{\"color\":\"white\"}},\"type\":\"table\"}]},\"layout\":{\"annotationdefaults\":{\"arrowcolor\":\"#2a3f5f\",\"arrowhead\":0,\"arrowwidth\":1},\"autotypenumbers\":\"strict\",\"coloraxis\":{\"colorbar\":{\"outlinewidth\":0,\"ticks\":\"\"}},\"colorscale\":{\"diverging\":[[0,\"#8e0152\"],[0.1,\"#c51b7d\"],[0.2,\"#de77ae\"],[0.3,\"#f1b6da\"],[0.4,\"#fde0ef\"],[0.5,\"#f7f7f7\"],[0.6,\"#e6f5d0\"],[0.7,\"#b8e186\"],[0.8,\"#7fbc41\"],[0.9,\"#4d9221\"],[1,\"#276419\"]],\"sequential\":[[0.0,\"#0d0887\"],[0.1111111111111111,\"#46039f\"],[0.2222222222222222,\"#7201a8\"],[0.3333333333333333,\"#9c179e\"],[0.4444444444444444,\"#bd3786\"],[0.5555555555555556,\"#d8576b\"],[0.6666666666666666,\"#ed7953\"],[0.7777777777777778,\"#fb9f3a\"],[0.8888888888888888,\"#fdca26\"],[1.0,\"#f0f921\"]],\"sequentialminus\":[[0.0,\"#0d0887\"],[0.1111111111111111,\"#46039f\"],[0.2222222222222222,\"#7201a8\"],[0.3333333333333333,\"#9c179e\"],[0.4444444444444444,\"#bd3786\"],[0.5555555555555556,\"#d8576b\"],[0.6666666666666666,\"#ed7953\"],[0.7777777777777778,\"#fb9f3a\"],[0.8888888888888888,\"#fdca26\"],[1.0,\"#f0f921\"]]},\"colorway\":[\"#636efa\",\"#EF553B\",\"#00cc96\",\"#ab63fa\",\"#FFA15A\",\"#19d3f3\",\"#FF6692\",\"#B6E880\",\"#FF97FF\",\"#FECB52\"],\"font\":{\"color\":\"#2a3f5f\"},\"geo\":{\"bgcolor\":\"white\",\"lakecolor\":\"white\",\"landcolor\":\"#E5ECF6\",\"showlakes\":true,\"showland\":true,\"subunitcolor\":\"white\"},\"hoverlabel\":{\"align\":\"left\"},\"hovermode\":\"closest\",\"mapbox\":{\"style\":\"light\"},\"paper_bgcolor\":\"white\",\"plot_bgcolor\":\"#E5ECF6\",\"polar\":{\"angularaxis\":{\"gridcolor\":\"white\",\"linecolor\":\"white\",\"ticks\":\"\"},\"bgcolor\":\"#E5ECF6\",\"radialaxis\":{\"gridcolor\":\"white\",\"linecolor\":\"white\",\"ticks\":\"\"}},\"scene\":{\"xaxis\":{\"backgroundcolor\":\"#E5ECF6\",\"gridcolor\":\"white\",\"gridwidth\":2,\"linecolor\":\"white\",\"showbackground\":true,\"ticks\":\"\",\"zerolinecolor\":\"white\"},\"yaxis\":{\"backgroundcolor\":\"#E5ECF6\",\"gridcolor\":\"white\",\"gridwidth\":2,\"linecolor\":\"white\",\"showbackground\":true,\"ticks\":\"\",\"zerolinecolor\":\"white\"},\"zaxis\":{\"backgroundcolor\":\"#E5ECF6\",\"gridcolor\":\"white\",\"gridwidth\":2,\"linecolor\":\"white\",\"showbackground\":true,\"ticks\":\"\",\"zerolinecolor\":\"white\"}},\"shapedefaults\":{\"line\":{\"color\":\"#2a3f5f\"}},\"ternary\":{\"aaxis\":{\"gridcolor\":\"white\",\"linecolor\":\"white\",\"ticks\":\"\"},\"baxis\":{\"gridcolor\":\"white\",\"linecolor\":\"white\",\"ticks\":\"\"},\"bgcolor\":\"#E5ECF6\",\"caxis\":{\"gridcolor\":\"white\",\"linecolor\":\"white\",\"ticks\":\"\"}},\"title\":{\"x\":0.05},\"xaxis\":{\"automargin\":true,\"gridcolor\":\"white\",\"linecolor\":\"white\",\"ticks\":\"\",\"title\":{\"standoff\":15},\"zerolinecolor\":\"white\",\"zerolinewidth\":2},\"yaxis\":{\"automargin\":true,\"gridcolor\":\"white\",\"linecolor\":\"white\",\"ticks\":\"\",\"title\":{\"standoff\":15},\"zerolinecolor\":\"white\",\"zerolinewidth\":2}}},\"xaxis\":{\"anchor\":\"y\",\"domain\":[0.0,1.0],\"title\":{\"text\":\"\\uc2dc\\uae30\"}},\"yaxis\":{\"anchor\":\"x\",\"domain\":[0.0,1.0],\"title\":{\"text\":\"\\uc12c\\uc720\\uc81c\\ud488;\\uc758\\ubcf5\\uc81c\\uc678\"}},\"legend\":{\"tracegroupgap\":0},\"margin\":{\"t\":60}},                        {\"responsive\": true}                    ).then(function(){\n",
       "                            \n",
       "var gd = document.getElementById('487d7542-0a91-4a1d-96fa-8cfa8d9b4da0');\n",
       "var x = new MutationObserver(function (mutations, observer) {{\n",
       "        var display = window.getComputedStyle(gd).display;\n",
       "        if (!display || display === 'none') {{\n",
       "            console.log([gd, 'removed!']);\n",
       "            Plotly.purge(gd);\n",
       "            observer.disconnect();\n",
       "        }}\n",
       "}});\n",
       "\n",
       "// Listen for the removal of the full notebook cells\n",
       "var notebookContainer = gd.closest('#notebook-container');\n",
       "if (notebookContainer) {{\n",
       "    x.observe(notebookContainer, {childList: true});\n",
       "}}\n",
       "\n",
       "// Listen for the clearing of the current output cell\n",
       "var outputEl = gd.closest('.output');\n",
       "if (outputEl) {{\n",
       "    x.observe(outputEl, {childList: true});\n",
       "}}\n",
       "\n",
       "                        })                };                });            </script>        </div>"
      ]
     },
     "metadata": {},
     "output_type": "display_data"
    }
   ],
   "source": [
    "px.line(df_9, x='시기', y='섬유제품;의복제외', markers = True)"
   ]
  },
  {
   "cell_type": "code",
   "execution_count": null,
   "id": "f025aef0",
   "metadata": {},
   "outputs": [],
   "source": []
  },
  {
   "cell_type": "code",
   "execution_count": null,
   "id": "a7d7602b",
   "metadata": {},
   "outputs": [],
   "source": []
  },
  {
   "cell_type": "code",
   "execution_count": null,
   "id": "0372e9c8",
   "metadata": {},
   "outputs": [],
   "source": []
  },
  {
   "cell_type": "code",
   "execution_count": null,
   "id": "4a91e2ba",
   "metadata": {},
   "outputs": [],
   "source": []
  },
  {
   "cell_type": "code",
   "execution_count": null,
   "id": "c4c0ffaf",
   "metadata": {},
   "outputs": [],
   "source": []
  },
  {
   "cell_type": "code",
   "execution_count": null,
   "id": "2e17bc8b",
   "metadata": {},
   "outputs": [],
   "source": []
  },
  {
   "cell_type": "code",
   "execution_count": null,
   "id": "d6a73882",
   "metadata": {},
   "outputs": [],
   "source": []
  },
  {
   "cell_type": "code",
   "execution_count": null,
   "id": "b427c4e7",
   "metadata": {},
   "outputs": [],
   "source": []
  },
  {
   "cell_type": "code",
   "execution_count": null,
   "id": "b518597d",
   "metadata": {},
   "outputs": [],
   "source": []
  },
  {
   "cell_type": "code",
   "execution_count": null,
   "id": "57328b7c",
   "metadata": {},
   "outputs": [],
   "source": []
  },
  {
   "cell_type": "code",
   "execution_count": null,
   "id": "03b0ea62",
   "metadata": {},
   "outputs": [],
   "source": []
  },
  {
   "cell_type": "code",
   "execution_count": null,
   "id": "3bd7b7e9",
   "metadata": {},
   "outputs": [],
   "source": []
  },
  {
   "cell_type": "code",
   "execution_count": null,
   "id": "38725c3d",
   "metadata": {},
   "outputs": [],
   "source": []
  },
  {
   "cell_type": "code",
   "execution_count": null,
   "id": "4b44c83d",
   "metadata": {},
   "outputs": [],
   "source": []
  },
  {
   "cell_type": "code",
   "execution_count": null,
   "id": "617c349f",
   "metadata": {},
   "outputs": [],
   "source": []
  },
  {
   "cell_type": "code",
   "execution_count": null,
   "id": "704db7f0",
   "metadata": {},
   "outputs": [],
   "source": []
  },
  {
   "cell_type": "code",
   "execution_count": null,
   "id": "4a8bed50",
   "metadata": {},
   "outputs": [],
   "source": []
  }
 ],
 "metadata": {
  "kernelspec": {
   "display_name": "Python 3 (ipykernel)",
   "language": "python",
   "name": "python3"
  },
  "language_info": {
   "codemirror_mode": {
    "name": "ipython",
    "version": 3
   },
   "file_extension": ".py",
   "mimetype": "text/x-python",
   "name": "python",
   "nbconvert_exporter": "python",
   "pygments_lexer": "ipython3",
   "version": "3.9.12"
  }
 },
 "nbformat": 4,
 "nbformat_minor": 5
}
